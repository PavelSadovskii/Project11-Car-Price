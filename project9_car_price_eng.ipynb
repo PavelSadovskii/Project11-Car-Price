{
 "cells": [
  {
   "cell_type": "markdown",
   "metadata": {},
   "source": [
    "# Determining the cost of cars"
   ]
  },
  {
   "cell_type": "markdown",
   "metadata": {},
   "source": [
    "Service for the sale of used cars \"Not beaten, not beautiful\" is developing an application to attract new customers. In it, you can quickly find out the market value of your car. At your disposal are historical data: technical specifications, equipment and prices of cars. You need to build a model to determine the cost.\n",
    "\n",
    "The customer is important:\n",
    "\n",
    "- quality of prediction;\n",
    "- prediction speed;\n",
    "- studying time."
   ]
  },
  {
   "cell_type": "markdown",
   "metadata": {},
   "source": [
    "Basic steps:\n",
    "\n",
    "1. Download data, file path: /datasets/autos.csv.\n",
    "\n",
    "2. Explore the data. Fill in missing values ​​and handle anomalies in columns. If among the signs there are uninformative, remove them.\n",
    "\n",
    "3. Prepare samples for model training.\n",
    "\n",
    "4. Train different models, one of which is LightGBM, at least one is not boosted. For each model, try different hyperparameters.\n",
    "\n",
    "5. Analyze training time, prediction time, and model quality.\n",
    "\n",
    "6. Based on the criteria of the customer, choose the best model, check its quality on a test sample.\n",
    "\n",
    "Notes:\n",
    "\n",
    "- To assess the quality of models, use the RMSE metric.\n",
    "\n",
    "- The RMSE metric value must be less than 2500.\n",
    "\n",
    "- Learn the LightGBM library on your own and use it to build gradient boosting models.\n",
    "\n",
    "- The execution time of a Jupyter Notebook code cell can be obtained with a special command. Find her.\n",
    "\n",
    "- The gradient boosting model can take a long time to train, so change only two or three parameters for it.\n",
    "\n",
    "- If Jupyter Notebook stops working, remove unnecessary variables with the del statement."
   ]
  },
  {
   "cell_type": "markdown",
   "metadata": {},
   "source": [
    "## Data preparation"
   ]
  },
  {
   "cell_type": "markdown",
   "metadata": {},
   "source": [
    "### Import required modules and libraries"
   ]
  },
  {
   "cell_type": "code",
   "execution_count": 1,
   "metadata": {
    "ExecuteTime": {
     "end_time": "2023-09-07T20:24:37.926967Z",
     "start_time": "2023-09-07T20:24:37.915310Z"
    }
   },
   "outputs": [],
   "source": [
    "#!pip install ydata-profiling"
   ]
  },
  {
   "cell_type": "code",
   "execution_count": 2,
   "metadata": {
    "ExecuteTime": {
     "end_time": "2023-09-07T20:24:37.937710Z",
     "start_time": "2023-09-07T20:24:37.931990Z"
    },
    "scrolled": true
   },
   "outputs": [],
   "source": [
    "#pip install lightgbm"
   ]
  },
  {
   "cell_type": "code",
   "execution_count": 3,
   "metadata": {
    "ExecuteTime": {
     "end_time": "2023-09-07T20:24:37.949106Z",
     "start_time": "2023-09-07T20:24:37.942029Z"
    }
   },
   "outputs": [],
   "source": [
    "#conda install -c conda-forge lightgbm"
   ]
  },
  {
   "cell_type": "code",
   "execution_count": 4,
   "metadata": {
    "ExecuteTime": {
     "end_time": "2023-09-07T20:24:47.913938Z",
     "start_time": "2023-09-07T20:24:37.956482Z"
    }
   },
   "outputs": [
    {
     "name": "stdout",
     "output_type": "stream",
     "text": [
      "Requirement already satisfied: ydata_profiling in /opt/anaconda3/lib/python3.9/site-packages (4.1.2)\n",
      "Requirement already satisfied: scipy<1.10,>=1.4.1 in /opt/anaconda3/lib/python3.9/site-packages (from ydata_profiling) (1.9.1)\n",
      "Requirement already satisfied: pandas!=1.4.0,<1.6,>1.1 in /opt/anaconda3/lib/python3.9/site-packages (from ydata_profiling) (1.5.3)\n",
      "Requirement already satisfied: matplotlib<3.7,>=3.2 in /opt/anaconda3/lib/python3.9/site-packages (from ydata_profiling) (3.5.2)\n",
      "Requirement already satisfied: pydantic<1.11,>=1.8.1 in /opt/anaconda3/lib/python3.9/site-packages (from ydata_profiling) (1.10.7)\n",
      "Requirement already satisfied: PyYAML<6.1,>=5.0.0 in /opt/anaconda3/lib/python3.9/site-packages (from ydata_profiling) (6.0)\n",
      "Requirement already satisfied: jinja2<3.2,>=2.11.1 in /opt/anaconda3/lib/python3.9/site-packages (from ydata_profiling) (3.0.1)\n",
      "Requirement already satisfied: visions[type_image_path]==0.7.5 in /opt/anaconda3/lib/python3.9/site-packages (from ydata_profiling) (0.7.5)\n",
      "Requirement already satisfied: numpy<1.24,>=1.16.0 in /opt/anaconda3/lib/python3.9/site-packages (from ydata_profiling) (1.21.5)\n",
      "Requirement already satisfied: htmlmin==0.1.12 in /opt/anaconda3/lib/python3.9/site-packages (from ydata_profiling) (0.1.12)\n",
      "Requirement already satisfied: phik<0.13,>=0.11.1 in /opt/anaconda3/lib/python3.9/site-packages (from ydata_profiling) (0.12.3)\n",
      "Requirement already satisfied: requests<2.29,>=2.24.0 in /opt/anaconda3/lib/python3.9/site-packages (from ydata_profiling) (2.28.1)\n",
      "Requirement already satisfied: tqdm<4.65,>=4.48.2 in /opt/anaconda3/lib/python3.9/site-packages (from ydata_profiling) (4.64.1)\n",
      "Requirement already satisfied: seaborn<0.13,>=0.10.1 in /opt/anaconda3/lib/python3.9/site-packages (from ydata_profiling) (0.11.2)\n",
      "Requirement already satisfied: multimethod<1.10,>=1.4 in /opt/anaconda3/lib/python3.9/site-packages (from ydata_profiling) (1.9.1)\n",
      "Requirement already satisfied: statsmodels<0.14,>=0.13.2 in /opt/anaconda3/lib/python3.9/site-packages (from ydata_profiling) (0.13.2)\n",
      "Requirement already satisfied: typeguard<2.14,>=2.13.2 in /opt/anaconda3/lib/python3.9/site-packages (from ydata_profiling) (2.13.3)\n",
      "Requirement already satisfied: imagehash==4.3.1 in /opt/anaconda3/lib/python3.9/site-packages (from ydata_profiling) (4.3.1)\n",
      "Requirement already satisfied: PyWavelets in /opt/anaconda3/lib/python3.9/site-packages (from imagehash==4.3.1->ydata_profiling) (1.3.0)\n",
      "Requirement already satisfied: pillow in /opt/anaconda3/lib/python3.9/site-packages (from imagehash==4.3.1->ydata_profiling) (9.2.0)\n",
      "Requirement already satisfied: attrs>=19.3.0 in /opt/anaconda3/lib/python3.9/site-packages (from visions[type_image_path]==0.7.5->ydata_profiling) (21.4.0)\n",
      "Requirement already satisfied: networkx>=2.4 in /opt/anaconda3/lib/python3.9/site-packages (from visions[type_image_path]==0.7.5->ydata_profiling) (2.8.4)\n",
      "Requirement already satisfied: tangled-up-in-unicode>=0.0.4 in /opt/anaconda3/lib/python3.9/site-packages (from visions[type_image_path]==0.7.5->ydata_profiling) (0.2.0)\n",
      "Requirement already satisfied: MarkupSafe>=2.0 in /opt/anaconda3/lib/python3.9/site-packages (from jinja2<3.2,>=2.11.1->ydata_profiling) (2.0.1)\n",
      "Requirement already satisfied: cycler>=0.10 in /opt/anaconda3/lib/python3.9/site-packages (from matplotlib<3.7,>=3.2->ydata_profiling) (0.11.0)\n",
      "Requirement already satisfied: fonttools>=4.22.0 in /opt/anaconda3/lib/python3.9/site-packages (from matplotlib<3.7,>=3.2->ydata_profiling) (4.25.0)\n",
      "Requirement already satisfied: kiwisolver>=1.0.1 in /opt/anaconda3/lib/python3.9/site-packages (from matplotlib<3.7,>=3.2->ydata_profiling) (1.4.2)\n",
      "Requirement already satisfied: packaging>=20.0 in /opt/anaconda3/lib/python3.9/site-packages (from matplotlib<3.7,>=3.2->ydata_profiling) (23.0)\n",
      "Requirement already satisfied: pyparsing>=2.2.1 in /opt/anaconda3/lib/python3.9/site-packages (from matplotlib<3.7,>=3.2->ydata_profiling) (3.0.9)\n",
      "Requirement already satisfied: python-dateutil>=2.7 in /opt/anaconda3/lib/python3.9/site-packages (from matplotlib<3.7,>=3.2->ydata_profiling) (2.8.2)\n",
      "Requirement already satisfied: pytz>=2020.1 in /opt/anaconda3/lib/python3.9/site-packages (from pandas!=1.4.0,<1.6,>1.1->ydata_profiling) (2022.1)\n",
      "Requirement already satisfied: joblib>=0.14.1 in /opt/anaconda3/lib/python3.9/site-packages (from phik<0.13,>=0.11.1->ydata_profiling) (1.2.0)\n",
      "Requirement already satisfied: typing-extensions>=4.2.0 in /opt/anaconda3/lib/python3.9/site-packages (from pydantic<1.11,>=1.8.1->ydata_profiling) (4.3.0)\n",
      "Requirement already satisfied: charset-normalizer<3,>=2 in /opt/anaconda3/lib/python3.9/site-packages (from requests<2.29,>=2.24.0->ydata_profiling) (2.0.4)\n",
      "Requirement already satisfied: idna<4,>=2.5 in /opt/anaconda3/lib/python3.9/site-packages (from requests<2.29,>=2.24.0->ydata_profiling) (3.3)\n",
      "Requirement already satisfied: urllib3<1.27,>=1.21.1 in /opt/anaconda3/lib/python3.9/site-packages (from requests<2.29,>=2.24.0->ydata_profiling) (1.26.11)\n",
      "Requirement already satisfied: certifi>=2017.4.17 in /opt/anaconda3/lib/python3.9/site-packages (from requests<2.29,>=2.24.0->ydata_profiling) (2023.7.22)\n",
      "Requirement already satisfied: patsy>=0.5.2 in /opt/anaconda3/lib/python3.9/site-packages (from statsmodels<0.14,>=0.13.2->ydata_profiling) (0.5.2)\n",
      "Requirement already satisfied: six in /opt/anaconda3/lib/python3.9/site-packages (from patsy>=0.5.2->statsmodels<0.14,>=0.13.2->ydata_profiling) (1.16.0)\n"
     ]
    }
   ],
   "source": [
    "!pip install ydata_profiling"
   ]
  },
  {
   "cell_type": "code",
   "execution_count": 5,
   "metadata": {
    "ExecuteTime": {
     "end_time": "2023-09-07T20:24:56.108680Z",
     "start_time": "2023-09-07T20:24:47.920780Z"
    }
   },
   "outputs": [],
   "source": [
    "import lightgbm\n",
    "import numpy as np\n",
    "import pandas as pd\n",
    "import re\n",
    "from ydata_profiling import ProfileReport\n",
    "from matplotlib import pyplot as plt\n",
    "import seaborn as sns\n",
    "from sklearn.linear_model import LinearRegression\n",
    "from sklearn.ensemble import RandomForestRegressor\n",
    "from sklearn.dummy import DummyRegressor\n",
    "from sklearn.model_selection import train_test_split, GridSearchCV\n",
    "from sklearn.preprocessing import OneHotEncoder, StandardScaler, OrdinalEncoder\n",
    "from sklearn.metrics import mean_squared_error\n",
    "from sklearn.tree import DecisionTreeRegressor\n",
    "from sklearn.ensemble import RandomForestRegressor"
   ]
  },
  {
   "cell_type": "markdown",
   "metadata": {},
   "source": [
    "### Let's open the dataset and view data about it"
   ]
  },
  {
   "cell_type": "code",
   "execution_count": 6,
   "metadata": {
    "ExecuteTime": {
     "end_time": "2023-09-07T20:25:01.905263Z",
     "start_time": "2023-09-07T20:24:56.112814Z"
    }
   },
   "outputs": [],
   "source": [
    "try:\n",
    "    data = pd.read_csv('/datasets/autos.csv', sep=',')\n",
    "except:\n",
    "    data = pd.read_csv('https://code.s3.yandex.net/datasets/autos.csv')"
   ]
  },
  {
   "cell_type": "code",
   "execution_count": 7,
   "metadata": {
    "ExecuteTime": {
     "end_time": "2023-09-07T20:25:01.964590Z",
     "start_time": "2023-09-07T20:25:01.913223Z"
    }
   },
   "outputs": [
    {
     "data": {
      "text/html": [
       "<div>\n",
       "<style scoped>\n",
       "    .dataframe tbody tr th:only-of-type {\n",
       "        vertical-align: middle;\n",
       "    }\n",
       "\n",
       "    .dataframe tbody tr th {\n",
       "        vertical-align: top;\n",
       "    }\n",
       "\n",
       "    .dataframe thead th {\n",
       "        text-align: right;\n",
       "    }\n",
       "</style>\n",
       "<table border=\"1\" class=\"dataframe\">\n",
       "  <thead>\n",
       "    <tr style=\"text-align: right;\">\n",
       "      <th></th>\n",
       "      <th>DateCrawled</th>\n",
       "      <th>Price</th>\n",
       "      <th>VehicleType</th>\n",
       "      <th>RegistrationYear</th>\n",
       "      <th>Gearbox</th>\n",
       "      <th>Power</th>\n",
       "      <th>Model</th>\n",
       "      <th>Kilometer</th>\n",
       "      <th>RegistrationMonth</th>\n",
       "      <th>FuelType</th>\n",
       "      <th>Brand</th>\n",
       "      <th>Repaired</th>\n",
       "      <th>DateCreated</th>\n",
       "      <th>NumberOfPictures</th>\n",
       "      <th>PostalCode</th>\n",
       "      <th>LastSeen</th>\n",
       "    </tr>\n",
       "  </thead>\n",
       "  <tbody>\n",
       "    <tr>\n",
       "      <th>0</th>\n",
       "      <td>2016-03-24 11:52:17</td>\n",
       "      <td>480</td>\n",
       "      <td>NaN</td>\n",
       "      <td>1993</td>\n",
       "      <td>manual</td>\n",
       "      <td>0</td>\n",
       "      <td>golf</td>\n",
       "      <td>150000</td>\n",
       "      <td>0</td>\n",
       "      <td>petrol</td>\n",
       "      <td>volkswagen</td>\n",
       "      <td>NaN</td>\n",
       "      <td>2016-03-24 00:00:00</td>\n",
       "      <td>0</td>\n",
       "      <td>70435</td>\n",
       "      <td>2016-04-07 03:16:57</td>\n",
       "    </tr>\n",
       "    <tr>\n",
       "      <th>1</th>\n",
       "      <td>2016-03-24 10:58:45</td>\n",
       "      <td>18300</td>\n",
       "      <td>coupe</td>\n",
       "      <td>2011</td>\n",
       "      <td>manual</td>\n",
       "      <td>190</td>\n",
       "      <td>NaN</td>\n",
       "      <td>125000</td>\n",
       "      <td>5</td>\n",
       "      <td>gasoline</td>\n",
       "      <td>audi</td>\n",
       "      <td>yes</td>\n",
       "      <td>2016-03-24 00:00:00</td>\n",
       "      <td>0</td>\n",
       "      <td>66954</td>\n",
       "      <td>2016-04-07 01:46:50</td>\n",
       "    </tr>\n",
       "    <tr>\n",
       "      <th>2</th>\n",
       "      <td>2016-03-14 12:52:21</td>\n",
       "      <td>9800</td>\n",
       "      <td>suv</td>\n",
       "      <td>2004</td>\n",
       "      <td>auto</td>\n",
       "      <td>163</td>\n",
       "      <td>grand</td>\n",
       "      <td>125000</td>\n",
       "      <td>8</td>\n",
       "      <td>gasoline</td>\n",
       "      <td>jeep</td>\n",
       "      <td>NaN</td>\n",
       "      <td>2016-03-14 00:00:00</td>\n",
       "      <td>0</td>\n",
       "      <td>90480</td>\n",
       "      <td>2016-04-05 12:47:46</td>\n",
       "    </tr>\n",
       "    <tr>\n",
       "      <th>3</th>\n",
       "      <td>2016-03-17 16:54:04</td>\n",
       "      <td>1500</td>\n",
       "      <td>small</td>\n",
       "      <td>2001</td>\n",
       "      <td>manual</td>\n",
       "      <td>75</td>\n",
       "      <td>golf</td>\n",
       "      <td>150000</td>\n",
       "      <td>6</td>\n",
       "      <td>petrol</td>\n",
       "      <td>volkswagen</td>\n",
       "      <td>no</td>\n",
       "      <td>2016-03-17 00:00:00</td>\n",
       "      <td>0</td>\n",
       "      <td>91074</td>\n",
       "      <td>2016-03-17 17:40:17</td>\n",
       "    </tr>\n",
       "    <tr>\n",
       "      <th>4</th>\n",
       "      <td>2016-03-31 17:25:20</td>\n",
       "      <td>3600</td>\n",
       "      <td>small</td>\n",
       "      <td>2008</td>\n",
       "      <td>manual</td>\n",
       "      <td>69</td>\n",
       "      <td>fabia</td>\n",
       "      <td>90000</td>\n",
       "      <td>7</td>\n",
       "      <td>gasoline</td>\n",
       "      <td>skoda</td>\n",
       "      <td>no</td>\n",
       "      <td>2016-03-31 00:00:00</td>\n",
       "      <td>0</td>\n",
       "      <td>60437</td>\n",
       "      <td>2016-04-06 10:17:21</td>\n",
       "    </tr>\n",
       "  </tbody>\n",
       "</table>\n",
       "</div>"
      ],
      "text/plain": [
       "           DateCrawled  Price VehicleType  RegistrationYear Gearbox  Power  \\\n",
       "0  2016-03-24 11:52:17    480         NaN              1993  manual      0   \n",
       "1  2016-03-24 10:58:45  18300       coupe              2011  manual    190   \n",
       "2  2016-03-14 12:52:21   9800         suv              2004    auto    163   \n",
       "3  2016-03-17 16:54:04   1500       small              2001  manual     75   \n",
       "4  2016-03-31 17:25:20   3600       small              2008  manual     69   \n",
       "\n",
       "   Model  Kilometer  RegistrationMonth  FuelType       Brand Repaired  \\\n",
       "0   golf     150000                  0    petrol  volkswagen      NaN   \n",
       "1    NaN     125000                  5  gasoline        audi      yes   \n",
       "2  grand     125000                  8  gasoline        jeep      NaN   \n",
       "3   golf     150000                  6    petrol  volkswagen       no   \n",
       "4  fabia      90000                  7  gasoline       skoda       no   \n",
       "\n",
       "           DateCreated  NumberOfPictures  PostalCode             LastSeen  \n",
       "0  2016-03-24 00:00:00                 0       70435  2016-04-07 03:16:57  \n",
       "1  2016-03-24 00:00:00                 0       66954  2016-04-07 01:46:50  \n",
       "2  2016-03-14 00:00:00                 0       90480  2016-04-05 12:47:46  \n",
       "3  2016-03-17 00:00:00                 0       91074  2016-03-17 17:40:17  \n",
       "4  2016-03-31 00:00:00                 0       60437  2016-04-06 10:17:21  "
      ]
     },
     "execution_count": 7,
     "metadata": {},
     "output_type": "execute_result"
    }
   ],
   "source": [
    "data.head()"
   ]
  },
  {
   "cell_type": "code",
   "execution_count": 8,
   "metadata": {
    "ExecuteTime": {
     "end_time": "2023-09-07T20:25:01.978824Z",
     "start_time": "2023-09-07T20:25:01.969080Z"
    }
   },
   "outputs": [
    {
     "data": {
      "text/plain": [
       "(354369, 16)"
      ]
     },
     "execution_count": 8,
     "metadata": {},
     "output_type": "execute_result"
    }
   ],
   "source": [
    "data.shape"
   ]
  },
  {
   "cell_type": "markdown",
   "metadata": {},
   "source": [
    "### Rename columns"
   ]
  },
  {
   "cell_type": "code",
   "execution_count": 9,
   "metadata": {
    "ExecuteTime": {
     "end_time": "2023-09-07T20:25:02.081180Z",
     "start_time": "2023-09-07T20:25:01.983289Z"
    }
   },
   "outputs": [],
   "source": [
    "data.columns = [re.sub(r'(?<!^)(?=[A-Z])', '_', i).lower() for i in data.columns]\n",
    "data['fuel_type'] = data['fuel_type'].replace(['gasoline'],'petrol')"
   ]
  },
  {
   "cell_type": "markdown",
   "metadata": {},
   "source": [
    "Since Gasoline and Petrol mean gasoline, we can replace them with one of them"
   ]
  },
  {
   "cell_type": "markdown",
   "metadata": {},
   "source": [
    "### We see several problems, we will work with some of them"
   ]
  },
  {
   "attachments": {
    "%D0%A1%D0%BD%D0%B8%D0%BC%D0%BE%D0%BA%20%D1%8D%D0%BA%D1%80%D0%B0%D0%BD%D0%B0%202023-05-22%20%D0%B2%2014.08.50.png": {
     "image/png": "[encoded data removed]"
    }
   },
   "cell_type": "markdown",
   "metadata": {},
   "source": [
    "![%D0%A1%D0%BD%D0%B8%D0%BC%D0%BE%D0%BA%20%D1%8D%D0%BA%D1%80%D0%B0%D0%BD%D0%B0%202023-05-22%20%D0%B2%2014.08.50.png](attachment:%D0%A1%D0%BD%D0%B8%D0%BC%D0%BE%D0%BA%20%D1%8D%D0%BA%D1%80%D0%B0%D0%BD%D0%B0%202023-05-22%20%D0%B2%2014.08.50.png)"
   ]
  },
  {
   "cell_type": "code",
   "execution_count": 10,
   "metadata": {
    "ExecuteTime": {
     "end_time": "2023-09-07T20:25:02.993688Z",
     "start_time": "2023-09-07T20:25:02.086172Z"
    }
   },
   "outputs": [
    {
     "name": "stdout",
     "output_type": "stream",
     "text": [
      "<class 'pandas.core.frame.DataFrame'>\n",
      "RangeIndex: 354369 entries, 0 to 354368\n",
      "Data columns (total 16 columns):\n",
      " #   Column              Non-Null Count   Dtype \n",
      "---  ------              --------------   ----- \n",
      " 0   date_crawled        354369 non-null  object\n",
      " 1   price               354369 non-null  int64 \n",
      " 2   vehicle_type        316879 non-null  object\n",
      " 3   registration_year   354369 non-null  int64 \n",
      " 4   gearbox             334536 non-null  object\n",
      " 5   power               354369 non-null  int64 \n",
      " 6   model               334664 non-null  object\n",
      " 7   kilometer           354369 non-null  int64 \n",
      " 8   registration_month  354369 non-null  int64 \n",
      " 9   fuel_type           321474 non-null  object\n",
      " 10  brand               354369 non-null  object\n",
      " 11  repaired            283215 non-null  object\n",
      " 12  date_created        354369 non-null  object\n",
      " 13  number_of_pictures  354369 non-null  int64 \n",
      " 14  postal_code         354369 non-null  int64 \n",
      " 15  last_seen           354369 non-null  object\n",
      "dtypes: int64(7), object(9)\n",
      "memory usage: 43.3+ MB\n"
     ]
    }
   ],
   "source": [
    "data.info()"
   ]
  },
  {
   "cell_type": "markdown",
   "metadata": {},
   "source": [
    "### Unnecessary / uninformative columns"
   ]
  },
  {
   "cell_type": "markdown",
   "metadata": {},
   "source": [
    "The photo count column always has the same value, so you can delete it. We will also remove the columns with postal code, date of creation, date of last view, month of registration and date of downloading the profile from the database, since they are not informative"
   ]
  },
  {
   "cell_type": "code",
   "execution_count": 11,
   "metadata": {
    "ExecuteTime": {
     "end_time": "2023-09-07T20:25:03.051863Z",
     "start_time": "2023-09-07T20:25:02.997831Z"
    }
   },
   "outputs": [
    {
     "data": {
      "text/plain": [
       "'2016-04-07 14:36:58'"
      ]
     },
     "execution_count": 11,
     "metadata": {},
     "output_type": "execute_result"
    }
   ],
   "source": [
    "data['date_crawled'].max()"
   ]
  },
  {
   "cell_type": "code",
   "execution_count": 12,
   "metadata": {
    "ExecuteTime": {
     "end_time": "2023-09-07T20:25:03.102286Z",
     "start_time": "2023-09-07T20:25:03.055760Z"
    },
    "scrolled": true
   },
   "outputs": [],
   "source": [
    "data = data.drop(['number_of_pictures', 'postal_code', 'date_created',\n",
    "                  'last_seen', 'registration_month', 'date_crawled'], axis=1)"
   ]
  },
  {
   "cell_type": "markdown",
   "metadata": {},
   "source": [
    "### Remove duplicates"
   ]
  },
  {
   "cell_type": "markdown",
   "metadata": {},
   "source": [
    "There are only four duplicates in the dataset, which is less than 0.1%, but we will remove them anyway"
   ]
  },
  {
   "cell_type": "code",
   "execution_count": 13,
   "metadata": {
    "ExecuteTime": {
     "end_time": "2023-09-07T20:25:03.953102Z",
     "start_time": "2023-09-07T20:25:03.107659Z"
    }
   },
   "outputs": [
    {
     "name": "stdout",
     "output_type": "stream",
     "text": [
      "<class 'pandas.core.frame.DataFrame'>\n",
      "Int64Index: 308482 entries, 0 to 354368\n",
      "Data columns (total 10 columns):\n",
      " #   Column             Non-Null Count   Dtype \n",
      "---  ------             --------------   ----- \n",
      " 0   price              308482 non-null  int64 \n",
      " 1   vehicle_type       273988 non-null  object\n",
      " 2   registration_year  308482 non-null  int64 \n",
      " 3   gearbox            291295 non-null  object\n",
      " 4   power              308482 non-null  int64 \n",
      " 5   model              290134 non-null  object\n",
      " 6   kilometer          308482 non-null  int64 \n",
      " 7   fuel_type          277718 non-null  object\n",
      " 8   brand              308482 non-null  object\n",
      " 9   repaired           244041 non-null  object\n",
      "dtypes: int64(4), object(6)\n",
      "memory usage: 25.9+ MB\n"
     ]
    }
   ],
   "source": [
    "data = data.drop_duplicates()\n",
    "data.info()"
   ]
  },
  {
   "cell_type": "markdown",
   "metadata": {},
   "source": [
    "### Remove outliers"
   ]
  },
  {
   "cell_type": "markdown",
   "metadata": {},
   "source": [
    "In the power column (more than 700 power is most likely an error)"
   ]
  },
  {
   "cell_type": "code",
   "execution_count": 14,
   "metadata": {
    "ExecuteTime": {
     "end_time": "2023-09-07T20:25:04.005134Z",
     "start_time": "2023-09-07T20:25:03.957032Z"
    }
   },
   "outputs": [],
   "source": [
    "data = data.query('power < 700')"
   ]
  },
  {
   "cell_type": "markdown",
   "metadata": {},
   "source": [
    "And in the column with the year of issue. Since the latest download date is in 2016, we will limit ourselves to 2017\n",
    "\n",
    "`data['date_crawled'].max() = '2016-04-07 14:36:58'`"
   ]
  },
  {
   "cell_type": "code",
   "execution_count": 15,
   "metadata": {
    "ExecuteTime": {
     "end_time": "2023-09-07T20:25:04.058740Z",
     "start_time": "2023-09-07T20:25:04.014175Z"
    }
   },
   "outputs": [],
   "source": [
    "data = data.loc[(data['registration_year'] < 2017) & (data['registration_year'] >= 1900)]"
   ]
  },
  {
   "cell_type": "markdown",
   "metadata": {},
   "source": [
    "### Fill in the blanks"
   ]
  },
  {
   "cell_type": "code",
   "execution_count": 16,
   "metadata": {
    "ExecuteTime": {
     "end_time": "2023-09-07T20:25:04.451183Z",
     "start_time": "2023-09-07T20:25:04.062058Z"
    }
   },
   "outputs": [
    {
     "data": {
      "text/plain": [
       "price                    0\n",
       "vehicle_type         20851\n",
       "registration_year        0\n",
       "gearbox              15357\n",
       "power                    0\n",
       "model                16331\n",
       "kilometer                0\n",
       "fuel_type            25362\n",
       "brand                    0\n",
       "repaired             58417\n",
       "dtype: int64"
      ]
     },
     "execution_count": 16,
     "metadata": {},
     "output_type": "execute_result"
    }
   ],
   "source": [
    "data.isna().sum()"
   ]
  },
  {
   "cell_type": "markdown",
   "metadata": {},
   "source": [
    "#### Let's look at the gaps in the \"Car body type\" column"
   ]
  },
  {
   "cell_type": "code",
   "execution_count": 17,
   "metadata": {
    "ExecuteTime": {
     "end_time": "2023-09-07T20:25:08.453154Z",
     "start_time": "2023-09-07T20:25:04.456677Z"
    }
   },
   "outputs": [],
   "source": [
    "data['vehicle_type'] = data.groupby(\n",
    "    ['model', 'registration_year'], dropna=False)['vehicle_type'].transform(\n",
    "    lambda x: x.fillna((x.mode()[0] if x.count()!=0 else \"unknown\")))"
   ]
  },
  {
   "cell_type": "code",
   "execution_count": 18,
   "metadata": {
    "ExecuteTime": {
     "end_time": "2023-09-07T20:25:08.479887Z",
     "start_time": "2023-09-07T20:25:08.456248Z"
    }
   },
   "outputs": [
    {
     "data": {
      "text/html": [
       "<div>\n",
       "<style scoped>\n",
       "    .dataframe tbody tr th:only-of-type {\n",
       "        vertical-align: middle;\n",
       "    }\n",
       "\n",
       "    .dataframe tbody tr th {\n",
       "        vertical-align: top;\n",
       "    }\n",
       "\n",
       "    .dataframe thead th {\n",
       "        text-align: right;\n",
       "    }\n",
       "</style>\n",
       "<table border=\"1\" class=\"dataframe\">\n",
       "  <thead>\n",
       "    <tr style=\"text-align: right;\">\n",
       "      <th></th>\n",
       "      <th>price</th>\n",
       "      <th>vehicle_type</th>\n",
       "      <th>registration_year</th>\n",
       "      <th>gearbox</th>\n",
       "      <th>power</th>\n",
       "      <th>model</th>\n",
       "      <th>kilometer</th>\n",
       "      <th>fuel_type</th>\n",
       "      <th>brand</th>\n",
       "      <th>repaired</th>\n",
       "    </tr>\n",
       "  </thead>\n",
       "  <tbody>\n",
       "    <tr>\n",
       "      <th>0</th>\n",
       "      <td>480</td>\n",
       "      <td>sedan</td>\n",
       "      <td>1993</td>\n",
       "      <td>manual</td>\n",
       "      <td>0</td>\n",
       "      <td>golf</td>\n",
       "      <td>150000</td>\n",
       "      <td>petrol</td>\n",
       "      <td>volkswagen</td>\n",
       "      <td>NaN</td>\n",
       "    </tr>\n",
       "    <tr>\n",
       "      <th>1</th>\n",
       "      <td>18300</td>\n",
       "      <td>coupe</td>\n",
       "      <td>2011</td>\n",
       "      <td>manual</td>\n",
       "      <td>190</td>\n",
       "      <td>NaN</td>\n",
       "      <td>125000</td>\n",
       "      <td>petrol</td>\n",
       "      <td>audi</td>\n",
       "      <td>yes</td>\n",
       "    </tr>\n",
       "    <tr>\n",
       "      <th>2</th>\n",
       "      <td>9800</td>\n",
       "      <td>suv</td>\n",
       "      <td>2004</td>\n",
       "      <td>auto</td>\n",
       "      <td>163</td>\n",
       "      <td>grand</td>\n",
       "      <td>125000</td>\n",
       "      <td>petrol</td>\n",
       "      <td>jeep</td>\n",
       "      <td>NaN</td>\n",
       "    </tr>\n",
       "    <tr>\n",
       "      <th>3</th>\n",
       "      <td>1500</td>\n",
       "      <td>small</td>\n",
       "      <td>2001</td>\n",
       "      <td>manual</td>\n",
       "      <td>75</td>\n",
       "      <td>golf</td>\n",
       "      <td>150000</td>\n",
       "      <td>petrol</td>\n",
       "      <td>volkswagen</td>\n",
       "      <td>no</td>\n",
       "    </tr>\n",
       "    <tr>\n",
       "      <th>4</th>\n",
       "      <td>3600</td>\n",
       "      <td>small</td>\n",
       "      <td>2008</td>\n",
       "      <td>manual</td>\n",
       "      <td>69</td>\n",
       "      <td>fabia</td>\n",
       "      <td>90000</td>\n",
       "      <td>petrol</td>\n",
       "      <td>skoda</td>\n",
       "      <td>no</td>\n",
       "    </tr>\n",
       "  </tbody>\n",
       "</table>\n",
       "</div>"
      ],
      "text/plain": [
       "   price vehicle_type  registration_year gearbox  power  model  kilometer  \\\n",
       "0    480        sedan               1993  manual      0   golf     150000   \n",
       "1  18300        coupe               2011  manual    190    NaN     125000   \n",
       "2   9800          suv               2004    auto    163  grand     125000   \n",
       "3   1500        small               2001  manual     75   golf     150000   \n",
       "4   3600        small               2008  manual     69  fabia      90000   \n",
       "\n",
       "  fuel_type       brand repaired  \n",
       "0    petrol  volkswagen      NaN  \n",
       "1    petrol        audi      yes  \n",
       "2    petrol        jeep      NaN  \n",
       "3    petrol  volkswagen       no  \n",
       "4    petrol       skoda       no  "
      ]
     },
     "execution_count": 18,
     "metadata": {},
     "output_type": "execute_result"
    }
   ],
   "source": [
    "data.head()"
   ]
  },
  {
   "cell_type": "markdown",
   "metadata": {},
   "source": [
    "#### There are also gaps in the power column."
   ]
  },
  {
   "cell_type": "code",
   "execution_count": 19,
   "metadata": {
    "ExecuteTime": {
     "end_time": "2023-09-07T20:25:16.892978Z",
     "start_time": "2023-09-07T20:25:08.484287Z"
    }
   },
   "outputs": [],
   "source": [
    "data['power'] = data.groupby(['model', 'registration_year'], dropna=False)['power'].transform(\n",
    "    lambda x: x.mask(x==0, x[x!=0].median() if x[x!=0].count()!=0 else 0))"
   ]
  },
  {
   "cell_type": "code",
   "execution_count": 20,
   "metadata": {
    "ExecuteTime": {
     "end_time": "2023-09-07T20:25:16.923264Z",
     "start_time": "2023-09-07T20:25:16.899918Z"
    }
   },
   "outputs": [
    {
     "data": {
      "text/plain": [
       "0          75.0\n",
       "1         190.0\n",
       "2         163.0\n",
       "3          75.0\n",
       "4          69.0\n",
       "          ...  \n",
       "354364     95.0\n",
       "354365    131.0\n",
       "354366    101.0\n",
       "354367    102.0\n",
       "354368    100.0\n",
       "Name: power, Length: 294527, dtype: float64"
      ]
     },
     "execution_count": 20,
     "metadata": {},
     "output_type": "execute_result"
    }
   ],
   "source": [
    "data['power']"
   ]
  },
  {
   "cell_type": "markdown",
   "metadata": {},
   "source": [
    "#### And fill in the anomalies in the price column"
   ]
  },
  {
   "cell_type": "code",
   "execution_count": 21,
   "metadata": {
    "ExecuteTime": {
     "end_time": "2023-09-07T20:25:17.026387Z",
     "start_time": "2023-09-07T20:25:16.929961Z"
    }
   },
   "outputs": [
    {
     "data": {
      "text/html": [
       "<div>\n",
       "<style scoped>\n",
       "    .dataframe tbody tr th:only-of-type {\n",
       "        vertical-align: middle;\n",
       "    }\n",
       "\n",
       "    .dataframe tbody tr th {\n",
       "        vertical-align: top;\n",
       "    }\n",
       "\n",
       "    .dataframe thead th {\n",
       "        text-align: right;\n",
       "    }\n",
       "</style>\n",
       "<table border=\"1\" class=\"dataframe\">\n",
       "  <thead>\n",
       "    <tr style=\"text-align: right;\">\n",
       "      <th></th>\n",
       "      <th>price</th>\n",
       "      <th>vehicle_type</th>\n",
       "      <th>registration_year</th>\n",
       "      <th>gearbox</th>\n",
       "      <th>power</th>\n",
       "      <th>model</th>\n",
       "      <th>kilometer</th>\n",
       "      <th>fuel_type</th>\n",
       "      <th>brand</th>\n",
       "      <th>repaired</th>\n",
       "    </tr>\n",
       "  </thead>\n",
       "  <tbody>\n",
       "    <tr>\n",
       "      <th>7</th>\n",
       "      <td>0</td>\n",
       "      <td>sedan</td>\n",
       "      <td>1980</td>\n",
       "      <td>manual</td>\n",
       "      <td>50.0</td>\n",
       "      <td>other</td>\n",
       "      <td>40000</td>\n",
       "      <td>petrol</td>\n",
       "      <td>volkswagen</td>\n",
       "      <td>no</td>\n",
       "    </tr>\n",
       "    <tr>\n",
       "      <th>40</th>\n",
       "      <td>0</td>\n",
       "      <td>small</td>\n",
       "      <td>1990</td>\n",
       "      <td>NaN</td>\n",
       "      <td>60.0</td>\n",
       "      <td>corsa</td>\n",
       "      <td>150000</td>\n",
       "      <td>petrol</td>\n",
       "      <td>opel</td>\n",
       "      <td>NaN</td>\n",
       "    </tr>\n",
       "    <tr>\n",
       "      <th>59</th>\n",
       "      <td>1</td>\n",
       "      <td>suv</td>\n",
       "      <td>1994</td>\n",
       "      <td>manual</td>\n",
       "      <td>286.0</td>\n",
       "      <td>NaN</td>\n",
       "      <td>150000</td>\n",
       "      <td>NaN</td>\n",
       "      <td>sonstige_autos</td>\n",
       "      <td>NaN</td>\n",
       "    </tr>\n",
       "    <tr>\n",
       "      <th>89</th>\n",
       "      <td>1</td>\n",
       "      <td>sedan</td>\n",
       "      <td>1995</td>\n",
       "      <td>manual</td>\n",
       "      <td>113.0</td>\n",
       "      <td>e_klasse</td>\n",
       "      <td>150000</td>\n",
       "      <td>petrol</td>\n",
       "      <td>mercedes_benz</td>\n",
       "      <td>no</td>\n",
       "    </tr>\n",
       "    <tr>\n",
       "      <th>115</th>\n",
       "      <td>0</td>\n",
       "      <td>small</td>\n",
       "      <td>1999</td>\n",
       "      <td>NaN</td>\n",
       "      <td>101.0</td>\n",
       "      <td>NaN</td>\n",
       "      <td>5000</td>\n",
       "      <td>petrol</td>\n",
       "      <td>volkswagen</td>\n",
       "      <td>NaN</td>\n",
       "    </tr>\n",
       "    <tr>\n",
       "      <th>...</th>\n",
       "      <td>...</td>\n",
       "      <td>...</td>\n",
       "      <td>...</td>\n",
       "      <td>...</td>\n",
       "      <td>...</td>\n",
       "      <td>...</td>\n",
       "      <td>...</td>\n",
       "      <td>...</td>\n",
       "      <td>...</td>\n",
       "      <td>...</td>\n",
       "    </tr>\n",
       "    <tr>\n",
       "      <th>354238</th>\n",
       "      <td>0</td>\n",
       "      <td>small</td>\n",
       "      <td>2002</td>\n",
       "      <td>manual</td>\n",
       "      <td>60.0</td>\n",
       "      <td>fiesta</td>\n",
       "      <td>150000</td>\n",
       "      <td>petrol</td>\n",
       "      <td>ford</td>\n",
       "      <td>NaN</td>\n",
       "    </tr>\n",
       "    <tr>\n",
       "      <th>354248</th>\n",
       "      <td>0</td>\n",
       "      <td>small</td>\n",
       "      <td>1999</td>\n",
       "      <td>manual</td>\n",
       "      <td>53.0</td>\n",
       "      <td>swift</td>\n",
       "      <td>150000</td>\n",
       "      <td>petrol</td>\n",
       "      <td>suzuki</td>\n",
       "      <td>NaN</td>\n",
       "    </tr>\n",
       "    <tr>\n",
       "      <th>354277</th>\n",
       "      <td>0</td>\n",
       "      <td>small</td>\n",
       "      <td>1999</td>\n",
       "      <td>manual</td>\n",
       "      <td>37.0</td>\n",
       "      <td>arosa</td>\n",
       "      <td>150000</td>\n",
       "      <td>petrol</td>\n",
       "      <td>seat</td>\n",
       "      <td>yes</td>\n",
       "    </tr>\n",
       "    <tr>\n",
       "      <th>354309</th>\n",
       "      <td>99</td>\n",
       "      <td>small</td>\n",
       "      <td>1999</td>\n",
       "      <td>manual</td>\n",
       "      <td>60.0</td>\n",
       "      <td>arosa</td>\n",
       "      <td>150000</td>\n",
       "      <td>petrol</td>\n",
       "      <td>seat</td>\n",
       "      <td>yes</td>\n",
       "    </tr>\n",
       "    <tr>\n",
       "      <th>354364</th>\n",
       "      <td>0</td>\n",
       "      <td>small</td>\n",
       "      <td>2005</td>\n",
       "      <td>manual</td>\n",
       "      <td>95.0</td>\n",
       "      <td>colt</td>\n",
       "      <td>150000</td>\n",
       "      <td>petrol</td>\n",
       "      <td>mitsubishi</td>\n",
       "      <td>yes</td>\n",
       "    </tr>\n",
       "  </tbody>\n",
       "</table>\n",
       "<p>10444 rows × 10 columns</p>\n",
       "</div>"
      ],
      "text/plain": [
       "        price vehicle_type  registration_year gearbox  power     model  \\\n",
       "7           0        sedan               1980  manual   50.0     other   \n",
       "40          0        small               1990     NaN   60.0     corsa   \n",
       "59          1          suv               1994  manual  286.0       NaN   \n",
       "89          1        sedan               1995  manual  113.0  e_klasse   \n",
       "115         0        small               1999     NaN  101.0       NaN   \n",
       "...       ...          ...                ...     ...    ...       ...   \n",
       "354238      0        small               2002  manual   60.0    fiesta   \n",
       "354248      0        small               1999  manual   53.0     swift   \n",
       "354277      0        small               1999  manual   37.0     arosa   \n",
       "354309     99        small               1999  manual   60.0     arosa   \n",
       "354364      0        small               2005  manual   95.0      colt   \n",
       "\n",
       "        kilometer fuel_type           brand repaired  \n",
       "7           40000    petrol      volkswagen       no  \n",
       "40         150000    petrol            opel      NaN  \n",
       "59         150000       NaN  sonstige_autos      NaN  \n",
       "89         150000    petrol   mercedes_benz       no  \n",
       "115          5000    petrol      volkswagen      NaN  \n",
       "...           ...       ...             ...      ...  \n",
       "354238     150000    petrol            ford      NaN  \n",
       "354248     150000    petrol          suzuki      NaN  \n",
       "354277     150000    petrol            seat      yes  \n",
       "354309     150000    petrol            seat      yes  \n",
       "354364     150000    petrol      mitsubishi      yes  \n",
       "\n",
       "[10444 rows x 10 columns]"
      ]
     },
     "execution_count": 21,
     "metadata": {},
     "output_type": "execute_result"
    }
   ],
   "source": [
    "data[data['price'] <100]"
   ]
  },
  {
   "cell_type": "markdown",
   "metadata": {},
   "source": [
    "Most likely a price mistake."
   ]
  },
  {
   "cell_type": "code",
   "execution_count": 22,
   "metadata": {
    "ExecuteTime": {
     "end_time": "2023-09-07T20:25:17.053795Z",
     "start_time": "2023-09-07T20:25:17.031126Z"
    }
   },
   "outputs": [
    {
     "data": {
      "text/plain": [
       "0.03546024642902009"
      ]
     },
     "execution_count": 22,
     "metadata": {},
     "output_type": "execute_result"
    }
   ],
   "source": [
    "len(data[data['price'] < 100]) / len(data)"
   ]
  },
  {
   "cell_type": "markdown",
   "metadata": {},
   "source": [
    "The number of these ads is 3%, we will remove them"
   ]
  },
  {
   "cell_type": "code",
   "execution_count": 23,
   "metadata": {
    "ExecuteTime": {
     "end_time": "2023-09-07T20:25:17.121500Z",
     "start_time": "2023-09-07T20:25:17.059928Z"
    }
   },
   "outputs": [],
   "source": [
    "data = data[data['price'] > 100]"
   ]
  },
  {
   "cell_type": "markdown",
   "metadata": {},
   "source": [
    "#### Fill in the gaps in the gearbox column"
   ]
  },
  {
   "cell_type": "code",
   "execution_count": 24,
   "metadata": {
    "ExecuteTime": {
     "end_time": "2023-09-07T20:25:49.764630Z",
     "start_time": "2023-09-07T20:25:17.126352Z"
    }
   },
   "outputs": [],
   "source": [
    "data['gearbox'] = data.groupby(\n",
    "    ['model', 'registration_year', 'power'], dropna=False)['gearbox'].transform(\n",
    "    lambda x: x.fillna((x.mode()[0] if x.count()!=0 else \"unknown\")))"
   ]
  },
  {
   "cell_type": "markdown",
   "metadata": {},
   "source": [
    "#### Fill in the gaps in the column with the model"
   ]
  },
  {
   "cell_type": "code",
   "execution_count": 25,
   "metadata": {
    "ExecuteTime": {
     "end_time": "2023-09-07T20:26:12.623333Z",
     "start_time": "2023-09-07T20:25:49.768417Z"
    }
   },
   "outputs": [],
   "source": [
    "data['model'] = data.groupby(\n",
    "    ['brand', 'registration_year', 'power'], dropna=False)['model'].transform(\n",
    "    lambda x: x.fillna((x.mode()[0] if x.count()!=0 else \"unknown\")))"
   ]
  },
  {
   "cell_type": "markdown",
   "metadata": {},
   "source": [
    "#### Fill in the blanks in the fuel type column"
   ]
  },
  {
   "cell_type": "code",
   "execution_count": 26,
   "metadata": {
    "ExecuteTime": {
     "end_time": "2023-09-07T20:26:42.821323Z",
     "start_time": "2023-09-07T20:26:12.626448Z"
    }
   },
   "outputs": [],
   "source": [
    "data['fuel_type'] = data.groupby(\n",
    "    ['model', 'registration_year', 'power'], dropna=False)['fuel_type'].transform(\n",
    "    lambda x: x.fillna((x.mode()[0] if x.count()!=0 else \"unknown\")))"
   ]
  },
  {
   "cell_type": "markdown",
   "metadata": {},
   "source": [
    "#### Fill in the gaps in the repair data column"
   ]
  },
  {
   "cell_type": "code",
   "execution_count": 27,
   "metadata": {
    "ExecuteTime": {
     "end_time": "2023-09-07T20:29:43.124819Z",
     "start_time": "2023-09-07T20:26:42.825763Z"
    }
   },
   "outputs": [],
   "source": [
    "data['repaired'] = data.groupby(\n",
    "    ['model', 'brand', 'registration_year', 'power', 'kilometer', 'fuel_type', 'gearbox', 'price'], dropna=False)['repaired'].transform(\n",
    "    lambda x: x.fillna((x.mode()[0] if x.count()!=0 else \"unknown\")))"
   ]
  },
  {
   "cell_type": "code",
   "execution_count": 28,
   "metadata": {
    "ExecuteTime": {
     "end_time": "2023-09-07T20:29:43.751566Z",
     "start_time": "2023-09-07T20:29:43.133650Z"
    }
   },
   "outputs": [
    {
     "data": {
      "text/plain": [
       "price                0\n",
       "vehicle_type         0\n",
       "registration_year    0\n",
       "gearbox              0\n",
       "power                0\n",
       "model                0\n",
       "kilometer            0\n",
       "fuel_type            0\n",
       "brand                0\n",
       "repaired             0\n",
       "dtype: int64"
      ]
     },
     "execution_count": 28,
     "metadata": {},
     "output_type": "execute_result"
    }
   ],
   "source": [
    "data.isna().sum()"
   ]
  },
  {
   "cell_type": "code",
   "execution_count": 29,
   "metadata": {
    "ExecuteTime": {
     "end_time": "2023-09-07T20:29:44.204550Z",
     "start_time": "2023-09-07T20:29:43.756812Z"
    }
   },
   "outputs": [
    {
     "name": "stdout",
     "output_type": "stream",
     "text": [
      "<class 'pandas.core.frame.DataFrame'>\n",
      "Int64Index: 283163 entries, 0 to 354368\n",
      "Data columns (total 10 columns):\n",
      " #   Column             Non-Null Count   Dtype  \n",
      "---  ------             --------------   -----  \n",
      " 0   price              283163 non-null  int64  \n",
      " 1   vehicle_type       283163 non-null  object \n",
      " 2   registration_year  283163 non-null  int64  \n",
      " 3   gearbox            283163 non-null  object \n",
      " 4   power              283163 non-null  float64\n",
      " 5   model              283163 non-null  object \n",
      " 6   kilometer          283163 non-null  int64  \n",
      " 7   fuel_type          283163 non-null  object \n",
      " 8   brand              283163 non-null  object \n",
      " 9   repaired           283163 non-null  object \n",
      "dtypes: float64(1), int64(3), object(6)\n",
      "memory usage: 23.8+ MB\n"
     ]
    }
   ],
   "source": [
    "data.info()"
   ]
  },
  {
   "cell_type": "markdown",
   "metadata": {},
   "source": [
    "### Conclusion"
   ]
  },
  {
   "cell_type": "markdown",
   "metadata": {},
   "source": [
    "In this section, we performed data preprocessing. At the input, we received a table with more than 350 thousand rows and 16 columns. We changed the column names to more readable lowercase, removed uninformative columns, filled in the gaps, and got rid of anomalies. Removed duplicates. As a result, we have a table with 283 thousand rows and 10 columns."
   ]
  },
  {
   "cell_type": "markdown",
   "metadata": {},
   "source": [
    "## Model training"
   ]
  },
  {
   "cell_type": "markdown",
   "metadata": {},
   "source": [
    "Let's designate the column with the price as the target feature, and the rest as `features`"
   ]
  },
  {
   "cell_type": "code",
   "execution_count": 30,
   "metadata": {
    "ExecuteTime": {
     "end_time": "2023-09-07T20:29:44.263169Z",
     "start_time": "2023-09-07T20:29:44.209239Z"
    }
   },
   "outputs": [],
   "source": [
    "target = data['price']\n",
    "features = data.drop('price', axis=1)"
   ]
  },
  {
   "cell_type": "markdown",
   "metadata": {},
   "source": [
    "### Divide the samples into training and test"
   ]
  },
  {
   "cell_type": "code",
   "execution_count": 31,
   "metadata": {
    "ExecuteTime": {
     "end_time": "2023-09-07T20:29:44.704165Z",
     "start_time": "2023-09-07T20:29:44.266332Z"
    },
    "scrolled": true
   },
   "outputs": [
    {
     "data": {
      "text/plain": [
       "(169897, 9)"
      ]
     },
     "metadata": {},
     "output_type": "display_data"
    },
    {
     "data": {
      "text/plain": [
       "(56633, 9)"
      ]
     },
     "metadata": {},
     "output_type": "display_data"
    },
    {
     "data": {
      "text/plain": [
       "(56633, 9)"
      ]
     },
     "metadata": {},
     "output_type": "display_data"
    },
    {
     "data": {
      "text/plain": [
       "(169897,)"
      ]
     },
     "metadata": {},
     "output_type": "display_data"
    },
    {
     "data": {
      "text/plain": [
       "(56633,)"
      ]
     },
     "metadata": {},
     "output_type": "display_data"
    },
    {
     "data": {
      "text/plain": [
       "(56633,)"
      ]
     },
     "metadata": {},
     "output_type": "display_data"
    }
   ],
   "source": [
    "target = data['price']\n",
    "features = data.drop('price', axis=1)\n",
    "\n",
    "(features_tr_val, features_test, target_tr_val, target_test\n",
    ") = train_test_split(features, target, test_size=0.2, random_state=12345) \n",
    "(features_train, features_valid, target_train, target_valid\n",
    ") = train_test_split(features_tr_val, target_tr_val, test_size=0.25,\n",
    "                    random_state=12345)\n",
    "\n",
    "display(features_train.shape)\n",
    "display(features_valid.shape)\n",
    "display(features_test.shape)\n",
    "display(target_train.shape)\n",
    "display(target_valid.shape)\n",
    "display(target_test.shape)"
   ]
  },
  {
   "cell_type": "markdown",
   "metadata": {},
   "source": [
    "### Divide columns into types - categorical and numeric"
   ]
  },
  {
   "cell_type": "code",
   "execution_count": 32,
   "metadata": {
    "ExecuteTime": {
     "end_time": "2023-09-07T20:29:44.734343Z",
     "start_time": "2023-09-07T20:29:44.709352Z"
    }
   },
   "outputs": [
    {
     "data": {
      "text/html": [
       "<div>\n",
       "<style scoped>\n",
       "    .dataframe tbody tr th:only-of-type {\n",
       "        vertical-align: middle;\n",
       "    }\n",
       "\n",
       "    .dataframe tbody tr th {\n",
       "        vertical-align: top;\n",
       "    }\n",
       "\n",
       "    .dataframe thead th {\n",
       "        text-align: right;\n",
       "    }\n",
       "</style>\n",
       "<table border=\"1\" class=\"dataframe\">\n",
       "  <thead>\n",
       "    <tr style=\"text-align: right;\">\n",
       "      <th></th>\n",
       "      <th>price</th>\n",
       "      <th>vehicle_type</th>\n",
       "      <th>registration_year</th>\n",
       "      <th>gearbox</th>\n",
       "      <th>power</th>\n",
       "      <th>model</th>\n",
       "      <th>kilometer</th>\n",
       "      <th>fuel_type</th>\n",
       "      <th>brand</th>\n",
       "      <th>repaired</th>\n",
       "    </tr>\n",
       "  </thead>\n",
       "  <tbody>\n",
       "    <tr>\n",
       "      <th>0</th>\n",
       "      <td>480</td>\n",
       "      <td>sedan</td>\n",
       "      <td>1993</td>\n",
       "      <td>manual</td>\n",
       "      <td>75.0</td>\n",
       "      <td>golf</td>\n",
       "      <td>150000</td>\n",
       "      <td>petrol</td>\n",
       "      <td>volkswagen</td>\n",
       "      <td>yes</td>\n",
       "    </tr>\n",
       "    <tr>\n",
       "      <th>1</th>\n",
       "      <td>18300</td>\n",
       "      <td>coupe</td>\n",
       "      <td>2011</td>\n",
       "      <td>manual</td>\n",
       "      <td>190.0</td>\n",
       "      <td>a6</td>\n",
       "      <td>125000</td>\n",
       "      <td>petrol</td>\n",
       "      <td>audi</td>\n",
       "      <td>yes</td>\n",
       "    </tr>\n",
       "    <tr>\n",
       "      <th>2</th>\n",
       "      <td>9800</td>\n",
       "      <td>suv</td>\n",
       "      <td>2004</td>\n",
       "      <td>auto</td>\n",
       "      <td>163.0</td>\n",
       "      <td>grand</td>\n",
       "      <td>125000</td>\n",
       "      <td>petrol</td>\n",
       "      <td>jeep</td>\n",
       "      <td>unknown</td>\n",
       "    </tr>\n",
       "    <tr>\n",
       "      <th>3</th>\n",
       "      <td>1500</td>\n",
       "      <td>small</td>\n",
       "      <td>2001</td>\n",
       "      <td>manual</td>\n",
       "      <td>75.0</td>\n",
       "      <td>golf</td>\n",
       "      <td>150000</td>\n",
       "      <td>petrol</td>\n",
       "      <td>volkswagen</td>\n",
       "      <td>no</td>\n",
       "    </tr>\n",
       "    <tr>\n",
       "      <th>4</th>\n",
       "      <td>3600</td>\n",
       "      <td>small</td>\n",
       "      <td>2008</td>\n",
       "      <td>manual</td>\n",
       "      <td>69.0</td>\n",
       "      <td>fabia</td>\n",
       "      <td>90000</td>\n",
       "      <td>petrol</td>\n",
       "      <td>skoda</td>\n",
       "      <td>no</td>\n",
       "    </tr>\n",
       "  </tbody>\n",
       "</table>\n",
       "</div>"
      ],
      "text/plain": [
       "   price vehicle_type  registration_year gearbox  power  model  kilometer  \\\n",
       "0    480        sedan               1993  manual   75.0   golf     150000   \n",
       "1  18300        coupe               2011  manual  190.0     a6     125000   \n",
       "2   9800          suv               2004    auto  163.0  grand     125000   \n",
       "3   1500        small               2001  manual   75.0   golf     150000   \n",
       "4   3600        small               2008  manual   69.0  fabia      90000   \n",
       "\n",
       "  fuel_type       brand repaired  \n",
       "0    petrol  volkswagen      yes  \n",
       "1    petrol        audi      yes  \n",
       "2    petrol        jeep  unknown  \n",
       "3    petrol  volkswagen       no  \n",
       "4    petrol       skoda       no  "
      ]
     },
     "execution_count": 32,
     "metadata": {},
     "output_type": "execute_result"
    }
   ],
   "source": [
    "data.head()"
   ]
  },
  {
   "cell_type": "code",
   "execution_count": 33,
   "metadata": {
    "ExecuteTime": {
     "end_time": "2023-09-07T20:29:44.895745Z",
     "start_time": "2023-09-07T20:29:44.738761Z"
    }
   },
   "outputs": [
    {
     "data": {
      "text/plain": [
       "['vehicle_type', 'gearbox', 'model', 'fuel_type', 'brand', 'repaired']"
      ]
     },
     "metadata": {},
     "output_type": "display_data"
    },
    {
     "data": {
      "text/plain": [
       "['registration_year', 'power', 'kilometer']"
      ]
     },
     "metadata": {},
     "output_type": "display_data"
    }
   ],
   "source": [
    "cat_cols = features.select_dtypes(exclude=np.number).columns.tolist()\n",
    "num_cols = data.drop(['price'] + cat_cols, axis=1).select_dtypes(include=np.number).columns.tolist()\n",
    "\n",
    "display(cat_cols)\n",
    "display(num_cols)"
   ]
  },
  {
   "cell_type": "markdown",
   "metadata": {},
   "source": [
    "### Let's convert the categorical values ​​of the columns into quantitative"
   ]
  },
  {
   "cell_type": "markdown",
   "metadata": {},
   "source": [
    "Let's train the encoder on the train sample"
   ]
  },
  {
   "cell_type": "code",
   "execution_count": 34,
   "metadata": {
    "ExecuteTime": {
     "end_time": "2023-09-07T20:29:45.030132Z",
     "start_time": "2023-09-07T20:29:44.900253Z"
    }
   },
   "outputs": [
    {
     "data": {
      "text/html": [
       "<style>#sk-container-id-1 {color: black;background-color: white;}#sk-container-id-1 pre{padding: 0;}#sk-container-id-1 div.sk-toggleable {background-color: white;}#sk-container-id-1 label.sk-toggleable__label {cursor: pointer;display: block;width: 100%;margin-bottom: 0;padding: 0.3em;box-sizing: border-box;text-align: center;}#sk-container-id-1 label.sk-toggleable__label-arrow:before {content: \"▸\";float: left;margin-right: 0.25em;color: #696969;}#sk-container-id-1 label.sk-toggleable__label-arrow:hover:before {color: black;}#sk-container-id-1 div.sk-estimator:hover label.sk-toggleable__label-arrow:before {color: black;}#sk-container-id-1 div.sk-toggleable__content {max-height: 0;max-width: 0;overflow: hidden;text-align: left;background-color: #f0f8ff;}#sk-container-id-1 div.sk-toggleable__content pre {margin: 0.2em;color: black;border-radius: 0.25em;background-color: #f0f8ff;}#sk-container-id-1 input.sk-toggleable__control:checked~div.sk-toggleable__content {max-height: 200px;max-width: 100%;overflow: auto;}#sk-container-id-1 input.sk-toggleable__control:checked~label.sk-toggleable__label-arrow:before {content: \"▾\";}#sk-container-id-1 div.sk-estimator input.sk-toggleable__control:checked~label.sk-toggleable__label {background-color: #d4ebff;}#sk-container-id-1 div.sk-label input.sk-toggleable__control:checked~label.sk-toggleable__label {background-color: #d4ebff;}#sk-container-id-1 input.sk-hidden--visually {border: 0;clip: rect(1px 1px 1px 1px);clip: rect(1px, 1px, 1px, 1px);height: 1px;margin: -1px;overflow: hidden;padding: 0;position: absolute;width: 1px;}#sk-container-id-1 div.sk-estimator {font-family: monospace;background-color: #f0f8ff;border: 1px dotted black;border-radius: 0.25em;box-sizing: border-box;margin-bottom: 0.5em;}#sk-container-id-1 div.sk-estimator:hover {background-color: #d4ebff;}#sk-container-id-1 div.sk-parallel-item::after {content: \"\";width: 100%;border-bottom: 1px solid gray;flex-grow: 1;}#sk-container-id-1 div.sk-label:hover label.sk-toggleable__label {background-color: #d4ebff;}#sk-container-id-1 div.sk-serial::before {content: \"\";position: absolute;border-left: 1px solid gray;box-sizing: border-box;top: 0;bottom: 0;left: 50%;z-index: 0;}#sk-container-id-1 div.sk-serial {display: flex;flex-direction: column;align-items: center;background-color: white;padding-right: 0.2em;padding-left: 0.2em;position: relative;}#sk-container-id-1 div.sk-item {position: relative;z-index: 1;}#sk-container-id-1 div.sk-parallel {display: flex;align-items: stretch;justify-content: center;background-color: white;position: relative;}#sk-container-id-1 div.sk-item::before, #sk-container-id-1 div.sk-parallel-item::before {content: \"\";position: absolute;border-left: 1px solid gray;box-sizing: border-box;top: 0;bottom: 0;left: 50%;z-index: -1;}#sk-container-id-1 div.sk-parallel-item {display: flex;flex-direction: column;z-index: 1;position: relative;background-color: white;}#sk-container-id-1 div.sk-parallel-item:first-child::after {align-self: flex-end;width: 50%;}#sk-container-id-1 div.sk-parallel-item:last-child::after {align-self: flex-start;width: 50%;}#sk-container-id-1 div.sk-parallel-item:only-child::after {width: 0;}#sk-container-id-1 div.sk-dashed-wrapped {border: 1px dashed gray;margin: 0 0.4em 0.5em 0.4em;box-sizing: border-box;padding-bottom: 0.4em;background-color: white;}#sk-container-id-1 div.sk-label label {font-family: monospace;font-weight: bold;display: inline-block;line-height: 1.2em;}#sk-container-id-1 div.sk-label-container {text-align: center;}#sk-container-id-1 div.sk-container {/* jupyter's `normalize.less` sets `[hidden] { display: none; }` but bootstrap.min.css set `[hidden] { display: none !important; }` so we also need the `!important` here to be able to override the default hidden behavior on the sphinx rendered scikit-learn.org. See: https://github.com/scikit-learn/scikit-learn/issues/21755 */display: inline-block !important;position: relative;}#sk-container-id-1 div.sk-text-repr-fallback {display: none;}</style><div id=\"sk-container-id-1\" class=\"sk-top-container\"><div class=\"sk-text-repr-fallback\"><pre>OneHotEncoder(drop=&#x27;first&#x27;, sparse=False)</pre><b>In a Jupyter environment, please rerun this cell to show the HTML representation or trust the notebook. <br />On GitHub, the HTML representation is unable to render, please try loading this page with nbviewer.org.</b></div><div class=\"sk-container\" hidden><div class=\"sk-item\"><div class=\"sk-estimator sk-toggleable\"><input class=\"sk-toggleable__control sk-hidden--visually\" id=\"sk-estimator-id-1\" type=\"checkbox\" checked><label for=\"sk-estimator-id-1\" class=\"sk-toggleable__label sk-toggleable__label-arrow\">OneHotEncoder</label><div class=\"sk-toggleable__content\"><pre>OneHotEncoder(drop=&#x27;first&#x27;, sparse=False)</pre></div></div></div></div></div>"
      ],
      "text/plain": [
       "OneHotEncoder(drop='first', sparse=False)"
      ]
     },
     "execution_count": 34,
     "metadata": {},
     "output_type": "execute_result"
    }
   ],
   "source": [
    "ohe = OneHotEncoder(sparse=False, drop='first', handle_unknown='error')\n",
    "ohe.fit(features_train[cat_cols])"
   ]
  },
  {
   "cell_type": "code",
   "execution_count": 35,
   "metadata": {
    "ExecuteTime": {
     "end_time": "2023-09-07T20:29:52.023466Z",
     "start_time": "2023-09-07T20:29:45.035212Z"
    },
    "scrolled": true
   },
   "outputs": [
    {
     "name": "stderr",
     "output_type": "stream",
     "text": [
      "/var/folders/kr/l8l6g3315gj_6wm9tbxwybbh0000gn/T/ipykernel_2962/2713683421.py:2: PerformanceWarning: DataFrame is highly fragmented.  This is usually the result of calling `frame.insert` many times, which has poor performance.  Consider joining all columns at once using pd.concat(axis=1) instead. To get a de-fragmented frame, use `newframe = frame.copy()`\n",
      "  features_train_ohe[ohe.get_feature_names_out()] = ohe.transform(\n",
      "/var/folders/kr/l8l6g3315gj_6wm9tbxwybbh0000gn/T/ipykernel_2962/2713683421.py:2: PerformanceWarning: DataFrame is highly fragmented.  This is usually the result of calling `frame.insert` many times, which has poor performance.  Consider joining all columns at once using pd.concat(axis=1) instead. To get a de-fragmented frame, use `newframe = frame.copy()`\n",
      "  features_train_ohe[ohe.get_feature_names_out()] = ohe.transform(\n",
      "/var/folders/kr/l8l6g3315gj_6wm9tbxwybbh0000gn/T/ipykernel_2962/2713683421.py:2: PerformanceWarning: DataFrame is highly fragmented.  This is usually the result of calling `frame.insert` many times, which has poor performance.  Consider joining all columns at once using pd.concat(axis=1) instead. To get a de-fragmented frame, use `newframe = frame.copy()`\n",
      "  features_train_ohe[ohe.get_feature_names_out()] = ohe.transform(\n",
      "/var/folders/kr/l8l6g3315gj_6wm9tbxwybbh0000gn/T/ipykernel_2962/2713683421.py:2: PerformanceWarning: DataFrame is highly fragmented.  This is usually the result of calling `frame.insert` many times, which has poor performance.  Consider joining all columns at once using pd.concat(axis=1) instead. To get a de-fragmented frame, use `newframe = frame.copy()`\n",
      "  features_train_ohe[ohe.get_feature_names_out()] = ohe.transform(\n",
      "/var/folders/kr/l8l6g3315gj_6wm9tbxwybbh0000gn/T/ipykernel_2962/2713683421.py:2: PerformanceWarning: DataFrame is highly fragmented.  This is usually the result of calling `frame.insert` many times, which has poor performance.  Consider joining all columns at once using pd.concat(axis=1) instead. To get a de-fragmented frame, use `newframe = frame.copy()`\n",
      "  features_train_ohe[ohe.get_feature_names_out()] = ohe.transform(\n",
      "/var/folders/kr/l8l6g3315gj_6wm9tbxwybbh0000gn/T/ipykernel_2962/2713683421.py:2: PerformanceWarning: DataFrame is highly fragmented.  This is usually the result of calling `frame.insert` many times, which has poor performance.  Consider joining all columns at once using pd.concat(axis=1) instead. To get a de-fragmented frame, use `newframe = frame.copy()`\n",
      "  features_train_ohe[ohe.get_feature_names_out()] = ohe.transform(\n",
      "/var/folders/kr/l8l6g3315gj_6wm9tbxwybbh0000gn/T/ipykernel_2962/2713683421.py:2: PerformanceWarning: DataFrame is highly fragmented.  This is usually the result of calling `frame.insert` many times, which has poor performance.  Consider joining all columns at once using pd.concat(axis=1) instead. To get a de-fragmented frame, use `newframe = frame.copy()`\n",
      "  features_train_ohe[ohe.get_feature_names_out()] = ohe.transform(\n",
      "/var/folders/kr/l8l6g3315gj_6wm9tbxwybbh0000gn/T/ipykernel_2962/2713683421.py:2: PerformanceWarning: DataFrame is highly fragmented.  This is usually the result of calling `frame.insert` many times, which has poor performance.  Consider joining all columns at once using pd.concat(axis=1) instead. To get a de-fragmented frame, use `newframe = frame.copy()`\n",
      "  features_train_ohe[ohe.get_feature_names_out()] = ohe.transform(\n",
      "/var/folders/kr/l8l6g3315gj_6wm9tbxwybbh0000gn/T/ipykernel_2962/2713683421.py:2: PerformanceWarning: DataFrame is highly fragmented.  This is usually the result of calling `frame.insert` many times, which has poor performance.  Consider joining all columns at once using pd.concat(axis=1) instead. To get a de-fragmented frame, use `newframe = frame.copy()`\n",
      "  features_train_ohe[ohe.get_feature_names_out()] = ohe.transform(\n",
      "/var/folders/kr/l8l6g3315gj_6wm9tbxwybbh0000gn/T/ipykernel_2962/2713683421.py:2: PerformanceWarning: DataFrame is highly fragmented.  This is usually the result of calling `frame.insert` many times, which has poor performance.  Consider joining all columns at once using pd.concat(axis=1) instead. To get a de-fragmented frame, use `newframe = frame.copy()`\n",
      "  features_train_ohe[ohe.get_feature_names_out()] = ohe.transform(\n",
      "/var/folders/kr/l8l6g3315gj_6wm9tbxwybbh0000gn/T/ipykernel_2962/2713683421.py:2: PerformanceWarning: DataFrame is highly fragmented.  This is usually the result of calling `frame.insert` many times, which has poor performance.  Consider joining all columns at once using pd.concat(axis=1) instead. To get a de-fragmented frame, use `newframe = frame.copy()`\n",
      "  features_train_ohe[ohe.get_feature_names_out()] = ohe.transform(\n",
      "/var/folders/kr/l8l6g3315gj_6wm9tbxwybbh0000gn/T/ipykernel_2962/2713683421.py:2: PerformanceWarning: DataFrame is highly fragmented.  This is usually the result of calling `frame.insert` many times, which has poor performance.  Consider joining all columns at once using pd.concat(axis=1) instead. To get a de-fragmented frame, use `newframe = frame.copy()`\n",
      "  features_train_ohe[ohe.get_feature_names_out()] = ohe.transform(\n",
      "/var/folders/kr/l8l6g3315gj_6wm9tbxwybbh0000gn/T/ipykernel_2962/2713683421.py:2: PerformanceWarning: DataFrame is highly fragmented.  This is usually the result of calling `frame.insert` many times, which has poor performance.  Consider joining all columns at once using pd.concat(axis=1) instead. To get a de-fragmented frame, use `newframe = frame.copy()`\n",
      "  features_train_ohe[ohe.get_feature_names_out()] = ohe.transform(\n",
      "/var/folders/kr/l8l6g3315gj_6wm9tbxwybbh0000gn/T/ipykernel_2962/2713683421.py:2: PerformanceWarning: DataFrame is highly fragmented.  This is usually the result of calling `frame.insert` many times, which has poor performance.  Consider joining all columns at once using pd.concat(axis=1) instead. To get a de-fragmented frame, use `newframe = frame.copy()`\n",
      "  features_train_ohe[ohe.get_feature_names_out()] = ohe.transform(\n",
      "/var/folders/kr/l8l6g3315gj_6wm9tbxwybbh0000gn/T/ipykernel_2962/2713683421.py:2: PerformanceWarning: DataFrame is highly fragmented.  This is usually the result of calling `frame.insert` many times, which has poor performance.  Consider joining all columns at once using pd.concat(axis=1) instead. To get a de-fragmented frame, use `newframe = frame.copy()`\n",
      "  features_train_ohe[ohe.get_feature_names_out()] = ohe.transform(\n",
      "/var/folders/kr/l8l6g3315gj_6wm9tbxwybbh0000gn/T/ipykernel_2962/2713683421.py:2: PerformanceWarning: DataFrame is highly fragmented.  This is usually the result of calling `frame.insert` many times, which has poor performance.  Consider joining all columns at once using pd.concat(axis=1) instead. To get a de-fragmented frame, use `newframe = frame.copy()`\n",
      "  features_train_ohe[ohe.get_feature_names_out()] = ohe.transform(\n",
      "/var/folders/kr/l8l6g3315gj_6wm9tbxwybbh0000gn/T/ipykernel_2962/2713683421.py:2: PerformanceWarning: DataFrame is highly fragmented.  This is usually the result of calling `frame.insert` many times, which has poor performance.  Consider joining all columns at once using pd.concat(axis=1) instead. To get a de-fragmented frame, use `newframe = frame.copy()`\n",
      "  features_train_ohe[ohe.get_feature_names_out()] = ohe.transform(\n",
      "/var/folders/kr/l8l6g3315gj_6wm9tbxwybbh0000gn/T/ipykernel_2962/2713683421.py:2: PerformanceWarning: DataFrame is highly fragmented.  This is usually the result of calling `frame.insert` many times, which has poor performance.  Consider joining all columns at once using pd.concat(axis=1) instead. To get a de-fragmented frame, use `newframe = frame.copy()`\n",
      "  features_train_ohe[ohe.get_feature_names_out()] = ohe.transform(\n",
      "/var/folders/kr/l8l6g3315gj_6wm9tbxwybbh0000gn/T/ipykernel_2962/2713683421.py:2: PerformanceWarning: DataFrame is highly fragmented.  This is usually the result of calling `frame.insert` many times, which has poor performance.  Consider joining all columns at once using pd.concat(axis=1) instead. To get a de-fragmented frame, use `newframe = frame.copy()`\n",
      "  features_train_ohe[ohe.get_feature_names_out()] = ohe.transform(\n",
      "/var/folders/kr/l8l6g3315gj_6wm9tbxwybbh0000gn/T/ipykernel_2962/2713683421.py:2: PerformanceWarning: DataFrame is highly fragmented.  This is usually the result of calling `frame.insert` many times, which has poor performance.  Consider joining all columns at once using pd.concat(axis=1) instead. To get a de-fragmented frame, use `newframe = frame.copy()`\n",
      "  features_train_ohe[ohe.get_feature_names_out()] = ohe.transform(\n",
      "/var/folders/kr/l8l6g3315gj_6wm9tbxwybbh0000gn/T/ipykernel_2962/2713683421.py:2: PerformanceWarning: DataFrame is highly fragmented.  This is usually the result of calling `frame.insert` many times, which has poor performance.  Consider joining all columns at once using pd.concat(axis=1) instead. To get a de-fragmented frame, use `newframe = frame.copy()`\n",
      "  features_train_ohe[ohe.get_feature_names_out()] = ohe.transform(\n",
      "/var/folders/kr/l8l6g3315gj_6wm9tbxwybbh0000gn/T/ipykernel_2962/2713683421.py:2: PerformanceWarning: DataFrame is highly fragmented.  This is usually the result of calling `frame.insert` many times, which has poor performance.  Consider joining all columns at once using pd.concat(axis=1) instead. To get a de-fragmented frame, use `newframe = frame.copy()`\n",
      "  features_train_ohe[ohe.get_feature_names_out()] = ohe.transform(\n",
      "/var/folders/kr/l8l6g3315gj_6wm9tbxwybbh0000gn/T/ipykernel_2962/2713683421.py:2: PerformanceWarning: DataFrame is highly fragmented.  This is usually the result of calling `frame.insert` many times, which has poor performance.  Consider joining all columns at once using pd.concat(axis=1) instead. To get a de-fragmented frame, use `newframe = frame.copy()`\n",
      "  features_train_ohe[ohe.get_feature_names_out()] = ohe.transform(\n",
      "/var/folders/kr/l8l6g3315gj_6wm9tbxwybbh0000gn/T/ipykernel_2962/2713683421.py:2: PerformanceWarning: DataFrame is highly fragmented.  This is usually the result of calling `frame.insert` many times, which has poor performance.  Consider joining all columns at once using pd.concat(axis=1) instead. To get a de-fragmented frame, use `newframe = frame.copy()`\n",
      "  features_train_ohe[ohe.get_feature_names_out()] = ohe.transform(\n",
      "/var/folders/kr/l8l6g3315gj_6wm9tbxwybbh0000gn/T/ipykernel_2962/2713683421.py:2: PerformanceWarning: DataFrame is highly fragmented.  This is usually the result of calling `frame.insert` many times, which has poor performance.  Consider joining all columns at once using pd.concat(axis=1) instead. To get a de-fragmented frame, use `newframe = frame.copy()`\n",
      "  features_train_ohe[ohe.get_feature_names_out()] = ohe.transform(\n",
      "/var/folders/kr/l8l6g3315gj_6wm9tbxwybbh0000gn/T/ipykernel_2962/2713683421.py:2: PerformanceWarning: DataFrame is highly fragmented.  This is usually the result of calling `frame.insert` many times, which has poor performance.  Consider joining all columns at once using pd.concat(axis=1) instead. To get a de-fragmented frame, use `newframe = frame.copy()`\n",
      "  features_train_ohe[ohe.get_feature_names_out()] = ohe.transform(\n",
      "/var/folders/kr/l8l6g3315gj_6wm9tbxwybbh0000gn/T/ipykernel_2962/2713683421.py:2: PerformanceWarning: DataFrame is highly fragmented.  This is usually the result of calling `frame.insert` many times, which has poor performance.  Consider joining all columns at once using pd.concat(axis=1) instead. To get a de-fragmented frame, use `newframe = frame.copy()`\n",
      "  features_train_ohe[ohe.get_feature_names_out()] = ohe.transform(\n",
      "/var/folders/kr/l8l6g3315gj_6wm9tbxwybbh0000gn/T/ipykernel_2962/2713683421.py:2: PerformanceWarning: DataFrame is highly fragmented.  This is usually the result of calling `frame.insert` many times, which has poor performance.  Consider joining all columns at once using pd.concat(axis=1) instead. To get a de-fragmented frame, use `newframe = frame.copy()`\n",
      "  features_train_ohe[ohe.get_feature_names_out()] = ohe.transform(\n",
      "/var/folders/kr/l8l6g3315gj_6wm9tbxwybbh0000gn/T/ipykernel_2962/2713683421.py:2: PerformanceWarning: DataFrame is highly fragmented.  This is usually the result of calling `frame.insert` many times, which has poor performance.  Consider joining all columns at once using pd.concat(axis=1) instead. To get a de-fragmented frame, use `newframe = frame.copy()`\n",
      "  features_train_ohe[ohe.get_feature_names_out()] = ohe.transform(\n",
      "/var/folders/kr/l8l6g3315gj_6wm9tbxwybbh0000gn/T/ipykernel_2962/2713683421.py:2: PerformanceWarning: DataFrame is highly fragmented.  This is usually the result of calling `frame.insert` many times, which has poor performance.  Consider joining all columns at once using pd.concat(axis=1) instead. To get a de-fragmented frame, use `newframe = frame.copy()`\n",
      "  features_train_ohe[ohe.get_feature_names_out()] = ohe.transform(\n",
      "/var/folders/kr/l8l6g3315gj_6wm9tbxwybbh0000gn/T/ipykernel_2962/2713683421.py:2: PerformanceWarning: DataFrame is highly fragmented.  This is usually the result of calling `frame.insert` many times, which has poor performance.  Consider joining all columns at once using pd.concat(axis=1) instead. To get a de-fragmented frame, use `newframe = frame.copy()`\n",
      "  features_train_ohe[ohe.get_feature_names_out()] = ohe.transform(\n",
      "/var/folders/kr/l8l6g3315gj_6wm9tbxwybbh0000gn/T/ipykernel_2962/2713683421.py:2: PerformanceWarning: DataFrame is highly fragmented.  This is usually the result of calling `frame.insert` many times, which has poor performance.  Consider joining all columns at once using pd.concat(axis=1) instead. To get a de-fragmented frame, use `newframe = frame.copy()`\n",
      "  features_train_ohe[ohe.get_feature_names_out()] = ohe.transform(\n",
      "/var/folders/kr/l8l6g3315gj_6wm9tbxwybbh0000gn/T/ipykernel_2962/2713683421.py:2: PerformanceWarning: DataFrame is highly fragmented.  This is usually the result of calling `frame.insert` many times, which has poor performance.  Consider joining all columns at once using pd.concat(axis=1) instead. To get a de-fragmented frame, use `newframe = frame.copy()`\n",
      "  features_train_ohe[ohe.get_feature_names_out()] = ohe.transform(\n",
      "/var/folders/kr/l8l6g3315gj_6wm9tbxwybbh0000gn/T/ipykernel_2962/2713683421.py:2: PerformanceWarning: DataFrame is highly fragmented.  This is usually the result of calling `frame.insert` many times, which has poor performance.  Consider joining all columns at once using pd.concat(axis=1) instead. To get a de-fragmented frame, use `newframe = frame.copy()`\n",
      "  features_train_ohe[ohe.get_feature_names_out()] = ohe.transform(\n",
      "/var/folders/kr/l8l6g3315gj_6wm9tbxwybbh0000gn/T/ipykernel_2962/2713683421.py:2: PerformanceWarning: DataFrame is highly fragmented.  This is usually the result of calling `frame.insert` many times, which has poor performance.  Consider joining all columns at once using pd.concat(axis=1) instead. To get a de-fragmented frame, use `newframe = frame.copy()`\n",
      "  features_train_ohe[ohe.get_feature_names_out()] = ohe.transform(\n",
      "/var/folders/kr/l8l6g3315gj_6wm9tbxwybbh0000gn/T/ipykernel_2962/2713683421.py:2: PerformanceWarning: DataFrame is highly fragmented.  This is usually the result of calling `frame.insert` many times, which has poor performance.  Consider joining all columns at once using pd.concat(axis=1) instead. To get a de-fragmented frame, use `newframe = frame.copy()`\n",
      "  features_train_ohe[ohe.get_feature_names_out()] = ohe.transform(\n",
      "/var/folders/kr/l8l6g3315gj_6wm9tbxwybbh0000gn/T/ipykernel_2962/2713683421.py:2: PerformanceWarning: DataFrame is highly fragmented.  This is usually the result of calling `frame.insert` many times, which has poor performance.  Consider joining all columns at once using pd.concat(axis=1) instead. To get a de-fragmented frame, use `newframe = frame.copy()`\n",
      "  features_train_ohe[ohe.get_feature_names_out()] = ohe.transform(\n",
      "/var/folders/kr/l8l6g3315gj_6wm9tbxwybbh0000gn/T/ipykernel_2962/2713683421.py:2: PerformanceWarning: DataFrame is highly fragmented.  This is usually the result of calling `frame.insert` many times, which has poor performance.  Consider joining all columns at once using pd.concat(axis=1) instead. To get a de-fragmented frame, use `newframe = frame.copy()`\n",
      "  features_train_ohe[ohe.get_feature_names_out()] = ohe.transform(\n",
      "/var/folders/kr/l8l6g3315gj_6wm9tbxwybbh0000gn/T/ipykernel_2962/2713683421.py:2: PerformanceWarning: DataFrame is highly fragmented.  This is usually the result of calling `frame.insert` many times, which has poor performance.  Consider joining all columns at once using pd.concat(axis=1) instead. To get a de-fragmented frame, use `newframe = frame.copy()`\n",
      "  features_train_ohe[ohe.get_feature_names_out()] = ohe.transform(\n",
      "/var/folders/kr/l8l6g3315gj_6wm9tbxwybbh0000gn/T/ipykernel_2962/2713683421.py:2: PerformanceWarning: DataFrame is highly fragmented.  This is usually the result of calling `frame.insert` many times, which has poor performance.  Consider joining all columns at once using pd.concat(axis=1) instead. To get a de-fragmented frame, use `newframe = frame.copy()`\n",
      "  features_train_ohe[ohe.get_feature_names_out()] = ohe.transform(\n",
      "/var/folders/kr/l8l6g3315gj_6wm9tbxwybbh0000gn/T/ipykernel_2962/2713683421.py:2: PerformanceWarning: DataFrame is highly fragmented.  This is usually the result of calling `frame.insert` many times, which has poor performance.  Consider joining all columns at once using pd.concat(axis=1) instead. To get a de-fragmented frame, use `newframe = frame.copy()`\n",
      "  features_train_ohe[ohe.get_feature_names_out()] = ohe.transform(\n",
      "/var/folders/kr/l8l6g3315gj_6wm9tbxwybbh0000gn/T/ipykernel_2962/2713683421.py:2: PerformanceWarning: DataFrame is highly fragmented.  This is usually the result of calling `frame.insert` many times, which has poor performance.  Consider joining all columns at once using pd.concat(axis=1) instead. To get a de-fragmented frame, use `newframe = frame.copy()`\n",
      "  features_train_ohe[ohe.get_feature_names_out()] = ohe.transform(\n",
      "/var/folders/kr/l8l6g3315gj_6wm9tbxwybbh0000gn/T/ipykernel_2962/2713683421.py:2: PerformanceWarning: DataFrame is highly fragmented.  This is usually the result of calling `frame.insert` many times, which has poor performance.  Consider joining all columns at once using pd.concat(axis=1) instead. To get a de-fragmented frame, use `newframe = frame.copy()`\n",
      "  features_train_ohe[ohe.get_feature_names_out()] = ohe.transform(\n",
      "/var/folders/kr/l8l6g3315gj_6wm9tbxwybbh0000gn/T/ipykernel_2962/2713683421.py:2: PerformanceWarning: DataFrame is highly fragmented.  This is usually the result of calling `frame.insert` many times, which has poor performance.  Consider joining all columns at once using pd.concat(axis=1) instead. To get a de-fragmented frame, use `newframe = frame.copy()`\n",
      "  features_train_ohe[ohe.get_feature_names_out()] = ohe.transform(\n",
      "/var/folders/kr/l8l6g3315gj_6wm9tbxwybbh0000gn/T/ipykernel_2962/2713683421.py:2: PerformanceWarning: DataFrame is highly fragmented.  This is usually the result of calling `frame.insert` many times, which has poor performance.  Consider joining all columns at once using pd.concat(axis=1) instead. To get a de-fragmented frame, use `newframe = frame.copy()`\n",
      "  features_train_ohe[ohe.get_feature_names_out()] = ohe.transform(\n",
      "/var/folders/kr/l8l6g3315gj_6wm9tbxwybbh0000gn/T/ipykernel_2962/2713683421.py:2: PerformanceWarning: DataFrame is highly fragmented.  This is usually the result of calling `frame.insert` many times, which has poor performance.  Consider joining all columns at once using pd.concat(axis=1) instead. To get a de-fragmented frame, use `newframe = frame.copy()`\n",
      "  features_train_ohe[ohe.get_feature_names_out()] = ohe.transform(\n",
      "/var/folders/kr/l8l6g3315gj_6wm9tbxwybbh0000gn/T/ipykernel_2962/2713683421.py:2: PerformanceWarning: DataFrame is highly fragmented.  This is usually the result of calling `frame.insert` many times, which has poor performance.  Consider joining all columns at once using pd.concat(axis=1) instead. To get a de-fragmented frame, use `newframe = frame.copy()`\n",
      "  features_train_ohe[ohe.get_feature_names_out()] = ohe.transform(\n",
      "/var/folders/kr/l8l6g3315gj_6wm9tbxwybbh0000gn/T/ipykernel_2962/2713683421.py:2: PerformanceWarning: DataFrame is highly fragmented.  This is usually the result of calling `frame.insert` many times, which has poor performance.  Consider joining all columns at once using pd.concat(axis=1) instead. To get a de-fragmented frame, use `newframe = frame.copy()`\n",
      "  features_train_ohe[ohe.get_feature_names_out()] = ohe.transform(\n",
      "/var/folders/kr/l8l6g3315gj_6wm9tbxwybbh0000gn/T/ipykernel_2962/2713683421.py:2: PerformanceWarning: DataFrame is highly fragmented.  This is usually the result of calling `frame.insert` many times, which has poor performance.  Consider joining all columns at once using pd.concat(axis=1) instead. To get a de-fragmented frame, use `newframe = frame.copy()`\n",
      "  features_train_ohe[ohe.get_feature_names_out()] = ohe.transform(\n",
      "/var/folders/kr/l8l6g3315gj_6wm9tbxwybbh0000gn/T/ipykernel_2962/2713683421.py:2: PerformanceWarning: DataFrame is highly fragmented.  This is usually the result of calling `frame.insert` many times, which has poor performance.  Consider joining all columns at once using pd.concat(axis=1) instead. To get a de-fragmented frame, use `newframe = frame.copy()`\n",
      "  features_train_ohe[ohe.get_feature_names_out()] = ohe.transform(\n",
      "/var/folders/kr/l8l6g3315gj_6wm9tbxwybbh0000gn/T/ipykernel_2962/2713683421.py:2: PerformanceWarning: DataFrame is highly fragmented.  This is usually the result of calling `frame.insert` many times, which has poor performance.  Consider joining all columns at once using pd.concat(axis=1) instead. To get a de-fragmented frame, use `newframe = frame.copy()`\n",
      "  features_train_ohe[ohe.get_feature_names_out()] = ohe.transform(\n",
      "/var/folders/kr/l8l6g3315gj_6wm9tbxwybbh0000gn/T/ipykernel_2962/2713683421.py:2: PerformanceWarning: DataFrame is highly fragmented.  This is usually the result of calling `frame.insert` many times, which has poor performance.  Consider joining all columns at once using pd.concat(axis=1) instead. To get a de-fragmented frame, use `newframe = frame.copy()`\n",
      "  features_train_ohe[ohe.get_feature_names_out()] = ohe.transform(\n",
      "/var/folders/kr/l8l6g3315gj_6wm9tbxwybbh0000gn/T/ipykernel_2962/2713683421.py:2: PerformanceWarning: DataFrame is highly fragmented.  This is usually the result of calling `frame.insert` many times, which has poor performance.  Consider joining all columns at once using pd.concat(axis=1) instead. To get a de-fragmented frame, use `newframe = frame.copy()`\n",
      "  features_train_ohe[ohe.get_feature_names_out()] = ohe.transform(\n",
      "/var/folders/kr/l8l6g3315gj_6wm9tbxwybbh0000gn/T/ipykernel_2962/2713683421.py:2: PerformanceWarning: DataFrame is highly fragmented.  This is usually the result of calling `frame.insert` many times, which has poor performance.  Consider joining all columns at once using pd.concat(axis=1) instead. To get a de-fragmented frame, use `newframe = frame.copy()`\n",
      "  features_train_ohe[ohe.get_feature_names_out()] = ohe.transform(\n",
      "/var/folders/kr/l8l6g3315gj_6wm9tbxwybbh0000gn/T/ipykernel_2962/2713683421.py:2: PerformanceWarning: DataFrame is highly fragmented.  This is usually the result of calling `frame.insert` many times, which has poor performance.  Consider joining all columns at once using pd.concat(axis=1) instead. To get a de-fragmented frame, use `newframe = frame.copy()`\n",
      "  features_train_ohe[ohe.get_feature_names_out()] = ohe.transform(\n",
      "/var/folders/kr/l8l6g3315gj_6wm9tbxwybbh0000gn/T/ipykernel_2962/2713683421.py:2: PerformanceWarning: DataFrame is highly fragmented.  This is usually the result of calling `frame.insert` many times, which has poor performance.  Consider joining all columns at once using pd.concat(axis=1) instead. To get a de-fragmented frame, use `newframe = frame.copy()`\n",
      "  features_train_ohe[ohe.get_feature_names_out()] = ohe.transform(\n",
      "/var/folders/kr/l8l6g3315gj_6wm9tbxwybbh0000gn/T/ipykernel_2962/2713683421.py:2: PerformanceWarning: DataFrame is highly fragmented.  This is usually the result of calling `frame.insert` many times, which has poor performance.  Consider joining all columns at once using pd.concat(axis=1) instead. To get a de-fragmented frame, use `newframe = frame.copy()`\n",
      "  features_train_ohe[ohe.get_feature_names_out()] = ohe.transform(\n",
      "/var/folders/kr/l8l6g3315gj_6wm9tbxwybbh0000gn/T/ipykernel_2962/2713683421.py:2: PerformanceWarning: DataFrame is highly fragmented.  This is usually the result of calling `frame.insert` many times, which has poor performance.  Consider joining all columns at once using pd.concat(axis=1) instead. To get a de-fragmented frame, use `newframe = frame.copy()`\n",
      "  features_train_ohe[ohe.get_feature_names_out()] = ohe.transform(\n",
      "/var/folders/kr/l8l6g3315gj_6wm9tbxwybbh0000gn/T/ipykernel_2962/2713683421.py:2: PerformanceWarning: DataFrame is highly fragmented.  This is usually the result of calling `frame.insert` many times, which has poor performance.  Consider joining all columns at once using pd.concat(axis=1) instead. To get a de-fragmented frame, use `newframe = frame.copy()`\n",
      "  features_train_ohe[ohe.get_feature_names_out()] = ohe.transform(\n",
      "/var/folders/kr/l8l6g3315gj_6wm9tbxwybbh0000gn/T/ipykernel_2962/2713683421.py:2: PerformanceWarning: DataFrame is highly fragmented.  This is usually the result of calling `frame.insert` many times, which has poor performance.  Consider joining all columns at once using pd.concat(axis=1) instead. To get a de-fragmented frame, use `newframe = frame.copy()`\n",
      "  features_train_ohe[ohe.get_feature_names_out()] = ohe.transform(\n",
      "/var/folders/kr/l8l6g3315gj_6wm9tbxwybbh0000gn/T/ipykernel_2962/2713683421.py:2: PerformanceWarning: DataFrame is highly fragmented.  This is usually the result of calling `frame.insert` many times, which has poor performance.  Consider joining all columns at once using pd.concat(axis=1) instead. To get a de-fragmented frame, use `newframe = frame.copy()`\n",
      "  features_train_ohe[ohe.get_feature_names_out()] = ohe.transform(\n",
      "/var/folders/kr/l8l6g3315gj_6wm9tbxwybbh0000gn/T/ipykernel_2962/2713683421.py:2: PerformanceWarning: DataFrame is highly fragmented.  This is usually the result of calling `frame.insert` many times, which has poor performance.  Consider joining all columns at once using pd.concat(axis=1) instead. To get a de-fragmented frame, use `newframe = frame.copy()`\n",
      "  features_train_ohe[ohe.get_feature_names_out()] = ohe.transform(\n",
      "/var/folders/kr/l8l6g3315gj_6wm9tbxwybbh0000gn/T/ipykernel_2962/2713683421.py:2: PerformanceWarning: DataFrame is highly fragmented.  This is usually the result of calling `frame.insert` many times, which has poor performance.  Consider joining all columns at once using pd.concat(axis=1) instead. To get a de-fragmented frame, use `newframe = frame.copy()`\n",
      "  features_train_ohe[ohe.get_feature_names_out()] = ohe.transform(\n",
      "/var/folders/kr/l8l6g3315gj_6wm9tbxwybbh0000gn/T/ipykernel_2962/2713683421.py:2: PerformanceWarning: DataFrame is highly fragmented.  This is usually the result of calling `frame.insert` many times, which has poor performance.  Consider joining all columns at once using pd.concat(axis=1) instead. To get a de-fragmented frame, use `newframe = frame.copy()`\n",
      "  features_train_ohe[ohe.get_feature_names_out()] = ohe.transform(\n",
      "/var/folders/kr/l8l6g3315gj_6wm9tbxwybbh0000gn/T/ipykernel_2962/2713683421.py:2: PerformanceWarning: DataFrame is highly fragmented.  This is usually the result of calling `frame.insert` many times, which has poor performance.  Consider joining all columns at once using pd.concat(axis=1) instead. To get a de-fragmented frame, use `newframe = frame.copy()`\n",
      "  features_train_ohe[ohe.get_feature_names_out()] = ohe.transform(\n",
      "/var/folders/kr/l8l6g3315gj_6wm9tbxwybbh0000gn/T/ipykernel_2962/2713683421.py:2: PerformanceWarning: DataFrame is highly fragmented.  This is usually the result of calling `frame.insert` many times, which has poor performance.  Consider joining all columns at once using pd.concat(axis=1) instead. To get a de-fragmented frame, use `newframe = frame.copy()`\n",
      "  features_train_ohe[ohe.get_feature_names_out()] = ohe.transform(\n",
      "/var/folders/kr/l8l6g3315gj_6wm9tbxwybbh0000gn/T/ipykernel_2962/2713683421.py:2: PerformanceWarning: DataFrame is highly fragmented.  This is usually the result of calling `frame.insert` many times, which has poor performance.  Consider joining all columns at once using pd.concat(axis=1) instead. To get a de-fragmented frame, use `newframe = frame.copy()`\n",
      "  features_train_ohe[ohe.get_feature_names_out()] = ohe.transform(\n",
      "/var/folders/kr/l8l6g3315gj_6wm9tbxwybbh0000gn/T/ipykernel_2962/2713683421.py:2: PerformanceWarning: DataFrame is highly fragmented.  This is usually the result of calling `frame.insert` many times, which has poor performance.  Consider joining all columns at once using pd.concat(axis=1) instead. To get a de-fragmented frame, use `newframe = frame.copy()`\n",
      "  features_train_ohe[ohe.get_feature_names_out()] = ohe.transform(\n",
      "/var/folders/kr/l8l6g3315gj_6wm9tbxwybbh0000gn/T/ipykernel_2962/2713683421.py:2: PerformanceWarning: DataFrame is highly fragmented.  This is usually the result of calling `frame.insert` many times, which has poor performance.  Consider joining all columns at once using pd.concat(axis=1) instead. To get a de-fragmented frame, use `newframe = frame.copy()`\n",
      "  features_train_ohe[ohe.get_feature_names_out()] = ohe.transform(\n",
      "/var/folders/kr/l8l6g3315gj_6wm9tbxwybbh0000gn/T/ipykernel_2962/2713683421.py:2: PerformanceWarning: DataFrame is highly fragmented.  This is usually the result of calling `frame.insert` many times, which has poor performance.  Consider joining all columns at once using pd.concat(axis=1) instead. To get a de-fragmented frame, use `newframe = frame.copy()`\n",
      "  features_train_ohe[ohe.get_feature_names_out()] = ohe.transform(\n",
      "/var/folders/kr/l8l6g3315gj_6wm9tbxwybbh0000gn/T/ipykernel_2962/2713683421.py:2: PerformanceWarning: DataFrame is highly fragmented.  This is usually the result of calling `frame.insert` many times, which has poor performance.  Consider joining all columns at once using pd.concat(axis=1) instead. To get a de-fragmented frame, use `newframe = frame.copy()`\n",
      "  features_train_ohe[ohe.get_feature_names_out()] = ohe.transform(\n",
      "/var/folders/kr/l8l6g3315gj_6wm9tbxwybbh0000gn/T/ipykernel_2962/2713683421.py:2: PerformanceWarning: DataFrame is highly fragmented.  This is usually the result of calling `frame.insert` many times, which has poor performance.  Consider joining all columns at once using pd.concat(axis=1) instead. To get a de-fragmented frame, use `newframe = frame.copy()`\n",
      "  features_train_ohe[ohe.get_feature_names_out()] = ohe.transform(\n",
      "/var/folders/kr/l8l6g3315gj_6wm9tbxwybbh0000gn/T/ipykernel_2962/2713683421.py:2: PerformanceWarning: DataFrame is highly fragmented.  This is usually the result of calling `frame.insert` many times, which has poor performance.  Consider joining all columns at once using pd.concat(axis=1) instead. To get a de-fragmented frame, use `newframe = frame.copy()`\n",
      "  features_train_ohe[ohe.get_feature_names_out()] = ohe.transform(\n",
      "/var/folders/kr/l8l6g3315gj_6wm9tbxwybbh0000gn/T/ipykernel_2962/2713683421.py:2: PerformanceWarning: DataFrame is highly fragmented.  This is usually the result of calling `frame.insert` many times, which has poor performance.  Consider joining all columns at once using pd.concat(axis=1) instead. To get a de-fragmented frame, use `newframe = frame.copy()`\n",
      "  features_train_ohe[ohe.get_feature_names_out()] = ohe.transform(\n",
      "/var/folders/kr/l8l6g3315gj_6wm9tbxwybbh0000gn/T/ipykernel_2962/2713683421.py:2: PerformanceWarning: DataFrame is highly fragmented.  This is usually the result of calling `frame.insert` many times, which has poor performance.  Consider joining all columns at once using pd.concat(axis=1) instead. To get a de-fragmented frame, use `newframe = frame.copy()`\n",
      "  features_train_ohe[ohe.get_feature_names_out()] = ohe.transform(\n",
      "/var/folders/kr/l8l6g3315gj_6wm9tbxwybbh0000gn/T/ipykernel_2962/2713683421.py:2: PerformanceWarning: DataFrame is highly fragmented.  This is usually the result of calling `frame.insert` many times, which has poor performance.  Consider joining all columns at once using pd.concat(axis=1) instead. To get a de-fragmented frame, use `newframe = frame.copy()`\n",
      "  features_train_ohe[ohe.get_feature_names_out()] = ohe.transform(\n",
      "/var/folders/kr/l8l6g3315gj_6wm9tbxwybbh0000gn/T/ipykernel_2962/2713683421.py:2: PerformanceWarning: DataFrame is highly fragmented.  This is usually the result of calling `frame.insert` many times, which has poor performance.  Consider joining all columns at once using pd.concat(axis=1) instead. To get a de-fragmented frame, use `newframe = frame.copy()`\n",
      "  features_train_ohe[ohe.get_feature_names_out()] = ohe.transform(\n",
      "/var/folders/kr/l8l6g3315gj_6wm9tbxwybbh0000gn/T/ipykernel_2962/2713683421.py:2: PerformanceWarning: DataFrame is highly fragmented.  This is usually the result of calling `frame.insert` many times, which has poor performance.  Consider joining all columns at once using pd.concat(axis=1) instead. To get a de-fragmented frame, use `newframe = frame.copy()`\n",
      "  features_train_ohe[ohe.get_feature_names_out()] = ohe.transform(\n",
      "/var/folders/kr/l8l6g3315gj_6wm9tbxwybbh0000gn/T/ipykernel_2962/2713683421.py:2: PerformanceWarning: DataFrame is highly fragmented.  This is usually the result of calling `frame.insert` many times, which has poor performance.  Consider joining all columns at once using pd.concat(axis=1) instead. To get a de-fragmented frame, use `newframe = frame.copy()`\n",
      "  features_train_ohe[ohe.get_feature_names_out()] = ohe.transform(\n",
      "/var/folders/kr/l8l6g3315gj_6wm9tbxwybbh0000gn/T/ipykernel_2962/2713683421.py:2: PerformanceWarning: DataFrame is highly fragmented.  This is usually the result of calling `frame.insert` many times, which has poor performance.  Consider joining all columns at once using pd.concat(axis=1) instead. To get a de-fragmented frame, use `newframe = frame.copy()`\n",
      "  features_train_ohe[ohe.get_feature_names_out()] = ohe.transform(\n",
      "/var/folders/kr/l8l6g3315gj_6wm9tbxwybbh0000gn/T/ipykernel_2962/2713683421.py:2: PerformanceWarning: DataFrame is highly fragmented.  This is usually the result of calling `frame.insert` many times, which has poor performance.  Consider joining all columns at once using pd.concat(axis=1) instead. To get a de-fragmented frame, use `newframe = frame.copy()`\n",
      "  features_train_ohe[ohe.get_feature_names_out()] = ohe.transform(\n",
      "/var/folders/kr/l8l6g3315gj_6wm9tbxwybbh0000gn/T/ipykernel_2962/2713683421.py:2: PerformanceWarning: DataFrame is highly fragmented.  This is usually the result of calling `frame.insert` many times, which has poor performance.  Consider joining all columns at once using pd.concat(axis=1) instead. To get a de-fragmented frame, use `newframe = frame.copy()`\n",
      "  features_train_ohe[ohe.get_feature_names_out()] = ohe.transform(\n",
      "/var/folders/kr/l8l6g3315gj_6wm9tbxwybbh0000gn/T/ipykernel_2962/2713683421.py:2: PerformanceWarning: DataFrame is highly fragmented.  This is usually the result of calling `frame.insert` many times, which has poor performance.  Consider joining all columns at once using pd.concat(axis=1) instead. To get a de-fragmented frame, use `newframe = frame.copy()`\n",
      "  features_train_ohe[ohe.get_feature_names_out()] = ohe.transform(\n",
      "/var/folders/kr/l8l6g3315gj_6wm9tbxwybbh0000gn/T/ipykernel_2962/2713683421.py:2: PerformanceWarning: DataFrame is highly fragmented.  This is usually the result of calling `frame.insert` many times, which has poor performance.  Consider joining all columns at once using pd.concat(axis=1) instead. To get a de-fragmented frame, use `newframe = frame.copy()`\n",
      "  features_train_ohe[ohe.get_feature_names_out()] = ohe.transform(\n",
      "/var/folders/kr/l8l6g3315gj_6wm9tbxwybbh0000gn/T/ipykernel_2962/2713683421.py:2: PerformanceWarning: DataFrame is highly fragmented.  This is usually the result of calling `frame.insert` many times, which has poor performance.  Consider joining all columns at once using pd.concat(axis=1) instead. To get a de-fragmented frame, use `newframe = frame.copy()`\n",
      "  features_train_ohe[ohe.get_feature_names_out()] = ohe.transform(\n",
      "/var/folders/kr/l8l6g3315gj_6wm9tbxwybbh0000gn/T/ipykernel_2962/2713683421.py:2: PerformanceWarning: DataFrame is highly fragmented.  This is usually the result of calling `frame.insert` many times, which has poor performance.  Consider joining all columns at once using pd.concat(axis=1) instead. To get a de-fragmented frame, use `newframe = frame.copy()`\n",
      "  features_train_ohe[ohe.get_feature_names_out()] = ohe.transform(\n",
      "/var/folders/kr/l8l6g3315gj_6wm9tbxwybbh0000gn/T/ipykernel_2962/2713683421.py:2: PerformanceWarning: DataFrame is highly fragmented.  This is usually the result of calling `frame.insert` many times, which has poor performance.  Consider joining all columns at once using pd.concat(axis=1) instead. To get a de-fragmented frame, use `newframe = frame.copy()`\n",
      "  features_train_ohe[ohe.get_feature_names_out()] = ohe.transform(\n",
      "/var/folders/kr/l8l6g3315gj_6wm9tbxwybbh0000gn/T/ipykernel_2962/2713683421.py:2: PerformanceWarning: DataFrame is highly fragmented.  This is usually the result of calling `frame.insert` many times, which has poor performance.  Consider joining all columns at once using pd.concat(axis=1) instead. To get a de-fragmented frame, use `newframe = frame.copy()`\n",
      "  features_train_ohe[ohe.get_feature_names_out()] = ohe.transform(\n",
      "/var/folders/kr/l8l6g3315gj_6wm9tbxwybbh0000gn/T/ipykernel_2962/2713683421.py:2: PerformanceWarning: DataFrame is highly fragmented.  This is usually the result of calling `frame.insert` many times, which has poor performance.  Consider joining all columns at once using pd.concat(axis=1) instead. To get a de-fragmented frame, use `newframe = frame.copy()`\n",
      "  features_train_ohe[ohe.get_feature_names_out()] = ohe.transform(\n",
      "/var/folders/kr/l8l6g3315gj_6wm9tbxwybbh0000gn/T/ipykernel_2962/2713683421.py:2: PerformanceWarning: DataFrame is highly fragmented.  This is usually the result of calling `frame.insert` many times, which has poor performance.  Consider joining all columns at once using pd.concat(axis=1) instead. To get a de-fragmented frame, use `newframe = frame.copy()`\n",
      "  features_train_ohe[ohe.get_feature_names_out()] = ohe.transform(\n",
      "/var/folders/kr/l8l6g3315gj_6wm9tbxwybbh0000gn/T/ipykernel_2962/2713683421.py:2: PerformanceWarning: DataFrame is highly fragmented.  This is usually the result of calling `frame.insert` many times, which has poor performance.  Consider joining all columns at once using pd.concat(axis=1) instead. To get a de-fragmented frame, use `newframe = frame.copy()`\n",
      "  features_train_ohe[ohe.get_feature_names_out()] = ohe.transform(\n",
      "/var/folders/kr/l8l6g3315gj_6wm9tbxwybbh0000gn/T/ipykernel_2962/2713683421.py:2: PerformanceWarning: DataFrame is highly fragmented.  This is usually the result of calling `frame.insert` many times, which has poor performance.  Consider joining all columns at once using pd.concat(axis=1) instead. To get a de-fragmented frame, use `newframe = frame.copy()`\n",
      "  features_train_ohe[ohe.get_feature_names_out()] = ohe.transform(\n",
      "/var/folders/kr/l8l6g3315gj_6wm9tbxwybbh0000gn/T/ipykernel_2962/2713683421.py:2: PerformanceWarning: DataFrame is highly fragmented.  This is usually the result of calling `frame.insert` many times, which has poor performance.  Consider joining all columns at once using pd.concat(axis=1) instead. To get a de-fragmented frame, use `newframe = frame.copy()`\n",
      "  features_train_ohe[ohe.get_feature_names_out()] = ohe.transform(\n",
      "/var/folders/kr/l8l6g3315gj_6wm9tbxwybbh0000gn/T/ipykernel_2962/2713683421.py:2: PerformanceWarning: DataFrame is highly fragmented.  This is usually the result of calling `frame.insert` many times, which has poor performance.  Consider joining all columns at once using pd.concat(axis=1) instead. To get a de-fragmented frame, use `newframe = frame.copy()`\n",
      "  features_train_ohe[ohe.get_feature_names_out()] = ohe.transform(\n",
      "/var/folders/kr/l8l6g3315gj_6wm9tbxwybbh0000gn/T/ipykernel_2962/2713683421.py:2: PerformanceWarning: DataFrame is highly fragmented.  This is usually the result of calling `frame.insert` many times, which has poor performance.  Consider joining all columns at once using pd.concat(axis=1) instead. To get a de-fragmented frame, use `newframe = frame.copy()`\n",
      "  features_train_ohe[ohe.get_feature_names_out()] = ohe.transform(\n",
      "/var/folders/kr/l8l6g3315gj_6wm9tbxwybbh0000gn/T/ipykernel_2962/2713683421.py:2: PerformanceWarning: DataFrame is highly fragmented.  This is usually the result of calling `frame.insert` many times, which has poor performance.  Consider joining all columns at once using pd.concat(axis=1) instead. To get a de-fragmented frame, use `newframe = frame.copy()`\n",
      "  features_train_ohe[ohe.get_feature_names_out()] = ohe.transform(\n",
      "/var/folders/kr/l8l6g3315gj_6wm9tbxwybbh0000gn/T/ipykernel_2962/2713683421.py:2: PerformanceWarning: DataFrame is highly fragmented.  This is usually the result of calling `frame.insert` many times, which has poor performance.  Consider joining all columns at once using pd.concat(axis=1) instead. To get a de-fragmented frame, use `newframe = frame.copy()`\n",
      "  features_train_ohe[ohe.get_feature_names_out()] = ohe.transform(\n",
      "/var/folders/kr/l8l6g3315gj_6wm9tbxwybbh0000gn/T/ipykernel_2962/2713683421.py:2: PerformanceWarning: DataFrame is highly fragmented.  This is usually the result of calling `frame.insert` many times, which has poor performance.  Consider joining all columns at once using pd.concat(axis=1) instead. To get a de-fragmented frame, use `newframe = frame.copy()`\n",
      "  features_train_ohe[ohe.get_feature_names_out()] = ohe.transform(\n",
      "/var/folders/kr/l8l6g3315gj_6wm9tbxwybbh0000gn/T/ipykernel_2962/2713683421.py:2: PerformanceWarning: DataFrame is highly fragmented.  This is usually the result of calling `frame.insert` many times, which has poor performance.  Consider joining all columns at once using pd.concat(axis=1) instead. To get a de-fragmented frame, use `newframe = frame.copy()`\n",
      "  features_train_ohe[ohe.get_feature_names_out()] = ohe.transform(\n",
      "/var/folders/kr/l8l6g3315gj_6wm9tbxwybbh0000gn/T/ipykernel_2962/2713683421.py:2: PerformanceWarning: DataFrame is highly fragmented.  This is usually the result of calling `frame.insert` many times, which has poor performance.  Consider joining all columns at once using pd.concat(axis=1) instead. To get a de-fragmented frame, use `newframe = frame.copy()`\n",
      "  features_train_ohe[ohe.get_feature_names_out()] = ohe.transform(\n",
      "/var/folders/kr/l8l6g3315gj_6wm9tbxwybbh0000gn/T/ipykernel_2962/2713683421.py:2: PerformanceWarning: DataFrame is highly fragmented.  This is usually the result of calling `frame.insert` many times, which has poor performance.  Consider joining all columns at once using pd.concat(axis=1) instead. To get a de-fragmented frame, use `newframe = frame.copy()`\n",
      "  features_train_ohe[ohe.get_feature_names_out()] = ohe.transform(\n",
      "/var/folders/kr/l8l6g3315gj_6wm9tbxwybbh0000gn/T/ipykernel_2962/2713683421.py:2: PerformanceWarning: DataFrame is highly fragmented.  This is usually the result of calling `frame.insert` many times, which has poor performance.  Consider joining all columns at once using pd.concat(axis=1) instead. To get a de-fragmented frame, use `newframe = frame.copy()`\n",
      "  features_train_ohe[ohe.get_feature_names_out()] = ohe.transform(\n",
      "/var/folders/kr/l8l6g3315gj_6wm9tbxwybbh0000gn/T/ipykernel_2962/2713683421.py:2: PerformanceWarning: DataFrame is highly fragmented.  This is usually the result of calling `frame.insert` many times, which has poor performance.  Consider joining all columns at once using pd.concat(axis=1) instead. To get a de-fragmented frame, use `newframe = frame.copy()`\n",
      "  features_train_ohe[ohe.get_feature_names_out()] = ohe.transform(\n",
      "/var/folders/kr/l8l6g3315gj_6wm9tbxwybbh0000gn/T/ipykernel_2962/2713683421.py:2: PerformanceWarning: DataFrame is highly fragmented.  This is usually the result of calling `frame.insert` many times, which has poor performance.  Consider joining all columns at once using pd.concat(axis=1) instead. To get a de-fragmented frame, use `newframe = frame.copy()`\n",
      "  features_train_ohe[ohe.get_feature_names_out()] = ohe.transform(\n",
      "/var/folders/kr/l8l6g3315gj_6wm9tbxwybbh0000gn/T/ipykernel_2962/2713683421.py:2: PerformanceWarning: DataFrame is highly fragmented.  This is usually the result of calling `frame.insert` many times, which has poor performance.  Consider joining all columns at once using pd.concat(axis=1) instead. To get a de-fragmented frame, use `newframe = frame.copy()`\n",
      "  features_train_ohe[ohe.get_feature_names_out()] = ohe.transform(\n",
      "/var/folders/kr/l8l6g3315gj_6wm9tbxwybbh0000gn/T/ipykernel_2962/2713683421.py:2: PerformanceWarning: DataFrame is highly fragmented.  This is usually the result of calling `frame.insert` many times, which has poor performance.  Consider joining all columns at once using pd.concat(axis=1) instead. To get a de-fragmented frame, use `newframe = frame.copy()`\n",
      "  features_train_ohe[ohe.get_feature_names_out()] = ohe.transform(\n",
      "/var/folders/kr/l8l6g3315gj_6wm9tbxwybbh0000gn/T/ipykernel_2962/2713683421.py:2: PerformanceWarning: DataFrame is highly fragmented.  This is usually the result of calling `frame.insert` many times, which has poor performance.  Consider joining all columns at once using pd.concat(axis=1) instead. To get a de-fragmented frame, use `newframe = frame.copy()`\n",
      "  features_train_ohe[ohe.get_feature_names_out()] = ohe.transform(\n",
      "/var/folders/kr/l8l6g3315gj_6wm9tbxwybbh0000gn/T/ipykernel_2962/2713683421.py:2: PerformanceWarning: DataFrame is highly fragmented.  This is usually the result of calling `frame.insert` many times, which has poor performance.  Consider joining all columns at once using pd.concat(axis=1) instead. To get a de-fragmented frame, use `newframe = frame.copy()`\n",
      "  features_train_ohe[ohe.get_feature_names_out()] = ohe.transform(\n",
      "/var/folders/kr/l8l6g3315gj_6wm9tbxwybbh0000gn/T/ipykernel_2962/2713683421.py:2: PerformanceWarning: DataFrame is highly fragmented.  This is usually the result of calling `frame.insert` many times, which has poor performance.  Consider joining all columns at once using pd.concat(axis=1) instead. To get a de-fragmented frame, use `newframe = frame.copy()`\n",
      "  features_train_ohe[ohe.get_feature_names_out()] = ohe.transform(\n",
      "/var/folders/kr/l8l6g3315gj_6wm9tbxwybbh0000gn/T/ipykernel_2962/2713683421.py:2: PerformanceWarning: DataFrame is highly fragmented.  This is usually the result of calling `frame.insert` many times, which has poor performance.  Consider joining all columns at once using pd.concat(axis=1) instead. To get a de-fragmented frame, use `newframe = frame.copy()`\n",
      "  features_train_ohe[ohe.get_feature_names_out()] = ohe.transform(\n",
      "/var/folders/kr/l8l6g3315gj_6wm9tbxwybbh0000gn/T/ipykernel_2962/2713683421.py:2: PerformanceWarning: DataFrame is highly fragmented.  This is usually the result of calling `frame.insert` many times, which has poor performance.  Consider joining all columns at once using pd.concat(axis=1) instead. To get a de-fragmented frame, use `newframe = frame.copy()`\n",
      "  features_train_ohe[ohe.get_feature_names_out()] = ohe.transform(\n",
      "/var/folders/kr/l8l6g3315gj_6wm9tbxwybbh0000gn/T/ipykernel_2962/2713683421.py:2: PerformanceWarning: DataFrame is highly fragmented.  This is usually the result of calling `frame.insert` many times, which has poor performance.  Consider joining all columns at once using pd.concat(axis=1) instead. To get a de-fragmented frame, use `newframe = frame.copy()`\n",
      "  features_train_ohe[ohe.get_feature_names_out()] = ohe.transform(\n",
      "/var/folders/kr/l8l6g3315gj_6wm9tbxwybbh0000gn/T/ipykernel_2962/2713683421.py:2: PerformanceWarning: DataFrame is highly fragmented.  This is usually the result of calling `frame.insert` many times, which has poor performance.  Consider joining all columns at once using pd.concat(axis=1) instead. To get a de-fragmented frame, use `newframe = frame.copy()`\n",
      "  features_train_ohe[ohe.get_feature_names_out()] = ohe.transform(\n",
      "/var/folders/kr/l8l6g3315gj_6wm9tbxwybbh0000gn/T/ipykernel_2962/2713683421.py:2: PerformanceWarning: DataFrame is highly fragmented.  This is usually the result of calling `frame.insert` many times, which has poor performance.  Consider joining all columns at once using pd.concat(axis=1) instead. To get a de-fragmented frame, use `newframe = frame.copy()`\n",
      "  features_train_ohe[ohe.get_feature_names_out()] = ohe.transform(\n",
      "/var/folders/kr/l8l6g3315gj_6wm9tbxwybbh0000gn/T/ipykernel_2962/2713683421.py:2: PerformanceWarning: DataFrame is highly fragmented.  This is usually the result of calling `frame.insert` many times, which has poor performance.  Consider joining all columns at once using pd.concat(axis=1) instead. To get a de-fragmented frame, use `newframe = frame.copy()`\n",
      "  features_train_ohe[ohe.get_feature_names_out()] = ohe.transform(\n",
      "/var/folders/kr/l8l6g3315gj_6wm9tbxwybbh0000gn/T/ipykernel_2962/2713683421.py:2: PerformanceWarning: DataFrame is highly fragmented.  This is usually the result of calling `frame.insert` many times, which has poor performance.  Consider joining all columns at once using pd.concat(axis=1) instead. To get a de-fragmented frame, use `newframe = frame.copy()`\n",
      "  features_train_ohe[ohe.get_feature_names_out()] = ohe.transform(\n",
      "/var/folders/kr/l8l6g3315gj_6wm9tbxwybbh0000gn/T/ipykernel_2962/2713683421.py:2: PerformanceWarning: DataFrame is highly fragmented.  This is usually the result of calling `frame.insert` many times, which has poor performance.  Consider joining all columns at once using pd.concat(axis=1) instead. To get a de-fragmented frame, use `newframe = frame.copy()`\n",
      "  features_train_ohe[ohe.get_feature_names_out()] = ohe.transform(\n",
      "/var/folders/kr/l8l6g3315gj_6wm9tbxwybbh0000gn/T/ipykernel_2962/2713683421.py:2: PerformanceWarning: DataFrame is highly fragmented.  This is usually the result of calling `frame.insert` many times, which has poor performance.  Consider joining all columns at once using pd.concat(axis=1) instead. To get a de-fragmented frame, use `newframe = frame.copy()`\n",
      "  features_train_ohe[ohe.get_feature_names_out()] = ohe.transform(\n",
      "/var/folders/kr/l8l6g3315gj_6wm9tbxwybbh0000gn/T/ipykernel_2962/2713683421.py:2: PerformanceWarning: DataFrame is highly fragmented.  This is usually the result of calling `frame.insert` many times, which has poor performance.  Consider joining all columns at once using pd.concat(axis=1) instead. To get a de-fragmented frame, use `newframe = frame.copy()`\n",
      "  features_train_ohe[ohe.get_feature_names_out()] = ohe.transform(\n",
      "/var/folders/kr/l8l6g3315gj_6wm9tbxwybbh0000gn/T/ipykernel_2962/2713683421.py:2: PerformanceWarning: DataFrame is highly fragmented.  This is usually the result of calling `frame.insert` many times, which has poor performance.  Consider joining all columns at once using pd.concat(axis=1) instead. To get a de-fragmented frame, use `newframe = frame.copy()`\n",
      "  features_train_ohe[ohe.get_feature_names_out()] = ohe.transform(\n",
      "/var/folders/kr/l8l6g3315gj_6wm9tbxwybbh0000gn/T/ipykernel_2962/2713683421.py:2: PerformanceWarning: DataFrame is highly fragmented.  This is usually the result of calling `frame.insert` many times, which has poor performance.  Consider joining all columns at once using pd.concat(axis=1) instead. To get a de-fragmented frame, use `newframe = frame.copy()`\n",
      "  features_train_ohe[ohe.get_feature_names_out()] = ohe.transform(\n",
      "/var/folders/kr/l8l6g3315gj_6wm9tbxwybbh0000gn/T/ipykernel_2962/2713683421.py:2: PerformanceWarning: DataFrame is highly fragmented.  This is usually the result of calling `frame.insert` many times, which has poor performance.  Consider joining all columns at once using pd.concat(axis=1) instead. To get a de-fragmented frame, use `newframe = frame.copy()`\n",
      "  features_train_ohe[ohe.get_feature_names_out()] = ohe.transform(\n",
      "/var/folders/kr/l8l6g3315gj_6wm9tbxwybbh0000gn/T/ipykernel_2962/2713683421.py:2: PerformanceWarning: DataFrame is highly fragmented.  This is usually the result of calling `frame.insert` many times, which has poor performance.  Consider joining all columns at once using pd.concat(axis=1) instead. To get a de-fragmented frame, use `newframe = frame.copy()`\n",
      "  features_train_ohe[ohe.get_feature_names_out()] = ohe.transform(\n",
      "/var/folders/kr/l8l6g3315gj_6wm9tbxwybbh0000gn/T/ipykernel_2962/2713683421.py:2: PerformanceWarning: DataFrame is highly fragmented.  This is usually the result of calling `frame.insert` many times, which has poor performance.  Consider joining all columns at once using pd.concat(axis=1) instead. To get a de-fragmented frame, use `newframe = frame.copy()`\n",
      "  features_train_ohe[ohe.get_feature_names_out()] = ohe.transform(\n",
      "/var/folders/kr/l8l6g3315gj_6wm9tbxwybbh0000gn/T/ipykernel_2962/2713683421.py:2: PerformanceWarning: DataFrame is highly fragmented.  This is usually the result of calling `frame.insert` many times, which has poor performance.  Consider joining all columns at once using pd.concat(axis=1) instead. To get a de-fragmented frame, use `newframe = frame.copy()`\n",
      "  features_train_ohe[ohe.get_feature_names_out()] = ohe.transform(\n",
      "/var/folders/kr/l8l6g3315gj_6wm9tbxwybbh0000gn/T/ipykernel_2962/2713683421.py:2: PerformanceWarning: DataFrame is highly fragmented.  This is usually the result of calling `frame.insert` many times, which has poor performance.  Consider joining all columns at once using pd.concat(axis=1) instead. To get a de-fragmented frame, use `newframe = frame.copy()`\n",
      "  features_train_ohe[ohe.get_feature_names_out()] = ohe.transform(\n",
      "/var/folders/kr/l8l6g3315gj_6wm9tbxwybbh0000gn/T/ipykernel_2962/2713683421.py:2: PerformanceWarning: DataFrame is highly fragmented.  This is usually the result of calling `frame.insert` many times, which has poor performance.  Consider joining all columns at once using pd.concat(axis=1) instead. To get a de-fragmented frame, use `newframe = frame.copy()`\n",
      "  features_train_ohe[ohe.get_feature_names_out()] = ohe.transform(\n",
      "/var/folders/kr/l8l6g3315gj_6wm9tbxwybbh0000gn/T/ipykernel_2962/2713683421.py:2: PerformanceWarning: DataFrame is highly fragmented.  This is usually the result of calling `frame.insert` many times, which has poor performance.  Consider joining all columns at once using pd.concat(axis=1) instead. To get a de-fragmented frame, use `newframe = frame.copy()`\n",
      "  features_train_ohe[ohe.get_feature_names_out()] = ohe.transform(\n",
      "/var/folders/kr/l8l6g3315gj_6wm9tbxwybbh0000gn/T/ipykernel_2962/2713683421.py:2: PerformanceWarning: DataFrame is highly fragmented.  This is usually the result of calling `frame.insert` many times, which has poor performance.  Consider joining all columns at once using pd.concat(axis=1) instead. To get a de-fragmented frame, use `newframe = frame.copy()`\n",
      "  features_train_ohe[ohe.get_feature_names_out()] = ohe.transform(\n",
      "/var/folders/kr/l8l6g3315gj_6wm9tbxwybbh0000gn/T/ipykernel_2962/2713683421.py:2: PerformanceWarning: DataFrame is highly fragmented.  This is usually the result of calling `frame.insert` many times, which has poor performance.  Consider joining all columns at once using pd.concat(axis=1) instead. To get a de-fragmented frame, use `newframe = frame.copy()`\n",
      "  features_train_ohe[ohe.get_feature_names_out()] = ohe.transform(\n",
      "/var/folders/kr/l8l6g3315gj_6wm9tbxwybbh0000gn/T/ipykernel_2962/2713683421.py:2: PerformanceWarning: DataFrame is highly fragmented.  This is usually the result of calling `frame.insert` many times, which has poor performance.  Consider joining all columns at once using pd.concat(axis=1) instead. To get a de-fragmented frame, use `newframe = frame.copy()`\n",
      "  features_train_ohe[ohe.get_feature_names_out()] = ohe.transform(\n",
      "/var/folders/kr/l8l6g3315gj_6wm9tbxwybbh0000gn/T/ipykernel_2962/2713683421.py:2: PerformanceWarning: DataFrame is highly fragmented.  This is usually the result of calling `frame.insert` many times, which has poor performance.  Consider joining all columns at once using pd.concat(axis=1) instead. To get a de-fragmented frame, use `newframe = frame.copy()`\n",
      "  features_train_ohe[ohe.get_feature_names_out()] = ohe.transform(\n",
      "/var/folders/kr/l8l6g3315gj_6wm9tbxwybbh0000gn/T/ipykernel_2962/2713683421.py:2: PerformanceWarning: DataFrame is highly fragmented.  This is usually the result of calling `frame.insert` many times, which has poor performance.  Consider joining all columns at once using pd.concat(axis=1) instead. To get a de-fragmented frame, use `newframe = frame.copy()`\n",
      "  features_train_ohe[ohe.get_feature_names_out()] = ohe.transform(\n",
      "/var/folders/kr/l8l6g3315gj_6wm9tbxwybbh0000gn/T/ipykernel_2962/2713683421.py:2: PerformanceWarning: DataFrame is highly fragmented.  This is usually the result of calling `frame.insert` many times, which has poor performance.  Consider joining all columns at once using pd.concat(axis=1) instead. To get a de-fragmented frame, use `newframe = frame.copy()`\n",
      "  features_train_ohe[ohe.get_feature_names_out()] = ohe.transform(\n",
      "/var/folders/kr/l8l6g3315gj_6wm9tbxwybbh0000gn/T/ipykernel_2962/2713683421.py:2: PerformanceWarning: DataFrame is highly fragmented.  This is usually the result of calling `frame.insert` many times, which has poor performance.  Consider joining all columns at once using pd.concat(axis=1) instead. To get a de-fragmented frame, use `newframe = frame.copy()`\n",
      "  features_train_ohe[ohe.get_feature_names_out()] = ohe.transform(\n",
      "/var/folders/kr/l8l6g3315gj_6wm9tbxwybbh0000gn/T/ipykernel_2962/2713683421.py:2: PerformanceWarning: DataFrame is highly fragmented.  This is usually the result of calling `frame.insert` many times, which has poor performance.  Consider joining all columns at once using pd.concat(axis=1) instead. To get a de-fragmented frame, use `newframe = frame.copy()`\n",
      "  features_train_ohe[ohe.get_feature_names_out()] = ohe.transform(\n",
      "/var/folders/kr/l8l6g3315gj_6wm9tbxwybbh0000gn/T/ipykernel_2962/2713683421.py:2: PerformanceWarning: DataFrame is highly fragmented.  This is usually the result of calling `frame.insert` many times, which has poor performance.  Consider joining all columns at once using pd.concat(axis=1) instead. To get a de-fragmented frame, use `newframe = frame.copy()`\n",
      "  features_train_ohe[ohe.get_feature_names_out()] = ohe.transform(\n",
      "/var/folders/kr/l8l6g3315gj_6wm9tbxwybbh0000gn/T/ipykernel_2962/2713683421.py:2: PerformanceWarning: DataFrame is highly fragmented.  This is usually the result of calling `frame.insert` many times, which has poor performance.  Consider joining all columns at once using pd.concat(axis=1) instead. To get a de-fragmented frame, use `newframe = frame.copy()`\n",
      "  features_train_ohe[ohe.get_feature_names_out()] = ohe.transform(\n",
      "/var/folders/kr/l8l6g3315gj_6wm9tbxwybbh0000gn/T/ipykernel_2962/2713683421.py:2: PerformanceWarning: DataFrame is highly fragmented.  This is usually the result of calling `frame.insert` many times, which has poor performance.  Consider joining all columns at once using pd.concat(axis=1) instead. To get a de-fragmented frame, use `newframe = frame.copy()`\n",
      "  features_train_ohe[ohe.get_feature_names_out()] = ohe.transform(\n",
      "/var/folders/kr/l8l6g3315gj_6wm9tbxwybbh0000gn/T/ipykernel_2962/2713683421.py:2: PerformanceWarning: DataFrame is highly fragmented.  This is usually the result of calling `frame.insert` many times, which has poor performance.  Consider joining all columns at once using pd.concat(axis=1) instead. To get a de-fragmented frame, use `newframe = frame.copy()`\n",
      "  features_train_ohe[ohe.get_feature_names_out()] = ohe.transform(\n",
      "/var/folders/kr/l8l6g3315gj_6wm9tbxwybbh0000gn/T/ipykernel_2962/2713683421.py:2: PerformanceWarning: DataFrame is highly fragmented.  This is usually the result of calling `frame.insert` many times, which has poor performance.  Consider joining all columns at once using pd.concat(axis=1) instead. To get a de-fragmented frame, use `newframe = frame.copy()`\n",
      "  features_train_ohe[ohe.get_feature_names_out()] = ohe.transform(\n",
      "/var/folders/kr/l8l6g3315gj_6wm9tbxwybbh0000gn/T/ipykernel_2962/2713683421.py:2: PerformanceWarning: DataFrame is highly fragmented.  This is usually the result of calling `frame.insert` many times, which has poor performance.  Consider joining all columns at once using pd.concat(axis=1) instead. To get a de-fragmented frame, use `newframe = frame.copy()`\n",
      "  features_train_ohe[ohe.get_feature_names_out()] = ohe.transform(\n",
      "/var/folders/kr/l8l6g3315gj_6wm9tbxwybbh0000gn/T/ipykernel_2962/2713683421.py:2: PerformanceWarning: DataFrame is highly fragmented.  This is usually the result of calling `frame.insert` many times, which has poor performance.  Consider joining all columns at once using pd.concat(axis=1) instead. To get a de-fragmented frame, use `newframe = frame.copy()`\n",
      "  features_train_ohe[ohe.get_feature_names_out()] = ohe.transform(\n",
      "/var/folders/kr/l8l6g3315gj_6wm9tbxwybbh0000gn/T/ipykernel_2962/2713683421.py:2: PerformanceWarning: DataFrame is highly fragmented.  This is usually the result of calling `frame.insert` many times, which has poor performance.  Consider joining all columns at once using pd.concat(axis=1) instead. To get a de-fragmented frame, use `newframe = frame.copy()`\n",
      "  features_train_ohe[ohe.get_feature_names_out()] = ohe.transform(\n",
      "/var/folders/kr/l8l6g3315gj_6wm9tbxwybbh0000gn/T/ipykernel_2962/2713683421.py:2: PerformanceWarning: DataFrame is highly fragmented.  This is usually the result of calling `frame.insert` many times, which has poor performance.  Consider joining all columns at once using pd.concat(axis=1) instead. To get a de-fragmented frame, use `newframe = frame.copy()`\n",
      "  features_train_ohe[ohe.get_feature_names_out()] = ohe.transform(\n",
      "/var/folders/kr/l8l6g3315gj_6wm9tbxwybbh0000gn/T/ipykernel_2962/2713683421.py:2: PerformanceWarning: DataFrame is highly fragmented.  This is usually the result of calling `frame.insert` many times, which has poor performance.  Consider joining all columns at once using pd.concat(axis=1) instead. To get a de-fragmented frame, use `newframe = frame.copy()`\n",
      "  features_train_ohe[ohe.get_feature_names_out()] = ohe.transform(\n",
      "/var/folders/kr/l8l6g3315gj_6wm9tbxwybbh0000gn/T/ipykernel_2962/2713683421.py:2: PerformanceWarning: DataFrame is highly fragmented.  This is usually the result of calling `frame.insert` many times, which has poor performance.  Consider joining all columns at once using pd.concat(axis=1) instead. To get a de-fragmented frame, use `newframe = frame.copy()`\n",
      "  features_train_ohe[ohe.get_feature_names_out()] = ohe.transform(\n",
      "/var/folders/kr/l8l6g3315gj_6wm9tbxwybbh0000gn/T/ipykernel_2962/2713683421.py:2: PerformanceWarning: DataFrame is highly fragmented.  This is usually the result of calling `frame.insert` many times, which has poor performance.  Consider joining all columns at once using pd.concat(axis=1) instead. To get a de-fragmented frame, use `newframe = frame.copy()`\n",
      "  features_train_ohe[ohe.get_feature_names_out()] = ohe.transform(\n",
      "/var/folders/kr/l8l6g3315gj_6wm9tbxwybbh0000gn/T/ipykernel_2962/2713683421.py:2: PerformanceWarning: DataFrame is highly fragmented.  This is usually the result of calling `frame.insert` many times, which has poor performance.  Consider joining all columns at once using pd.concat(axis=1) instead. To get a de-fragmented frame, use `newframe = frame.copy()`\n",
      "  features_train_ohe[ohe.get_feature_names_out()] = ohe.transform(\n",
      "/var/folders/kr/l8l6g3315gj_6wm9tbxwybbh0000gn/T/ipykernel_2962/2713683421.py:2: PerformanceWarning: DataFrame is highly fragmented.  This is usually the result of calling `frame.insert` many times, which has poor performance.  Consider joining all columns at once using pd.concat(axis=1) instead. To get a de-fragmented frame, use `newframe = frame.copy()`\n",
      "  features_train_ohe[ohe.get_feature_names_out()] = ohe.transform(\n",
      "/var/folders/kr/l8l6g3315gj_6wm9tbxwybbh0000gn/T/ipykernel_2962/2713683421.py:2: PerformanceWarning: DataFrame is highly fragmented.  This is usually the result of calling `frame.insert` many times, which has poor performance.  Consider joining all columns at once using pd.concat(axis=1) instead. To get a de-fragmented frame, use `newframe = frame.copy()`\n",
      "  features_train_ohe[ohe.get_feature_names_out()] = ohe.transform(\n",
      "/var/folders/kr/l8l6g3315gj_6wm9tbxwybbh0000gn/T/ipykernel_2962/2713683421.py:2: PerformanceWarning: DataFrame is highly fragmented.  This is usually the result of calling `frame.insert` many times, which has poor performance.  Consider joining all columns at once using pd.concat(axis=1) instead. To get a de-fragmented frame, use `newframe = frame.copy()`\n",
      "  features_train_ohe[ohe.get_feature_names_out()] = ohe.transform(\n",
      "/var/folders/kr/l8l6g3315gj_6wm9tbxwybbh0000gn/T/ipykernel_2962/2713683421.py:2: PerformanceWarning: DataFrame is highly fragmented.  This is usually the result of calling `frame.insert` many times, which has poor performance.  Consider joining all columns at once using pd.concat(axis=1) instead. To get a de-fragmented frame, use `newframe = frame.copy()`\n",
      "  features_train_ohe[ohe.get_feature_names_out()] = ohe.transform(\n",
      "/var/folders/kr/l8l6g3315gj_6wm9tbxwybbh0000gn/T/ipykernel_2962/2713683421.py:2: PerformanceWarning: DataFrame is highly fragmented.  This is usually the result of calling `frame.insert` many times, which has poor performance.  Consider joining all columns at once using pd.concat(axis=1) instead. To get a de-fragmented frame, use `newframe = frame.copy()`\n",
      "  features_train_ohe[ohe.get_feature_names_out()] = ohe.transform(\n",
      "/var/folders/kr/l8l6g3315gj_6wm9tbxwybbh0000gn/T/ipykernel_2962/2713683421.py:2: PerformanceWarning: DataFrame is highly fragmented.  This is usually the result of calling `frame.insert` many times, which has poor performance.  Consider joining all columns at once using pd.concat(axis=1) instead. To get a de-fragmented frame, use `newframe = frame.copy()`\n",
      "  features_train_ohe[ohe.get_feature_names_out()] = ohe.transform(\n",
      "/var/folders/kr/l8l6g3315gj_6wm9tbxwybbh0000gn/T/ipykernel_2962/2713683421.py:2: PerformanceWarning: DataFrame is highly fragmented.  This is usually the result of calling `frame.insert` many times, which has poor performance.  Consider joining all columns at once using pd.concat(axis=1) instead. To get a de-fragmented frame, use `newframe = frame.copy()`\n",
      "  features_train_ohe[ohe.get_feature_names_out()] = ohe.transform(\n",
      "/var/folders/kr/l8l6g3315gj_6wm9tbxwybbh0000gn/T/ipykernel_2962/2713683421.py:2: PerformanceWarning: DataFrame is highly fragmented.  This is usually the result of calling `frame.insert` many times, which has poor performance.  Consider joining all columns at once using pd.concat(axis=1) instead. To get a de-fragmented frame, use `newframe = frame.copy()`\n",
      "  features_train_ohe[ohe.get_feature_names_out()] = ohe.transform(\n",
      "/var/folders/kr/l8l6g3315gj_6wm9tbxwybbh0000gn/T/ipykernel_2962/2713683421.py:2: PerformanceWarning: DataFrame is highly fragmented.  This is usually the result of calling `frame.insert` many times, which has poor performance.  Consider joining all columns at once using pd.concat(axis=1) instead. To get a de-fragmented frame, use `newframe = frame.copy()`\n",
      "  features_train_ohe[ohe.get_feature_names_out()] = ohe.transform(\n",
      "/var/folders/kr/l8l6g3315gj_6wm9tbxwybbh0000gn/T/ipykernel_2962/2713683421.py:2: PerformanceWarning: DataFrame is highly fragmented.  This is usually the result of calling `frame.insert` many times, which has poor performance.  Consider joining all columns at once using pd.concat(axis=1) instead. To get a de-fragmented frame, use `newframe = frame.copy()`\n",
      "  features_train_ohe[ohe.get_feature_names_out()] = ohe.transform(\n",
      "/var/folders/kr/l8l6g3315gj_6wm9tbxwybbh0000gn/T/ipykernel_2962/2713683421.py:2: PerformanceWarning: DataFrame is highly fragmented.  This is usually the result of calling `frame.insert` many times, which has poor performance.  Consider joining all columns at once using pd.concat(axis=1) instead. To get a de-fragmented frame, use `newframe = frame.copy()`\n",
      "  features_train_ohe[ohe.get_feature_names_out()] = ohe.transform(\n",
      "/var/folders/kr/l8l6g3315gj_6wm9tbxwybbh0000gn/T/ipykernel_2962/2713683421.py:2: PerformanceWarning: DataFrame is highly fragmented.  This is usually the result of calling `frame.insert` many times, which has poor performance.  Consider joining all columns at once using pd.concat(axis=1) instead. To get a de-fragmented frame, use `newframe = frame.copy()`\n",
      "  features_train_ohe[ohe.get_feature_names_out()] = ohe.transform(\n",
      "/var/folders/kr/l8l6g3315gj_6wm9tbxwybbh0000gn/T/ipykernel_2962/2713683421.py:2: PerformanceWarning: DataFrame is highly fragmented.  This is usually the result of calling `frame.insert` many times, which has poor performance.  Consider joining all columns at once using pd.concat(axis=1) instead. To get a de-fragmented frame, use `newframe = frame.copy()`\n",
      "  features_train_ohe[ohe.get_feature_names_out()] = ohe.transform(\n",
      "/var/folders/kr/l8l6g3315gj_6wm9tbxwybbh0000gn/T/ipykernel_2962/2713683421.py:2: PerformanceWarning: DataFrame is highly fragmented.  This is usually the result of calling `frame.insert` many times, which has poor performance.  Consider joining all columns at once using pd.concat(axis=1) instead. To get a de-fragmented frame, use `newframe = frame.copy()`\n",
      "  features_train_ohe[ohe.get_feature_names_out()] = ohe.transform(\n",
      "/var/folders/kr/l8l6g3315gj_6wm9tbxwybbh0000gn/T/ipykernel_2962/2713683421.py:2: PerformanceWarning: DataFrame is highly fragmented.  This is usually the result of calling `frame.insert` many times, which has poor performance.  Consider joining all columns at once using pd.concat(axis=1) instead. To get a de-fragmented frame, use `newframe = frame.copy()`\n",
      "  features_train_ohe[ohe.get_feature_names_out()] = ohe.transform(\n",
      "/var/folders/kr/l8l6g3315gj_6wm9tbxwybbh0000gn/T/ipykernel_2962/2713683421.py:2: PerformanceWarning: DataFrame is highly fragmented.  This is usually the result of calling `frame.insert` many times, which has poor performance.  Consider joining all columns at once using pd.concat(axis=1) instead. To get a de-fragmented frame, use `newframe = frame.copy()`\n",
      "  features_train_ohe[ohe.get_feature_names_out()] = ohe.transform(\n",
      "/var/folders/kr/l8l6g3315gj_6wm9tbxwybbh0000gn/T/ipykernel_2962/2713683421.py:2: PerformanceWarning: DataFrame is highly fragmented.  This is usually the result of calling `frame.insert` many times, which has poor performance.  Consider joining all columns at once using pd.concat(axis=1) instead. To get a de-fragmented frame, use `newframe = frame.copy()`\n",
      "  features_train_ohe[ohe.get_feature_names_out()] = ohe.transform(\n",
      "/var/folders/kr/l8l6g3315gj_6wm9tbxwybbh0000gn/T/ipykernel_2962/2713683421.py:2: PerformanceWarning: DataFrame is highly fragmented.  This is usually the result of calling `frame.insert` many times, which has poor performance.  Consider joining all columns at once using pd.concat(axis=1) instead. To get a de-fragmented frame, use `newframe = frame.copy()`\n",
      "  features_train_ohe[ohe.get_feature_names_out()] = ohe.transform(\n",
      "/var/folders/kr/l8l6g3315gj_6wm9tbxwybbh0000gn/T/ipykernel_2962/2713683421.py:2: PerformanceWarning: DataFrame is highly fragmented.  This is usually the result of calling `frame.insert` many times, which has poor performance.  Consider joining all columns at once using pd.concat(axis=1) instead. To get a de-fragmented frame, use `newframe = frame.copy()`\n",
      "  features_train_ohe[ohe.get_feature_names_out()] = ohe.transform(\n",
      "/var/folders/kr/l8l6g3315gj_6wm9tbxwybbh0000gn/T/ipykernel_2962/2713683421.py:2: PerformanceWarning: DataFrame is highly fragmented.  This is usually the result of calling `frame.insert` many times, which has poor performance.  Consider joining all columns at once using pd.concat(axis=1) instead. To get a de-fragmented frame, use `newframe = frame.copy()`\n",
      "  features_train_ohe[ohe.get_feature_names_out()] = ohe.transform(\n",
      "/var/folders/kr/l8l6g3315gj_6wm9tbxwybbh0000gn/T/ipykernel_2962/2713683421.py:2: PerformanceWarning: DataFrame is highly fragmented.  This is usually the result of calling `frame.insert` many times, which has poor performance.  Consider joining all columns at once using pd.concat(axis=1) instead. To get a de-fragmented frame, use `newframe = frame.copy()`\n",
      "  features_train_ohe[ohe.get_feature_names_out()] = ohe.transform(\n",
      "/var/folders/kr/l8l6g3315gj_6wm9tbxwybbh0000gn/T/ipykernel_2962/2713683421.py:2: PerformanceWarning: DataFrame is highly fragmented.  This is usually the result of calling `frame.insert` many times, which has poor performance.  Consider joining all columns at once using pd.concat(axis=1) instead. To get a de-fragmented frame, use `newframe = frame.copy()`\n",
      "  features_train_ohe[ohe.get_feature_names_out()] = ohe.transform(\n",
      "/var/folders/kr/l8l6g3315gj_6wm9tbxwybbh0000gn/T/ipykernel_2962/2713683421.py:2: PerformanceWarning: DataFrame is highly fragmented.  This is usually the result of calling `frame.insert` many times, which has poor performance.  Consider joining all columns at once using pd.concat(axis=1) instead. To get a de-fragmented frame, use `newframe = frame.copy()`\n",
      "  features_train_ohe[ohe.get_feature_names_out()] = ohe.transform(\n",
      "/var/folders/kr/l8l6g3315gj_6wm9tbxwybbh0000gn/T/ipykernel_2962/2713683421.py:2: PerformanceWarning: DataFrame is highly fragmented.  This is usually the result of calling `frame.insert` many times, which has poor performance.  Consider joining all columns at once using pd.concat(axis=1) instead. To get a de-fragmented frame, use `newframe = frame.copy()`\n",
      "  features_train_ohe[ohe.get_feature_names_out()] = ohe.transform(\n",
      "/var/folders/kr/l8l6g3315gj_6wm9tbxwybbh0000gn/T/ipykernel_2962/2713683421.py:2: PerformanceWarning: DataFrame is highly fragmented.  This is usually the result of calling `frame.insert` many times, which has poor performance.  Consider joining all columns at once using pd.concat(axis=1) instead. To get a de-fragmented frame, use `newframe = frame.copy()`\n",
      "  features_train_ohe[ohe.get_feature_names_out()] = ohe.transform(\n",
      "/var/folders/kr/l8l6g3315gj_6wm9tbxwybbh0000gn/T/ipykernel_2962/2713683421.py:2: PerformanceWarning: DataFrame is highly fragmented.  This is usually the result of calling `frame.insert` many times, which has poor performance.  Consider joining all columns at once using pd.concat(axis=1) instead. To get a de-fragmented frame, use `newframe = frame.copy()`\n",
      "  features_train_ohe[ohe.get_feature_names_out()] = ohe.transform(\n",
      "/var/folders/kr/l8l6g3315gj_6wm9tbxwybbh0000gn/T/ipykernel_2962/2713683421.py:2: PerformanceWarning: DataFrame is highly fragmented.  This is usually the result of calling `frame.insert` many times, which has poor performance.  Consider joining all columns at once using pd.concat(axis=1) instead. To get a de-fragmented frame, use `newframe = frame.copy()`\n",
      "  features_train_ohe[ohe.get_feature_names_out()] = ohe.transform(\n",
      "/var/folders/kr/l8l6g3315gj_6wm9tbxwybbh0000gn/T/ipykernel_2962/2713683421.py:2: PerformanceWarning: DataFrame is highly fragmented.  This is usually the result of calling `frame.insert` many times, which has poor performance.  Consider joining all columns at once using pd.concat(axis=1) instead. To get a de-fragmented frame, use `newframe = frame.copy()`\n",
      "  features_train_ohe[ohe.get_feature_names_out()] = ohe.transform(\n",
      "/var/folders/kr/l8l6g3315gj_6wm9tbxwybbh0000gn/T/ipykernel_2962/2713683421.py:2: PerformanceWarning: DataFrame is highly fragmented.  This is usually the result of calling `frame.insert` many times, which has poor performance.  Consider joining all columns at once using pd.concat(axis=1) instead. To get a de-fragmented frame, use `newframe = frame.copy()`\n",
      "  features_train_ohe[ohe.get_feature_names_out()] = ohe.transform(\n",
      "/var/folders/kr/l8l6g3315gj_6wm9tbxwybbh0000gn/T/ipykernel_2962/2713683421.py:2: PerformanceWarning: DataFrame is highly fragmented.  This is usually the result of calling `frame.insert` many times, which has poor performance.  Consider joining all columns at once using pd.concat(axis=1) instead. To get a de-fragmented frame, use `newframe = frame.copy()`\n",
      "  features_train_ohe[ohe.get_feature_names_out()] = ohe.transform(\n",
      "/var/folders/kr/l8l6g3315gj_6wm9tbxwybbh0000gn/T/ipykernel_2962/2713683421.py:2: PerformanceWarning: DataFrame is highly fragmented.  This is usually the result of calling `frame.insert` many times, which has poor performance.  Consider joining all columns at once using pd.concat(axis=1) instead. To get a de-fragmented frame, use `newframe = frame.copy()`\n",
      "  features_train_ohe[ohe.get_feature_names_out()] = ohe.transform(\n",
      "/var/folders/kr/l8l6g3315gj_6wm9tbxwybbh0000gn/T/ipykernel_2962/2713683421.py:2: PerformanceWarning: DataFrame is highly fragmented.  This is usually the result of calling `frame.insert` many times, which has poor performance.  Consider joining all columns at once using pd.concat(axis=1) instead. To get a de-fragmented frame, use `newframe = frame.copy()`\n",
      "  features_train_ohe[ohe.get_feature_names_out()] = ohe.transform(\n",
      "/var/folders/kr/l8l6g3315gj_6wm9tbxwybbh0000gn/T/ipykernel_2962/2713683421.py:2: PerformanceWarning: DataFrame is highly fragmented.  This is usually the result of calling `frame.insert` many times, which has poor performance.  Consider joining all columns at once using pd.concat(axis=1) instead. To get a de-fragmented frame, use `newframe = frame.copy()`\n",
      "  features_train_ohe[ohe.get_feature_names_out()] = ohe.transform(\n",
      "/var/folders/kr/l8l6g3315gj_6wm9tbxwybbh0000gn/T/ipykernel_2962/2713683421.py:2: PerformanceWarning: DataFrame is highly fragmented.  This is usually the result of calling `frame.insert` many times, which has poor performance.  Consider joining all columns at once using pd.concat(axis=1) instead. To get a de-fragmented frame, use `newframe = frame.copy()`\n",
      "  features_train_ohe[ohe.get_feature_names_out()] = ohe.transform(\n",
      "/var/folders/kr/l8l6g3315gj_6wm9tbxwybbh0000gn/T/ipykernel_2962/2713683421.py:2: PerformanceWarning: DataFrame is highly fragmented.  This is usually the result of calling `frame.insert` many times, which has poor performance.  Consider joining all columns at once using pd.concat(axis=1) instead. To get a de-fragmented frame, use `newframe = frame.copy()`\n",
      "  features_train_ohe[ohe.get_feature_names_out()] = ohe.transform(\n",
      "/var/folders/kr/l8l6g3315gj_6wm9tbxwybbh0000gn/T/ipykernel_2962/2713683421.py:2: PerformanceWarning: DataFrame is highly fragmented.  This is usually the result of calling `frame.insert` many times, which has poor performance.  Consider joining all columns at once using pd.concat(axis=1) instead. To get a de-fragmented frame, use `newframe = frame.copy()`\n",
      "  features_train_ohe[ohe.get_feature_names_out()] = ohe.transform(\n",
      "/var/folders/kr/l8l6g3315gj_6wm9tbxwybbh0000gn/T/ipykernel_2962/2713683421.py:2: PerformanceWarning: DataFrame is highly fragmented.  This is usually the result of calling `frame.insert` many times, which has poor performance.  Consider joining all columns at once using pd.concat(axis=1) instead. To get a de-fragmented frame, use `newframe = frame.copy()`\n",
      "  features_train_ohe[ohe.get_feature_names_out()] = ohe.transform(\n",
      "/var/folders/kr/l8l6g3315gj_6wm9tbxwybbh0000gn/T/ipykernel_2962/2713683421.py:2: PerformanceWarning: DataFrame is highly fragmented.  This is usually the result of calling `frame.insert` many times, which has poor performance.  Consider joining all columns at once using pd.concat(axis=1) instead. To get a de-fragmented frame, use `newframe = frame.copy()`\n",
      "  features_train_ohe[ohe.get_feature_names_out()] = ohe.transform(\n",
      "/var/folders/kr/l8l6g3315gj_6wm9tbxwybbh0000gn/T/ipykernel_2962/2713683421.py:2: PerformanceWarning: DataFrame is highly fragmented.  This is usually the result of calling `frame.insert` many times, which has poor performance.  Consider joining all columns at once using pd.concat(axis=1) instead. To get a de-fragmented frame, use `newframe = frame.copy()`\n",
      "  features_train_ohe[ohe.get_feature_names_out()] = ohe.transform(\n",
      "/var/folders/kr/l8l6g3315gj_6wm9tbxwybbh0000gn/T/ipykernel_2962/2713683421.py:2: PerformanceWarning: DataFrame is highly fragmented.  This is usually the result of calling `frame.insert` many times, which has poor performance.  Consider joining all columns at once using pd.concat(axis=1) instead. To get a de-fragmented frame, use `newframe = frame.copy()`\n",
      "  features_train_ohe[ohe.get_feature_names_out()] = ohe.transform(\n",
      "/var/folders/kr/l8l6g3315gj_6wm9tbxwybbh0000gn/T/ipykernel_2962/2713683421.py:2: PerformanceWarning: DataFrame is highly fragmented.  This is usually the result of calling `frame.insert` many times, which has poor performance.  Consider joining all columns at once using pd.concat(axis=1) instead. To get a de-fragmented frame, use `newframe = frame.copy()`\n",
      "  features_train_ohe[ohe.get_feature_names_out()] = ohe.transform(\n",
      "/var/folders/kr/l8l6g3315gj_6wm9tbxwybbh0000gn/T/ipykernel_2962/2713683421.py:2: PerformanceWarning: DataFrame is highly fragmented.  This is usually the result of calling `frame.insert` many times, which has poor performance.  Consider joining all columns at once using pd.concat(axis=1) instead. To get a de-fragmented frame, use `newframe = frame.copy()`\n",
      "  features_train_ohe[ohe.get_feature_names_out()] = ohe.transform(\n",
      "/var/folders/kr/l8l6g3315gj_6wm9tbxwybbh0000gn/T/ipykernel_2962/2713683421.py:2: PerformanceWarning: DataFrame is highly fragmented.  This is usually the result of calling `frame.insert` many times, which has poor performance.  Consider joining all columns at once using pd.concat(axis=1) instead. To get a de-fragmented frame, use `newframe = frame.copy()`\n",
      "  features_train_ohe[ohe.get_feature_names_out()] = ohe.transform(\n",
      "/var/folders/kr/l8l6g3315gj_6wm9tbxwybbh0000gn/T/ipykernel_2962/2713683421.py:2: PerformanceWarning: DataFrame is highly fragmented.  This is usually the result of calling `frame.insert` many times, which has poor performance.  Consider joining all columns at once using pd.concat(axis=1) instead. To get a de-fragmented frame, use `newframe = frame.copy()`\n",
      "  features_train_ohe[ohe.get_feature_names_out()] = ohe.transform(\n",
      "/var/folders/kr/l8l6g3315gj_6wm9tbxwybbh0000gn/T/ipykernel_2962/2713683421.py:2: PerformanceWarning: DataFrame is highly fragmented.  This is usually the result of calling `frame.insert` many times, which has poor performance.  Consider joining all columns at once using pd.concat(axis=1) instead. To get a de-fragmented frame, use `newframe = frame.copy()`\n",
      "  features_train_ohe[ohe.get_feature_names_out()] = ohe.transform(\n",
      "/var/folders/kr/l8l6g3315gj_6wm9tbxwybbh0000gn/T/ipykernel_2962/2713683421.py:2: PerformanceWarning: DataFrame is highly fragmented.  This is usually the result of calling `frame.insert` many times, which has poor performance.  Consider joining all columns at once using pd.concat(axis=1) instead. To get a de-fragmented frame, use `newframe = frame.copy()`\n",
      "  features_train_ohe[ohe.get_feature_names_out()] = ohe.transform(\n",
      "/var/folders/kr/l8l6g3315gj_6wm9tbxwybbh0000gn/T/ipykernel_2962/2713683421.py:2: PerformanceWarning: DataFrame is highly fragmented.  This is usually the result of calling `frame.insert` many times, which has poor performance.  Consider joining all columns at once using pd.concat(axis=1) instead. To get a de-fragmented frame, use `newframe = frame.copy()`\n",
      "  features_train_ohe[ohe.get_feature_names_out()] = ohe.transform(\n",
      "/var/folders/kr/l8l6g3315gj_6wm9tbxwybbh0000gn/T/ipykernel_2962/2713683421.py:2: PerformanceWarning: DataFrame is highly fragmented.  This is usually the result of calling `frame.insert` many times, which has poor performance.  Consider joining all columns at once using pd.concat(axis=1) instead. To get a de-fragmented frame, use `newframe = frame.copy()`\n",
      "  features_train_ohe[ohe.get_feature_names_out()] = ohe.transform(\n",
      "/var/folders/kr/l8l6g3315gj_6wm9tbxwybbh0000gn/T/ipykernel_2962/2713683421.py:2: PerformanceWarning: DataFrame is highly fragmented.  This is usually the result of calling `frame.insert` many times, which has poor performance.  Consider joining all columns at once using pd.concat(axis=1) instead. To get a de-fragmented frame, use `newframe = frame.copy()`\n",
      "  features_train_ohe[ohe.get_feature_names_out()] = ohe.transform(\n",
      "/var/folders/kr/l8l6g3315gj_6wm9tbxwybbh0000gn/T/ipykernel_2962/2713683421.py:2: PerformanceWarning: DataFrame is highly fragmented.  This is usually the result of calling `frame.insert` many times, which has poor performance.  Consider joining all columns at once using pd.concat(axis=1) instead. To get a de-fragmented frame, use `newframe = frame.copy()`\n",
      "  features_train_ohe[ohe.get_feature_names_out()] = ohe.transform(\n",
      "/var/folders/kr/l8l6g3315gj_6wm9tbxwybbh0000gn/T/ipykernel_2962/2713683421.py:2: PerformanceWarning: DataFrame is highly fragmented.  This is usually the result of calling `frame.insert` many times, which has poor performance.  Consider joining all columns at once using pd.concat(axis=1) instead. To get a de-fragmented frame, use `newframe = frame.copy()`\n",
      "  features_train_ohe[ohe.get_feature_names_out()] = ohe.transform(\n",
      "/var/folders/kr/l8l6g3315gj_6wm9tbxwybbh0000gn/T/ipykernel_2962/2713683421.py:2: PerformanceWarning: DataFrame is highly fragmented.  This is usually the result of calling `frame.insert` many times, which has poor performance.  Consider joining all columns at once using pd.concat(axis=1) instead. To get a de-fragmented frame, use `newframe = frame.copy()`\n",
      "  features_train_ohe[ohe.get_feature_names_out()] = ohe.transform(\n",
      "/var/folders/kr/l8l6g3315gj_6wm9tbxwybbh0000gn/T/ipykernel_2962/2713683421.py:2: PerformanceWarning: DataFrame is highly fragmented.  This is usually the result of calling `frame.insert` many times, which has poor performance.  Consider joining all columns at once using pd.concat(axis=1) instead. To get a de-fragmented frame, use `newframe = frame.copy()`\n",
      "  features_train_ohe[ohe.get_feature_names_out()] = ohe.transform(\n",
      "/var/folders/kr/l8l6g3315gj_6wm9tbxwybbh0000gn/T/ipykernel_2962/2713683421.py:2: PerformanceWarning: DataFrame is highly fragmented.  This is usually the result of calling `frame.insert` many times, which has poor performance.  Consider joining all columns at once using pd.concat(axis=1) instead. To get a de-fragmented frame, use `newframe = frame.copy()`\n",
      "  features_train_ohe[ohe.get_feature_names_out()] = ohe.transform(\n",
      "/var/folders/kr/l8l6g3315gj_6wm9tbxwybbh0000gn/T/ipykernel_2962/2713683421.py:2: PerformanceWarning: DataFrame is highly fragmented.  This is usually the result of calling `frame.insert` many times, which has poor performance.  Consider joining all columns at once using pd.concat(axis=1) instead. To get a de-fragmented frame, use `newframe = frame.copy()`\n",
      "  features_train_ohe[ohe.get_feature_names_out()] = ohe.transform(\n",
      "/var/folders/kr/l8l6g3315gj_6wm9tbxwybbh0000gn/T/ipykernel_2962/2713683421.py:2: PerformanceWarning: DataFrame is highly fragmented.  This is usually the result of calling `frame.insert` many times, which has poor performance.  Consider joining all columns at once using pd.concat(axis=1) instead. To get a de-fragmented frame, use `newframe = frame.copy()`\n",
      "  features_train_ohe[ohe.get_feature_names_out()] = ohe.transform(\n",
      "/var/folders/kr/l8l6g3315gj_6wm9tbxwybbh0000gn/T/ipykernel_2962/2713683421.py:2: PerformanceWarning: DataFrame is highly fragmented.  This is usually the result of calling `frame.insert` many times, which has poor performance.  Consider joining all columns at once using pd.concat(axis=1) instead. To get a de-fragmented frame, use `newframe = frame.copy()`\n",
      "  features_train_ohe[ohe.get_feature_names_out()] = ohe.transform(\n",
      "/var/folders/kr/l8l6g3315gj_6wm9tbxwybbh0000gn/T/ipykernel_2962/2713683421.py:2: PerformanceWarning: DataFrame is highly fragmented.  This is usually the result of calling `frame.insert` many times, which has poor performance.  Consider joining all columns at once using pd.concat(axis=1) instead. To get a de-fragmented frame, use `newframe = frame.copy()`\n",
      "  features_train_ohe[ohe.get_feature_names_out()] = ohe.transform(\n",
      "/var/folders/kr/l8l6g3315gj_6wm9tbxwybbh0000gn/T/ipykernel_2962/2713683421.py:2: PerformanceWarning: DataFrame is highly fragmented.  This is usually the result of calling `frame.insert` many times, which has poor performance.  Consider joining all columns at once using pd.concat(axis=1) instead. To get a de-fragmented frame, use `newframe = frame.copy()`\n",
      "  features_train_ohe[ohe.get_feature_names_out()] = ohe.transform(\n",
      "/var/folders/kr/l8l6g3315gj_6wm9tbxwybbh0000gn/T/ipykernel_2962/2713683421.py:2: PerformanceWarning: DataFrame is highly fragmented.  This is usually the result of calling `frame.insert` many times, which has poor performance.  Consider joining all columns at once using pd.concat(axis=1) instead. To get a de-fragmented frame, use `newframe = frame.copy()`\n",
      "  features_train_ohe[ohe.get_feature_names_out()] = ohe.transform(\n",
      "/var/folders/kr/l8l6g3315gj_6wm9tbxwybbh0000gn/T/ipykernel_2962/2713683421.py:6: PerformanceWarning: DataFrame is highly fragmented.  This is usually the result of calling `frame.insert` many times, which has poor performance.  Consider joining all columns at once using pd.concat(axis=1) instead. To get a de-fragmented frame, use `newframe = frame.copy()`\n",
      "  features_valid_ohe[ohe.get_feature_names_out()] = ohe.transform(\n",
      "/var/folders/kr/l8l6g3315gj_6wm9tbxwybbh0000gn/T/ipykernel_2962/2713683421.py:6: PerformanceWarning: DataFrame is highly fragmented.  This is usually the result of calling `frame.insert` many times, which has poor performance.  Consider joining all columns at once using pd.concat(axis=1) instead. To get a de-fragmented frame, use `newframe = frame.copy()`\n",
      "  features_valid_ohe[ohe.get_feature_names_out()] = ohe.transform(\n",
      "/var/folders/kr/l8l6g3315gj_6wm9tbxwybbh0000gn/T/ipykernel_2962/2713683421.py:6: PerformanceWarning: DataFrame is highly fragmented.  This is usually the result of calling `frame.insert` many times, which has poor performance.  Consider joining all columns at once using pd.concat(axis=1) instead. To get a de-fragmented frame, use `newframe = frame.copy()`\n",
      "  features_valid_ohe[ohe.get_feature_names_out()] = ohe.transform(\n",
      "/var/folders/kr/l8l6g3315gj_6wm9tbxwybbh0000gn/T/ipykernel_2962/2713683421.py:6: PerformanceWarning: DataFrame is highly fragmented.  This is usually the result of calling `frame.insert` many times, which has poor performance.  Consider joining all columns at once using pd.concat(axis=1) instead. To get a de-fragmented frame, use `newframe = frame.copy()`\n",
      "  features_valid_ohe[ohe.get_feature_names_out()] = ohe.transform(\n",
      "/var/folders/kr/l8l6g3315gj_6wm9tbxwybbh0000gn/T/ipykernel_2962/2713683421.py:6: PerformanceWarning: DataFrame is highly fragmented.  This is usually the result of calling `frame.insert` many times, which has poor performance.  Consider joining all columns at once using pd.concat(axis=1) instead. To get a de-fragmented frame, use `newframe = frame.copy()`\n",
      "  features_valid_ohe[ohe.get_feature_names_out()] = ohe.transform(\n",
      "/var/folders/kr/l8l6g3315gj_6wm9tbxwybbh0000gn/T/ipykernel_2962/2713683421.py:6: PerformanceWarning: DataFrame is highly fragmented.  This is usually the result of calling `frame.insert` many times, which has poor performance.  Consider joining all columns at once using pd.concat(axis=1) instead. To get a de-fragmented frame, use `newframe = frame.copy()`\n",
      "  features_valid_ohe[ohe.get_feature_names_out()] = ohe.transform(\n",
      "/var/folders/kr/l8l6g3315gj_6wm9tbxwybbh0000gn/T/ipykernel_2962/2713683421.py:6: PerformanceWarning: DataFrame is highly fragmented.  This is usually the result of calling `frame.insert` many times, which has poor performance.  Consider joining all columns at once using pd.concat(axis=1) instead. To get a de-fragmented frame, use `newframe = frame.copy()`\n",
      "  features_valid_ohe[ohe.get_feature_names_out()] = ohe.transform(\n",
      "/var/folders/kr/l8l6g3315gj_6wm9tbxwybbh0000gn/T/ipykernel_2962/2713683421.py:6: PerformanceWarning: DataFrame is highly fragmented.  This is usually the result of calling `frame.insert` many times, which has poor performance.  Consider joining all columns at once using pd.concat(axis=1) instead. To get a de-fragmented frame, use `newframe = frame.copy()`\n",
      "  features_valid_ohe[ohe.get_feature_names_out()] = ohe.transform(\n",
      "/var/folders/kr/l8l6g3315gj_6wm9tbxwybbh0000gn/T/ipykernel_2962/2713683421.py:6: PerformanceWarning: DataFrame is highly fragmented.  This is usually the result of calling `frame.insert` many times, which has poor performance.  Consider joining all columns at once using pd.concat(axis=1) instead. To get a de-fragmented frame, use `newframe = frame.copy()`\n",
      "  features_valid_ohe[ohe.get_feature_names_out()] = ohe.transform(\n",
      "/var/folders/kr/l8l6g3315gj_6wm9tbxwybbh0000gn/T/ipykernel_2962/2713683421.py:6: PerformanceWarning: DataFrame is highly fragmented.  This is usually the result of calling `frame.insert` many times, which has poor performance.  Consider joining all columns at once using pd.concat(axis=1) instead. To get a de-fragmented frame, use `newframe = frame.copy()`\n",
      "  features_valid_ohe[ohe.get_feature_names_out()] = ohe.transform(\n",
      "/var/folders/kr/l8l6g3315gj_6wm9tbxwybbh0000gn/T/ipykernel_2962/2713683421.py:6: PerformanceWarning: DataFrame is highly fragmented.  This is usually the result of calling `frame.insert` many times, which has poor performance.  Consider joining all columns at once using pd.concat(axis=1) instead. To get a de-fragmented frame, use `newframe = frame.copy()`\n",
      "  features_valid_ohe[ohe.get_feature_names_out()] = ohe.transform(\n",
      "/var/folders/kr/l8l6g3315gj_6wm9tbxwybbh0000gn/T/ipykernel_2962/2713683421.py:6: PerformanceWarning: DataFrame is highly fragmented.  This is usually the result of calling `frame.insert` many times, which has poor performance.  Consider joining all columns at once using pd.concat(axis=1) instead. To get a de-fragmented frame, use `newframe = frame.copy()`\n",
      "  features_valid_ohe[ohe.get_feature_names_out()] = ohe.transform(\n",
      "/var/folders/kr/l8l6g3315gj_6wm9tbxwybbh0000gn/T/ipykernel_2962/2713683421.py:6: PerformanceWarning: DataFrame is highly fragmented.  This is usually the result of calling `frame.insert` many times, which has poor performance.  Consider joining all columns at once using pd.concat(axis=1) instead. To get a de-fragmented frame, use `newframe = frame.copy()`\n",
      "  features_valid_ohe[ohe.get_feature_names_out()] = ohe.transform(\n",
      "/var/folders/kr/l8l6g3315gj_6wm9tbxwybbh0000gn/T/ipykernel_2962/2713683421.py:6: PerformanceWarning: DataFrame is highly fragmented.  This is usually the result of calling `frame.insert` many times, which has poor performance.  Consider joining all columns at once using pd.concat(axis=1) instead. To get a de-fragmented frame, use `newframe = frame.copy()`\n",
      "  features_valid_ohe[ohe.get_feature_names_out()] = ohe.transform(\n",
      "/var/folders/kr/l8l6g3315gj_6wm9tbxwybbh0000gn/T/ipykernel_2962/2713683421.py:6: PerformanceWarning: DataFrame is highly fragmented.  This is usually the result of calling `frame.insert` many times, which has poor performance.  Consider joining all columns at once using pd.concat(axis=1) instead. To get a de-fragmented frame, use `newframe = frame.copy()`\n",
      "  features_valid_ohe[ohe.get_feature_names_out()] = ohe.transform(\n",
      "/var/folders/kr/l8l6g3315gj_6wm9tbxwybbh0000gn/T/ipykernel_2962/2713683421.py:6: PerformanceWarning: DataFrame is highly fragmented.  This is usually the result of calling `frame.insert` many times, which has poor performance.  Consider joining all columns at once using pd.concat(axis=1) instead. To get a de-fragmented frame, use `newframe = frame.copy()`\n",
      "  features_valid_ohe[ohe.get_feature_names_out()] = ohe.transform(\n",
      "/var/folders/kr/l8l6g3315gj_6wm9tbxwybbh0000gn/T/ipykernel_2962/2713683421.py:6: PerformanceWarning: DataFrame is highly fragmented.  This is usually the result of calling `frame.insert` many times, which has poor performance.  Consider joining all columns at once using pd.concat(axis=1) instead. To get a de-fragmented frame, use `newframe = frame.copy()`\n",
      "  features_valid_ohe[ohe.get_feature_names_out()] = ohe.transform(\n",
      "/var/folders/kr/l8l6g3315gj_6wm9tbxwybbh0000gn/T/ipykernel_2962/2713683421.py:6: PerformanceWarning: DataFrame is highly fragmented.  This is usually the result of calling `frame.insert` many times, which has poor performance.  Consider joining all columns at once using pd.concat(axis=1) instead. To get a de-fragmented frame, use `newframe = frame.copy()`\n",
      "  features_valid_ohe[ohe.get_feature_names_out()] = ohe.transform(\n",
      "/var/folders/kr/l8l6g3315gj_6wm9tbxwybbh0000gn/T/ipykernel_2962/2713683421.py:6: PerformanceWarning: DataFrame is highly fragmented.  This is usually the result of calling `frame.insert` many times, which has poor performance.  Consider joining all columns at once using pd.concat(axis=1) instead. To get a de-fragmented frame, use `newframe = frame.copy()`\n",
      "  features_valid_ohe[ohe.get_feature_names_out()] = ohe.transform(\n",
      "/var/folders/kr/l8l6g3315gj_6wm9tbxwybbh0000gn/T/ipykernel_2962/2713683421.py:6: PerformanceWarning: DataFrame is highly fragmented.  This is usually the result of calling `frame.insert` many times, which has poor performance.  Consider joining all columns at once using pd.concat(axis=1) instead. To get a de-fragmented frame, use `newframe = frame.copy()`\n",
      "  features_valid_ohe[ohe.get_feature_names_out()] = ohe.transform(\n",
      "/var/folders/kr/l8l6g3315gj_6wm9tbxwybbh0000gn/T/ipykernel_2962/2713683421.py:6: PerformanceWarning: DataFrame is highly fragmented.  This is usually the result of calling `frame.insert` many times, which has poor performance.  Consider joining all columns at once using pd.concat(axis=1) instead. To get a de-fragmented frame, use `newframe = frame.copy()`\n",
      "  features_valid_ohe[ohe.get_feature_names_out()] = ohe.transform(\n",
      "/var/folders/kr/l8l6g3315gj_6wm9tbxwybbh0000gn/T/ipykernel_2962/2713683421.py:6: PerformanceWarning: DataFrame is highly fragmented.  This is usually the result of calling `frame.insert` many times, which has poor performance.  Consider joining all columns at once using pd.concat(axis=1) instead. To get a de-fragmented frame, use `newframe = frame.copy()`\n",
      "  features_valid_ohe[ohe.get_feature_names_out()] = ohe.transform(\n",
      "/var/folders/kr/l8l6g3315gj_6wm9tbxwybbh0000gn/T/ipykernel_2962/2713683421.py:6: PerformanceWarning: DataFrame is highly fragmented.  This is usually the result of calling `frame.insert` many times, which has poor performance.  Consider joining all columns at once using pd.concat(axis=1) instead. To get a de-fragmented frame, use `newframe = frame.copy()`\n",
      "  features_valid_ohe[ohe.get_feature_names_out()] = ohe.transform(\n",
      "/var/folders/kr/l8l6g3315gj_6wm9tbxwybbh0000gn/T/ipykernel_2962/2713683421.py:6: PerformanceWarning: DataFrame is highly fragmented.  This is usually the result of calling `frame.insert` many times, which has poor performance.  Consider joining all columns at once using pd.concat(axis=1) instead. To get a de-fragmented frame, use `newframe = frame.copy()`\n",
      "  features_valid_ohe[ohe.get_feature_names_out()] = ohe.transform(\n",
      "/var/folders/kr/l8l6g3315gj_6wm9tbxwybbh0000gn/T/ipykernel_2962/2713683421.py:6: PerformanceWarning: DataFrame is highly fragmented.  This is usually the result of calling `frame.insert` many times, which has poor performance.  Consider joining all columns at once using pd.concat(axis=1) instead. To get a de-fragmented frame, use `newframe = frame.copy()`\n",
      "  features_valid_ohe[ohe.get_feature_names_out()] = ohe.transform(\n",
      "/var/folders/kr/l8l6g3315gj_6wm9tbxwybbh0000gn/T/ipykernel_2962/2713683421.py:6: PerformanceWarning: DataFrame is highly fragmented.  This is usually the result of calling `frame.insert` many times, which has poor performance.  Consider joining all columns at once using pd.concat(axis=1) instead. To get a de-fragmented frame, use `newframe = frame.copy()`\n",
      "  features_valid_ohe[ohe.get_feature_names_out()] = ohe.transform(\n",
      "/var/folders/kr/l8l6g3315gj_6wm9tbxwybbh0000gn/T/ipykernel_2962/2713683421.py:6: PerformanceWarning: DataFrame is highly fragmented.  This is usually the result of calling `frame.insert` many times, which has poor performance.  Consider joining all columns at once using pd.concat(axis=1) instead. To get a de-fragmented frame, use `newframe = frame.copy()`\n",
      "  features_valid_ohe[ohe.get_feature_names_out()] = ohe.transform(\n",
      "/var/folders/kr/l8l6g3315gj_6wm9tbxwybbh0000gn/T/ipykernel_2962/2713683421.py:6: PerformanceWarning: DataFrame is highly fragmented.  This is usually the result of calling `frame.insert` many times, which has poor performance.  Consider joining all columns at once using pd.concat(axis=1) instead. To get a de-fragmented frame, use `newframe = frame.copy()`\n",
      "  features_valid_ohe[ohe.get_feature_names_out()] = ohe.transform(\n",
      "/var/folders/kr/l8l6g3315gj_6wm9tbxwybbh0000gn/T/ipykernel_2962/2713683421.py:6: PerformanceWarning: DataFrame is highly fragmented.  This is usually the result of calling `frame.insert` many times, which has poor performance.  Consider joining all columns at once using pd.concat(axis=1) instead. To get a de-fragmented frame, use `newframe = frame.copy()`\n",
      "  features_valid_ohe[ohe.get_feature_names_out()] = ohe.transform(\n",
      "/var/folders/kr/l8l6g3315gj_6wm9tbxwybbh0000gn/T/ipykernel_2962/2713683421.py:6: PerformanceWarning: DataFrame is highly fragmented.  This is usually the result of calling `frame.insert` many times, which has poor performance.  Consider joining all columns at once using pd.concat(axis=1) instead. To get a de-fragmented frame, use `newframe = frame.copy()`\n",
      "  features_valid_ohe[ohe.get_feature_names_out()] = ohe.transform(\n",
      "/var/folders/kr/l8l6g3315gj_6wm9tbxwybbh0000gn/T/ipykernel_2962/2713683421.py:6: PerformanceWarning: DataFrame is highly fragmented.  This is usually the result of calling `frame.insert` many times, which has poor performance.  Consider joining all columns at once using pd.concat(axis=1) instead. To get a de-fragmented frame, use `newframe = frame.copy()`\n",
      "  features_valid_ohe[ohe.get_feature_names_out()] = ohe.transform(\n",
      "/var/folders/kr/l8l6g3315gj_6wm9tbxwybbh0000gn/T/ipykernel_2962/2713683421.py:6: PerformanceWarning: DataFrame is highly fragmented.  This is usually the result of calling `frame.insert` many times, which has poor performance.  Consider joining all columns at once using pd.concat(axis=1) instead. To get a de-fragmented frame, use `newframe = frame.copy()`\n",
      "  features_valid_ohe[ohe.get_feature_names_out()] = ohe.transform(\n",
      "/var/folders/kr/l8l6g3315gj_6wm9tbxwybbh0000gn/T/ipykernel_2962/2713683421.py:6: PerformanceWarning: DataFrame is highly fragmented.  This is usually the result of calling `frame.insert` many times, which has poor performance.  Consider joining all columns at once using pd.concat(axis=1) instead. To get a de-fragmented frame, use `newframe = frame.copy()`\n",
      "  features_valid_ohe[ohe.get_feature_names_out()] = ohe.transform(\n",
      "/var/folders/kr/l8l6g3315gj_6wm9tbxwybbh0000gn/T/ipykernel_2962/2713683421.py:6: PerformanceWarning: DataFrame is highly fragmented.  This is usually the result of calling `frame.insert` many times, which has poor performance.  Consider joining all columns at once using pd.concat(axis=1) instead. To get a de-fragmented frame, use `newframe = frame.copy()`\n",
      "  features_valid_ohe[ohe.get_feature_names_out()] = ohe.transform(\n",
      "/var/folders/kr/l8l6g3315gj_6wm9tbxwybbh0000gn/T/ipykernel_2962/2713683421.py:6: PerformanceWarning: DataFrame is highly fragmented.  This is usually the result of calling `frame.insert` many times, which has poor performance.  Consider joining all columns at once using pd.concat(axis=1) instead. To get a de-fragmented frame, use `newframe = frame.copy()`\n",
      "  features_valid_ohe[ohe.get_feature_names_out()] = ohe.transform(\n",
      "/var/folders/kr/l8l6g3315gj_6wm9tbxwybbh0000gn/T/ipykernel_2962/2713683421.py:6: PerformanceWarning: DataFrame is highly fragmented.  This is usually the result of calling `frame.insert` many times, which has poor performance.  Consider joining all columns at once using pd.concat(axis=1) instead. To get a de-fragmented frame, use `newframe = frame.copy()`\n",
      "  features_valid_ohe[ohe.get_feature_names_out()] = ohe.transform(\n",
      "/var/folders/kr/l8l6g3315gj_6wm9tbxwybbh0000gn/T/ipykernel_2962/2713683421.py:6: PerformanceWarning: DataFrame is highly fragmented.  This is usually the result of calling `frame.insert` many times, which has poor performance.  Consider joining all columns at once using pd.concat(axis=1) instead. To get a de-fragmented frame, use `newframe = frame.copy()`\n",
      "  features_valid_ohe[ohe.get_feature_names_out()] = ohe.transform(\n",
      "/var/folders/kr/l8l6g3315gj_6wm9tbxwybbh0000gn/T/ipykernel_2962/2713683421.py:6: PerformanceWarning: DataFrame is highly fragmented.  This is usually the result of calling `frame.insert` many times, which has poor performance.  Consider joining all columns at once using pd.concat(axis=1) instead. To get a de-fragmented frame, use `newframe = frame.copy()`\n",
      "  features_valid_ohe[ohe.get_feature_names_out()] = ohe.transform(\n",
      "/var/folders/kr/l8l6g3315gj_6wm9tbxwybbh0000gn/T/ipykernel_2962/2713683421.py:6: PerformanceWarning: DataFrame is highly fragmented.  This is usually the result of calling `frame.insert` many times, which has poor performance.  Consider joining all columns at once using pd.concat(axis=1) instead. To get a de-fragmented frame, use `newframe = frame.copy()`\n",
      "  features_valid_ohe[ohe.get_feature_names_out()] = ohe.transform(\n",
      "/var/folders/kr/l8l6g3315gj_6wm9tbxwybbh0000gn/T/ipykernel_2962/2713683421.py:6: PerformanceWarning: DataFrame is highly fragmented.  This is usually the result of calling `frame.insert` many times, which has poor performance.  Consider joining all columns at once using pd.concat(axis=1) instead. To get a de-fragmented frame, use `newframe = frame.copy()`\n",
      "  features_valid_ohe[ohe.get_feature_names_out()] = ohe.transform(\n",
      "/var/folders/kr/l8l6g3315gj_6wm9tbxwybbh0000gn/T/ipykernel_2962/2713683421.py:6: PerformanceWarning: DataFrame is highly fragmented.  This is usually the result of calling `frame.insert` many times, which has poor performance.  Consider joining all columns at once using pd.concat(axis=1) instead. To get a de-fragmented frame, use `newframe = frame.copy()`\n",
      "  features_valid_ohe[ohe.get_feature_names_out()] = ohe.transform(\n",
      "/var/folders/kr/l8l6g3315gj_6wm9tbxwybbh0000gn/T/ipykernel_2962/2713683421.py:6: PerformanceWarning: DataFrame is highly fragmented.  This is usually the result of calling `frame.insert` many times, which has poor performance.  Consider joining all columns at once using pd.concat(axis=1) instead. To get a de-fragmented frame, use `newframe = frame.copy()`\n",
      "  features_valid_ohe[ohe.get_feature_names_out()] = ohe.transform(\n",
      "/var/folders/kr/l8l6g3315gj_6wm9tbxwybbh0000gn/T/ipykernel_2962/2713683421.py:6: PerformanceWarning: DataFrame is highly fragmented.  This is usually the result of calling `frame.insert` many times, which has poor performance.  Consider joining all columns at once using pd.concat(axis=1) instead. To get a de-fragmented frame, use `newframe = frame.copy()`\n",
      "  features_valid_ohe[ohe.get_feature_names_out()] = ohe.transform(\n",
      "/var/folders/kr/l8l6g3315gj_6wm9tbxwybbh0000gn/T/ipykernel_2962/2713683421.py:6: PerformanceWarning: DataFrame is highly fragmented.  This is usually the result of calling `frame.insert` many times, which has poor performance.  Consider joining all columns at once using pd.concat(axis=1) instead. To get a de-fragmented frame, use `newframe = frame.copy()`\n",
      "  features_valid_ohe[ohe.get_feature_names_out()] = ohe.transform(\n",
      "/var/folders/kr/l8l6g3315gj_6wm9tbxwybbh0000gn/T/ipykernel_2962/2713683421.py:6: PerformanceWarning: DataFrame is highly fragmented.  This is usually the result of calling `frame.insert` many times, which has poor performance.  Consider joining all columns at once using pd.concat(axis=1) instead. To get a de-fragmented frame, use `newframe = frame.copy()`\n",
      "  features_valid_ohe[ohe.get_feature_names_out()] = ohe.transform(\n",
      "/var/folders/kr/l8l6g3315gj_6wm9tbxwybbh0000gn/T/ipykernel_2962/2713683421.py:6: PerformanceWarning: DataFrame is highly fragmented.  This is usually the result of calling `frame.insert` many times, which has poor performance.  Consider joining all columns at once using pd.concat(axis=1) instead. To get a de-fragmented frame, use `newframe = frame.copy()`\n",
      "  features_valid_ohe[ohe.get_feature_names_out()] = ohe.transform(\n",
      "/var/folders/kr/l8l6g3315gj_6wm9tbxwybbh0000gn/T/ipykernel_2962/2713683421.py:6: PerformanceWarning: DataFrame is highly fragmented.  This is usually the result of calling `frame.insert` many times, which has poor performance.  Consider joining all columns at once using pd.concat(axis=1) instead. To get a de-fragmented frame, use `newframe = frame.copy()`\n",
      "  features_valid_ohe[ohe.get_feature_names_out()] = ohe.transform(\n",
      "/var/folders/kr/l8l6g3315gj_6wm9tbxwybbh0000gn/T/ipykernel_2962/2713683421.py:6: PerformanceWarning: DataFrame is highly fragmented.  This is usually the result of calling `frame.insert` many times, which has poor performance.  Consider joining all columns at once using pd.concat(axis=1) instead. To get a de-fragmented frame, use `newframe = frame.copy()`\n",
      "  features_valid_ohe[ohe.get_feature_names_out()] = ohe.transform(\n",
      "/var/folders/kr/l8l6g3315gj_6wm9tbxwybbh0000gn/T/ipykernel_2962/2713683421.py:6: PerformanceWarning: DataFrame is highly fragmented.  This is usually the result of calling `frame.insert` many times, which has poor performance.  Consider joining all columns at once using pd.concat(axis=1) instead. To get a de-fragmented frame, use `newframe = frame.copy()`\n",
      "  features_valid_ohe[ohe.get_feature_names_out()] = ohe.transform(\n",
      "/var/folders/kr/l8l6g3315gj_6wm9tbxwybbh0000gn/T/ipykernel_2962/2713683421.py:6: PerformanceWarning: DataFrame is highly fragmented.  This is usually the result of calling `frame.insert` many times, which has poor performance.  Consider joining all columns at once using pd.concat(axis=1) instead. To get a de-fragmented frame, use `newframe = frame.copy()`\n",
      "  features_valid_ohe[ohe.get_feature_names_out()] = ohe.transform(\n",
      "/var/folders/kr/l8l6g3315gj_6wm9tbxwybbh0000gn/T/ipykernel_2962/2713683421.py:6: PerformanceWarning: DataFrame is highly fragmented.  This is usually the result of calling `frame.insert` many times, which has poor performance.  Consider joining all columns at once using pd.concat(axis=1) instead. To get a de-fragmented frame, use `newframe = frame.copy()`\n",
      "  features_valid_ohe[ohe.get_feature_names_out()] = ohe.transform(\n",
      "/var/folders/kr/l8l6g3315gj_6wm9tbxwybbh0000gn/T/ipykernel_2962/2713683421.py:6: PerformanceWarning: DataFrame is highly fragmented.  This is usually the result of calling `frame.insert` many times, which has poor performance.  Consider joining all columns at once using pd.concat(axis=1) instead. To get a de-fragmented frame, use `newframe = frame.copy()`\n",
      "  features_valid_ohe[ohe.get_feature_names_out()] = ohe.transform(\n",
      "/var/folders/kr/l8l6g3315gj_6wm9tbxwybbh0000gn/T/ipykernel_2962/2713683421.py:6: PerformanceWarning: DataFrame is highly fragmented.  This is usually the result of calling `frame.insert` many times, which has poor performance.  Consider joining all columns at once using pd.concat(axis=1) instead. To get a de-fragmented frame, use `newframe = frame.copy()`\n",
      "  features_valid_ohe[ohe.get_feature_names_out()] = ohe.transform(\n",
      "/var/folders/kr/l8l6g3315gj_6wm9tbxwybbh0000gn/T/ipykernel_2962/2713683421.py:6: PerformanceWarning: DataFrame is highly fragmented.  This is usually the result of calling `frame.insert` many times, which has poor performance.  Consider joining all columns at once using pd.concat(axis=1) instead. To get a de-fragmented frame, use `newframe = frame.copy()`\n",
      "  features_valid_ohe[ohe.get_feature_names_out()] = ohe.transform(\n",
      "/var/folders/kr/l8l6g3315gj_6wm9tbxwybbh0000gn/T/ipykernel_2962/2713683421.py:6: PerformanceWarning: DataFrame is highly fragmented.  This is usually the result of calling `frame.insert` many times, which has poor performance.  Consider joining all columns at once using pd.concat(axis=1) instead. To get a de-fragmented frame, use `newframe = frame.copy()`\n",
      "  features_valid_ohe[ohe.get_feature_names_out()] = ohe.transform(\n",
      "/var/folders/kr/l8l6g3315gj_6wm9tbxwybbh0000gn/T/ipykernel_2962/2713683421.py:6: PerformanceWarning: DataFrame is highly fragmented.  This is usually the result of calling `frame.insert` many times, which has poor performance.  Consider joining all columns at once using pd.concat(axis=1) instead. To get a de-fragmented frame, use `newframe = frame.copy()`\n",
      "  features_valid_ohe[ohe.get_feature_names_out()] = ohe.transform(\n",
      "/var/folders/kr/l8l6g3315gj_6wm9tbxwybbh0000gn/T/ipykernel_2962/2713683421.py:6: PerformanceWarning: DataFrame is highly fragmented.  This is usually the result of calling `frame.insert` many times, which has poor performance.  Consider joining all columns at once using pd.concat(axis=1) instead. To get a de-fragmented frame, use `newframe = frame.copy()`\n",
      "  features_valid_ohe[ohe.get_feature_names_out()] = ohe.transform(\n",
      "/var/folders/kr/l8l6g3315gj_6wm9tbxwybbh0000gn/T/ipykernel_2962/2713683421.py:6: PerformanceWarning: DataFrame is highly fragmented.  This is usually the result of calling `frame.insert` many times, which has poor performance.  Consider joining all columns at once using pd.concat(axis=1) instead. To get a de-fragmented frame, use `newframe = frame.copy()`\n",
      "  features_valid_ohe[ohe.get_feature_names_out()] = ohe.transform(\n",
      "/var/folders/kr/l8l6g3315gj_6wm9tbxwybbh0000gn/T/ipykernel_2962/2713683421.py:6: PerformanceWarning: DataFrame is highly fragmented.  This is usually the result of calling `frame.insert` many times, which has poor performance.  Consider joining all columns at once using pd.concat(axis=1) instead. To get a de-fragmented frame, use `newframe = frame.copy()`\n",
      "  features_valid_ohe[ohe.get_feature_names_out()] = ohe.transform(\n",
      "/var/folders/kr/l8l6g3315gj_6wm9tbxwybbh0000gn/T/ipykernel_2962/2713683421.py:6: PerformanceWarning: DataFrame is highly fragmented.  This is usually the result of calling `frame.insert` many times, which has poor performance.  Consider joining all columns at once using pd.concat(axis=1) instead. To get a de-fragmented frame, use `newframe = frame.copy()`\n",
      "  features_valid_ohe[ohe.get_feature_names_out()] = ohe.transform(\n",
      "/var/folders/kr/l8l6g3315gj_6wm9tbxwybbh0000gn/T/ipykernel_2962/2713683421.py:6: PerformanceWarning: DataFrame is highly fragmented.  This is usually the result of calling `frame.insert` many times, which has poor performance.  Consider joining all columns at once using pd.concat(axis=1) instead. To get a de-fragmented frame, use `newframe = frame.copy()`\n",
      "  features_valid_ohe[ohe.get_feature_names_out()] = ohe.transform(\n",
      "/var/folders/kr/l8l6g3315gj_6wm9tbxwybbh0000gn/T/ipykernel_2962/2713683421.py:6: PerformanceWarning: DataFrame is highly fragmented.  This is usually the result of calling `frame.insert` many times, which has poor performance.  Consider joining all columns at once using pd.concat(axis=1) instead. To get a de-fragmented frame, use `newframe = frame.copy()`\n",
      "  features_valid_ohe[ohe.get_feature_names_out()] = ohe.transform(\n",
      "/var/folders/kr/l8l6g3315gj_6wm9tbxwybbh0000gn/T/ipykernel_2962/2713683421.py:6: PerformanceWarning: DataFrame is highly fragmented.  This is usually the result of calling `frame.insert` many times, which has poor performance.  Consider joining all columns at once using pd.concat(axis=1) instead. To get a de-fragmented frame, use `newframe = frame.copy()`\n",
      "  features_valid_ohe[ohe.get_feature_names_out()] = ohe.transform(\n",
      "/var/folders/kr/l8l6g3315gj_6wm9tbxwybbh0000gn/T/ipykernel_2962/2713683421.py:6: PerformanceWarning: DataFrame is highly fragmented.  This is usually the result of calling `frame.insert` many times, which has poor performance.  Consider joining all columns at once using pd.concat(axis=1) instead. To get a de-fragmented frame, use `newframe = frame.copy()`\n",
      "  features_valid_ohe[ohe.get_feature_names_out()] = ohe.transform(\n",
      "/var/folders/kr/l8l6g3315gj_6wm9tbxwybbh0000gn/T/ipykernel_2962/2713683421.py:6: PerformanceWarning: DataFrame is highly fragmented.  This is usually the result of calling `frame.insert` many times, which has poor performance.  Consider joining all columns at once using pd.concat(axis=1) instead. To get a de-fragmented frame, use `newframe = frame.copy()`\n",
      "  features_valid_ohe[ohe.get_feature_names_out()] = ohe.transform(\n",
      "/var/folders/kr/l8l6g3315gj_6wm9tbxwybbh0000gn/T/ipykernel_2962/2713683421.py:6: PerformanceWarning: DataFrame is highly fragmented.  This is usually the result of calling `frame.insert` many times, which has poor performance.  Consider joining all columns at once using pd.concat(axis=1) instead. To get a de-fragmented frame, use `newframe = frame.copy()`\n",
      "  features_valid_ohe[ohe.get_feature_names_out()] = ohe.transform(\n",
      "/var/folders/kr/l8l6g3315gj_6wm9tbxwybbh0000gn/T/ipykernel_2962/2713683421.py:6: PerformanceWarning: DataFrame is highly fragmented.  This is usually the result of calling `frame.insert` many times, which has poor performance.  Consider joining all columns at once using pd.concat(axis=1) instead. To get a de-fragmented frame, use `newframe = frame.copy()`\n",
      "  features_valid_ohe[ohe.get_feature_names_out()] = ohe.transform(\n",
      "/var/folders/kr/l8l6g3315gj_6wm9tbxwybbh0000gn/T/ipykernel_2962/2713683421.py:6: PerformanceWarning: DataFrame is highly fragmented.  This is usually the result of calling `frame.insert` many times, which has poor performance.  Consider joining all columns at once using pd.concat(axis=1) instead. To get a de-fragmented frame, use `newframe = frame.copy()`\n",
      "  features_valid_ohe[ohe.get_feature_names_out()] = ohe.transform(\n",
      "/var/folders/kr/l8l6g3315gj_6wm9tbxwybbh0000gn/T/ipykernel_2962/2713683421.py:6: PerformanceWarning: DataFrame is highly fragmented.  This is usually the result of calling `frame.insert` many times, which has poor performance.  Consider joining all columns at once using pd.concat(axis=1) instead. To get a de-fragmented frame, use `newframe = frame.copy()`\n",
      "  features_valid_ohe[ohe.get_feature_names_out()] = ohe.transform(\n",
      "/var/folders/kr/l8l6g3315gj_6wm9tbxwybbh0000gn/T/ipykernel_2962/2713683421.py:6: PerformanceWarning: DataFrame is highly fragmented.  This is usually the result of calling `frame.insert` many times, which has poor performance.  Consider joining all columns at once using pd.concat(axis=1) instead. To get a de-fragmented frame, use `newframe = frame.copy()`\n",
      "  features_valid_ohe[ohe.get_feature_names_out()] = ohe.transform(\n",
      "/var/folders/kr/l8l6g3315gj_6wm9tbxwybbh0000gn/T/ipykernel_2962/2713683421.py:6: PerformanceWarning: DataFrame is highly fragmented.  This is usually the result of calling `frame.insert` many times, which has poor performance.  Consider joining all columns at once using pd.concat(axis=1) instead. To get a de-fragmented frame, use `newframe = frame.copy()`\n",
      "  features_valid_ohe[ohe.get_feature_names_out()] = ohe.transform(\n",
      "/var/folders/kr/l8l6g3315gj_6wm9tbxwybbh0000gn/T/ipykernel_2962/2713683421.py:6: PerformanceWarning: DataFrame is highly fragmented.  This is usually the result of calling `frame.insert` many times, which has poor performance.  Consider joining all columns at once using pd.concat(axis=1) instead. To get a de-fragmented frame, use `newframe = frame.copy()`\n",
      "  features_valid_ohe[ohe.get_feature_names_out()] = ohe.transform(\n",
      "/var/folders/kr/l8l6g3315gj_6wm9tbxwybbh0000gn/T/ipykernel_2962/2713683421.py:6: PerformanceWarning: DataFrame is highly fragmented.  This is usually the result of calling `frame.insert` many times, which has poor performance.  Consider joining all columns at once using pd.concat(axis=1) instead. To get a de-fragmented frame, use `newframe = frame.copy()`\n",
      "  features_valid_ohe[ohe.get_feature_names_out()] = ohe.transform(\n",
      "/var/folders/kr/l8l6g3315gj_6wm9tbxwybbh0000gn/T/ipykernel_2962/2713683421.py:6: PerformanceWarning: DataFrame is highly fragmented.  This is usually the result of calling `frame.insert` many times, which has poor performance.  Consider joining all columns at once using pd.concat(axis=1) instead. To get a de-fragmented frame, use `newframe = frame.copy()`\n",
      "  features_valid_ohe[ohe.get_feature_names_out()] = ohe.transform(\n",
      "/var/folders/kr/l8l6g3315gj_6wm9tbxwybbh0000gn/T/ipykernel_2962/2713683421.py:6: PerformanceWarning: DataFrame is highly fragmented.  This is usually the result of calling `frame.insert` many times, which has poor performance.  Consider joining all columns at once using pd.concat(axis=1) instead. To get a de-fragmented frame, use `newframe = frame.copy()`\n",
      "  features_valid_ohe[ohe.get_feature_names_out()] = ohe.transform(\n",
      "/var/folders/kr/l8l6g3315gj_6wm9tbxwybbh0000gn/T/ipykernel_2962/2713683421.py:6: PerformanceWarning: DataFrame is highly fragmented.  This is usually the result of calling `frame.insert` many times, which has poor performance.  Consider joining all columns at once using pd.concat(axis=1) instead. To get a de-fragmented frame, use `newframe = frame.copy()`\n",
      "  features_valid_ohe[ohe.get_feature_names_out()] = ohe.transform(\n",
      "/var/folders/kr/l8l6g3315gj_6wm9tbxwybbh0000gn/T/ipykernel_2962/2713683421.py:6: PerformanceWarning: DataFrame is highly fragmented.  This is usually the result of calling `frame.insert` many times, which has poor performance.  Consider joining all columns at once using pd.concat(axis=1) instead. To get a de-fragmented frame, use `newframe = frame.copy()`\n",
      "  features_valid_ohe[ohe.get_feature_names_out()] = ohe.transform(\n",
      "/var/folders/kr/l8l6g3315gj_6wm9tbxwybbh0000gn/T/ipykernel_2962/2713683421.py:6: PerformanceWarning: DataFrame is highly fragmented.  This is usually the result of calling `frame.insert` many times, which has poor performance.  Consider joining all columns at once using pd.concat(axis=1) instead. To get a de-fragmented frame, use `newframe = frame.copy()`\n",
      "  features_valid_ohe[ohe.get_feature_names_out()] = ohe.transform(\n",
      "/var/folders/kr/l8l6g3315gj_6wm9tbxwybbh0000gn/T/ipykernel_2962/2713683421.py:6: PerformanceWarning: DataFrame is highly fragmented.  This is usually the result of calling `frame.insert` many times, which has poor performance.  Consider joining all columns at once using pd.concat(axis=1) instead. To get a de-fragmented frame, use `newframe = frame.copy()`\n",
      "  features_valid_ohe[ohe.get_feature_names_out()] = ohe.transform(\n",
      "/var/folders/kr/l8l6g3315gj_6wm9tbxwybbh0000gn/T/ipykernel_2962/2713683421.py:6: PerformanceWarning: DataFrame is highly fragmented.  This is usually the result of calling `frame.insert` many times, which has poor performance.  Consider joining all columns at once using pd.concat(axis=1) instead. To get a de-fragmented frame, use `newframe = frame.copy()`\n",
      "  features_valid_ohe[ohe.get_feature_names_out()] = ohe.transform(\n",
      "/var/folders/kr/l8l6g3315gj_6wm9tbxwybbh0000gn/T/ipykernel_2962/2713683421.py:6: PerformanceWarning: DataFrame is highly fragmented.  This is usually the result of calling `frame.insert` many times, which has poor performance.  Consider joining all columns at once using pd.concat(axis=1) instead. To get a de-fragmented frame, use `newframe = frame.copy()`\n",
      "  features_valid_ohe[ohe.get_feature_names_out()] = ohe.transform(\n",
      "/var/folders/kr/l8l6g3315gj_6wm9tbxwybbh0000gn/T/ipykernel_2962/2713683421.py:6: PerformanceWarning: DataFrame is highly fragmented.  This is usually the result of calling `frame.insert` many times, which has poor performance.  Consider joining all columns at once using pd.concat(axis=1) instead. To get a de-fragmented frame, use `newframe = frame.copy()`\n",
      "  features_valid_ohe[ohe.get_feature_names_out()] = ohe.transform(\n",
      "/var/folders/kr/l8l6g3315gj_6wm9tbxwybbh0000gn/T/ipykernel_2962/2713683421.py:6: PerformanceWarning: DataFrame is highly fragmented.  This is usually the result of calling `frame.insert` many times, which has poor performance.  Consider joining all columns at once using pd.concat(axis=1) instead. To get a de-fragmented frame, use `newframe = frame.copy()`\n",
      "  features_valid_ohe[ohe.get_feature_names_out()] = ohe.transform(\n",
      "/var/folders/kr/l8l6g3315gj_6wm9tbxwybbh0000gn/T/ipykernel_2962/2713683421.py:6: PerformanceWarning: DataFrame is highly fragmented.  This is usually the result of calling `frame.insert` many times, which has poor performance.  Consider joining all columns at once using pd.concat(axis=1) instead. To get a de-fragmented frame, use `newframe = frame.copy()`\n",
      "  features_valid_ohe[ohe.get_feature_names_out()] = ohe.transform(\n",
      "/var/folders/kr/l8l6g3315gj_6wm9tbxwybbh0000gn/T/ipykernel_2962/2713683421.py:6: PerformanceWarning: DataFrame is highly fragmented.  This is usually the result of calling `frame.insert` many times, which has poor performance.  Consider joining all columns at once using pd.concat(axis=1) instead. To get a de-fragmented frame, use `newframe = frame.copy()`\n",
      "  features_valid_ohe[ohe.get_feature_names_out()] = ohe.transform(\n",
      "/var/folders/kr/l8l6g3315gj_6wm9tbxwybbh0000gn/T/ipykernel_2962/2713683421.py:6: PerformanceWarning: DataFrame is highly fragmented.  This is usually the result of calling `frame.insert` many times, which has poor performance.  Consider joining all columns at once using pd.concat(axis=1) instead. To get a de-fragmented frame, use `newframe = frame.copy()`\n",
      "  features_valid_ohe[ohe.get_feature_names_out()] = ohe.transform(\n",
      "/var/folders/kr/l8l6g3315gj_6wm9tbxwybbh0000gn/T/ipykernel_2962/2713683421.py:6: PerformanceWarning: DataFrame is highly fragmented.  This is usually the result of calling `frame.insert` many times, which has poor performance.  Consider joining all columns at once using pd.concat(axis=1) instead. To get a de-fragmented frame, use `newframe = frame.copy()`\n",
      "  features_valid_ohe[ohe.get_feature_names_out()] = ohe.transform(\n",
      "/var/folders/kr/l8l6g3315gj_6wm9tbxwybbh0000gn/T/ipykernel_2962/2713683421.py:6: PerformanceWarning: DataFrame is highly fragmented.  This is usually the result of calling `frame.insert` many times, which has poor performance.  Consider joining all columns at once using pd.concat(axis=1) instead. To get a de-fragmented frame, use `newframe = frame.copy()`\n",
      "  features_valid_ohe[ohe.get_feature_names_out()] = ohe.transform(\n",
      "/var/folders/kr/l8l6g3315gj_6wm9tbxwybbh0000gn/T/ipykernel_2962/2713683421.py:6: PerformanceWarning: DataFrame is highly fragmented.  This is usually the result of calling `frame.insert` many times, which has poor performance.  Consider joining all columns at once using pd.concat(axis=1) instead. To get a de-fragmented frame, use `newframe = frame.copy()`\n",
      "  features_valid_ohe[ohe.get_feature_names_out()] = ohe.transform(\n",
      "/var/folders/kr/l8l6g3315gj_6wm9tbxwybbh0000gn/T/ipykernel_2962/2713683421.py:6: PerformanceWarning: DataFrame is highly fragmented.  This is usually the result of calling `frame.insert` many times, which has poor performance.  Consider joining all columns at once using pd.concat(axis=1) instead. To get a de-fragmented frame, use `newframe = frame.copy()`\n",
      "  features_valid_ohe[ohe.get_feature_names_out()] = ohe.transform(\n",
      "/var/folders/kr/l8l6g3315gj_6wm9tbxwybbh0000gn/T/ipykernel_2962/2713683421.py:6: PerformanceWarning: DataFrame is highly fragmented.  This is usually the result of calling `frame.insert` many times, which has poor performance.  Consider joining all columns at once using pd.concat(axis=1) instead. To get a de-fragmented frame, use `newframe = frame.copy()`\n",
      "  features_valid_ohe[ohe.get_feature_names_out()] = ohe.transform(\n",
      "/var/folders/kr/l8l6g3315gj_6wm9tbxwybbh0000gn/T/ipykernel_2962/2713683421.py:6: PerformanceWarning: DataFrame is highly fragmented.  This is usually the result of calling `frame.insert` many times, which has poor performance.  Consider joining all columns at once using pd.concat(axis=1) instead. To get a de-fragmented frame, use `newframe = frame.copy()`\n",
      "  features_valid_ohe[ohe.get_feature_names_out()] = ohe.transform(\n",
      "/var/folders/kr/l8l6g3315gj_6wm9tbxwybbh0000gn/T/ipykernel_2962/2713683421.py:6: PerformanceWarning: DataFrame is highly fragmented.  This is usually the result of calling `frame.insert` many times, which has poor performance.  Consider joining all columns at once using pd.concat(axis=1) instead. To get a de-fragmented frame, use `newframe = frame.copy()`\n",
      "  features_valid_ohe[ohe.get_feature_names_out()] = ohe.transform(\n",
      "/var/folders/kr/l8l6g3315gj_6wm9tbxwybbh0000gn/T/ipykernel_2962/2713683421.py:6: PerformanceWarning: DataFrame is highly fragmented.  This is usually the result of calling `frame.insert` many times, which has poor performance.  Consider joining all columns at once using pd.concat(axis=1) instead. To get a de-fragmented frame, use `newframe = frame.copy()`\n",
      "  features_valid_ohe[ohe.get_feature_names_out()] = ohe.transform(\n",
      "/var/folders/kr/l8l6g3315gj_6wm9tbxwybbh0000gn/T/ipykernel_2962/2713683421.py:6: PerformanceWarning: DataFrame is highly fragmented.  This is usually the result of calling `frame.insert` many times, which has poor performance.  Consider joining all columns at once using pd.concat(axis=1) instead. To get a de-fragmented frame, use `newframe = frame.copy()`\n",
      "  features_valid_ohe[ohe.get_feature_names_out()] = ohe.transform(\n",
      "/var/folders/kr/l8l6g3315gj_6wm9tbxwybbh0000gn/T/ipykernel_2962/2713683421.py:6: PerformanceWarning: DataFrame is highly fragmented.  This is usually the result of calling `frame.insert` many times, which has poor performance.  Consider joining all columns at once using pd.concat(axis=1) instead. To get a de-fragmented frame, use `newframe = frame.copy()`\n",
      "  features_valid_ohe[ohe.get_feature_names_out()] = ohe.transform(\n",
      "/var/folders/kr/l8l6g3315gj_6wm9tbxwybbh0000gn/T/ipykernel_2962/2713683421.py:6: PerformanceWarning: DataFrame is highly fragmented.  This is usually the result of calling `frame.insert` many times, which has poor performance.  Consider joining all columns at once using pd.concat(axis=1) instead. To get a de-fragmented frame, use `newframe = frame.copy()`\n",
      "  features_valid_ohe[ohe.get_feature_names_out()] = ohe.transform(\n",
      "/var/folders/kr/l8l6g3315gj_6wm9tbxwybbh0000gn/T/ipykernel_2962/2713683421.py:6: PerformanceWarning: DataFrame is highly fragmented.  This is usually the result of calling `frame.insert` many times, which has poor performance.  Consider joining all columns at once using pd.concat(axis=1) instead. To get a de-fragmented frame, use `newframe = frame.copy()`\n",
      "  features_valid_ohe[ohe.get_feature_names_out()] = ohe.transform(\n",
      "/var/folders/kr/l8l6g3315gj_6wm9tbxwybbh0000gn/T/ipykernel_2962/2713683421.py:6: PerformanceWarning: DataFrame is highly fragmented.  This is usually the result of calling `frame.insert` many times, which has poor performance.  Consider joining all columns at once using pd.concat(axis=1) instead. To get a de-fragmented frame, use `newframe = frame.copy()`\n",
      "  features_valid_ohe[ohe.get_feature_names_out()] = ohe.transform(\n",
      "/var/folders/kr/l8l6g3315gj_6wm9tbxwybbh0000gn/T/ipykernel_2962/2713683421.py:6: PerformanceWarning: DataFrame is highly fragmented.  This is usually the result of calling `frame.insert` many times, which has poor performance.  Consider joining all columns at once using pd.concat(axis=1) instead. To get a de-fragmented frame, use `newframe = frame.copy()`\n",
      "  features_valid_ohe[ohe.get_feature_names_out()] = ohe.transform(\n",
      "/var/folders/kr/l8l6g3315gj_6wm9tbxwybbh0000gn/T/ipykernel_2962/2713683421.py:6: PerformanceWarning: DataFrame is highly fragmented.  This is usually the result of calling `frame.insert` many times, which has poor performance.  Consider joining all columns at once using pd.concat(axis=1) instead. To get a de-fragmented frame, use `newframe = frame.copy()`\n",
      "  features_valid_ohe[ohe.get_feature_names_out()] = ohe.transform(\n",
      "/var/folders/kr/l8l6g3315gj_6wm9tbxwybbh0000gn/T/ipykernel_2962/2713683421.py:6: PerformanceWarning: DataFrame is highly fragmented.  This is usually the result of calling `frame.insert` many times, which has poor performance.  Consider joining all columns at once using pd.concat(axis=1) instead. To get a de-fragmented frame, use `newframe = frame.copy()`\n",
      "  features_valid_ohe[ohe.get_feature_names_out()] = ohe.transform(\n",
      "/var/folders/kr/l8l6g3315gj_6wm9tbxwybbh0000gn/T/ipykernel_2962/2713683421.py:6: PerformanceWarning: DataFrame is highly fragmented.  This is usually the result of calling `frame.insert` many times, which has poor performance.  Consider joining all columns at once using pd.concat(axis=1) instead. To get a de-fragmented frame, use `newframe = frame.copy()`\n",
      "  features_valid_ohe[ohe.get_feature_names_out()] = ohe.transform(\n",
      "/var/folders/kr/l8l6g3315gj_6wm9tbxwybbh0000gn/T/ipykernel_2962/2713683421.py:6: PerformanceWarning: DataFrame is highly fragmented.  This is usually the result of calling `frame.insert` many times, which has poor performance.  Consider joining all columns at once using pd.concat(axis=1) instead. To get a de-fragmented frame, use `newframe = frame.copy()`\n",
      "  features_valid_ohe[ohe.get_feature_names_out()] = ohe.transform(\n",
      "/var/folders/kr/l8l6g3315gj_6wm9tbxwybbh0000gn/T/ipykernel_2962/2713683421.py:6: PerformanceWarning: DataFrame is highly fragmented.  This is usually the result of calling `frame.insert` many times, which has poor performance.  Consider joining all columns at once using pd.concat(axis=1) instead. To get a de-fragmented frame, use `newframe = frame.copy()`\n",
      "  features_valid_ohe[ohe.get_feature_names_out()] = ohe.transform(\n",
      "/var/folders/kr/l8l6g3315gj_6wm9tbxwybbh0000gn/T/ipykernel_2962/2713683421.py:6: PerformanceWarning: DataFrame is highly fragmented.  This is usually the result of calling `frame.insert` many times, which has poor performance.  Consider joining all columns at once using pd.concat(axis=1) instead. To get a de-fragmented frame, use `newframe = frame.copy()`\n",
      "  features_valid_ohe[ohe.get_feature_names_out()] = ohe.transform(\n",
      "/var/folders/kr/l8l6g3315gj_6wm9tbxwybbh0000gn/T/ipykernel_2962/2713683421.py:6: PerformanceWarning: DataFrame is highly fragmented.  This is usually the result of calling `frame.insert` many times, which has poor performance.  Consider joining all columns at once using pd.concat(axis=1) instead. To get a de-fragmented frame, use `newframe = frame.copy()`\n",
      "  features_valid_ohe[ohe.get_feature_names_out()] = ohe.transform(\n",
      "/var/folders/kr/l8l6g3315gj_6wm9tbxwybbh0000gn/T/ipykernel_2962/2713683421.py:6: PerformanceWarning: DataFrame is highly fragmented.  This is usually the result of calling `frame.insert` many times, which has poor performance.  Consider joining all columns at once using pd.concat(axis=1) instead. To get a de-fragmented frame, use `newframe = frame.copy()`\n",
      "  features_valid_ohe[ohe.get_feature_names_out()] = ohe.transform(\n",
      "/var/folders/kr/l8l6g3315gj_6wm9tbxwybbh0000gn/T/ipykernel_2962/2713683421.py:6: PerformanceWarning: DataFrame is highly fragmented.  This is usually the result of calling `frame.insert` many times, which has poor performance.  Consider joining all columns at once using pd.concat(axis=1) instead. To get a de-fragmented frame, use `newframe = frame.copy()`\n",
      "  features_valid_ohe[ohe.get_feature_names_out()] = ohe.transform(\n",
      "/var/folders/kr/l8l6g3315gj_6wm9tbxwybbh0000gn/T/ipykernel_2962/2713683421.py:6: PerformanceWarning: DataFrame is highly fragmented.  This is usually the result of calling `frame.insert` many times, which has poor performance.  Consider joining all columns at once using pd.concat(axis=1) instead. To get a de-fragmented frame, use `newframe = frame.copy()`\n",
      "  features_valid_ohe[ohe.get_feature_names_out()] = ohe.transform(\n",
      "/var/folders/kr/l8l6g3315gj_6wm9tbxwybbh0000gn/T/ipykernel_2962/2713683421.py:6: PerformanceWarning: DataFrame is highly fragmented.  This is usually the result of calling `frame.insert` many times, which has poor performance.  Consider joining all columns at once using pd.concat(axis=1) instead. To get a de-fragmented frame, use `newframe = frame.copy()`\n",
      "  features_valid_ohe[ohe.get_feature_names_out()] = ohe.transform(\n",
      "/var/folders/kr/l8l6g3315gj_6wm9tbxwybbh0000gn/T/ipykernel_2962/2713683421.py:6: PerformanceWarning: DataFrame is highly fragmented.  This is usually the result of calling `frame.insert` many times, which has poor performance.  Consider joining all columns at once using pd.concat(axis=1) instead. To get a de-fragmented frame, use `newframe = frame.copy()`\n",
      "  features_valid_ohe[ohe.get_feature_names_out()] = ohe.transform(\n",
      "/var/folders/kr/l8l6g3315gj_6wm9tbxwybbh0000gn/T/ipykernel_2962/2713683421.py:6: PerformanceWarning: DataFrame is highly fragmented.  This is usually the result of calling `frame.insert` many times, which has poor performance.  Consider joining all columns at once using pd.concat(axis=1) instead. To get a de-fragmented frame, use `newframe = frame.copy()`\n",
      "  features_valid_ohe[ohe.get_feature_names_out()] = ohe.transform(\n",
      "/var/folders/kr/l8l6g3315gj_6wm9tbxwybbh0000gn/T/ipykernel_2962/2713683421.py:6: PerformanceWarning: DataFrame is highly fragmented.  This is usually the result of calling `frame.insert` many times, which has poor performance.  Consider joining all columns at once using pd.concat(axis=1) instead. To get a de-fragmented frame, use `newframe = frame.copy()`\n",
      "  features_valid_ohe[ohe.get_feature_names_out()] = ohe.transform(\n",
      "/var/folders/kr/l8l6g3315gj_6wm9tbxwybbh0000gn/T/ipykernel_2962/2713683421.py:6: PerformanceWarning: DataFrame is highly fragmented.  This is usually the result of calling `frame.insert` many times, which has poor performance.  Consider joining all columns at once using pd.concat(axis=1) instead. To get a de-fragmented frame, use `newframe = frame.copy()`\n",
      "  features_valid_ohe[ohe.get_feature_names_out()] = ohe.transform(\n",
      "/var/folders/kr/l8l6g3315gj_6wm9tbxwybbh0000gn/T/ipykernel_2962/2713683421.py:6: PerformanceWarning: DataFrame is highly fragmented.  This is usually the result of calling `frame.insert` many times, which has poor performance.  Consider joining all columns at once using pd.concat(axis=1) instead. To get a de-fragmented frame, use `newframe = frame.copy()`\n",
      "  features_valid_ohe[ohe.get_feature_names_out()] = ohe.transform(\n",
      "/var/folders/kr/l8l6g3315gj_6wm9tbxwybbh0000gn/T/ipykernel_2962/2713683421.py:6: PerformanceWarning: DataFrame is highly fragmented.  This is usually the result of calling `frame.insert` many times, which has poor performance.  Consider joining all columns at once using pd.concat(axis=1) instead. To get a de-fragmented frame, use `newframe = frame.copy()`\n",
      "  features_valid_ohe[ohe.get_feature_names_out()] = ohe.transform(\n",
      "/var/folders/kr/l8l6g3315gj_6wm9tbxwybbh0000gn/T/ipykernel_2962/2713683421.py:6: PerformanceWarning: DataFrame is highly fragmented.  This is usually the result of calling `frame.insert` many times, which has poor performance.  Consider joining all columns at once using pd.concat(axis=1) instead. To get a de-fragmented frame, use `newframe = frame.copy()`\n",
      "  features_valid_ohe[ohe.get_feature_names_out()] = ohe.transform(\n",
      "/var/folders/kr/l8l6g3315gj_6wm9tbxwybbh0000gn/T/ipykernel_2962/2713683421.py:6: PerformanceWarning: DataFrame is highly fragmented.  This is usually the result of calling `frame.insert` many times, which has poor performance.  Consider joining all columns at once using pd.concat(axis=1) instead. To get a de-fragmented frame, use `newframe = frame.copy()`\n",
      "  features_valid_ohe[ohe.get_feature_names_out()] = ohe.transform(\n",
      "/var/folders/kr/l8l6g3315gj_6wm9tbxwybbh0000gn/T/ipykernel_2962/2713683421.py:6: PerformanceWarning: DataFrame is highly fragmented.  This is usually the result of calling `frame.insert` many times, which has poor performance.  Consider joining all columns at once using pd.concat(axis=1) instead. To get a de-fragmented frame, use `newframe = frame.copy()`\n",
      "  features_valid_ohe[ohe.get_feature_names_out()] = ohe.transform(\n",
      "/var/folders/kr/l8l6g3315gj_6wm9tbxwybbh0000gn/T/ipykernel_2962/2713683421.py:6: PerformanceWarning: DataFrame is highly fragmented.  This is usually the result of calling `frame.insert` many times, which has poor performance.  Consider joining all columns at once using pd.concat(axis=1) instead. To get a de-fragmented frame, use `newframe = frame.copy()`\n",
      "  features_valid_ohe[ohe.get_feature_names_out()] = ohe.transform(\n",
      "/var/folders/kr/l8l6g3315gj_6wm9tbxwybbh0000gn/T/ipykernel_2962/2713683421.py:6: PerformanceWarning: DataFrame is highly fragmented.  This is usually the result of calling `frame.insert` many times, which has poor performance.  Consider joining all columns at once using pd.concat(axis=1) instead. To get a de-fragmented frame, use `newframe = frame.copy()`\n",
      "  features_valid_ohe[ohe.get_feature_names_out()] = ohe.transform(\n",
      "/var/folders/kr/l8l6g3315gj_6wm9tbxwybbh0000gn/T/ipykernel_2962/2713683421.py:6: PerformanceWarning: DataFrame is highly fragmented.  This is usually the result of calling `frame.insert` many times, which has poor performance.  Consider joining all columns at once using pd.concat(axis=1) instead. To get a de-fragmented frame, use `newframe = frame.copy()`\n",
      "  features_valid_ohe[ohe.get_feature_names_out()] = ohe.transform(\n",
      "/var/folders/kr/l8l6g3315gj_6wm9tbxwybbh0000gn/T/ipykernel_2962/2713683421.py:6: PerformanceWarning: DataFrame is highly fragmented.  This is usually the result of calling `frame.insert` many times, which has poor performance.  Consider joining all columns at once using pd.concat(axis=1) instead. To get a de-fragmented frame, use `newframe = frame.copy()`\n",
      "  features_valid_ohe[ohe.get_feature_names_out()] = ohe.transform(\n",
      "/var/folders/kr/l8l6g3315gj_6wm9tbxwybbh0000gn/T/ipykernel_2962/2713683421.py:6: PerformanceWarning: DataFrame is highly fragmented.  This is usually the result of calling `frame.insert` many times, which has poor performance.  Consider joining all columns at once using pd.concat(axis=1) instead. To get a de-fragmented frame, use `newframe = frame.copy()`\n",
      "  features_valid_ohe[ohe.get_feature_names_out()] = ohe.transform(\n",
      "/var/folders/kr/l8l6g3315gj_6wm9tbxwybbh0000gn/T/ipykernel_2962/2713683421.py:6: PerformanceWarning: DataFrame is highly fragmented.  This is usually the result of calling `frame.insert` many times, which has poor performance.  Consider joining all columns at once using pd.concat(axis=1) instead. To get a de-fragmented frame, use `newframe = frame.copy()`\n",
      "  features_valid_ohe[ohe.get_feature_names_out()] = ohe.transform(\n",
      "/var/folders/kr/l8l6g3315gj_6wm9tbxwybbh0000gn/T/ipykernel_2962/2713683421.py:6: PerformanceWarning: DataFrame is highly fragmented.  This is usually the result of calling `frame.insert` many times, which has poor performance.  Consider joining all columns at once using pd.concat(axis=1) instead. To get a de-fragmented frame, use `newframe = frame.copy()`\n",
      "  features_valid_ohe[ohe.get_feature_names_out()] = ohe.transform(\n",
      "/var/folders/kr/l8l6g3315gj_6wm9tbxwybbh0000gn/T/ipykernel_2962/2713683421.py:6: PerformanceWarning: DataFrame is highly fragmented.  This is usually the result of calling `frame.insert` many times, which has poor performance.  Consider joining all columns at once using pd.concat(axis=1) instead. To get a de-fragmented frame, use `newframe = frame.copy()`\n",
      "  features_valid_ohe[ohe.get_feature_names_out()] = ohe.transform(\n",
      "/var/folders/kr/l8l6g3315gj_6wm9tbxwybbh0000gn/T/ipykernel_2962/2713683421.py:6: PerformanceWarning: DataFrame is highly fragmented.  This is usually the result of calling `frame.insert` many times, which has poor performance.  Consider joining all columns at once using pd.concat(axis=1) instead. To get a de-fragmented frame, use `newframe = frame.copy()`\n",
      "  features_valid_ohe[ohe.get_feature_names_out()] = ohe.transform(\n",
      "/var/folders/kr/l8l6g3315gj_6wm9tbxwybbh0000gn/T/ipykernel_2962/2713683421.py:6: PerformanceWarning: DataFrame is highly fragmented.  This is usually the result of calling `frame.insert` many times, which has poor performance.  Consider joining all columns at once using pd.concat(axis=1) instead. To get a de-fragmented frame, use `newframe = frame.copy()`\n",
      "  features_valid_ohe[ohe.get_feature_names_out()] = ohe.transform(\n",
      "/var/folders/kr/l8l6g3315gj_6wm9tbxwybbh0000gn/T/ipykernel_2962/2713683421.py:6: PerformanceWarning: DataFrame is highly fragmented.  This is usually the result of calling `frame.insert` many times, which has poor performance.  Consider joining all columns at once using pd.concat(axis=1) instead. To get a de-fragmented frame, use `newframe = frame.copy()`\n",
      "  features_valid_ohe[ohe.get_feature_names_out()] = ohe.transform(\n",
      "/var/folders/kr/l8l6g3315gj_6wm9tbxwybbh0000gn/T/ipykernel_2962/2713683421.py:6: PerformanceWarning: DataFrame is highly fragmented.  This is usually the result of calling `frame.insert` many times, which has poor performance.  Consider joining all columns at once using pd.concat(axis=1) instead. To get a de-fragmented frame, use `newframe = frame.copy()`\n",
      "  features_valid_ohe[ohe.get_feature_names_out()] = ohe.transform(\n",
      "/var/folders/kr/l8l6g3315gj_6wm9tbxwybbh0000gn/T/ipykernel_2962/2713683421.py:6: PerformanceWarning: DataFrame is highly fragmented.  This is usually the result of calling `frame.insert` many times, which has poor performance.  Consider joining all columns at once using pd.concat(axis=1) instead. To get a de-fragmented frame, use `newframe = frame.copy()`\n",
      "  features_valid_ohe[ohe.get_feature_names_out()] = ohe.transform(\n",
      "/var/folders/kr/l8l6g3315gj_6wm9tbxwybbh0000gn/T/ipykernel_2962/2713683421.py:6: PerformanceWarning: DataFrame is highly fragmented.  This is usually the result of calling `frame.insert` many times, which has poor performance.  Consider joining all columns at once using pd.concat(axis=1) instead. To get a de-fragmented frame, use `newframe = frame.copy()`\n",
      "  features_valid_ohe[ohe.get_feature_names_out()] = ohe.transform(\n",
      "/var/folders/kr/l8l6g3315gj_6wm9tbxwybbh0000gn/T/ipykernel_2962/2713683421.py:6: PerformanceWarning: DataFrame is highly fragmented.  This is usually the result of calling `frame.insert` many times, which has poor performance.  Consider joining all columns at once using pd.concat(axis=1) instead. To get a de-fragmented frame, use `newframe = frame.copy()`\n",
      "  features_valid_ohe[ohe.get_feature_names_out()] = ohe.transform(\n",
      "/var/folders/kr/l8l6g3315gj_6wm9tbxwybbh0000gn/T/ipykernel_2962/2713683421.py:6: PerformanceWarning: DataFrame is highly fragmented.  This is usually the result of calling `frame.insert` many times, which has poor performance.  Consider joining all columns at once using pd.concat(axis=1) instead. To get a de-fragmented frame, use `newframe = frame.copy()`\n",
      "  features_valid_ohe[ohe.get_feature_names_out()] = ohe.transform(\n",
      "/var/folders/kr/l8l6g3315gj_6wm9tbxwybbh0000gn/T/ipykernel_2962/2713683421.py:6: PerformanceWarning: DataFrame is highly fragmented.  This is usually the result of calling `frame.insert` many times, which has poor performance.  Consider joining all columns at once using pd.concat(axis=1) instead. To get a de-fragmented frame, use `newframe = frame.copy()`\n",
      "  features_valid_ohe[ohe.get_feature_names_out()] = ohe.transform(\n",
      "/var/folders/kr/l8l6g3315gj_6wm9tbxwybbh0000gn/T/ipykernel_2962/2713683421.py:6: PerformanceWarning: DataFrame is highly fragmented.  This is usually the result of calling `frame.insert` many times, which has poor performance.  Consider joining all columns at once using pd.concat(axis=1) instead. To get a de-fragmented frame, use `newframe = frame.copy()`\n",
      "  features_valid_ohe[ohe.get_feature_names_out()] = ohe.transform(\n",
      "/var/folders/kr/l8l6g3315gj_6wm9tbxwybbh0000gn/T/ipykernel_2962/2713683421.py:6: PerformanceWarning: DataFrame is highly fragmented.  This is usually the result of calling `frame.insert` many times, which has poor performance.  Consider joining all columns at once using pd.concat(axis=1) instead. To get a de-fragmented frame, use `newframe = frame.copy()`\n",
      "  features_valid_ohe[ohe.get_feature_names_out()] = ohe.transform(\n",
      "/var/folders/kr/l8l6g3315gj_6wm9tbxwybbh0000gn/T/ipykernel_2962/2713683421.py:6: PerformanceWarning: DataFrame is highly fragmented.  This is usually the result of calling `frame.insert` many times, which has poor performance.  Consider joining all columns at once using pd.concat(axis=1) instead. To get a de-fragmented frame, use `newframe = frame.copy()`\n",
      "  features_valid_ohe[ohe.get_feature_names_out()] = ohe.transform(\n",
      "/var/folders/kr/l8l6g3315gj_6wm9tbxwybbh0000gn/T/ipykernel_2962/2713683421.py:6: PerformanceWarning: DataFrame is highly fragmented.  This is usually the result of calling `frame.insert` many times, which has poor performance.  Consider joining all columns at once using pd.concat(axis=1) instead. To get a de-fragmented frame, use `newframe = frame.copy()`\n",
      "  features_valid_ohe[ohe.get_feature_names_out()] = ohe.transform(\n",
      "/var/folders/kr/l8l6g3315gj_6wm9tbxwybbh0000gn/T/ipykernel_2962/2713683421.py:6: PerformanceWarning: DataFrame is highly fragmented.  This is usually the result of calling `frame.insert` many times, which has poor performance.  Consider joining all columns at once using pd.concat(axis=1) instead. To get a de-fragmented frame, use `newframe = frame.copy()`\n",
      "  features_valid_ohe[ohe.get_feature_names_out()] = ohe.transform(\n",
      "/var/folders/kr/l8l6g3315gj_6wm9tbxwybbh0000gn/T/ipykernel_2962/2713683421.py:6: PerformanceWarning: DataFrame is highly fragmented.  This is usually the result of calling `frame.insert` many times, which has poor performance.  Consider joining all columns at once using pd.concat(axis=1) instead. To get a de-fragmented frame, use `newframe = frame.copy()`\n",
      "  features_valid_ohe[ohe.get_feature_names_out()] = ohe.transform(\n",
      "/var/folders/kr/l8l6g3315gj_6wm9tbxwybbh0000gn/T/ipykernel_2962/2713683421.py:6: PerformanceWarning: DataFrame is highly fragmented.  This is usually the result of calling `frame.insert` many times, which has poor performance.  Consider joining all columns at once using pd.concat(axis=1) instead. To get a de-fragmented frame, use `newframe = frame.copy()`\n",
      "  features_valid_ohe[ohe.get_feature_names_out()] = ohe.transform(\n",
      "/var/folders/kr/l8l6g3315gj_6wm9tbxwybbh0000gn/T/ipykernel_2962/2713683421.py:6: PerformanceWarning: DataFrame is highly fragmented.  This is usually the result of calling `frame.insert` many times, which has poor performance.  Consider joining all columns at once using pd.concat(axis=1) instead. To get a de-fragmented frame, use `newframe = frame.copy()`\n",
      "  features_valid_ohe[ohe.get_feature_names_out()] = ohe.transform(\n",
      "/var/folders/kr/l8l6g3315gj_6wm9tbxwybbh0000gn/T/ipykernel_2962/2713683421.py:6: PerformanceWarning: DataFrame is highly fragmented.  This is usually the result of calling `frame.insert` many times, which has poor performance.  Consider joining all columns at once using pd.concat(axis=1) instead. To get a de-fragmented frame, use `newframe = frame.copy()`\n",
      "  features_valid_ohe[ohe.get_feature_names_out()] = ohe.transform(\n",
      "/var/folders/kr/l8l6g3315gj_6wm9tbxwybbh0000gn/T/ipykernel_2962/2713683421.py:6: PerformanceWarning: DataFrame is highly fragmented.  This is usually the result of calling `frame.insert` many times, which has poor performance.  Consider joining all columns at once using pd.concat(axis=1) instead. To get a de-fragmented frame, use `newframe = frame.copy()`\n",
      "  features_valid_ohe[ohe.get_feature_names_out()] = ohe.transform(\n",
      "/var/folders/kr/l8l6g3315gj_6wm9tbxwybbh0000gn/T/ipykernel_2962/2713683421.py:6: PerformanceWarning: DataFrame is highly fragmented.  This is usually the result of calling `frame.insert` many times, which has poor performance.  Consider joining all columns at once using pd.concat(axis=1) instead. To get a de-fragmented frame, use `newframe = frame.copy()`\n",
      "  features_valid_ohe[ohe.get_feature_names_out()] = ohe.transform(\n",
      "/var/folders/kr/l8l6g3315gj_6wm9tbxwybbh0000gn/T/ipykernel_2962/2713683421.py:6: PerformanceWarning: DataFrame is highly fragmented.  This is usually the result of calling `frame.insert` many times, which has poor performance.  Consider joining all columns at once using pd.concat(axis=1) instead. To get a de-fragmented frame, use `newframe = frame.copy()`\n",
      "  features_valid_ohe[ohe.get_feature_names_out()] = ohe.transform(\n",
      "/var/folders/kr/l8l6g3315gj_6wm9tbxwybbh0000gn/T/ipykernel_2962/2713683421.py:6: PerformanceWarning: DataFrame is highly fragmented.  This is usually the result of calling `frame.insert` many times, which has poor performance.  Consider joining all columns at once using pd.concat(axis=1) instead. To get a de-fragmented frame, use `newframe = frame.copy()`\n",
      "  features_valid_ohe[ohe.get_feature_names_out()] = ohe.transform(\n",
      "/var/folders/kr/l8l6g3315gj_6wm9tbxwybbh0000gn/T/ipykernel_2962/2713683421.py:6: PerformanceWarning: DataFrame is highly fragmented.  This is usually the result of calling `frame.insert` many times, which has poor performance.  Consider joining all columns at once using pd.concat(axis=1) instead. To get a de-fragmented frame, use `newframe = frame.copy()`\n",
      "  features_valid_ohe[ohe.get_feature_names_out()] = ohe.transform(\n",
      "/var/folders/kr/l8l6g3315gj_6wm9tbxwybbh0000gn/T/ipykernel_2962/2713683421.py:6: PerformanceWarning: DataFrame is highly fragmented.  This is usually the result of calling `frame.insert` many times, which has poor performance.  Consider joining all columns at once using pd.concat(axis=1) instead. To get a de-fragmented frame, use `newframe = frame.copy()`\n",
      "  features_valid_ohe[ohe.get_feature_names_out()] = ohe.transform(\n",
      "/var/folders/kr/l8l6g3315gj_6wm9tbxwybbh0000gn/T/ipykernel_2962/2713683421.py:6: PerformanceWarning: DataFrame is highly fragmented.  This is usually the result of calling `frame.insert` many times, which has poor performance.  Consider joining all columns at once using pd.concat(axis=1) instead. To get a de-fragmented frame, use `newframe = frame.copy()`\n",
      "  features_valid_ohe[ohe.get_feature_names_out()] = ohe.transform(\n",
      "/var/folders/kr/l8l6g3315gj_6wm9tbxwybbh0000gn/T/ipykernel_2962/2713683421.py:6: PerformanceWarning: DataFrame is highly fragmented.  This is usually the result of calling `frame.insert` many times, which has poor performance.  Consider joining all columns at once using pd.concat(axis=1) instead. To get a de-fragmented frame, use `newframe = frame.copy()`\n",
      "  features_valid_ohe[ohe.get_feature_names_out()] = ohe.transform(\n",
      "/var/folders/kr/l8l6g3315gj_6wm9tbxwybbh0000gn/T/ipykernel_2962/2713683421.py:6: PerformanceWarning: DataFrame is highly fragmented.  This is usually the result of calling `frame.insert` many times, which has poor performance.  Consider joining all columns at once using pd.concat(axis=1) instead. To get a de-fragmented frame, use `newframe = frame.copy()`\n",
      "  features_valid_ohe[ohe.get_feature_names_out()] = ohe.transform(\n",
      "/var/folders/kr/l8l6g3315gj_6wm9tbxwybbh0000gn/T/ipykernel_2962/2713683421.py:6: PerformanceWarning: DataFrame is highly fragmented.  This is usually the result of calling `frame.insert` many times, which has poor performance.  Consider joining all columns at once using pd.concat(axis=1) instead. To get a de-fragmented frame, use `newframe = frame.copy()`\n",
      "  features_valid_ohe[ohe.get_feature_names_out()] = ohe.transform(\n",
      "/var/folders/kr/l8l6g3315gj_6wm9tbxwybbh0000gn/T/ipykernel_2962/2713683421.py:6: PerformanceWarning: DataFrame is highly fragmented.  This is usually the result of calling `frame.insert` many times, which has poor performance.  Consider joining all columns at once using pd.concat(axis=1) instead. To get a de-fragmented frame, use `newframe = frame.copy()`\n",
      "  features_valid_ohe[ohe.get_feature_names_out()] = ohe.transform(\n",
      "/var/folders/kr/l8l6g3315gj_6wm9tbxwybbh0000gn/T/ipykernel_2962/2713683421.py:6: PerformanceWarning: DataFrame is highly fragmented.  This is usually the result of calling `frame.insert` many times, which has poor performance.  Consider joining all columns at once using pd.concat(axis=1) instead. To get a de-fragmented frame, use `newframe = frame.copy()`\n",
      "  features_valid_ohe[ohe.get_feature_names_out()] = ohe.transform(\n",
      "/var/folders/kr/l8l6g3315gj_6wm9tbxwybbh0000gn/T/ipykernel_2962/2713683421.py:6: PerformanceWarning: DataFrame is highly fragmented.  This is usually the result of calling `frame.insert` many times, which has poor performance.  Consider joining all columns at once using pd.concat(axis=1) instead. To get a de-fragmented frame, use `newframe = frame.copy()`\n",
      "  features_valid_ohe[ohe.get_feature_names_out()] = ohe.transform(\n",
      "/var/folders/kr/l8l6g3315gj_6wm9tbxwybbh0000gn/T/ipykernel_2962/2713683421.py:6: PerformanceWarning: DataFrame is highly fragmented.  This is usually the result of calling `frame.insert` many times, which has poor performance.  Consider joining all columns at once using pd.concat(axis=1) instead. To get a de-fragmented frame, use `newframe = frame.copy()`\n",
      "  features_valid_ohe[ohe.get_feature_names_out()] = ohe.transform(\n",
      "/var/folders/kr/l8l6g3315gj_6wm9tbxwybbh0000gn/T/ipykernel_2962/2713683421.py:6: PerformanceWarning: DataFrame is highly fragmented.  This is usually the result of calling `frame.insert` many times, which has poor performance.  Consider joining all columns at once using pd.concat(axis=1) instead. To get a de-fragmented frame, use `newframe = frame.copy()`\n",
      "  features_valid_ohe[ohe.get_feature_names_out()] = ohe.transform(\n",
      "/var/folders/kr/l8l6g3315gj_6wm9tbxwybbh0000gn/T/ipykernel_2962/2713683421.py:6: PerformanceWarning: DataFrame is highly fragmented.  This is usually the result of calling `frame.insert` many times, which has poor performance.  Consider joining all columns at once using pd.concat(axis=1) instead. To get a de-fragmented frame, use `newframe = frame.copy()`\n",
      "  features_valid_ohe[ohe.get_feature_names_out()] = ohe.transform(\n",
      "/var/folders/kr/l8l6g3315gj_6wm9tbxwybbh0000gn/T/ipykernel_2962/2713683421.py:6: PerformanceWarning: DataFrame is highly fragmented.  This is usually the result of calling `frame.insert` many times, which has poor performance.  Consider joining all columns at once using pd.concat(axis=1) instead. To get a de-fragmented frame, use `newframe = frame.copy()`\n",
      "  features_valid_ohe[ohe.get_feature_names_out()] = ohe.transform(\n",
      "/var/folders/kr/l8l6g3315gj_6wm9tbxwybbh0000gn/T/ipykernel_2962/2713683421.py:6: PerformanceWarning: DataFrame is highly fragmented.  This is usually the result of calling `frame.insert` many times, which has poor performance.  Consider joining all columns at once using pd.concat(axis=1) instead. To get a de-fragmented frame, use `newframe = frame.copy()`\n",
      "  features_valid_ohe[ohe.get_feature_names_out()] = ohe.transform(\n",
      "/var/folders/kr/l8l6g3315gj_6wm9tbxwybbh0000gn/T/ipykernel_2962/2713683421.py:6: PerformanceWarning: DataFrame is highly fragmented.  This is usually the result of calling `frame.insert` many times, which has poor performance.  Consider joining all columns at once using pd.concat(axis=1) instead. To get a de-fragmented frame, use `newframe = frame.copy()`\n",
      "  features_valid_ohe[ohe.get_feature_names_out()] = ohe.transform(\n",
      "/var/folders/kr/l8l6g3315gj_6wm9tbxwybbh0000gn/T/ipykernel_2962/2713683421.py:6: PerformanceWarning: DataFrame is highly fragmented.  This is usually the result of calling `frame.insert` many times, which has poor performance.  Consider joining all columns at once using pd.concat(axis=1) instead. To get a de-fragmented frame, use `newframe = frame.copy()`\n",
      "  features_valid_ohe[ohe.get_feature_names_out()] = ohe.transform(\n",
      "/var/folders/kr/l8l6g3315gj_6wm9tbxwybbh0000gn/T/ipykernel_2962/2713683421.py:6: PerformanceWarning: DataFrame is highly fragmented.  This is usually the result of calling `frame.insert` many times, which has poor performance.  Consider joining all columns at once using pd.concat(axis=1) instead. To get a de-fragmented frame, use `newframe = frame.copy()`\n",
      "  features_valid_ohe[ohe.get_feature_names_out()] = ohe.transform(\n",
      "/var/folders/kr/l8l6g3315gj_6wm9tbxwybbh0000gn/T/ipykernel_2962/2713683421.py:6: PerformanceWarning: DataFrame is highly fragmented.  This is usually the result of calling `frame.insert` many times, which has poor performance.  Consider joining all columns at once using pd.concat(axis=1) instead. To get a de-fragmented frame, use `newframe = frame.copy()`\n",
      "  features_valid_ohe[ohe.get_feature_names_out()] = ohe.transform(\n",
      "/var/folders/kr/l8l6g3315gj_6wm9tbxwybbh0000gn/T/ipykernel_2962/2713683421.py:6: PerformanceWarning: DataFrame is highly fragmented.  This is usually the result of calling `frame.insert` many times, which has poor performance.  Consider joining all columns at once using pd.concat(axis=1) instead. To get a de-fragmented frame, use `newframe = frame.copy()`\n",
      "  features_valid_ohe[ohe.get_feature_names_out()] = ohe.transform(\n",
      "/var/folders/kr/l8l6g3315gj_6wm9tbxwybbh0000gn/T/ipykernel_2962/2713683421.py:6: PerformanceWarning: DataFrame is highly fragmented.  This is usually the result of calling `frame.insert` many times, which has poor performance.  Consider joining all columns at once using pd.concat(axis=1) instead. To get a de-fragmented frame, use `newframe = frame.copy()`\n",
      "  features_valid_ohe[ohe.get_feature_names_out()] = ohe.transform(\n",
      "/var/folders/kr/l8l6g3315gj_6wm9tbxwybbh0000gn/T/ipykernel_2962/2713683421.py:6: PerformanceWarning: DataFrame is highly fragmented.  This is usually the result of calling `frame.insert` many times, which has poor performance.  Consider joining all columns at once using pd.concat(axis=1) instead. To get a de-fragmented frame, use `newframe = frame.copy()`\n",
      "  features_valid_ohe[ohe.get_feature_names_out()] = ohe.transform(\n",
      "/var/folders/kr/l8l6g3315gj_6wm9tbxwybbh0000gn/T/ipykernel_2962/2713683421.py:6: PerformanceWarning: DataFrame is highly fragmented.  This is usually the result of calling `frame.insert` many times, which has poor performance.  Consider joining all columns at once using pd.concat(axis=1) instead. To get a de-fragmented frame, use `newframe = frame.copy()`\n",
      "  features_valid_ohe[ohe.get_feature_names_out()] = ohe.transform(\n",
      "/var/folders/kr/l8l6g3315gj_6wm9tbxwybbh0000gn/T/ipykernel_2962/2713683421.py:6: PerformanceWarning: DataFrame is highly fragmented.  This is usually the result of calling `frame.insert` many times, which has poor performance.  Consider joining all columns at once using pd.concat(axis=1) instead. To get a de-fragmented frame, use `newframe = frame.copy()`\n",
      "  features_valid_ohe[ohe.get_feature_names_out()] = ohe.transform(\n",
      "/var/folders/kr/l8l6g3315gj_6wm9tbxwybbh0000gn/T/ipykernel_2962/2713683421.py:6: PerformanceWarning: DataFrame is highly fragmented.  This is usually the result of calling `frame.insert` many times, which has poor performance.  Consider joining all columns at once using pd.concat(axis=1) instead. To get a de-fragmented frame, use `newframe = frame.copy()`\n",
      "  features_valid_ohe[ohe.get_feature_names_out()] = ohe.transform(\n",
      "/var/folders/kr/l8l6g3315gj_6wm9tbxwybbh0000gn/T/ipykernel_2962/2713683421.py:6: PerformanceWarning: DataFrame is highly fragmented.  This is usually the result of calling `frame.insert` many times, which has poor performance.  Consider joining all columns at once using pd.concat(axis=1) instead. To get a de-fragmented frame, use `newframe = frame.copy()`\n",
      "  features_valid_ohe[ohe.get_feature_names_out()] = ohe.transform(\n",
      "/var/folders/kr/l8l6g3315gj_6wm9tbxwybbh0000gn/T/ipykernel_2962/2713683421.py:6: PerformanceWarning: DataFrame is highly fragmented.  This is usually the result of calling `frame.insert` many times, which has poor performance.  Consider joining all columns at once using pd.concat(axis=1) instead. To get a de-fragmented frame, use `newframe = frame.copy()`\n",
      "  features_valid_ohe[ohe.get_feature_names_out()] = ohe.transform(\n",
      "/var/folders/kr/l8l6g3315gj_6wm9tbxwybbh0000gn/T/ipykernel_2962/2713683421.py:6: PerformanceWarning: DataFrame is highly fragmented.  This is usually the result of calling `frame.insert` many times, which has poor performance.  Consider joining all columns at once using pd.concat(axis=1) instead. To get a de-fragmented frame, use `newframe = frame.copy()`\n",
      "  features_valid_ohe[ohe.get_feature_names_out()] = ohe.transform(\n",
      "/var/folders/kr/l8l6g3315gj_6wm9tbxwybbh0000gn/T/ipykernel_2962/2713683421.py:6: PerformanceWarning: DataFrame is highly fragmented.  This is usually the result of calling `frame.insert` many times, which has poor performance.  Consider joining all columns at once using pd.concat(axis=1) instead. To get a de-fragmented frame, use `newframe = frame.copy()`\n",
      "  features_valid_ohe[ohe.get_feature_names_out()] = ohe.transform(\n",
      "/var/folders/kr/l8l6g3315gj_6wm9tbxwybbh0000gn/T/ipykernel_2962/2713683421.py:6: PerformanceWarning: DataFrame is highly fragmented.  This is usually the result of calling `frame.insert` many times, which has poor performance.  Consider joining all columns at once using pd.concat(axis=1) instead. To get a de-fragmented frame, use `newframe = frame.copy()`\n",
      "  features_valid_ohe[ohe.get_feature_names_out()] = ohe.transform(\n",
      "/var/folders/kr/l8l6g3315gj_6wm9tbxwybbh0000gn/T/ipykernel_2962/2713683421.py:6: PerformanceWarning: DataFrame is highly fragmented.  This is usually the result of calling `frame.insert` many times, which has poor performance.  Consider joining all columns at once using pd.concat(axis=1) instead. To get a de-fragmented frame, use `newframe = frame.copy()`\n",
      "  features_valid_ohe[ohe.get_feature_names_out()] = ohe.transform(\n",
      "/var/folders/kr/l8l6g3315gj_6wm9tbxwybbh0000gn/T/ipykernel_2962/2713683421.py:6: PerformanceWarning: DataFrame is highly fragmented.  This is usually the result of calling `frame.insert` many times, which has poor performance.  Consider joining all columns at once using pd.concat(axis=1) instead. To get a de-fragmented frame, use `newframe = frame.copy()`\n",
      "  features_valid_ohe[ohe.get_feature_names_out()] = ohe.transform(\n",
      "/var/folders/kr/l8l6g3315gj_6wm9tbxwybbh0000gn/T/ipykernel_2962/2713683421.py:6: PerformanceWarning: DataFrame is highly fragmented.  This is usually the result of calling `frame.insert` many times, which has poor performance.  Consider joining all columns at once using pd.concat(axis=1) instead. To get a de-fragmented frame, use `newframe = frame.copy()`\n",
      "  features_valid_ohe[ohe.get_feature_names_out()] = ohe.transform(\n",
      "/var/folders/kr/l8l6g3315gj_6wm9tbxwybbh0000gn/T/ipykernel_2962/2713683421.py:6: PerformanceWarning: DataFrame is highly fragmented.  This is usually the result of calling `frame.insert` many times, which has poor performance.  Consider joining all columns at once using pd.concat(axis=1) instead. To get a de-fragmented frame, use `newframe = frame.copy()`\n",
      "  features_valid_ohe[ohe.get_feature_names_out()] = ohe.transform(\n",
      "/var/folders/kr/l8l6g3315gj_6wm9tbxwybbh0000gn/T/ipykernel_2962/2713683421.py:6: PerformanceWarning: DataFrame is highly fragmented.  This is usually the result of calling `frame.insert` many times, which has poor performance.  Consider joining all columns at once using pd.concat(axis=1) instead. To get a de-fragmented frame, use `newframe = frame.copy()`\n",
      "  features_valid_ohe[ohe.get_feature_names_out()] = ohe.transform(\n",
      "/var/folders/kr/l8l6g3315gj_6wm9tbxwybbh0000gn/T/ipykernel_2962/2713683421.py:6: PerformanceWarning: DataFrame is highly fragmented.  This is usually the result of calling `frame.insert` many times, which has poor performance.  Consider joining all columns at once using pd.concat(axis=1) instead. To get a de-fragmented frame, use `newframe = frame.copy()`\n",
      "  features_valid_ohe[ohe.get_feature_names_out()] = ohe.transform(\n",
      "/var/folders/kr/l8l6g3315gj_6wm9tbxwybbh0000gn/T/ipykernel_2962/2713683421.py:6: PerformanceWarning: DataFrame is highly fragmented.  This is usually the result of calling `frame.insert` many times, which has poor performance.  Consider joining all columns at once using pd.concat(axis=1) instead. To get a de-fragmented frame, use `newframe = frame.copy()`\n",
      "  features_valid_ohe[ohe.get_feature_names_out()] = ohe.transform(\n",
      "/var/folders/kr/l8l6g3315gj_6wm9tbxwybbh0000gn/T/ipykernel_2962/2713683421.py:6: PerformanceWarning: DataFrame is highly fragmented.  This is usually the result of calling `frame.insert` many times, which has poor performance.  Consider joining all columns at once using pd.concat(axis=1) instead. To get a de-fragmented frame, use `newframe = frame.copy()`\n",
      "  features_valid_ohe[ohe.get_feature_names_out()] = ohe.transform(\n",
      "/var/folders/kr/l8l6g3315gj_6wm9tbxwybbh0000gn/T/ipykernel_2962/2713683421.py:6: PerformanceWarning: DataFrame is highly fragmented.  This is usually the result of calling `frame.insert` many times, which has poor performance.  Consider joining all columns at once using pd.concat(axis=1) instead. To get a de-fragmented frame, use `newframe = frame.copy()`\n",
      "  features_valid_ohe[ohe.get_feature_names_out()] = ohe.transform(\n",
      "/var/folders/kr/l8l6g3315gj_6wm9tbxwybbh0000gn/T/ipykernel_2962/2713683421.py:6: PerformanceWarning: DataFrame is highly fragmented.  This is usually the result of calling `frame.insert` many times, which has poor performance.  Consider joining all columns at once using pd.concat(axis=1) instead. To get a de-fragmented frame, use `newframe = frame.copy()`\n",
      "  features_valid_ohe[ohe.get_feature_names_out()] = ohe.transform(\n",
      "/var/folders/kr/l8l6g3315gj_6wm9tbxwybbh0000gn/T/ipykernel_2962/2713683421.py:6: PerformanceWarning: DataFrame is highly fragmented.  This is usually the result of calling `frame.insert` many times, which has poor performance.  Consider joining all columns at once using pd.concat(axis=1) instead. To get a de-fragmented frame, use `newframe = frame.copy()`\n",
      "  features_valid_ohe[ohe.get_feature_names_out()] = ohe.transform(\n",
      "/var/folders/kr/l8l6g3315gj_6wm9tbxwybbh0000gn/T/ipykernel_2962/2713683421.py:6: PerformanceWarning: DataFrame is highly fragmented.  This is usually the result of calling `frame.insert` many times, which has poor performance.  Consider joining all columns at once using pd.concat(axis=1) instead. To get a de-fragmented frame, use `newframe = frame.copy()`\n",
      "  features_valid_ohe[ohe.get_feature_names_out()] = ohe.transform(\n",
      "/var/folders/kr/l8l6g3315gj_6wm9tbxwybbh0000gn/T/ipykernel_2962/2713683421.py:6: PerformanceWarning: DataFrame is highly fragmented.  This is usually the result of calling `frame.insert` many times, which has poor performance.  Consider joining all columns at once using pd.concat(axis=1) instead. To get a de-fragmented frame, use `newframe = frame.copy()`\n",
      "  features_valid_ohe[ohe.get_feature_names_out()] = ohe.transform(\n",
      "/var/folders/kr/l8l6g3315gj_6wm9tbxwybbh0000gn/T/ipykernel_2962/2713683421.py:6: PerformanceWarning: DataFrame is highly fragmented.  This is usually the result of calling `frame.insert` many times, which has poor performance.  Consider joining all columns at once using pd.concat(axis=1) instead. To get a de-fragmented frame, use `newframe = frame.copy()`\n",
      "  features_valid_ohe[ohe.get_feature_names_out()] = ohe.transform(\n",
      "/var/folders/kr/l8l6g3315gj_6wm9tbxwybbh0000gn/T/ipykernel_2962/2713683421.py:6: PerformanceWarning: DataFrame is highly fragmented.  This is usually the result of calling `frame.insert` many times, which has poor performance.  Consider joining all columns at once using pd.concat(axis=1) instead. To get a de-fragmented frame, use `newframe = frame.copy()`\n",
      "  features_valid_ohe[ohe.get_feature_names_out()] = ohe.transform(\n",
      "/var/folders/kr/l8l6g3315gj_6wm9tbxwybbh0000gn/T/ipykernel_2962/2713683421.py:6: PerformanceWarning: DataFrame is highly fragmented.  This is usually the result of calling `frame.insert` many times, which has poor performance.  Consider joining all columns at once using pd.concat(axis=1) instead. To get a de-fragmented frame, use `newframe = frame.copy()`\n",
      "  features_valid_ohe[ohe.get_feature_names_out()] = ohe.transform(\n",
      "/var/folders/kr/l8l6g3315gj_6wm9tbxwybbh0000gn/T/ipykernel_2962/2713683421.py:6: PerformanceWarning: DataFrame is highly fragmented.  This is usually the result of calling `frame.insert` many times, which has poor performance.  Consider joining all columns at once using pd.concat(axis=1) instead. To get a de-fragmented frame, use `newframe = frame.copy()`\n",
      "  features_valid_ohe[ohe.get_feature_names_out()] = ohe.transform(\n",
      "/var/folders/kr/l8l6g3315gj_6wm9tbxwybbh0000gn/T/ipykernel_2962/2713683421.py:6: PerformanceWarning: DataFrame is highly fragmented.  This is usually the result of calling `frame.insert` many times, which has poor performance.  Consider joining all columns at once using pd.concat(axis=1) instead. To get a de-fragmented frame, use `newframe = frame.copy()`\n",
      "  features_valid_ohe[ohe.get_feature_names_out()] = ohe.transform(\n",
      "/var/folders/kr/l8l6g3315gj_6wm9tbxwybbh0000gn/T/ipykernel_2962/2713683421.py:6: PerformanceWarning: DataFrame is highly fragmented.  This is usually the result of calling `frame.insert` many times, which has poor performance.  Consider joining all columns at once using pd.concat(axis=1) instead. To get a de-fragmented frame, use `newframe = frame.copy()`\n",
      "  features_valid_ohe[ohe.get_feature_names_out()] = ohe.transform(\n",
      "/var/folders/kr/l8l6g3315gj_6wm9tbxwybbh0000gn/T/ipykernel_2962/2713683421.py:6: PerformanceWarning: DataFrame is highly fragmented.  This is usually the result of calling `frame.insert` many times, which has poor performance.  Consider joining all columns at once using pd.concat(axis=1) instead. To get a de-fragmented frame, use `newframe = frame.copy()`\n",
      "  features_valid_ohe[ohe.get_feature_names_out()] = ohe.transform(\n",
      "/var/folders/kr/l8l6g3315gj_6wm9tbxwybbh0000gn/T/ipykernel_2962/2713683421.py:6: PerformanceWarning: DataFrame is highly fragmented.  This is usually the result of calling `frame.insert` many times, which has poor performance.  Consider joining all columns at once using pd.concat(axis=1) instead. To get a de-fragmented frame, use `newframe = frame.copy()`\n",
      "  features_valid_ohe[ohe.get_feature_names_out()] = ohe.transform(\n",
      "/var/folders/kr/l8l6g3315gj_6wm9tbxwybbh0000gn/T/ipykernel_2962/2713683421.py:6: PerformanceWarning: DataFrame is highly fragmented.  This is usually the result of calling `frame.insert` many times, which has poor performance.  Consider joining all columns at once using pd.concat(axis=1) instead. To get a de-fragmented frame, use `newframe = frame.copy()`\n",
      "  features_valid_ohe[ohe.get_feature_names_out()] = ohe.transform(\n",
      "/var/folders/kr/l8l6g3315gj_6wm9tbxwybbh0000gn/T/ipykernel_2962/2713683421.py:6: PerformanceWarning: DataFrame is highly fragmented.  This is usually the result of calling `frame.insert` many times, which has poor performance.  Consider joining all columns at once using pd.concat(axis=1) instead. To get a de-fragmented frame, use `newframe = frame.copy()`\n",
      "  features_valid_ohe[ohe.get_feature_names_out()] = ohe.transform(\n",
      "/var/folders/kr/l8l6g3315gj_6wm9tbxwybbh0000gn/T/ipykernel_2962/2713683421.py:6: PerformanceWarning: DataFrame is highly fragmented.  This is usually the result of calling `frame.insert` many times, which has poor performance.  Consider joining all columns at once using pd.concat(axis=1) instead. To get a de-fragmented frame, use `newframe = frame.copy()`\n",
      "  features_valid_ohe[ohe.get_feature_names_out()] = ohe.transform(\n",
      "/var/folders/kr/l8l6g3315gj_6wm9tbxwybbh0000gn/T/ipykernel_2962/2713683421.py:6: PerformanceWarning: DataFrame is highly fragmented.  This is usually the result of calling `frame.insert` many times, which has poor performance.  Consider joining all columns at once using pd.concat(axis=1) instead. To get a de-fragmented frame, use `newframe = frame.copy()`\n",
      "  features_valid_ohe[ohe.get_feature_names_out()] = ohe.transform(\n",
      "/var/folders/kr/l8l6g3315gj_6wm9tbxwybbh0000gn/T/ipykernel_2962/2713683421.py:6: PerformanceWarning: DataFrame is highly fragmented.  This is usually the result of calling `frame.insert` many times, which has poor performance.  Consider joining all columns at once using pd.concat(axis=1) instead. To get a de-fragmented frame, use `newframe = frame.copy()`\n",
      "  features_valid_ohe[ohe.get_feature_names_out()] = ohe.transform(\n",
      "/var/folders/kr/l8l6g3315gj_6wm9tbxwybbh0000gn/T/ipykernel_2962/2713683421.py:6: PerformanceWarning: DataFrame is highly fragmented.  This is usually the result of calling `frame.insert` many times, which has poor performance.  Consider joining all columns at once using pd.concat(axis=1) instead. To get a de-fragmented frame, use `newframe = frame.copy()`\n",
      "  features_valid_ohe[ohe.get_feature_names_out()] = ohe.transform(\n",
      "/var/folders/kr/l8l6g3315gj_6wm9tbxwybbh0000gn/T/ipykernel_2962/2713683421.py:6: PerformanceWarning: DataFrame is highly fragmented.  This is usually the result of calling `frame.insert` many times, which has poor performance.  Consider joining all columns at once using pd.concat(axis=1) instead. To get a de-fragmented frame, use `newframe = frame.copy()`\n",
      "  features_valid_ohe[ohe.get_feature_names_out()] = ohe.transform(\n",
      "/var/folders/kr/l8l6g3315gj_6wm9tbxwybbh0000gn/T/ipykernel_2962/2713683421.py:6: PerformanceWarning: DataFrame is highly fragmented.  This is usually the result of calling `frame.insert` many times, which has poor performance.  Consider joining all columns at once using pd.concat(axis=1) instead. To get a de-fragmented frame, use `newframe = frame.copy()`\n",
      "  features_valid_ohe[ohe.get_feature_names_out()] = ohe.transform(\n",
      "/var/folders/kr/l8l6g3315gj_6wm9tbxwybbh0000gn/T/ipykernel_2962/2713683421.py:6: PerformanceWarning: DataFrame is highly fragmented.  This is usually the result of calling `frame.insert` many times, which has poor performance.  Consider joining all columns at once using pd.concat(axis=1) instead. To get a de-fragmented frame, use `newframe = frame.copy()`\n",
      "  features_valid_ohe[ohe.get_feature_names_out()] = ohe.transform(\n",
      "/var/folders/kr/l8l6g3315gj_6wm9tbxwybbh0000gn/T/ipykernel_2962/2713683421.py:10: PerformanceWarning: DataFrame is highly fragmented.  This is usually the result of calling `frame.insert` many times, which has poor performance.  Consider joining all columns at once using pd.concat(axis=1) instead. To get a de-fragmented frame, use `newframe = frame.copy()`\n",
      "  features_test_ohe[ohe.get_feature_names_out()] = ohe.transform(\n",
      "/var/folders/kr/l8l6g3315gj_6wm9tbxwybbh0000gn/T/ipykernel_2962/2713683421.py:10: PerformanceWarning: DataFrame is highly fragmented.  This is usually the result of calling `frame.insert` many times, which has poor performance.  Consider joining all columns at once using pd.concat(axis=1) instead. To get a de-fragmented frame, use `newframe = frame.copy()`\n",
      "  features_test_ohe[ohe.get_feature_names_out()] = ohe.transform(\n",
      "/var/folders/kr/l8l6g3315gj_6wm9tbxwybbh0000gn/T/ipykernel_2962/2713683421.py:10: PerformanceWarning: DataFrame is highly fragmented.  This is usually the result of calling `frame.insert` many times, which has poor performance.  Consider joining all columns at once using pd.concat(axis=1) instead. To get a de-fragmented frame, use `newframe = frame.copy()`\n",
      "  features_test_ohe[ohe.get_feature_names_out()] = ohe.transform(\n",
      "/var/folders/kr/l8l6g3315gj_6wm9tbxwybbh0000gn/T/ipykernel_2962/2713683421.py:10: PerformanceWarning: DataFrame is highly fragmented.  This is usually the result of calling `frame.insert` many times, which has poor performance.  Consider joining all columns at once using pd.concat(axis=1) instead. To get a de-fragmented frame, use `newframe = frame.copy()`\n",
      "  features_test_ohe[ohe.get_feature_names_out()] = ohe.transform(\n",
      "/var/folders/kr/l8l6g3315gj_6wm9tbxwybbh0000gn/T/ipykernel_2962/2713683421.py:10: PerformanceWarning: DataFrame is highly fragmented.  This is usually the result of calling `frame.insert` many times, which has poor performance.  Consider joining all columns at once using pd.concat(axis=1) instead. To get a de-fragmented frame, use `newframe = frame.copy()`\n",
      "  features_test_ohe[ohe.get_feature_names_out()] = ohe.transform(\n",
      "/var/folders/kr/l8l6g3315gj_6wm9tbxwybbh0000gn/T/ipykernel_2962/2713683421.py:10: PerformanceWarning: DataFrame is highly fragmented.  This is usually the result of calling `frame.insert` many times, which has poor performance.  Consider joining all columns at once using pd.concat(axis=1) instead. To get a de-fragmented frame, use `newframe = frame.copy()`\n",
      "  features_test_ohe[ohe.get_feature_names_out()] = ohe.transform(\n",
      "/var/folders/kr/l8l6g3315gj_6wm9tbxwybbh0000gn/T/ipykernel_2962/2713683421.py:10: PerformanceWarning: DataFrame is highly fragmented.  This is usually the result of calling `frame.insert` many times, which has poor performance.  Consider joining all columns at once using pd.concat(axis=1) instead. To get a de-fragmented frame, use `newframe = frame.copy()`\n",
      "  features_test_ohe[ohe.get_feature_names_out()] = ohe.transform(\n",
      "/var/folders/kr/l8l6g3315gj_6wm9tbxwybbh0000gn/T/ipykernel_2962/2713683421.py:10: PerformanceWarning: DataFrame is highly fragmented.  This is usually the result of calling `frame.insert` many times, which has poor performance.  Consider joining all columns at once using pd.concat(axis=1) instead. To get a de-fragmented frame, use `newframe = frame.copy()`\n",
      "  features_test_ohe[ohe.get_feature_names_out()] = ohe.transform(\n",
      "/var/folders/kr/l8l6g3315gj_6wm9tbxwybbh0000gn/T/ipykernel_2962/2713683421.py:10: PerformanceWarning: DataFrame is highly fragmented.  This is usually the result of calling `frame.insert` many times, which has poor performance.  Consider joining all columns at once using pd.concat(axis=1) instead. To get a de-fragmented frame, use `newframe = frame.copy()`\n",
      "  features_test_ohe[ohe.get_feature_names_out()] = ohe.transform(\n",
      "/var/folders/kr/l8l6g3315gj_6wm9tbxwybbh0000gn/T/ipykernel_2962/2713683421.py:10: PerformanceWarning: DataFrame is highly fragmented.  This is usually the result of calling `frame.insert` many times, which has poor performance.  Consider joining all columns at once using pd.concat(axis=1) instead. To get a de-fragmented frame, use `newframe = frame.copy()`\n",
      "  features_test_ohe[ohe.get_feature_names_out()] = ohe.transform(\n",
      "/var/folders/kr/l8l6g3315gj_6wm9tbxwybbh0000gn/T/ipykernel_2962/2713683421.py:10: PerformanceWarning: DataFrame is highly fragmented.  This is usually the result of calling `frame.insert` many times, which has poor performance.  Consider joining all columns at once using pd.concat(axis=1) instead. To get a de-fragmented frame, use `newframe = frame.copy()`\n",
      "  features_test_ohe[ohe.get_feature_names_out()] = ohe.transform(\n",
      "/var/folders/kr/l8l6g3315gj_6wm9tbxwybbh0000gn/T/ipykernel_2962/2713683421.py:10: PerformanceWarning: DataFrame is highly fragmented.  This is usually the result of calling `frame.insert` many times, which has poor performance.  Consider joining all columns at once using pd.concat(axis=1) instead. To get a de-fragmented frame, use `newframe = frame.copy()`\n",
      "  features_test_ohe[ohe.get_feature_names_out()] = ohe.transform(\n",
      "/var/folders/kr/l8l6g3315gj_6wm9tbxwybbh0000gn/T/ipykernel_2962/2713683421.py:10: PerformanceWarning: DataFrame is highly fragmented.  This is usually the result of calling `frame.insert` many times, which has poor performance.  Consider joining all columns at once using pd.concat(axis=1) instead. To get a de-fragmented frame, use `newframe = frame.copy()`\n",
      "  features_test_ohe[ohe.get_feature_names_out()] = ohe.transform(\n",
      "/var/folders/kr/l8l6g3315gj_6wm9tbxwybbh0000gn/T/ipykernel_2962/2713683421.py:10: PerformanceWarning: DataFrame is highly fragmented.  This is usually the result of calling `frame.insert` many times, which has poor performance.  Consider joining all columns at once using pd.concat(axis=1) instead. To get a de-fragmented frame, use `newframe = frame.copy()`\n",
      "  features_test_ohe[ohe.get_feature_names_out()] = ohe.transform(\n",
      "/var/folders/kr/l8l6g3315gj_6wm9tbxwybbh0000gn/T/ipykernel_2962/2713683421.py:10: PerformanceWarning: DataFrame is highly fragmented.  This is usually the result of calling `frame.insert` many times, which has poor performance.  Consider joining all columns at once using pd.concat(axis=1) instead. To get a de-fragmented frame, use `newframe = frame.copy()`\n",
      "  features_test_ohe[ohe.get_feature_names_out()] = ohe.transform(\n",
      "/var/folders/kr/l8l6g3315gj_6wm9tbxwybbh0000gn/T/ipykernel_2962/2713683421.py:10: PerformanceWarning: DataFrame is highly fragmented.  This is usually the result of calling `frame.insert` many times, which has poor performance.  Consider joining all columns at once using pd.concat(axis=1) instead. To get a de-fragmented frame, use `newframe = frame.copy()`\n",
      "  features_test_ohe[ohe.get_feature_names_out()] = ohe.transform(\n",
      "/var/folders/kr/l8l6g3315gj_6wm9tbxwybbh0000gn/T/ipykernel_2962/2713683421.py:10: PerformanceWarning: DataFrame is highly fragmented.  This is usually the result of calling `frame.insert` many times, which has poor performance.  Consider joining all columns at once using pd.concat(axis=1) instead. To get a de-fragmented frame, use `newframe = frame.copy()`\n",
      "  features_test_ohe[ohe.get_feature_names_out()] = ohe.transform(\n",
      "/var/folders/kr/l8l6g3315gj_6wm9tbxwybbh0000gn/T/ipykernel_2962/2713683421.py:10: PerformanceWarning: DataFrame is highly fragmented.  This is usually the result of calling `frame.insert` many times, which has poor performance.  Consider joining all columns at once using pd.concat(axis=1) instead. To get a de-fragmented frame, use `newframe = frame.copy()`\n",
      "  features_test_ohe[ohe.get_feature_names_out()] = ohe.transform(\n",
      "/var/folders/kr/l8l6g3315gj_6wm9tbxwybbh0000gn/T/ipykernel_2962/2713683421.py:10: PerformanceWarning: DataFrame is highly fragmented.  This is usually the result of calling `frame.insert` many times, which has poor performance.  Consider joining all columns at once using pd.concat(axis=1) instead. To get a de-fragmented frame, use `newframe = frame.copy()`\n",
      "  features_test_ohe[ohe.get_feature_names_out()] = ohe.transform(\n",
      "/var/folders/kr/l8l6g3315gj_6wm9tbxwybbh0000gn/T/ipykernel_2962/2713683421.py:10: PerformanceWarning: DataFrame is highly fragmented.  This is usually the result of calling `frame.insert` many times, which has poor performance.  Consider joining all columns at once using pd.concat(axis=1) instead. To get a de-fragmented frame, use `newframe = frame.copy()`\n",
      "  features_test_ohe[ohe.get_feature_names_out()] = ohe.transform(\n",
      "/var/folders/kr/l8l6g3315gj_6wm9tbxwybbh0000gn/T/ipykernel_2962/2713683421.py:10: PerformanceWarning: DataFrame is highly fragmented.  This is usually the result of calling `frame.insert` many times, which has poor performance.  Consider joining all columns at once using pd.concat(axis=1) instead. To get a de-fragmented frame, use `newframe = frame.copy()`\n",
      "  features_test_ohe[ohe.get_feature_names_out()] = ohe.transform(\n",
      "/var/folders/kr/l8l6g3315gj_6wm9tbxwybbh0000gn/T/ipykernel_2962/2713683421.py:10: PerformanceWarning: DataFrame is highly fragmented.  This is usually the result of calling `frame.insert` many times, which has poor performance.  Consider joining all columns at once using pd.concat(axis=1) instead. To get a de-fragmented frame, use `newframe = frame.copy()`\n",
      "  features_test_ohe[ohe.get_feature_names_out()] = ohe.transform(\n",
      "/var/folders/kr/l8l6g3315gj_6wm9tbxwybbh0000gn/T/ipykernel_2962/2713683421.py:10: PerformanceWarning: DataFrame is highly fragmented.  This is usually the result of calling `frame.insert` many times, which has poor performance.  Consider joining all columns at once using pd.concat(axis=1) instead. To get a de-fragmented frame, use `newframe = frame.copy()`\n",
      "  features_test_ohe[ohe.get_feature_names_out()] = ohe.transform(\n",
      "/var/folders/kr/l8l6g3315gj_6wm9tbxwybbh0000gn/T/ipykernel_2962/2713683421.py:10: PerformanceWarning: DataFrame is highly fragmented.  This is usually the result of calling `frame.insert` many times, which has poor performance.  Consider joining all columns at once using pd.concat(axis=1) instead. To get a de-fragmented frame, use `newframe = frame.copy()`\n",
      "  features_test_ohe[ohe.get_feature_names_out()] = ohe.transform(\n",
      "/var/folders/kr/l8l6g3315gj_6wm9tbxwybbh0000gn/T/ipykernel_2962/2713683421.py:10: PerformanceWarning: DataFrame is highly fragmented.  This is usually the result of calling `frame.insert` many times, which has poor performance.  Consider joining all columns at once using pd.concat(axis=1) instead. To get a de-fragmented frame, use `newframe = frame.copy()`\n",
      "  features_test_ohe[ohe.get_feature_names_out()] = ohe.transform(\n",
      "/var/folders/kr/l8l6g3315gj_6wm9tbxwybbh0000gn/T/ipykernel_2962/2713683421.py:10: PerformanceWarning: DataFrame is highly fragmented.  This is usually the result of calling `frame.insert` many times, which has poor performance.  Consider joining all columns at once using pd.concat(axis=1) instead. To get a de-fragmented frame, use `newframe = frame.copy()`\n",
      "  features_test_ohe[ohe.get_feature_names_out()] = ohe.transform(\n",
      "/var/folders/kr/l8l6g3315gj_6wm9tbxwybbh0000gn/T/ipykernel_2962/2713683421.py:10: PerformanceWarning: DataFrame is highly fragmented.  This is usually the result of calling `frame.insert` many times, which has poor performance.  Consider joining all columns at once using pd.concat(axis=1) instead. To get a de-fragmented frame, use `newframe = frame.copy()`\n",
      "  features_test_ohe[ohe.get_feature_names_out()] = ohe.transform(\n",
      "/var/folders/kr/l8l6g3315gj_6wm9tbxwybbh0000gn/T/ipykernel_2962/2713683421.py:10: PerformanceWarning: DataFrame is highly fragmented.  This is usually the result of calling `frame.insert` many times, which has poor performance.  Consider joining all columns at once using pd.concat(axis=1) instead. To get a de-fragmented frame, use `newframe = frame.copy()`\n",
      "  features_test_ohe[ohe.get_feature_names_out()] = ohe.transform(\n",
      "/var/folders/kr/l8l6g3315gj_6wm9tbxwybbh0000gn/T/ipykernel_2962/2713683421.py:10: PerformanceWarning: DataFrame is highly fragmented.  This is usually the result of calling `frame.insert` many times, which has poor performance.  Consider joining all columns at once using pd.concat(axis=1) instead. To get a de-fragmented frame, use `newframe = frame.copy()`\n",
      "  features_test_ohe[ohe.get_feature_names_out()] = ohe.transform(\n",
      "/var/folders/kr/l8l6g3315gj_6wm9tbxwybbh0000gn/T/ipykernel_2962/2713683421.py:10: PerformanceWarning: DataFrame is highly fragmented.  This is usually the result of calling `frame.insert` many times, which has poor performance.  Consider joining all columns at once using pd.concat(axis=1) instead. To get a de-fragmented frame, use `newframe = frame.copy()`\n",
      "  features_test_ohe[ohe.get_feature_names_out()] = ohe.transform(\n",
      "/var/folders/kr/l8l6g3315gj_6wm9tbxwybbh0000gn/T/ipykernel_2962/2713683421.py:10: PerformanceWarning: DataFrame is highly fragmented.  This is usually the result of calling `frame.insert` many times, which has poor performance.  Consider joining all columns at once using pd.concat(axis=1) instead. To get a de-fragmented frame, use `newframe = frame.copy()`\n",
      "  features_test_ohe[ohe.get_feature_names_out()] = ohe.transform(\n",
      "/var/folders/kr/l8l6g3315gj_6wm9tbxwybbh0000gn/T/ipykernel_2962/2713683421.py:10: PerformanceWarning: DataFrame is highly fragmented.  This is usually the result of calling `frame.insert` many times, which has poor performance.  Consider joining all columns at once using pd.concat(axis=1) instead. To get a de-fragmented frame, use `newframe = frame.copy()`\n",
      "  features_test_ohe[ohe.get_feature_names_out()] = ohe.transform(\n",
      "/var/folders/kr/l8l6g3315gj_6wm9tbxwybbh0000gn/T/ipykernel_2962/2713683421.py:10: PerformanceWarning: DataFrame is highly fragmented.  This is usually the result of calling `frame.insert` many times, which has poor performance.  Consider joining all columns at once using pd.concat(axis=1) instead. To get a de-fragmented frame, use `newframe = frame.copy()`\n",
      "  features_test_ohe[ohe.get_feature_names_out()] = ohe.transform(\n",
      "/var/folders/kr/l8l6g3315gj_6wm9tbxwybbh0000gn/T/ipykernel_2962/2713683421.py:10: PerformanceWarning: DataFrame is highly fragmented.  This is usually the result of calling `frame.insert` many times, which has poor performance.  Consider joining all columns at once using pd.concat(axis=1) instead. To get a de-fragmented frame, use `newframe = frame.copy()`\n",
      "  features_test_ohe[ohe.get_feature_names_out()] = ohe.transform(\n",
      "/var/folders/kr/l8l6g3315gj_6wm9tbxwybbh0000gn/T/ipykernel_2962/2713683421.py:10: PerformanceWarning: DataFrame is highly fragmented.  This is usually the result of calling `frame.insert` many times, which has poor performance.  Consider joining all columns at once using pd.concat(axis=1) instead. To get a de-fragmented frame, use `newframe = frame.copy()`\n",
      "  features_test_ohe[ohe.get_feature_names_out()] = ohe.transform(\n",
      "/var/folders/kr/l8l6g3315gj_6wm9tbxwybbh0000gn/T/ipykernel_2962/2713683421.py:10: PerformanceWarning: DataFrame is highly fragmented.  This is usually the result of calling `frame.insert` many times, which has poor performance.  Consider joining all columns at once using pd.concat(axis=1) instead. To get a de-fragmented frame, use `newframe = frame.copy()`\n",
      "  features_test_ohe[ohe.get_feature_names_out()] = ohe.transform(\n",
      "/var/folders/kr/l8l6g3315gj_6wm9tbxwybbh0000gn/T/ipykernel_2962/2713683421.py:10: PerformanceWarning: DataFrame is highly fragmented.  This is usually the result of calling `frame.insert` many times, which has poor performance.  Consider joining all columns at once using pd.concat(axis=1) instead. To get a de-fragmented frame, use `newframe = frame.copy()`\n",
      "  features_test_ohe[ohe.get_feature_names_out()] = ohe.transform(\n",
      "/var/folders/kr/l8l6g3315gj_6wm9tbxwybbh0000gn/T/ipykernel_2962/2713683421.py:10: PerformanceWarning: DataFrame is highly fragmented.  This is usually the result of calling `frame.insert` many times, which has poor performance.  Consider joining all columns at once using pd.concat(axis=1) instead. To get a de-fragmented frame, use `newframe = frame.copy()`\n",
      "  features_test_ohe[ohe.get_feature_names_out()] = ohe.transform(\n",
      "/var/folders/kr/l8l6g3315gj_6wm9tbxwybbh0000gn/T/ipykernel_2962/2713683421.py:10: PerformanceWarning: DataFrame is highly fragmented.  This is usually the result of calling `frame.insert` many times, which has poor performance.  Consider joining all columns at once using pd.concat(axis=1) instead. To get a de-fragmented frame, use `newframe = frame.copy()`\n",
      "  features_test_ohe[ohe.get_feature_names_out()] = ohe.transform(\n",
      "/var/folders/kr/l8l6g3315gj_6wm9tbxwybbh0000gn/T/ipykernel_2962/2713683421.py:10: PerformanceWarning: DataFrame is highly fragmented.  This is usually the result of calling `frame.insert` many times, which has poor performance.  Consider joining all columns at once using pd.concat(axis=1) instead. To get a de-fragmented frame, use `newframe = frame.copy()`\n",
      "  features_test_ohe[ohe.get_feature_names_out()] = ohe.transform(\n",
      "/var/folders/kr/l8l6g3315gj_6wm9tbxwybbh0000gn/T/ipykernel_2962/2713683421.py:10: PerformanceWarning: DataFrame is highly fragmented.  This is usually the result of calling `frame.insert` many times, which has poor performance.  Consider joining all columns at once using pd.concat(axis=1) instead. To get a de-fragmented frame, use `newframe = frame.copy()`\n",
      "  features_test_ohe[ohe.get_feature_names_out()] = ohe.transform(\n",
      "/var/folders/kr/l8l6g3315gj_6wm9tbxwybbh0000gn/T/ipykernel_2962/2713683421.py:10: PerformanceWarning: DataFrame is highly fragmented.  This is usually the result of calling `frame.insert` many times, which has poor performance.  Consider joining all columns at once using pd.concat(axis=1) instead. To get a de-fragmented frame, use `newframe = frame.copy()`\n",
      "  features_test_ohe[ohe.get_feature_names_out()] = ohe.transform(\n",
      "/var/folders/kr/l8l6g3315gj_6wm9tbxwybbh0000gn/T/ipykernel_2962/2713683421.py:10: PerformanceWarning: DataFrame is highly fragmented.  This is usually the result of calling `frame.insert` many times, which has poor performance.  Consider joining all columns at once using pd.concat(axis=1) instead. To get a de-fragmented frame, use `newframe = frame.copy()`\n",
      "  features_test_ohe[ohe.get_feature_names_out()] = ohe.transform(\n",
      "/var/folders/kr/l8l6g3315gj_6wm9tbxwybbh0000gn/T/ipykernel_2962/2713683421.py:10: PerformanceWarning: DataFrame is highly fragmented.  This is usually the result of calling `frame.insert` many times, which has poor performance.  Consider joining all columns at once using pd.concat(axis=1) instead. To get a de-fragmented frame, use `newframe = frame.copy()`\n",
      "  features_test_ohe[ohe.get_feature_names_out()] = ohe.transform(\n",
      "/var/folders/kr/l8l6g3315gj_6wm9tbxwybbh0000gn/T/ipykernel_2962/2713683421.py:10: PerformanceWarning: DataFrame is highly fragmented.  This is usually the result of calling `frame.insert` many times, which has poor performance.  Consider joining all columns at once using pd.concat(axis=1) instead. To get a de-fragmented frame, use `newframe = frame.copy()`\n",
      "  features_test_ohe[ohe.get_feature_names_out()] = ohe.transform(\n",
      "/var/folders/kr/l8l6g3315gj_6wm9tbxwybbh0000gn/T/ipykernel_2962/2713683421.py:10: PerformanceWarning: DataFrame is highly fragmented.  This is usually the result of calling `frame.insert` many times, which has poor performance.  Consider joining all columns at once using pd.concat(axis=1) instead. To get a de-fragmented frame, use `newframe = frame.copy()`\n",
      "  features_test_ohe[ohe.get_feature_names_out()] = ohe.transform(\n",
      "/var/folders/kr/l8l6g3315gj_6wm9tbxwybbh0000gn/T/ipykernel_2962/2713683421.py:10: PerformanceWarning: DataFrame is highly fragmented.  This is usually the result of calling `frame.insert` many times, which has poor performance.  Consider joining all columns at once using pd.concat(axis=1) instead. To get a de-fragmented frame, use `newframe = frame.copy()`\n",
      "  features_test_ohe[ohe.get_feature_names_out()] = ohe.transform(\n",
      "/var/folders/kr/l8l6g3315gj_6wm9tbxwybbh0000gn/T/ipykernel_2962/2713683421.py:10: PerformanceWarning: DataFrame is highly fragmented.  This is usually the result of calling `frame.insert` many times, which has poor performance.  Consider joining all columns at once using pd.concat(axis=1) instead. To get a de-fragmented frame, use `newframe = frame.copy()`\n",
      "  features_test_ohe[ohe.get_feature_names_out()] = ohe.transform(\n",
      "/var/folders/kr/l8l6g3315gj_6wm9tbxwybbh0000gn/T/ipykernel_2962/2713683421.py:10: PerformanceWarning: DataFrame is highly fragmented.  This is usually the result of calling `frame.insert` many times, which has poor performance.  Consider joining all columns at once using pd.concat(axis=1) instead. To get a de-fragmented frame, use `newframe = frame.copy()`\n",
      "  features_test_ohe[ohe.get_feature_names_out()] = ohe.transform(\n",
      "/var/folders/kr/l8l6g3315gj_6wm9tbxwybbh0000gn/T/ipykernel_2962/2713683421.py:10: PerformanceWarning: DataFrame is highly fragmented.  This is usually the result of calling `frame.insert` many times, which has poor performance.  Consider joining all columns at once using pd.concat(axis=1) instead. To get a de-fragmented frame, use `newframe = frame.copy()`\n",
      "  features_test_ohe[ohe.get_feature_names_out()] = ohe.transform(\n",
      "/var/folders/kr/l8l6g3315gj_6wm9tbxwybbh0000gn/T/ipykernel_2962/2713683421.py:10: PerformanceWarning: DataFrame is highly fragmented.  This is usually the result of calling `frame.insert` many times, which has poor performance.  Consider joining all columns at once using pd.concat(axis=1) instead. To get a de-fragmented frame, use `newframe = frame.copy()`\n",
      "  features_test_ohe[ohe.get_feature_names_out()] = ohe.transform(\n",
      "/var/folders/kr/l8l6g3315gj_6wm9tbxwybbh0000gn/T/ipykernel_2962/2713683421.py:10: PerformanceWarning: DataFrame is highly fragmented.  This is usually the result of calling `frame.insert` many times, which has poor performance.  Consider joining all columns at once using pd.concat(axis=1) instead. To get a de-fragmented frame, use `newframe = frame.copy()`\n",
      "  features_test_ohe[ohe.get_feature_names_out()] = ohe.transform(\n",
      "/var/folders/kr/l8l6g3315gj_6wm9tbxwybbh0000gn/T/ipykernel_2962/2713683421.py:10: PerformanceWarning: DataFrame is highly fragmented.  This is usually the result of calling `frame.insert` many times, which has poor performance.  Consider joining all columns at once using pd.concat(axis=1) instead. To get a de-fragmented frame, use `newframe = frame.copy()`\n",
      "  features_test_ohe[ohe.get_feature_names_out()] = ohe.transform(\n",
      "/var/folders/kr/l8l6g3315gj_6wm9tbxwybbh0000gn/T/ipykernel_2962/2713683421.py:10: PerformanceWarning: DataFrame is highly fragmented.  This is usually the result of calling `frame.insert` many times, which has poor performance.  Consider joining all columns at once using pd.concat(axis=1) instead. To get a de-fragmented frame, use `newframe = frame.copy()`\n",
      "  features_test_ohe[ohe.get_feature_names_out()] = ohe.transform(\n",
      "/var/folders/kr/l8l6g3315gj_6wm9tbxwybbh0000gn/T/ipykernel_2962/2713683421.py:10: PerformanceWarning: DataFrame is highly fragmented.  This is usually the result of calling `frame.insert` many times, which has poor performance.  Consider joining all columns at once using pd.concat(axis=1) instead. To get a de-fragmented frame, use `newframe = frame.copy()`\n",
      "  features_test_ohe[ohe.get_feature_names_out()] = ohe.transform(\n",
      "/var/folders/kr/l8l6g3315gj_6wm9tbxwybbh0000gn/T/ipykernel_2962/2713683421.py:10: PerformanceWarning: DataFrame is highly fragmented.  This is usually the result of calling `frame.insert` many times, which has poor performance.  Consider joining all columns at once using pd.concat(axis=1) instead. To get a de-fragmented frame, use `newframe = frame.copy()`\n",
      "  features_test_ohe[ohe.get_feature_names_out()] = ohe.transform(\n",
      "/var/folders/kr/l8l6g3315gj_6wm9tbxwybbh0000gn/T/ipykernel_2962/2713683421.py:10: PerformanceWarning: DataFrame is highly fragmented.  This is usually the result of calling `frame.insert` many times, which has poor performance.  Consider joining all columns at once using pd.concat(axis=1) instead. To get a de-fragmented frame, use `newframe = frame.copy()`\n",
      "  features_test_ohe[ohe.get_feature_names_out()] = ohe.transform(\n",
      "/var/folders/kr/l8l6g3315gj_6wm9tbxwybbh0000gn/T/ipykernel_2962/2713683421.py:10: PerformanceWarning: DataFrame is highly fragmented.  This is usually the result of calling `frame.insert` many times, which has poor performance.  Consider joining all columns at once using pd.concat(axis=1) instead. To get a de-fragmented frame, use `newframe = frame.copy()`\n",
      "  features_test_ohe[ohe.get_feature_names_out()] = ohe.transform(\n",
      "/var/folders/kr/l8l6g3315gj_6wm9tbxwybbh0000gn/T/ipykernel_2962/2713683421.py:10: PerformanceWarning: DataFrame is highly fragmented.  This is usually the result of calling `frame.insert` many times, which has poor performance.  Consider joining all columns at once using pd.concat(axis=1) instead. To get a de-fragmented frame, use `newframe = frame.copy()`\n",
      "  features_test_ohe[ohe.get_feature_names_out()] = ohe.transform(\n",
      "/var/folders/kr/l8l6g3315gj_6wm9tbxwybbh0000gn/T/ipykernel_2962/2713683421.py:10: PerformanceWarning: DataFrame is highly fragmented.  This is usually the result of calling `frame.insert` many times, which has poor performance.  Consider joining all columns at once using pd.concat(axis=1) instead. To get a de-fragmented frame, use `newframe = frame.copy()`\n",
      "  features_test_ohe[ohe.get_feature_names_out()] = ohe.transform(\n",
      "/var/folders/kr/l8l6g3315gj_6wm9tbxwybbh0000gn/T/ipykernel_2962/2713683421.py:10: PerformanceWarning: DataFrame is highly fragmented.  This is usually the result of calling `frame.insert` many times, which has poor performance.  Consider joining all columns at once using pd.concat(axis=1) instead. To get a de-fragmented frame, use `newframe = frame.copy()`\n",
      "  features_test_ohe[ohe.get_feature_names_out()] = ohe.transform(\n",
      "/var/folders/kr/l8l6g3315gj_6wm9tbxwybbh0000gn/T/ipykernel_2962/2713683421.py:10: PerformanceWarning: DataFrame is highly fragmented.  This is usually the result of calling `frame.insert` many times, which has poor performance.  Consider joining all columns at once using pd.concat(axis=1) instead. To get a de-fragmented frame, use `newframe = frame.copy()`\n",
      "  features_test_ohe[ohe.get_feature_names_out()] = ohe.transform(\n",
      "/var/folders/kr/l8l6g3315gj_6wm9tbxwybbh0000gn/T/ipykernel_2962/2713683421.py:10: PerformanceWarning: DataFrame is highly fragmented.  This is usually the result of calling `frame.insert` many times, which has poor performance.  Consider joining all columns at once using pd.concat(axis=1) instead. To get a de-fragmented frame, use `newframe = frame.copy()`\n",
      "  features_test_ohe[ohe.get_feature_names_out()] = ohe.transform(\n",
      "/var/folders/kr/l8l6g3315gj_6wm9tbxwybbh0000gn/T/ipykernel_2962/2713683421.py:10: PerformanceWarning: DataFrame is highly fragmented.  This is usually the result of calling `frame.insert` many times, which has poor performance.  Consider joining all columns at once using pd.concat(axis=1) instead. To get a de-fragmented frame, use `newframe = frame.copy()`\n",
      "  features_test_ohe[ohe.get_feature_names_out()] = ohe.transform(\n",
      "/var/folders/kr/l8l6g3315gj_6wm9tbxwybbh0000gn/T/ipykernel_2962/2713683421.py:10: PerformanceWarning: DataFrame is highly fragmented.  This is usually the result of calling `frame.insert` many times, which has poor performance.  Consider joining all columns at once using pd.concat(axis=1) instead. To get a de-fragmented frame, use `newframe = frame.copy()`\n",
      "  features_test_ohe[ohe.get_feature_names_out()] = ohe.transform(\n",
      "/var/folders/kr/l8l6g3315gj_6wm9tbxwybbh0000gn/T/ipykernel_2962/2713683421.py:10: PerformanceWarning: DataFrame is highly fragmented.  This is usually the result of calling `frame.insert` many times, which has poor performance.  Consider joining all columns at once using pd.concat(axis=1) instead. To get a de-fragmented frame, use `newframe = frame.copy()`\n",
      "  features_test_ohe[ohe.get_feature_names_out()] = ohe.transform(\n",
      "/var/folders/kr/l8l6g3315gj_6wm9tbxwybbh0000gn/T/ipykernel_2962/2713683421.py:10: PerformanceWarning: DataFrame is highly fragmented.  This is usually the result of calling `frame.insert` many times, which has poor performance.  Consider joining all columns at once using pd.concat(axis=1) instead. To get a de-fragmented frame, use `newframe = frame.copy()`\n",
      "  features_test_ohe[ohe.get_feature_names_out()] = ohe.transform(\n",
      "/var/folders/kr/l8l6g3315gj_6wm9tbxwybbh0000gn/T/ipykernel_2962/2713683421.py:10: PerformanceWarning: DataFrame is highly fragmented.  This is usually the result of calling `frame.insert` many times, which has poor performance.  Consider joining all columns at once using pd.concat(axis=1) instead. To get a de-fragmented frame, use `newframe = frame.copy()`\n",
      "  features_test_ohe[ohe.get_feature_names_out()] = ohe.transform(\n",
      "/var/folders/kr/l8l6g3315gj_6wm9tbxwybbh0000gn/T/ipykernel_2962/2713683421.py:10: PerformanceWarning: DataFrame is highly fragmented.  This is usually the result of calling `frame.insert` many times, which has poor performance.  Consider joining all columns at once using pd.concat(axis=1) instead. To get a de-fragmented frame, use `newframe = frame.copy()`\n",
      "  features_test_ohe[ohe.get_feature_names_out()] = ohe.transform(\n",
      "/var/folders/kr/l8l6g3315gj_6wm9tbxwybbh0000gn/T/ipykernel_2962/2713683421.py:10: PerformanceWarning: DataFrame is highly fragmented.  This is usually the result of calling `frame.insert` many times, which has poor performance.  Consider joining all columns at once using pd.concat(axis=1) instead. To get a de-fragmented frame, use `newframe = frame.copy()`\n",
      "  features_test_ohe[ohe.get_feature_names_out()] = ohe.transform(\n",
      "/var/folders/kr/l8l6g3315gj_6wm9tbxwybbh0000gn/T/ipykernel_2962/2713683421.py:10: PerformanceWarning: DataFrame is highly fragmented.  This is usually the result of calling `frame.insert` many times, which has poor performance.  Consider joining all columns at once using pd.concat(axis=1) instead. To get a de-fragmented frame, use `newframe = frame.copy()`\n",
      "  features_test_ohe[ohe.get_feature_names_out()] = ohe.transform(\n",
      "/var/folders/kr/l8l6g3315gj_6wm9tbxwybbh0000gn/T/ipykernel_2962/2713683421.py:10: PerformanceWarning: DataFrame is highly fragmented.  This is usually the result of calling `frame.insert` many times, which has poor performance.  Consider joining all columns at once using pd.concat(axis=1) instead. To get a de-fragmented frame, use `newframe = frame.copy()`\n",
      "  features_test_ohe[ohe.get_feature_names_out()] = ohe.transform(\n",
      "/var/folders/kr/l8l6g3315gj_6wm9tbxwybbh0000gn/T/ipykernel_2962/2713683421.py:10: PerformanceWarning: DataFrame is highly fragmented.  This is usually the result of calling `frame.insert` many times, which has poor performance.  Consider joining all columns at once using pd.concat(axis=1) instead. To get a de-fragmented frame, use `newframe = frame.copy()`\n",
      "  features_test_ohe[ohe.get_feature_names_out()] = ohe.transform(\n",
      "/var/folders/kr/l8l6g3315gj_6wm9tbxwybbh0000gn/T/ipykernel_2962/2713683421.py:10: PerformanceWarning: DataFrame is highly fragmented.  This is usually the result of calling `frame.insert` many times, which has poor performance.  Consider joining all columns at once using pd.concat(axis=1) instead. To get a de-fragmented frame, use `newframe = frame.copy()`\n",
      "  features_test_ohe[ohe.get_feature_names_out()] = ohe.transform(\n",
      "/var/folders/kr/l8l6g3315gj_6wm9tbxwybbh0000gn/T/ipykernel_2962/2713683421.py:10: PerformanceWarning: DataFrame is highly fragmented.  This is usually the result of calling `frame.insert` many times, which has poor performance.  Consider joining all columns at once using pd.concat(axis=1) instead. To get a de-fragmented frame, use `newframe = frame.copy()`\n",
      "  features_test_ohe[ohe.get_feature_names_out()] = ohe.transform(\n",
      "/var/folders/kr/l8l6g3315gj_6wm9tbxwybbh0000gn/T/ipykernel_2962/2713683421.py:10: PerformanceWarning: DataFrame is highly fragmented.  This is usually the result of calling `frame.insert` many times, which has poor performance.  Consider joining all columns at once using pd.concat(axis=1) instead. To get a de-fragmented frame, use `newframe = frame.copy()`\n",
      "  features_test_ohe[ohe.get_feature_names_out()] = ohe.transform(\n",
      "/var/folders/kr/l8l6g3315gj_6wm9tbxwybbh0000gn/T/ipykernel_2962/2713683421.py:10: PerformanceWarning: DataFrame is highly fragmented.  This is usually the result of calling `frame.insert` many times, which has poor performance.  Consider joining all columns at once using pd.concat(axis=1) instead. To get a de-fragmented frame, use `newframe = frame.copy()`\n",
      "  features_test_ohe[ohe.get_feature_names_out()] = ohe.transform(\n",
      "/var/folders/kr/l8l6g3315gj_6wm9tbxwybbh0000gn/T/ipykernel_2962/2713683421.py:10: PerformanceWarning: DataFrame is highly fragmented.  This is usually the result of calling `frame.insert` many times, which has poor performance.  Consider joining all columns at once using pd.concat(axis=1) instead. To get a de-fragmented frame, use `newframe = frame.copy()`\n",
      "  features_test_ohe[ohe.get_feature_names_out()] = ohe.transform(\n",
      "/var/folders/kr/l8l6g3315gj_6wm9tbxwybbh0000gn/T/ipykernel_2962/2713683421.py:10: PerformanceWarning: DataFrame is highly fragmented.  This is usually the result of calling `frame.insert` many times, which has poor performance.  Consider joining all columns at once using pd.concat(axis=1) instead. To get a de-fragmented frame, use `newframe = frame.copy()`\n",
      "  features_test_ohe[ohe.get_feature_names_out()] = ohe.transform(\n",
      "/var/folders/kr/l8l6g3315gj_6wm9tbxwybbh0000gn/T/ipykernel_2962/2713683421.py:10: PerformanceWarning: DataFrame is highly fragmented.  This is usually the result of calling `frame.insert` many times, which has poor performance.  Consider joining all columns at once using pd.concat(axis=1) instead. To get a de-fragmented frame, use `newframe = frame.copy()`\n",
      "  features_test_ohe[ohe.get_feature_names_out()] = ohe.transform(\n",
      "/var/folders/kr/l8l6g3315gj_6wm9tbxwybbh0000gn/T/ipykernel_2962/2713683421.py:10: PerformanceWarning: DataFrame is highly fragmented.  This is usually the result of calling `frame.insert` many times, which has poor performance.  Consider joining all columns at once using pd.concat(axis=1) instead. To get a de-fragmented frame, use `newframe = frame.copy()`\n",
      "  features_test_ohe[ohe.get_feature_names_out()] = ohe.transform(\n",
      "/var/folders/kr/l8l6g3315gj_6wm9tbxwybbh0000gn/T/ipykernel_2962/2713683421.py:10: PerformanceWarning: DataFrame is highly fragmented.  This is usually the result of calling `frame.insert` many times, which has poor performance.  Consider joining all columns at once using pd.concat(axis=1) instead. To get a de-fragmented frame, use `newframe = frame.copy()`\n",
      "  features_test_ohe[ohe.get_feature_names_out()] = ohe.transform(\n",
      "/var/folders/kr/l8l6g3315gj_6wm9tbxwybbh0000gn/T/ipykernel_2962/2713683421.py:10: PerformanceWarning: DataFrame is highly fragmented.  This is usually the result of calling `frame.insert` many times, which has poor performance.  Consider joining all columns at once using pd.concat(axis=1) instead. To get a de-fragmented frame, use `newframe = frame.copy()`\n",
      "  features_test_ohe[ohe.get_feature_names_out()] = ohe.transform(\n",
      "/var/folders/kr/l8l6g3315gj_6wm9tbxwybbh0000gn/T/ipykernel_2962/2713683421.py:10: PerformanceWarning: DataFrame is highly fragmented.  This is usually the result of calling `frame.insert` many times, which has poor performance.  Consider joining all columns at once using pd.concat(axis=1) instead. To get a de-fragmented frame, use `newframe = frame.copy()`\n",
      "  features_test_ohe[ohe.get_feature_names_out()] = ohe.transform(\n",
      "/var/folders/kr/l8l6g3315gj_6wm9tbxwybbh0000gn/T/ipykernel_2962/2713683421.py:10: PerformanceWarning: DataFrame is highly fragmented.  This is usually the result of calling `frame.insert` many times, which has poor performance.  Consider joining all columns at once using pd.concat(axis=1) instead. To get a de-fragmented frame, use `newframe = frame.copy()`\n",
      "  features_test_ohe[ohe.get_feature_names_out()] = ohe.transform(\n",
      "/var/folders/kr/l8l6g3315gj_6wm9tbxwybbh0000gn/T/ipykernel_2962/2713683421.py:10: PerformanceWarning: DataFrame is highly fragmented.  This is usually the result of calling `frame.insert` many times, which has poor performance.  Consider joining all columns at once using pd.concat(axis=1) instead. To get a de-fragmented frame, use `newframe = frame.copy()`\n",
      "  features_test_ohe[ohe.get_feature_names_out()] = ohe.transform(\n",
      "/var/folders/kr/l8l6g3315gj_6wm9tbxwybbh0000gn/T/ipykernel_2962/2713683421.py:10: PerformanceWarning: DataFrame is highly fragmented.  This is usually the result of calling `frame.insert` many times, which has poor performance.  Consider joining all columns at once using pd.concat(axis=1) instead. To get a de-fragmented frame, use `newframe = frame.copy()`\n",
      "  features_test_ohe[ohe.get_feature_names_out()] = ohe.transform(\n",
      "/var/folders/kr/l8l6g3315gj_6wm9tbxwybbh0000gn/T/ipykernel_2962/2713683421.py:10: PerformanceWarning: DataFrame is highly fragmented.  This is usually the result of calling `frame.insert` many times, which has poor performance.  Consider joining all columns at once using pd.concat(axis=1) instead. To get a de-fragmented frame, use `newframe = frame.copy()`\n",
      "  features_test_ohe[ohe.get_feature_names_out()] = ohe.transform(\n",
      "/var/folders/kr/l8l6g3315gj_6wm9tbxwybbh0000gn/T/ipykernel_2962/2713683421.py:10: PerformanceWarning: DataFrame is highly fragmented.  This is usually the result of calling `frame.insert` many times, which has poor performance.  Consider joining all columns at once using pd.concat(axis=1) instead. To get a de-fragmented frame, use `newframe = frame.copy()`\n",
      "  features_test_ohe[ohe.get_feature_names_out()] = ohe.transform(\n",
      "/var/folders/kr/l8l6g3315gj_6wm9tbxwybbh0000gn/T/ipykernel_2962/2713683421.py:10: PerformanceWarning: DataFrame is highly fragmented.  This is usually the result of calling `frame.insert` many times, which has poor performance.  Consider joining all columns at once using pd.concat(axis=1) instead. To get a de-fragmented frame, use `newframe = frame.copy()`\n",
      "  features_test_ohe[ohe.get_feature_names_out()] = ohe.transform(\n",
      "/var/folders/kr/l8l6g3315gj_6wm9tbxwybbh0000gn/T/ipykernel_2962/2713683421.py:10: PerformanceWarning: DataFrame is highly fragmented.  This is usually the result of calling `frame.insert` many times, which has poor performance.  Consider joining all columns at once using pd.concat(axis=1) instead. To get a de-fragmented frame, use `newframe = frame.copy()`\n",
      "  features_test_ohe[ohe.get_feature_names_out()] = ohe.transform(\n",
      "/var/folders/kr/l8l6g3315gj_6wm9tbxwybbh0000gn/T/ipykernel_2962/2713683421.py:10: PerformanceWarning: DataFrame is highly fragmented.  This is usually the result of calling `frame.insert` many times, which has poor performance.  Consider joining all columns at once using pd.concat(axis=1) instead. To get a de-fragmented frame, use `newframe = frame.copy()`\n",
      "  features_test_ohe[ohe.get_feature_names_out()] = ohe.transform(\n",
      "/var/folders/kr/l8l6g3315gj_6wm9tbxwybbh0000gn/T/ipykernel_2962/2713683421.py:10: PerformanceWarning: DataFrame is highly fragmented.  This is usually the result of calling `frame.insert` many times, which has poor performance.  Consider joining all columns at once using pd.concat(axis=1) instead. To get a de-fragmented frame, use `newframe = frame.copy()`\n",
      "  features_test_ohe[ohe.get_feature_names_out()] = ohe.transform(\n",
      "/var/folders/kr/l8l6g3315gj_6wm9tbxwybbh0000gn/T/ipykernel_2962/2713683421.py:10: PerformanceWarning: DataFrame is highly fragmented.  This is usually the result of calling `frame.insert` many times, which has poor performance.  Consider joining all columns at once using pd.concat(axis=1) instead. To get a de-fragmented frame, use `newframe = frame.copy()`\n",
      "  features_test_ohe[ohe.get_feature_names_out()] = ohe.transform(\n",
      "/var/folders/kr/l8l6g3315gj_6wm9tbxwybbh0000gn/T/ipykernel_2962/2713683421.py:10: PerformanceWarning: DataFrame is highly fragmented.  This is usually the result of calling `frame.insert` many times, which has poor performance.  Consider joining all columns at once using pd.concat(axis=1) instead. To get a de-fragmented frame, use `newframe = frame.copy()`\n",
      "  features_test_ohe[ohe.get_feature_names_out()] = ohe.transform(\n",
      "/var/folders/kr/l8l6g3315gj_6wm9tbxwybbh0000gn/T/ipykernel_2962/2713683421.py:10: PerformanceWarning: DataFrame is highly fragmented.  This is usually the result of calling `frame.insert` many times, which has poor performance.  Consider joining all columns at once using pd.concat(axis=1) instead. To get a de-fragmented frame, use `newframe = frame.copy()`\n",
      "  features_test_ohe[ohe.get_feature_names_out()] = ohe.transform(\n",
      "/var/folders/kr/l8l6g3315gj_6wm9tbxwybbh0000gn/T/ipykernel_2962/2713683421.py:10: PerformanceWarning: DataFrame is highly fragmented.  This is usually the result of calling `frame.insert` many times, which has poor performance.  Consider joining all columns at once using pd.concat(axis=1) instead. To get a de-fragmented frame, use `newframe = frame.copy()`\n",
      "  features_test_ohe[ohe.get_feature_names_out()] = ohe.transform(\n",
      "/var/folders/kr/l8l6g3315gj_6wm9tbxwybbh0000gn/T/ipykernel_2962/2713683421.py:10: PerformanceWarning: DataFrame is highly fragmented.  This is usually the result of calling `frame.insert` many times, which has poor performance.  Consider joining all columns at once using pd.concat(axis=1) instead. To get a de-fragmented frame, use `newframe = frame.copy()`\n",
      "  features_test_ohe[ohe.get_feature_names_out()] = ohe.transform(\n",
      "/var/folders/kr/l8l6g3315gj_6wm9tbxwybbh0000gn/T/ipykernel_2962/2713683421.py:10: PerformanceWarning: DataFrame is highly fragmented.  This is usually the result of calling `frame.insert` many times, which has poor performance.  Consider joining all columns at once using pd.concat(axis=1) instead. To get a de-fragmented frame, use `newframe = frame.copy()`\n",
      "  features_test_ohe[ohe.get_feature_names_out()] = ohe.transform(\n",
      "/var/folders/kr/l8l6g3315gj_6wm9tbxwybbh0000gn/T/ipykernel_2962/2713683421.py:10: PerformanceWarning: DataFrame is highly fragmented.  This is usually the result of calling `frame.insert` many times, which has poor performance.  Consider joining all columns at once using pd.concat(axis=1) instead. To get a de-fragmented frame, use `newframe = frame.copy()`\n",
      "  features_test_ohe[ohe.get_feature_names_out()] = ohe.transform(\n",
      "/var/folders/kr/l8l6g3315gj_6wm9tbxwybbh0000gn/T/ipykernel_2962/2713683421.py:10: PerformanceWarning: DataFrame is highly fragmented.  This is usually the result of calling `frame.insert` many times, which has poor performance.  Consider joining all columns at once using pd.concat(axis=1) instead. To get a de-fragmented frame, use `newframe = frame.copy()`\n",
      "  features_test_ohe[ohe.get_feature_names_out()] = ohe.transform(\n",
      "/var/folders/kr/l8l6g3315gj_6wm9tbxwybbh0000gn/T/ipykernel_2962/2713683421.py:10: PerformanceWarning: DataFrame is highly fragmented.  This is usually the result of calling `frame.insert` many times, which has poor performance.  Consider joining all columns at once using pd.concat(axis=1) instead. To get a de-fragmented frame, use `newframe = frame.copy()`\n",
      "  features_test_ohe[ohe.get_feature_names_out()] = ohe.transform(\n",
      "/var/folders/kr/l8l6g3315gj_6wm9tbxwybbh0000gn/T/ipykernel_2962/2713683421.py:10: PerformanceWarning: DataFrame is highly fragmented.  This is usually the result of calling `frame.insert` many times, which has poor performance.  Consider joining all columns at once using pd.concat(axis=1) instead. To get a de-fragmented frame, use `newframe = frame.copy()`\n",
      "  features_test_ohe[ohe.get_feature_names_out()] = ohe.transform(\n",
      "/var/folders/kr/l8l6g3315gj_6wm9tbxwybbh0000gn/T/ipykernel_2962/2713683421.py:10: PerformanceWarning: DataFrame is highly fragmented.  This is usually the result of calling `frame.insert` many times, which has poor performance.  Consider joining all columns at once using pd.concat(axis=1) instead. To get a de-fragmented frame, use `newframe = frame.copy()`\n",
      "  features_test_ohe[ohe.get_feature_names_out()] = ohe.transform(\n",
      "/var/folders/kr/l8l6g3315gj_6wm9tbxwybbh0000gn/T/ipykernel_2962/2713683421.py:10: PerformanceWarning: DataFrame is highly fragmented.  This is usually the result of calling `frame.insert` many times, which has poor performance.  Consider joining all columns at once using pd.concat(axis=1) instead. To get a de-fragmented frame, use `newframe = frame.copy()`\n",
      "  features_test_ohe[ohe.get_feature_names_out()] = ohe.transform(\n",
      "/var/folders/kr/l8l6g3315gj_6wm9tbxwybbh0000gn/T/ipykernel_2962/2713683421.py:10: PerformanceWarning: DataFrame is highly fragmented.  This is usually the result of calling `frame.insert` many times, which has poor performance.  Consider joining all columns at once using pd.concat(axis=1) instead. To get a de-fragmented frame, use `newframe = frame.copy()`\n",
      "  features_test_ohe[ohe.get_feature_names_out()] = ohe.transform(\n",
      "/var/folders/kr/l8l6g3315gj_6wm9tbxwybbh0000gn/T/ipykernel_2962/2713683421.py:10: PerformanceWarning: DataFrame is highly fragmented.  This is usually the result of calling `frame.insert` many times, which has poor performance.  Consider joining all columns at once using pd.concat(axis=1) instead. To get a de-fragmented frame, use `newframe = frame.copy()`\n",
      "  features_test_ohe[ohe.get_feature_names_out()] = ohe.transform(\n",
      "/var/folders/kr/l8l6g3315gj_6wm9tbxwybbh0000gn/T/ipykernel_2962/2713683421.py:10: PerformanceWarning: DataFrame is highly fragmented.  This is usually the result of calling `frame.insert` many times, which has poor performance.  Consider joining all columns at once using pd.concat(axis=1) instead. To get a de-fragmented frame, use `newframe = frame.copy()`\n",
      "  features_test_ohe[ohe.get_feature_names_out()] = ohe.transform(\n",
      "/var/folders/kr/l8l6g3315gj_6wm9tbxwybbh0000gn/T/ipykernel_2962/2713683421.py:10: PerformanceWarning: DataFrame is highly fragmented.  This is usually the result of calling `frame.insert` many times, which has poor performance.  Consider joining all columns at once using pd.concat(axis=1) instead. To get a de-fragmented frame, use `newframe = frame.copy()`\n",
      "  features_test_ohe[ohe.get_feature_names_out()] = ohe.transform(\n",
      "/var/folders/kr/l8l6g3315gj_6wm9tbxwybbh0000gn/T/ipykernel_2962/2713683421.py:10: PerformanceWarning: DataFrame is highly fragmented.  This is usually the result of calling `frame.insert` many times, which has poor performance.  Consider joining all columns at once using pd.concat(axis=1) instead. To get a de-fragmented frame, use `newframe = frame.copy()`\n",
      "  features_test_ohe[ohe.get_feature_names_out()] = ohe.transform(\n",
      "/var/folders/kr/l8l6g3315gj_6wm9tbxwybbh0000gn/T/ipykernel_2962/2713683421.py:10: PerformanceWarning: DataFrame is highly fragmented.  This is usually the result of calling `frame.insert` many times, which has poor performance.  Consider joining all columns at once using pd.concat(axis=1) instead. To get a de-fragmented frame, use `newframe = frame.copy()`\n",
      "  features_test_ohe[ohe.get_feature_names_out()] = ohe.transform(\n",
      "/var/folders/kr/l8l6g3315gj_6wm9tbxwybbh0000gn/T/ipykernel_2962/2713683421.py:10: PerformanceWarning: DataFrame is highly fragmented.  This is usually the result of calling `frame.insert` many times, which has poor performance.  Consider joining all columns at once using pd.concat(axis=1) instead. To get a de-fragmented frame, use `newframe = frame.copy()`\n",
      "  features_test_ohe[ohe.get_feature_names_out()] = ohe.transform(\n",
      "/var/folders/kr/l8l6g3315gj_6wm9tbxwybbh0000gn/T/ipykernel_2962/2713683421.py:10: PerformanceWarning: DataFrame is highly fragmented.  This is usually the result of calling `frame.insert` many times, which has poor performance.  Consider joining all columns at once using pd.concat(axis=1) instead. To get a de-fragmented frame, use `newframe = frame.copy()`\n",
      "  features_test_ohe[ohe.get_feature_names_out()] = ohe.transform(\n",
      "/var/folders/kr/l8l6g3315gj_6wm9tbxwybbh0000gn/T/ipykernel_2962/2713683421.py:10: PerformanceWarning: DataFrame is highly fragmented.  This is usually the result of calling `frame.insert` many times, which has poor performance.  Consider joining all columns at once using pd.concat(axis=1) instead. To get a de-fragmented frame, use `newframe = frame.copy()`\n",
      "  features_test_ohe[ohe.get_feature_names_out()] = ohe.transform(\n",
      "/var/folders/kr/l8l6g3315gj_6wm9tbxwybbh0000gn/T/ipykernel_2962/2713683421.py:10: PerformanceWarning: DataFrame is highly fragmented.  This is usually the result of calling `frame.insert` many times, which has poor performance.  Consider joining all columns at once using pd.concat(axis=1) instead. To get a de-fragmented frame, use `newframe = frame.copy()`\n",
      "  features_test_ohe[ohe.get_feature_names_out()] = ohe.transform(\n",
      "/var/folders/kr/l8l6g3315gj_6wm9tbxwybbh0000gn/T/ipykernel_2962/2713683421.py:10: PerformanceWarning: DataFrame is highly fragmented.  This is usually the result of calling `frame.insert` many times, which has poor performance.  Consider joining all columns at once using pd.concat(axis=1) instead. To get a de-fragmented frame, use `newframe = frame.copy()`\n",
      "  features_test_ohe[ohe.get_feature_names_out()] = ohe.transform(\n",
      "/var/folders/kr/l8l6g3315gj_6wm9tbxwybbh0000gn/T/ipykernel_2962/2713683421.py:10: PerformanceWarning: DataFrame is highly fragmented.  This is usually the result of calling `frame.insert` many times, which has poor performance.  Consider joining all columns at once using pd.concat(axis=1) instead. To get a de-fragmented frame, use `newframe = frame.copy()`\n",
      "  features_test_ohe[ohe.get_feature_names_out()] = ohe.transform(\n",
      "/var/folders/kr/l8l6g3315gj_6wm9tbxwybbh0000gn/T/ipykernel_2962/2713683421.py:10: PerformanceWarning: DataFrame is highly fragmented.  This is usually the result of calling `frame.insert` many times, which has poor performance.  Consider joining all columns at once using pd.concat(axis=1) instead. To get a de-fragmented frame, use `newframe = frame.copy()`\n",
      "  features_test_ohe[ohe.get_feature_names_out()] = ohe.transform(\n",
      "/var/folders/kr/l8l6g3315gj_6wm9tbxwybbh0000gn/T/ipykernel_2962/2713683421.py:10: PerformanceWarning: DataFrame is highly fragmented.  This is usually the result of calling `frame.insert` many times, which has poor performance.  Consider joining all columns at once using pd.concat(axis=1) instead. To get a de-fragmented frame, use `newframe = frame.copy()`\n",
      "  features_test_ohe[ohe.get_feature_names_out()] = ohe.transform(\n",
      "/var/folders/kr/l8l6g3315gj_6wm9tbxwybbh0000gn/T/ipykernel_2962/2713683421.py:10: PerformanceWarning: DataFrame is highly fragmented.  This is usually the result of calling `frame.insert` many times, which has poor performance.  Consider joining all columns at once using pd.concat(axis=1) instead. To get a de-fragmented frame, use `newframe = frame.copy()`\n",
      "  features_test_ohe[ohe.get_feature_names_out()] = ohe.transform(\n",
      "/var/folders/kr/l8l6g3315gj_6wm9tbxwybbh0000gn/T/ipykernel_2962/2713683421.py:10: PerformanceWarning: DataFrame is highly fragmented.  This is usually the result of calling `frame.insert` many times, which has poor performance.  Consider joining all columns at once using pd.concat(axis=1) instead. To get a de-fragmented frame, use `newframe = frame.copy()`\n",
      "  features_test_ohe[ohe.get_feature_names_out()] = ohe.transform(\n",
      "/var/folders/kr/l8l6g3315gj_6wm9tbxwybbh0000gn/T/ipykernel_2962/2713683421.py:10: PerformanceWarning: DataFrame is highly fragmented.  This is usually the result of calling `frame.insert` many times, which has poor performance.  Consider joining all columns at once using pd.concat(axis=1) instead. To get a de-fragmented frame, use `newframe = frame.copy()`\n",
      "  features_test_ohe[ohe.get_feature_names_out()] = ohe.transform(\n",
      "/var/folders/kr/l8l6g3315gj_6wm9tbxwybbh0000gn/T/ipykernel_2962/2713683421.py:10: PerformanceWarning: DataFrame is highly fragmented.  This is usually the result of calling `frame.insert` many times, which has poor performance.  Consider joining all columns at once using pd.concat(axis=1) instead. To get a de-fragmented frame, use `newframe = frame.copy()`\n",
      "  features_test_ohe[ohe.get_feature_names_out()] = ohe.transform(\n",
      "/var/folders/kr/l8l6g3315gj_6wm9tbxwybbh0000gn/T/ipykernel_2962/2713683421.py:10: PerformanceWarning: DataFrame is highly fragmented.  This is usually the result of calling `frame.insert` many times, which has poor performance.  Consider joining all columns at once using pd.concat(axis=1) instead. To get a de-fragmented frame, use `newframe = frame.copy()`\n",
      "  features_test_ohe[ohe.get_feature_names_out()] = ohe.transform(\n",
      "/var/folders/kr/l8l6g3315gj_6wm9tbxwybbh0000gn/T/ipykernel_2962/2713683421.py:10: PerformanceWarning: DataFrame is highly fragmented.  This is usually the result of calling `frame.insert` many times, which has poor performance.  Consider joining all columns at once using pd.concat(axis=1) instead. To get a de-fragmented frame, use `newframe = frame.copy()`\n",
      "  features_test_ohe[ohe.get_feature_names_out()] = ohe.transform(\n",
      "/var/folders/kr/l8l6g3315gj_6wm9tbxwybbh0000gn/T/ipykernel_2962/2713683421.py:10: PerformanceWarning: DataFrame is highly fragmented.  This is usually the result of calling `frame.insert` many times, which has poor performance.  Consider joining all columns at once using pd.concat(axis=1) instead. To get a de-fragmented frame, use `newframe = frame.copy()`\n",
      "  features_test_ohe[ohe.get_feature_names_out()] = ohe.transform(\n",
      "/var/folders/kr/l8l6g3315gj_6wm9tbxwybbh0000gn/T/ipykernel_2962/2713683421.py:10: PerformanceWarning: DataFrame is highly fragmented.  This is usually the result of calling `frame.insert` many times, which has poor performance.  Consider joining all columns at once using pd.concat(axis=1) instead. To get a de-fragmented frame, use `newframe = frame.copy()`\n",
      "  features_test_ohe[ohe.get_feature_names_out()] = ohe.transform(\n",
      "/var/folders/kr/l8l6g3315gj_6wm9tbxwybbh0000gn/T/ipykernel_2962/2713683421.py:10: PerformanceWarning: DataFrame is highly fragmented.  This is usually the result of calling `frame.insert` many times, which has poor performance.  Consider joining all columns at once using pd.concat(axis=1) instead. To get a de-fragmented frame, use `newframe = frame.copy()`\n",
      "  features_test_ohe[ohe.get_feature_names_out()] = ohe.transform(\n",
      "/var/folders/kr/l8l6g3315gj_6wm9tbxwybbh0000gn/T/ipykernel_2962/2713683421.py:10: PerformanceWarning: DataFrame is highly fragmented.  This is usually the result of calling `frame.insert` many times, which has poor performance.  Consider joining all columns at once using pd.concat(axis=1) instead. To get a de-fragmented frame, use `newframe = frame.copy()`\n",
      "  features_test_ohe[ohe.get_feature_names_out()] = ohe.transform(\n",
      "/var/folders/kr/l8l6g3315gj_6wm9tbxwybbh0000gn/T/ipykernel_2962/2713683421.py:10: PerformanceWarning: DataFrame is highly fragmented.  This is usually the result of calling `frame.insert` many times, which has poor performance.  Consider joining all columns at once using pd.concat(axis=1) instead. To get a de-fragmented frame, use `newframe = frame.copy()`\n",
      "  features_test_ohe[ohe.get_feature_names_out()] = ohe.transform(\n",
      "/var/folders/kr/l8l6g3315gj_6wm9tbxwybbh0000gn/T/ipykernel_2962/2713683421.py:10: PerformanceWarning: DataFrame is highly fragmented.  This is usually the result of calling `frame.insert` many times, which has poor performance.  Consider joining all columns at once using pd.concat(axis=1) instead. To get a de-fragmented frame, use `newframe = frame.copy()`\n",
      "  features_test_ohe[ohe.get_feature_names_out()] = ohe.transform(\n",
      "/var/folders/kr/l8l6g3315gj_6wm9tbxwybbh0000gn/T/ipykernel_2962/2713683421.py:10: PerformanceWarning: DataFrame is highly fragmented.  This is usually the result of calling `frame.insert` many times, which has poor performance.  Consider joining all columns at once using pd.concat(axis=1) instead. To get a de-fragmented frame, use `newframe = frame.copy()`\n",
      "  features_test_ohe[ohe.get_feature_names_out()] = ohe.transform(\n",
      "/var/folders/kr/l8l6g3315gj_6wm9tbxwybbh0000gn/T/ipykernel_2962/2713683421.py:10: PerformanceWarning: DataFrame is highly fragmented.  This is usually the result of calling `frame.insert` many times, which has poor performance.  Consider joining all columns at once using pd.concat(axis=1) instead. To get a de-fragmented frame, use `newframe = frame.copy()`\n",
      "  features_test_ohe[ohe.get_feature_names_out()] = ohe.transform(\n",
      "/var/folders/kr/l8l6g3315gj_6wm9tbxwybbh0000gn/T/ipykernel_2962/2713683421.py:10: PerformanceWarning: DataFrame is highly fragmented.  This is usually the result of calling `frame.insert` many times, which has poor performance.  Consider joining all columns at once using pd.concat(axis=1) instead. To get a de-fragmented frame, use `newframe = frame.copy()`\n",
      "  features_test_ohe[ohe.get_feature_names_out()] = ohe.transform(\n",
      "/var/folders/kr/l8l6g3315gj_6wm9tbxwybbh0000gn/T/ipykernel_2962/2713683421.py:10: PerformanceWarning: DataFrame is highly fragmented.  This is usually the result of calling `frame.insert` many times, which has poor performance.  Consider joining all columns at once using pd.concat(axis=1) instead. To get a de-fragmented frame, use `newframe = frame.copy()`\n",
      "  features_test_ohe[ohe.get_feature_names_out()] = ohe.transform(\n",
      "/var/folders/kr/l8l6g3315gj_6wm9tbxwybbh0000gn/T/ipykernel_2962/2713683421.py:10: PerformanceWarning: DataFrame is highly fragmented.  This is usually the result of calling `frame.insert` many times, which has poor performance.  Consider joining all columns at once using pd.concat(axis=1) instead. To get a de-fragmented frame, use `newframe = frame.copy()`\n",
      "  features_test_ohe[ohe.get_feature_names_out()] = ohe.transform(\n",
      "/var/folders/kr/l8l6g3315gj_6wm9tbxwybbh0000gn/T/ipykernel_2962/2713683421.py:10: PerformanceWarning: DataFrame is highly fragmented.  This is usually the result of calling `frame.insert` many times, which has poor performance.  Consider joining all columns at once using pd.concat(axis=1) instead. To get a de-fragmented frame, use `newframe = frame.copy()`\n",
      "  features_test_ohe[ohe.get_feature_names_out()] = ohe.transform(\n",
      "/var/folders/kr/l8l6g3315gj_6wm9tbxwybbh0000gn/T/ipykernel_2962/2713683421.py:10: PerformanceWarning: DataFrame is highly fragmented.  This is usually the result of calling `frame.insert` many times, which has poor performance.  Consider joining all columns at once using pd.concat(axis=1) instead. To get a de-fragmented frame, use `newframe = frame.copy()`\n",
      "  features_test_ohe[ohe.get_feature_names_out()] = ohe.transform(\n",
      "/var/folders/kr/l8l6g3315gj_6wm9tbxwybbh0000gn/T/ipykernel_2962/2713683421.py:10: PerformanceWarning: DataFrame is highly fragmented.  This is usually the result of calling `frame.insert` many times, which has poor performance.  Consider joining all columns at once using pd.concat(axis=1) instead. To get a de-fragmented frame, use `newframe = frame.copy()`\n",
      "  features_test_ohe[ohe.get_feature_names_out()] = ohe.transform(\n",
      "/var/folders/kr/l8l6g3315gj_6wm9tbxwybbh0000gn/T/ipykernel_2962/2713683421.py:10: PerformanceWarning: DataFrame is highly fragmented.  This is usually the result of calling `frame.insert` many times, which has poor performance.  Consider joining all columns at once using pd.concat(axis=1) instead. To get a de-fragmented frame, use `newframe = frame.copy()`\n",
      "  features_test_ohe[ohe.get_feature_names_out()] = ohe.transform(\n",
      "/var/folders/kr/l8l6g3315gj_6wm9tbxwybbh0000gn/T/ipykernel_2962/2713683421.py:10: PerformanceWarning: DataFrame is highly fragmented.  This is usually the result of calling `frame.insert` many times, which has poor performance.  Consider joining all columns at once using pd.concat(axis=1) instead. To get a de-fragmented frame, use `newframe = frame.copy()`\n",
      "  features_test_ohe[ohe.get_feature_names_out()] = ohe.transform(\n",
      "/var/folders/kr/l8l6g3315gj_6wm9tbxwybbh0000gn/T/ipykernel_2962/2713683421.py:10: PerformanceWarning: DataFrame is highly fragmented.  This is usually the result of calling `frame.insert` many times, which has poor performance.  Consider joining all columns at once using pd.concat(axis=1) instead. To get a de-fragmented frame, use `newframe = frame.copy()`\n",
      "  features_test_ohe[ohe.get_feature_names_out()] = ohe.transform(\n",
      "/var/folders/kr/l8l6g3315gj_6wm9tbxwybbh0000gn/T/ipykernel_2962/2713683421.py:10: PerformanceWarning: DataFrame is highly fragmented.  This is usually the result of calling `frame.insert` many times, which has poor performance.  Consider joining all columns at once using pd.concat(axis=1) instead. To get a de-fragmented frame, use `newframe = frame.copy()`\n",
      "  features_test_ohe[ohe.get_feature_names_out()] = ohe.transform(\n",
      "/var/folders/kr/l8l6g3315gj_6wm9tbxwybbh0000gn/T/ipykernel_2962/2713683421.py:10: PerformanceWarning: DataFrame is highly fragmented.  This is usually the result of calling `frame.insert` many times, which has poor performance.  Consider joining all columns at once using pd.concat(axis=1) instead. To get a de-fragmented frame, use `newframe = frame.copy()`\n",
      "  features_test_ohe[ohe.get_feature_names_out()] = ohe.transform(\n",
      "/var/folders/kr/l8l6g3315gj_6wm9tbxwybbh0000gn/T/ipykernel_2962/2713683421.py:10: PerformanceWarning: DataFrame is highly fragmented.  This is usually the result of calling `frame.insert` many times, which has poor performance.  Consider joining all columns at once using pd.concat(axis=1) instead. To get a de-fragmented frame, use `newframe = frame.copy()`\n",
      "  features_test_ohe[ohe.get_feature_names_out()] = ohe.transform(\n",
      "/var/folders/kr/l8l6g3315gj_6wm9tbxwybbh0000gn/T/ipykernel_2962/2713683421.py:10: PerformanceWarning: DataFrame is highly fragmented.  This is usually the result of calling `frame.insert` many times, which has poor performance.  Consider joining all columns at once using pd.concat(axis=1) instead. To get a de-fragmented frame, use `newframe = frame.copy()`\n",
      "  features_test_ohe[ohe.get_feature_names_out()] = ohe.transform(\n",
      "/var/folders/kr/l8l6g3315gj_6wm9tbxwybbh0000gn/T/ipykernel_2962/2713683421.py:10: PerformanceWarning: DataFrame is highly fragmented.  This is usually the result of calling `frame.insert` many times, which has poor performance.  Consider joining all columns at once using pd.concat(axis=1) instead. To get a de-fragmented frame, use `newframe = frame.copy()`\n",
      "  features_test_ohe[ohe.get_feature_names_out()] = ohe.transform(\n",
      "/var/folders/kr/l8l6g3315gj_6wm9tbxwybbh0000gn/T/ipykernel_2962/2713683421.py:10: PerformanceWarning: DataFrame is highly fragmented.  This is usually the result of calling `frame.insert` many times, which has poor performance.  Consider joining all columns at once using pd.concat(axis=1) instead. To get a de-fragmented frame, use `newframe = frame.copy()`\n",
      "  features_test_ohe[ohe.get_feature_names_out()] = ohe.transform(\n",
      "/var/folders/kr/l8l6g3315gj_6wm9tbxwybbh0000gn/T/ipykernel_2962/2713683421.py:10: PerformanceWarning: DataFrame is highly fragmented.  This is usually the result of calling `frame.insert` many times, which has poor performance.  Consider joining all columns at once using pd.concat(axis=1) instead. To get a de-fragmented frame, use `newframe = frame.copy()`\n",
      "  features_test_ohe[ohe.get_feature_names_out()] = ohe.transform(\n",
      "/var/folders/kr/l8l6g3315gj_6wm9tbxwybbh0000gn/T/ipykernel_2962/2713683421.py:10: PerformanceWarning: DataFrame is highly fragmented.  This is usually the result of calling `frame.insert` many times, which has poor performance.  Consider joining all columns at once using pd.concat(axis=1) instead. To get a de-fragmented frame, use `newframe = frame.copy()`\n",
      "  features_test_ohe[ohe.get_feature_names_out()] = ohe.transform(\n",
      "/var/folders/kr/l8l6g3315gj_6wm9tbxwybbh0000gn/T/ipykernel_2962/2713683421.py:10: PerformanceWarning: DataFrame is highly fragmented.  This is usually the result of calling `frame.insert` many times, which has poor performance.  Consider joining all columns at once using pd.concat(axis=1) instead. To get a de-fragmented frame, use `newframe = frame.copy()`\n",
      "  features_test_ohe[ohe.get_feature_names_out()] = ohe.transform(\n",
      "/var/folders/kr/l8l6g3315gj_6wm9tbxwybbh0000gn/T/ipykernel_2962/2713683421.py:10: PerformanceWarning: DataFrame is highly fragmented.  This is usually the result of calling `frame.insert` many times, which has poor performance.  Consider joining all columns at once using pd.concat(axis=1) instead. To get a de-fragmented frame, use `newframe = frame.copy()`\n",
      "  features_test_ohe[ohe.get_feature_names_out()] = ohe.transform(\n",
      "/var/folders/kr/l8l6g3315gj_6wm9tbxwybbh0000gn/T/ipykernel_2962/2713683421.py:10: PerformanceWarning: DataFrame is highly fragmented.  This is usually the result of calling `frame.insert` many times, which has poor performance.  Consider joining all columns at once using pd.concat(axis=1) instead. To get a de-fragmented frame, use `newframe = frame.copy()`\n",
      "  features_test_ohe[ohe.get_feature_names_out()] = ohe.transform(\n",
      "/var/folders/kr/l8l6g3315gj_6wm9tbxwybbh0000gn/T/ipykernel_2962/2713683421.py:10: PerformanceWarning: DataFrame is highly fragmented.  This is usually the result of calling `frame.insert` many times, which has poor performance.  Consider joining all columns at once using pd.concat(axis=1) instead. To get a de-fragmented frame, use `newframe = frame.copy()`\n",
      "  features_test_ohe[ohe.get_feature_names_out()] = ohe.transform(\n",
      "/var/folders/kr/l8l6g3315gj_6wm9tbxwybbh0000gn/T/ipykernel_2962/2713683421.py:10: PerformanceWarning: DataFrame is highly fragmented.  This is usually the result of calling `frame.insert` many times, which has poor performance.  Consider joining all columns at once using pd.concat(axis=1) instead. To get a de-fragmented frame, use `newframe = frame.copy()`\n",
      "  features_test_ohe[ohe.get_feature_names_out()] = ohe.transform(\n",
      "/var/folders/kr/l8l6g3315gj_6wm9tbxwybbh0000gn/T/ipykernel_2962/2713683421.py:10: PerformanceWarning: DataFrame is highly fragmented.  This is usually the result of calling `frame.insert` many times, which has poor performance.  Consider joining all columns at once using pd.concat(axis=1) instead. To get a de-fragmented frame, use `newframe = frame.copy()`\n",
      "  features_test_ohe[ohe.get_feature_names_out()] = ohe.transform(\n",
      "/var/folders/kr/l8l6g3315gj_6wm9tbxwybbh0000gn/T/ipykernel_2962/2713683421.py:10: PerformanceWarning: DataFrame is highly fragmented.  This is usually the result of calling `frame.insert` many times, which has poor performance.  Consider joining all columns at once using pd.concat(axis=1) instead. To get a de-fragmented frame, use `newframe = frame.copy()`\n",
      "  features_test_ohe[ohe.get_feature_names_out()] = ohe.transform(\n",
      "/var/folders/kr/l8l6g3315gj_6wm9tbxwybbh0000gn/T/ipykernel_2962/2713683421.py:10: PerformanceWarning: DataFrame is highly fragmented.  This is usually the result of calling `frame.insert` many times, which has poor performance.  Consider joining all columns at once using pd.concat(axis=1) instead. To get a de-fragmented frame, use `newframe = frame.copy()`\n",
      "  features_test_ohe[ohe.get_feature_names_out()] = ohe.transform(\n",
      "/var/folders/kr/l8l6g3315gj_6wm9tbxwybbh0000gn/T/ipykernel_2962/2713683421.py:10: PerformanceWarning: DataFrame is highly fragmented.  This is usually the result of calling `frame.insert` many times, which has poor performance.  Consider joining all columns at once using pd.concat(axis=1) instead. To get a de-fragmented frame, use `newframe = frame.copy()`\n",
      "  features_test_ohe[ohe.get_feature_names_out()] = ohe.transform(\n",
      "/var/folders/kr/l8l6g3315gj_6wm9tbxwybbh0000gn/T/ipykernel_2962/2713683421.py:10: PerformanceWarning: DataFrame is highly fragmented.  This is usually the result of calling `frame.insert` many times, which has poor performance.  Consider joining all columns at once using pd.concat(axis=1) instead. To get a de-fragmented frame, use `newframe = frame.copy()`\n",
      "  features_test_ohe[ohe.get_feature_names_out()] = ohe.transform(\n",
      "/var/folders/kr/l8l6g3315gj_6wm9tbxwybbh0000gn/T/ipykernel_2962/2713683421.py:10: PerformanceWarning: DataFrame is highly fragmented.  This is usually the result of calling `frame.insert` many times, which has poor performance.  Consider joining all columns at once using pd.concat(axis=1) instead. To get a de-fragmented frame, use `newframe = frame.copy()`\n",
      "  features_test_ohe[ohe.get_feature_names_out()] = ohe.transform(\n",
      "/var/folders/kr/l8l6g3315gj_6wm9tbxwybbh0000gn/T/ipykernel_2962/2713683421.py:10: PerformanceWarning: DataFrame is highly fragmented.  This is usually the result of calling `frame.insert` many times, which has poor performance.  Consider joining all columns at once using pd.concat(axis=1) instead. To get a de-fragmented frame, use `newframe = frame.copy()`\n",
      "  features_test_ohe[ohe.get_feature_names_out()] = ohe.transform(\n",
      "/var/folders/kr/l8l6g3315gj_6wm9tbxwybbh0000gn/T/ipykernel_2962/2713683421.py:10: PerformanceWarning: DataFrame is highly fragmented.  This is usually the result of calling `frame.insert` many times, which has poor performance.  Consider joining all columns at once using pd.concat(axis=1) instead. To get a de-fragmented frame, use `newframe = frame.copy()`\n",
      "  features_test_ohe[ohe.get_feature_names_out()] = ohe.transform(\n",
      "/var/folders/kr/l8l6g3315gj_6wm9tbxwybbh0000gn/T/ipykernel_2962/2713683421.py:10: PerformanceWarning: DataFrame is highly fragmented.  This is usually the result of calling `frame.insert` many times, which has poor performance.  Consider joining all columns at once using pd.concat(axis=1) instead. To get a de-fragmented frame, use `newframe = frame.copy()`\n",
      "  features_test_ohe[ohe.get_feature_names_out()] = ohe.transform(\n",
      "/var/folders/kr/l8l6g3315gj_6wm9tbxwybbh0000gn/T/ipykernel_2962/2713683421.py:10: PerformanceWarning: DataFrame is highly fragmented.  This is usually the result of calling `frame.insert` many times, which has poor performance.  Consider joining all columns at once using pd.concat(axis=1) instead. To get a de-fragmented frame, use `newframe = frame.copy()`\n",
      "  features_test_ohe[ohe.get_feature_names_out()] = ohe.transform(\n",
      "/var/folders/kr/l8l6g3315gj_6wm9tbxwybbh0000gn/T/ipykernel_2962/2713683421.py:10: PerformanceWarning: DataFrame is highly fragmented.  This is usually the result of calling `frame.insert` many times, which has poor performance.  Consider joining all columns at once using pd.concat(axis=1) instead. To get a de-fragmented frame, use `newframe = frame.copy()`\n",
      "  features_test_ohe[ohe.get_feature_names_out()] = ohe.transform(\n",
      "/var/folders/kr/l8l6g3315gj_6wm9tbxwybbh0000gn/T/ipykernel_2962/2713683421.py:10: PerformanceWarning: DataFrame is highly fragmented.  This is usually the result of calling `frame.insert` many times, which has poor performance.  Consider joining all columns at once using pd.concat(axis=1) instead. To get a de-fragmented frame, use `newframe = frame.copy()`\n",
      "  features_test_ohe[ohe.get_feature_names_out()] = ohe.transform(\n",
      "/var/folders/kr/l8l6g3315gj_6wm9tbxwybbh0000gn/T/ipykernel_2962/2713683421.py:10: PerformanceWarning: DataFrame is highly fragmented.  This is usually the result of calling `frame.insert` many times, which has poor performance.  Consider joining all columns at once using pd.concat(axis=1) instead. To get a de-fragmented frame, use `newframe = frame.copy()`\n",
      "  features_test_ohe[ohe.get_feature_names_out()] = ohe.transform(\n",
      "/var/folders/kr/l8l6g3315gj_6wm9tbxwybbh0000gn/T/ipykernel_2962/2713683421.py:10: PerformanceWarning: DataFrame is highly fragmented.  This is usually the result of calling `frame.insert` many times, which has poor performance.  Consider joining all columns at once using pd.concat(axis=1) instead. To get a de-fragmented frame, use `newframe = frame.copy()`\n",
      "  features_test_ohe[ohe.get_feature_names_out()] = ohe.transform(\n",
      "/var/folders/kr/l8l6g3315gj_6wm9tbxwybbh0000gn/T/ipykernel_2962/2713683421.py:10: PerformanceWarning: DataFrame is highly fragmented.  This is usually the result of calling `frame.insert` many times, which has poor performance.  Consider joining all columns at once using pd.concat(axis=1) instead. To get a de-fragmented frame, use `newframe = frame.copy()`\n",
      "  features_test_ohe[ohe.get_feature_names_out()] = ohe.transform(\n",
      "/var/folders/kr/l8l6g3315gj_6wm9tbxwybbh0000gn/T/ipykernel_2962/2713683421.py:10: PerformanceWarning: DataFrame is highly fragmented.  This is usually the result of calling `frame.insert` many times, which has poor performance.  Consider joining all columns at once using pd.concat(axis=1) instead. To get a de-fragmented frame, use `newframe = frame.copy()`\n",
      "  features_test_ohe[ohe.get_feature_names_out()] = ohe.transform(\n",
      "/var/folders/kr/l8l6g3315gj_6wm9tbxwybbh0000gn/T/ipykernel_2962/2713683421.py:10: PerformanceWarning: DataFrame is highly fragmented.  This is usually the result of calling `frame.insert` many times, which has poor performance.  Consider joining all columns at once using pd.concat(axis=1) instead. To get a de-fragmented frame, use `newframe = frame.copy()`\n",
      "  features_test_ohe[ohe.get_feature_names_out()] = ohe.transform(\n",
      "/var/folders/kr/l8l6g3315gj_6wm9tbxwybbh0000gn/T/ipykernel_2962/2713683421.py:10: PerformanceWarning: DataFrame is highly fragmented.  This is usually the result of calling `frame.insert` many times, which has poor performance.  Consider joining all columns at once using pd.concat(axis=1) instead. To get a de-fragmented frame, use `newframe = frame.copy()`\n",
      "  features_test_ohe[ohe.get_feature_names_out()] = ohe.transform(\n",
      "/var/folders/kr/l8l6g3315gj_6wm9tbxwybbh0000gn/T/ipykernel_2962/2713683421.py:10: PerformanceWarning: DataFrame is highly fragmented.  This is usually the result of calling `frame.insert` many times, which has poor performance.  Consider joining all columns at once using pd.concat(axis=1) instead. To get a de-fragmented frame, use `newframe = frame.copy()`\n",
      "  features_test_ohe[ohe.get_feature_names_out()] = ohe.transform(\n",
      "/var/folders/kr/l8l6g3315gj_6wm9tbxwybbh0000gn/T/ipykernel_2962/2713683421.py:10: PerformanceWarning: DataFrame is highly fragmented.  This is usually the result of calling `frame.insert` many times, which has poor performance.  Consider joining all columns at once using pd.concat(axis=1) instead. To get a de-fragmented frame, use `newframe = frame.copy()`\n",
      "  features_test_ohe[ohe.get_feature_names_out()] = ohe.transform(\n",
      "/var/folders/kr/l8l6g3315gj_6wm9tbxwybbh0000gn/T/ipykernel_2962/2713683421.py:10: PerformanceWarning: DataFrame is highly fragmented.  This is usually the result of calling `frame.insert` many times, which has poor performance.  Consider joining all columns at once using pd.concat(axis=1) instead. To get a de-fragmented frame, use `newframe = frame.copy()`\n",
      "  features_test_ohe[ohe.get_feature_names_out()] = ohe.transform(\n",
      "/var/folders/kr/l8l6g3315gj_6wm9tbxwybbh0000gn/T/ipykernel_2962/2713683421.py:10: PerformanceWarning: DataFrame is highly fragmented.  This is usually the result of calling `frame.insert` many times, which has poor performance.  Consider joining all columns at once using pd.concat(axis=1) instead. To get a de-fragmented frame, use `newframe = frame.copy()`\n",
      "  features_test_ohe[ohe.get_feature_names_out()] = ohe.transform(\n",
      "/var/folders/kr/l8l6g3315gj_6wm9tbxwybbh0000gn/T/ipykernel_2962/2713683421.py:10: PerformanceWarning: DataFrame is highly fragmented.  This is usually the result of calling `frame.insert` many times, which has poor performance.  Consider joining all columns at once using pd.concat(axis=1) instead. To get a de-fragmented frame, use `newframe = frame.copy()`\n",
      "  features_test_ohe[ohe.get_feature_names_out()] = ohe.transform(\n",
      "/var/folders/kr/l8l6g3315gj_6wm9tbxwybbh0000gn/T/ipykernel_2962/2713683421.py:10: PerformanceWarning: DataFrame is highly fragmented.  This is usually the result of calling `frame.insert` many times, which has poor performance.  Consider joining all columns at once using pd.concat(axis=1) instead. To get a de-fragmented frame, use `newframe = frame.copy()`\n",
      "  features_test_ohe[ohe.get_feature_names_out()] = ohe.transform(\n",
      "/var/folders/kr/l8l6g3315gj_6wm9tbxwybbh0000gn/T/ipykernel_2962/2713683421.py:10: PerformanceWarning: DataFrame is highly fragmented.  This is usually the result of calling `frame.insert` many times, which has poor performance.  Consider joining all columns at once using pd.concat(axis=1) instead. To get a de-fragmented frame, use `newframe = frame.copy()`\n",
      "  features_test_ohe[ohe.get_feature_names_out()] = ohe.transform(\n",
      "/var/folders/kr/l8l6g3315gj_6wm9tbxwybbh0000gn/T/ipykernel_2962/2713683421.py:10: PerformanceWarning: DataFrame is highly fragmented.  This is usually the result of calling `frame.insert` many times, which has poor performance.  Consider joining all columns at once using pd.concat(axis=1) instead. To get a de-fragmented frame, use `newframe = frame.copy()`\n",
      "  features_test_ohe[ohe.get_feature_names_out()] = ohe.transform(\n",
      "/var/folders/kr/l8l6g3315gj_6wm9tbxwybbh0000gn/T/ipykernel_2962/2713683421.py:10: PerformanceWarning: DataFrame is highly fragmented.  This is usually the result of calling `frame.insert` many times, which has poor performance.  Consider joining all columns at once using pd.concat(axis=1) instead. To get a de-fragmented frame, use `newframe = frame.copy()`\n",
      "  features_test_ohe[ohe.get_feature_names_out()] = ohe.transform(\n",
      "/var/folders/kr/l8l6g3315gj_6wm9tbxwybbh0000gn/T/ipykernel_2962/2713683421.py:10: PerformanceWarning: DataFrame is highly fragmented.  This is usually the result of calling `frame.insert` many times, which has poor performance.  Consider joining all columns at once using pd.concat(axis=1) instead. To get a de-fragmented frame, use `newframe = frame.copy()`\n",
      "  features_test_ohe[ohe.get_feature_names_out()] = ohe.transform(\n",
      "/var/folders/kr/l8l6g3315gj_6wm9tbxwybbh0000gn/T/ipykernel_2962/2713683421.py:10: PerformanceWarning: DataFrame is highly fragmented.  This is usually the result of calling `frame.insert` many times, which has poor performance.  Consider joining all columns at once using pd.concat(axis=1) instead. To get a de-fragmented frame, use `newframe = frame.copy()`\n",
      "  features_test_ohe[ohe.get_feature_names_out()] = ohe.transform(\n",
      "/var/folders/kr/l8l6g3315gj_6wm9tbxwybbh0000gn/T/ipykernel_2962/2713683421.py:10: PerformanceWarning: DataFrame is highly fragmented.  This is usually the result of calling `frame.insert` many times, which has poor performance.  Consider joining all columns at once using pd.concat(axis=1) instead. To get a de-fragmented frame, use `newframe = frame.copy()`\n",
      "  features_test_ohe[ohe.get_feature_names_out()] = ohe.transform(\n",
      "/var/folders/kr/l8l6g3315gj_6wm9tbxwybbh0000gn/T/ipykernel_2962/2713683421.py:10: PerformanceWarning: DataFrame is highly fragmented.  This is usually the result of calling `frame.insert` many times, which has poor performance.  Consider joining all columns at once using pd.concat(axis=1) instead. To get a de-fragmented frame, use `newframe = frame.copy()`\n",
      "  features_test_ohe[ohe.get_feature_names_out()] = ohe.transform(\n",
      "/var/folders/kr/l8l6g3315gj_6wm9tbxwybbh0000gn/T/ipykernel_2962/2713683421.py:10: PerformanceWarning: DataFrame is highly fragmented.  This is usually the result of calling `frame.insert` many times, which has poor performance.  Consider joining all columns at once using pd.concat(axis=1) instead. To get a de-fragmented frame, use `newframe = frame.copy()`\n",
      "  features_test_ohe[ohe.get_feature_names_out()] = ohe.transform(\n",
      "/var/folders/kr/l8l6g3315gj_6wm9tbxwybbh0000gn/T/ipykernel_2962/2713683421.py:10: PerformanceWarning: DataFrame is highly fragmented.  This is usually the result of calling `frame.insert` many times, which has poor performance.  Consider joining all columns at once using pd.concat(axis=1) instead. To get a de-fragmented frame, use `newframe = frame.copy()`\n",
      "  features_test_ohe[ohe.get_feature_names_out()] = ohe.transform(\n",
      "/var/folders/kr/l8l6g3315gj_6wm9tbxwybbh0000gn/T/ipykernel_2962/2713683421.py:10: PerformanceWarning: DataFrame is highly fragmented.  This is usually the result of calling `frame.insert` many times, which has poor performance.  Consider joining all columns at once using pd.concat(axis=1) instead. To get a de-fragmented frame, use `newframe = frame.copy()`\n",
      "  features_test_ohe[ohe.get_feature_names_out()] = ohe.transform(\n",
      "/var/folders/kr/l8l6g3315gj_6wm9tbxwybbh0000gn/T/ipykernel_2962/2713683421.py:10: PerformanceWarning: DataFrame is highly fragmented.  This is usually the result of calling `frame.insert` many times, which has poor performance.  Consider joining all columns at once using pd.concat(axis=1) instead. To get a de-fragmented frame, use `newframe = frame.copy()`\n",
      "  features_test_ohe[ohe.get_feature_names_out()] = ohe.transform(\n",
      "/var/folders/kr/l8l6g3315gj_6wm9tbxwybbh0000gn/T/ipykernel_2962/2713683421.py:10: PerformanceWarning: DataFrame is highly fragmented.  This is usually the result of calling `frame.insert` many times, which has poor performance.  Consider joining all columns at once using pd.concat(axis=1) instead. To get a de-fragmented frame, use `newframe = frame.copy()`\n",
      "  features_test_ohe[ohe.get_feature_names_out()] = ohe.transform(\n",
      "/var/folders/kr/l8l6g3315gj_6wm9tbxwybbh0000gn/T/ipykernel_2962/2713683421.py:10: PerformanceWarning: DataFrame is highly fragmented.  This is usually the result of calling `frame.insert` many times, which has poor performance.  Consider joining all columns at once using pd.concat(axis=1) instead. To get a de-fragmented frame, use `newframe = frame.copy()`\n",
      "  features_test_ohe[ohe.get_feature_names_out()] = ohe.transform(\n",
      "/var/folders/kr/l8l6g3315gj_6wm9tbxwybbh0000gn/T/ipykernel_2962/2713683421.py:10: PerformanceWarning: DataFrame is highly fragmented.  This is usually the result of calling `frame.insert` many times, which has poor performance.  Consider joining all columns at once using pd.concat(axis=1) instead. To get a de-fragmented frame, use `newframe = frame.copy()`\n",
      "  features_test_ohe[ohe.get_feature_names_out()] = ohe.transform(\n",
      "/var/folders/kr/l8l6g3315gj_6wm9tbxwybbh0000gn/T/ipykernel_2962/2713683421.py:10: PerformanceWarning: DataFrame is highly fragmented.  This is usually the result of calling `frame.insert` many times, which has poor performance.  Consider joining all columns at once using pd.concat(axis=1) instead. To get a de-fragmented frame, use `newframe = frame.copy()`\n",
      "  features_test_ohe[ohe.get_feature_names_out()] = ohe.transform(\n",
      "/var/folders/kr/l8l6g3315gj_6wm9tbxwybbh0000gn/T/ipykernel_2962/2713683421.py:10: PerformanceWarning: DataFrame is highly fragmented.  This is usually the result of calling `frame.insert` many times, which has poor performance.  Consider joining all columns at once using pd.concat(axis=1) instead. To get a de-fragmented frame, use `newframe = frame.copy()`\n",
      "  features_test_ohe[ohe.get_feature_names_out()] = ohe.transform(\n",
      "/var/folders/kr/l8l6g3315gj_6wm9tbxwybbh0000gn/T/ipykernel_2962/2713683421.py:10: PerformanceWarning: DataFrame is highly fragmented.  This is usually the result of calling `frame.insert` many times, which has poor performance.  Consider joining all columns at once using pd.concat(axis=1) instead. To get a de-fragmented frame, use `newframe = frame.copy()`\n",
      "  features_test_ohe[ohe.get_feature_names_out()] = ohe.transform(\n",
      "/var/folders/kr/l8l6g3315gj_6wm9tbxwybbh0000gn/T/ipykernel_2962/2713683421.py:10: PerformanceWarning: DataFrame is highly fragmented.  This is usually the result of calling `frame.insert` many times, which has poor performance.  Consider joining all columns at once using pd.concat(axis=1) instead. To get a de-fragmented frame, use `newframe = frame.copy()`\n",
      "  features_test_ohe[ohe.get_feature_names_out()] = ohe.transform(\n",
      "/var/folders/kr/l8l6g3315gj_6wm9tbxwybbh0000gn/T/ipykernel_2962/2713683421.py:10: PerformanceWarning: DataFrame is highly fragmented.  This is usually the result of calling `frame.insert` many times, which has poor performance.  Consider joining all columns at once using pd.concat(axis=1) instead. To get a de-fragmented frame, use `newframe = frame.copy()`\n",
      "  features_test_ohe[ohe.get_feature_names_out()] = ohe.transform(\n",
      "/var/folders/kr/l8l6g3315gj_6wm9tbxwybbh0000gn/T/ipykernel_2962/2713683421.py:10: PerformanceWarning: DataFrame is highly fragmented.  This is usually the result of calling `frame.insert` many times, which has poor performance.  Consider joining all columns at once using pd.concat(axis=1) instead. To get a de-fragmented frame, use `newframe = frame.copy()`\n",
      "  features_test_ohe[ohe.get_feature_names_out()] = ohe.transform(\n",
      "/var/folders/kr/l8l6g3315gj_6wm9tbxwybbh0000gn/T/ipykernel_2962/2713683421.py:10: PerformanceWarning: DataFrame is highly fragmented.  This is usually the result of calling `frame.insert` many times, which has poor performance.  Consider joining all columns at once using pd.concat(axis=1) instead. To get a de-fragmented frame, use `newframe = frame.copy()`\n",
      "  features_test_ohe[ohe.get_feature_names_out()] = ohe.transform(\n",
      "/var/folders/kr/l8l6g3315gj_6wm9tbxwybbh0000gn/T/ipykernel_2962/2713683421.py:10: PerformanceWarning: DataFrame is highly fragmented.  This is usually the result of calling `frame.insert` many times, which has poor performance.  Consider joining all columns at once using pd.concat(axis=1) instead. To get a de-fragmented frame, use `newframe = frame.copy()`\n",
      "  features_test_ohe[ohe.get_feature_names_out()] = ohe.transform(\n",
      "/var/folders/kr/l8l6g3315gj_6wm9tbxwybbh0000gn/T/ipykernel_2962/2713683421.py:10: PerformanceWarning: DataFrame is highly fragmented.  This is usually the result of calling `frame.insert` many times, which has poor performance.  Consider joining all columns at once using pd.concat(axis=1) instead. To get a de-fragmented frame, use `newframe = frame.copy()`\n",
      "  features_test_ohe[ohe.get_feature_names_out()] = ohe.transform(\n",
      "/var/folders/kr/l8l6g3315gj_6wm9tbxwybbh0000gn/T/ipykernel_2962/2713683421.py:10: PerformanceWarning: DataFrame is highly fragmented.  This is usually the result of calling `frame.insert` many times, which has poor performance.  Consider joining all columns at once using pd.concat(axis=1) instead. To get a de-fragmented frame, use `newframe = frame.copy()`\n",
      "  features_test_ohe[ohe.get_feature_names_out()] = ohe.transform(\n",
      "/var/folders/kr/l8l6g3315gj_6wm9tbxwybbh0000gn/T/ipykernel_2962/2713683421.py:10: PerformanceWarning: DataFrame is highly fragmented.  This is usually the result of calling `frame.insert` many times, which has poor performance.  Consider joining all columns at once using pd.concat(axis=1) instead. To get a de-fragmented frame, use `newframe = frame.copy()`\n",
      "  features_test_ohe[ohe.get_feature_names_out()] = ohe.transform(\n",
      "/var/folders/kr/l8l6g3315gj_6wm9tbxwybbh0000gn/T/ipykernel_2962/2713683421.py:10: PerformanceWarning: DataFrame is highly fragmented.  This is usually the result of calling `frame.insert` many times, which has poor performance.  Consider joining all columns at once using pd.concat(axis=1) instead. To get a de-fragmented frame, use `newframe = frame.copy()`\n",
      "  features_test_ohe[ohe.get_feature_names_out()] = ohe.transform(\n",
      "/var/folders/kr/l8l6g3315gj_6wm9tbxwybbh0000gn/T/ipykernel_2962/2713683421.py:10: PerformanceWarning: DataFrame is highly fragmented.  This is usually the result of calling `frame.insert` many times, which has poor performance.  Consider joining all columns at once using pd.concat(axis=1) instead. To get a de-fragmented frame, use `newframe = frame.copy()`\n",
      "  features_test_ohe[ohe.get_feature_names_out()] = ohe.transform(\n",
      "/var/folders/kr/l8l6g3315gj_6wm9tbxwybbh0000gn/T/ipykernel_2962/2713683421.py:10: PerformanceWarning: DataFrame is highly fragmented.  This is usually the result of calling `frame.insert` many times, which has poor performance.  Consider joining all columns at once using pd.concat(axis=1) instead. To get a de-fragmented frame, use `newframe = frame.copy()`\n",
      "  features_test_ohe[ohe.get_feature_names_out()] = ohe.transform(\n",
      "/var/folders/kr/l8l6g3315gj_6wm9tbxwybbh0000gn/T/ipykernel_2962/2713683421.py:10: PerformanceWarning: DataFrame is highly fragmented.  This is usually the result of calling `frame.insert` many times, which has poor performance.  Consider joining all columns at once using pd.concat(axis=1) instead. To get a de-fragmented frame, use `newframe = frame.copy()`\n",
      "  features_test_ohe[ohe.get_feature_names_out()] = ohe.transform(\n",
      "/var/folders/kr/l8l6g3315gj_6wm9tbxwybbh0000gn/T/ipykernel_2962/2713683421.py:10: PerformanceWarning: DataFrame is highly fragmented.  This is usually the result of calling `frame.insert` many times, which has poor performance.  Consider joining all columns at once using pd.concat(axis=1) instead. To get a de-fragmented frame, use `newframe = frame.copy()`\n",
      "  features_test_ohe[ohe.get_feature_names_out()] = ohe.transform(\n"
     ]
    }
   ],
   "source": [
    "features_train_ohe = features_train.drop(columns=cat_cols).copy()\n",
    "features_train_ohe[ohe.get_feature_names_out()] = ohe.transform(\n",
    "    features_train[cat_cols])\n",
    "\n",
    "features_valid_ohe = features_valid.drop(columns=cat_cols).copy()\n",
    "features_valid_ohe[ohe.get_feature_names_out()] = ohe.transform(\n",
    "    features_valid[cat_cols])\n",
    "\n",
    "features_test_ohe = features_test.drop(columns=cat_cols).copy()\n",
    "features_test_ohe[ohe.get_feature_names_out()] = ohe.transform(\n",
    "    features_test[cat_cols])"
   ]
  },
  {
   "cell_type": "markdown",
   "metadata": {},
   "source": [
    "### Scale features"
   ]
  },
  {
   "cell_type": "code",
   "execution_count": 36,
   "metadata": {
    "ExecuteTime": {
     "end_time": "2023-09-07T20:29:52.184806Z",
     "start_time": "2023-09-07T20:29:52.030799Z"
    }
   },
   "outputs": [],
   "source": [
    "scaler = StandardScaler()\n",
    "scaler.fit(features_train[num_cols])\n",
    "features_train[num_cols] = scaler.transform(features_train[num_cols])\n",
    "features_test[num_cols] = scaler.transform(features_test[num_cols])\n",
    "\n",
    "features_valid[num_cols] = scaler.transform(features_valid[num_cols])"
   ]
  },
  {
   "cell_type": "markdown",
   "metadata": {},
   "source": [
    "### Train a linear regression model"
   ]
  },
  {
   "cell_type": "code",
   "execution_count": 37,
   "metadata": {
    "ExecuteTime": {
     "end_time": "2023-09-07T20:30:08.856256Z",
     "start_time": "2023-09-07T20:29:52.190768Z"
    }
   },
   "outputs": [
    {
     "data": {
      "text/plain": [
       "2786.185256990842"
      ]
     },
     "execution_count": 37,
     "metadata": {},
     "output_type": "execute_result"
    }
   ],
   "source": [
    "model = LinearRegression()\n",
    "model.fit(features_train_ohe, target_train)\n",
    "predictions_valid_ohe = model.predict(features_valid_ohe)\n",
    "rmse = mean_squared_error(target_valid, predictions_valid_ohe)**0.5\n",
    "rmse"
   ]
  },
  {
   "cell_type": "markdown",
   "metadata": {},
   "source": [
    "RMSE is greater than the required value of 2500"
   ]
  },
  {
   "cell_type": "markdown",
   "metadata": {},
   "source": [
    "### Train the decision tree model"
   ]
  },
  {
   "cell_type": "code",
   "execution_count": 43,
   "metadata": {
    "ExecuteTime": {
     "end_time": "2023-09-07T20:37:25.882199Z",
     "start_time": "2023-09-07T20:35:53.872501Z"
    }
   },
   "outputs": [
    {
     "name": "stdout",
     "output_type": "stream",
     "text": [
      "\n",
      "Depth: 1\n",
      "RMSE log file: 3734.1925140036383\n",
      "\n",
      "Depth: 3\n",
      "RMSE log file: 3015.2990418341733\n",
      "\n",
      "Depth: 5\n",
      "RMSE log file: 2517.532183265178\n",
      "\n",
      "Depth: 7\n",
      "RMSE log file: 2259.9543000792482\n",
      "\n",
      "Depth: 9\n",
      "RMSE log file: 2115.0317661034774\n",
      "\n",
      "Depth: 11\n",
      "RMSE log file: 2031.3308386057422\n",
      "\n",
      "Depth: 13\n",
      "RMSE log file: 1992.8134435857103\n",
      "\n",
      "Depth: 15\n",
      "RMSE log file: 1972.810446895091\n",
      "\n",
      "Depth: 17\n",
      "RMSE log file: 1983.58238962233\n",
      "\n",
      "Depth: 19\n",
      "RMSE log file: 1991.4940464250085\n",
      "\n",
      "Depth: 21\n",
      "RMSE log file: 2012.5586229765547\n",
      "\n",
      "Depth: 23\n",
      "RMSE log file: 2020.279859413044\n",
      "\n",
      "Depth: 25\n",
      "RMSE log file: 2045.140422306163\n",
      "\n",
      "Depth: 27\n",
      "RMSE log file: 2045.420081381642\n",
      "\n",
      "Depth: 29\n",
      "RMSE log file: 2058.200770218398\n",
      "\n",
      " Size rmse = 1972.810446895091 shape depth = 15\n"
     ]
    }
   ],
   "source": [
    "best_rmse = 100000\n",
    "best_depth = 0\n",
    "for depth in range(1, 30, 2):\n",
    "    model = DecisionTreeRegressor(random_state=12345, max_depth = depth);\n",
    "    model.fit(features_train_ohe, target_train);\n",
    "    predictions_valid_tree = model.predict(features_valid_ohe);\n",
    "    rmse_tree = mean_squared_error(target_valid, predictions_valid_tree)**0.5\n",
    "    print('\\nDepth:', depth)\n",
    "    print('RMSE log file:', rmse_tree)\n",
    "    if rmse_tree < best_rmse:\n",
    "        best_rmse = rmse_tree\n",
    "        best_depth = depth\n",
    "        \n",
    "print('\\n Size rmse = {} shape depth = {}'.format(best_rmse, best_depth))"
   ]
  },
  {
   "cell_type": "markdown",
   "metadata": {},
   "source": [
    "RMSE = 1972 at depth 15 on the decision tree model is much less than on linear regression"
   ]
  },
  {
   "cell_type": "markdown",
   "metadata": {},
   "source": [
    "### We train a Lightgbm model"
   ]
  },
  {
   "cell_type": "markdown",
   "metadata": {},
   "source": [
    "Let's translate the categorical features into the category type, which is required for LightGBM"
   ]
  },
  {
   "cell_type": "code",
   "execution_count": 44,
   "metadata": {
    "ExecuteTime": {
     "end_time": "2023-09-07T20:37:26.462902Z",
     "start_time": "2023-09-07T20:37:25.892718Z"
    }
   },
   "outputs": [],
   "source": [
    "for cat in features_train.columns:\n",
    "    if features_train[cat].dtype == 'object':\n",
    "        features_train[cat] = features_train[cat].astype('category')"
   ]
  },
  {
   "cell_type": "code",
   "execution_count": 45,
   "metadata": {
    "ExecuteTime": {
     "end_time": "2023-09-07T20:37:26.600384Z",
     "start_time": "2023-09-07T20:37:26.466233Z"
    }
   },
   "outputs": [],
   "source": [
    "for cat in features_valid.columns:\n",
    "    if features_valid[cat].dtype == 'object':\n",
    "        features_valid[cat] = features_valid[cat].astype('category')"
   ]
  },
  {
   "cell_type": "markdown",
   "metadata": {},
   "source": [
    "Train the Model"
   ]
  },
  {
   "cell_type": "code",
   "execution_count": 46,
   "metadata": {
    "ExecuteTime": {
     "end_time": "2023-09-07T20:37:29.380652Z",
     "start_time": "2023-09-07T20:37:26.606200Z"
    }
   },
   "outputs": [
    {
     "data": {
      "text/plain": [
       "1703.0150652819086"
      ]
     },
     "execution_count": 46,
     "metadata": {},
     "output_type": "execute_result"
    }
   ],
   "source": [
    "model = lightgbm.LGBMRegressor(random_state=12345)\n",
    "model.fit(features_train, target_train)\n",
    "predictions_valid_lgbm = model.predict(features_valid)\n",
    "rmse_lgbm = mean_squared_error(target_valid, predictions_valid_lgbm)**0.5\n",
    "rmse_lgbm"
   ]
  },
  {
   "cell_type": "markdown",
   "metadata": {},
   "source": [
    "RMSE = 1703, even less than the decision tree"
   ]
  },
  {
   "cell_type": "code",
   "execution_count": 47,
   "metadata": {
    "ExecuteTime": {
     "end_time": "2023-09-07T20:45:48.504573Z",
     "start_time": "2023-09-07T20:37:29.386138Z"
    },
    "scrolled": true
   },
   "outputs": [
    {
     "name": "stdout",
     "output_type": "stream",
     "text": [
      "Fitting 3 folds for each of 15 candidates, totalling 45 fits\n",
      "[CV 1/3] END n_estimators=100, num_leaves=20;, score=-1726.991 total time=   1.3s\n",
      "[CV 2/3] END n_estimators=100, num_leaves=20;, score=-1725.611 total time=   1.1s\n",
      "[CV 3/3] END n_estimators=100, num_leaves=20;, score=-1713.629 total time=   1.1s\n",
      "[CV 1/3] END n_estimators=100, num_leaves=60;, score=-1678.166 total time=   1.5s\n",
      "[CV 2/3] END n_estimators=100, num_leaves=60;, score=-1678.934 total time=   1.6s\n",
      "[CV 3/3] END n_estimators=100, num_leaves=60;, score=-1671.795 total time=   1.6s\n",
      "[CV 1/3] END n_estimators=100, num_leaves=100;, score=-1668.097 total time=   2.0s\n",
      "[CV 2/3] END n_estimators=100, num_leaves=100;, score=-1668.048 total time=   2.2s\n",
      "[CV 3/3] END n_estimators=100, num_leaves=100;, score=-1654.536 total time=   2.0s\n",
      "[CV 1/3] END n_estimators=100, num_leaves=140;, score=-1658.226 total time=   2.3s\n",
      "[CV 2/3] END n_estimators=100, num_leaves=140;, score=-1659.556 total time=   2.4s\n",
      "[CV 3/3] END n_estimators=100, num_leaves=140;, score=-1647.949 total time=   2.5s\n",
      "[CV 1/3] END n_estimators=100, num_leaves=180;, score=-1655.542 total time=   3.2s\n",
      "[CV 2/3] END n_estimators=100, num_leaves=180;, score=-1656.881 total time=   3.3s\n",
      "[CV 3/3] END n_estimators=100, num_leaves=180;, score=-1652.752 total time=   2.5s\n",
      "[CV 1/3] END n_estimators=500, num_leaves=20;, score=-1674.617 total time=   4.4s\n",
      "[CV 2/3] END n_estimators=500, num_leaves=20;, score=-1673.630 total time=   5.0s\n",
      "[CV 3/3] END n_estimators=500, num_leaves=20;, score=-1664.263 total time=   3.3s\n",
      "[CV 1/3] END n_estimators=500, num_leaves=60;, score=-1655.669 total time=   5.9s\n",
      "[CV 2/3] END n_estimators=500, num_leaves=60;, score=-1653.481 total time=   5.8s\n",
      "[CV 3/3] END n_estimators=500, num_leaves=60;, score=-1650.844 total time=   5.7s\n",
      "[CV 1/3] END n_estimators=500, num_leaves=100;, score=-1654.710 total time=   7.2s\n",
      "[CV 2/3] END n_estimators=500, num_leaves=100;, score=-1655.473 total time=   6.3s\n",
      "[CV 3/3] END n_estimators=500, num_leaves=100;, score=-1643.911 total time=   6.6s\n",
      "[CV 1/3] END n_estimators=500, num_leaves=140;, score=-1653.709 total time=   8.6s\n",
      "[CV 2/3] END n_estimators=500, num_leaves=140;, score=-1654.276 total time=   8.9s\n",
      "[CV 3/3] END n_estimators=500, num_leaves=140;, score=-1647.880 total time=  10.8s\n",
      "[CV 1/3] END n_estimators=500, num_leaves=180;, score=-1658.464 total time=  12.5s\n",
      "[CV 2/3] END n_estimators=500, num_leaves=180;, score=-1662.760 total time=  12.2s\n",
      "[CV 3/3] END n_estimators=500, num_leaves=180;, score=-1657.246 total time=   9.9s\n",
      "[CV 1/3] END n_estimators=1000, num_leaves=20;, score=-1663.123 total time=   7.5s\n",
      "[CV 2/3] END n_estimators=1000, num_leaves=20;, score=-1663.702 total time=   9.1s\n",
      "[CV 3/3] END n_estimators=1000, num_leaves=20;, score=-1655.702 total time=   7.6s\n",
      "[CV 1/3] END n_estimators=1000, num_leaves=60;, score=-1655.970 total time=  12.1s\n",
      "[CV 2/3] END n_estimators=1000, num_leaves=60;, score=-1657.333 total time=  10.5s\n",
      "[CV 3/3] END n_estimators=1000, num_leaves=60;, score=-1652.793 total time=  18.0s\n",
      "[CV 1/3] END n_estimators=1000, num_leaves=100;, score=-1660.987 total time=  18.8s\n",
      "[CV 2/3] END n_estimators=1000, num_leaves=100;, score=-1664.058 total time=  41.0s\n",
      "[CV 3/3] END n_estimators=1000, num_leaves=100;, score=-1652.152 total time=  26.0s\n",
      "[CV 1/3] END n_estimators=1000, num_leaves=140;, score=-1666.458 total time=  25.5s\n",
      "[CV 2/3] END n_estimators=1000, num_leaves=140;, score=-1669.613 total time=  25.7s\n",
      "[CV 3/3] END n_estimators=1000, num_leaves=140;, score=-1659.034 total time=  19.8s\n",
      "[CV 1/3] END n_estimators=1000, num_leaves=180;, score=-1676.461 total time=  45.9s\n",
      "[CV 2/3] END n_estimators=1000, num_leaves=180;, score=-1678.254 total time=  36.1s\n",
      "[CV 3/3] END n_estimators=1000, num_leaves=180;, score=-1672.283 total time=  37.1s\n"
     ]
    },
    {
     "data": {
      "text/plain": [
       "{'n_estimators': 500, 'num_leaves': 100}"
      ]
     },
     "metadata": {},
     "output_type": "display_data"
    },
    {
     "data": {
      "text/plain": [
       "1651.3649494339618"
      ]
     },
     "metadata": {},
     "output_type": "display_data"
    }
   ],
   "source": [
    "model = lightgbm.LGBMRegressor(random_state=12345, n_jobs=4)\n",
    "\n",
    "light_model=GridSearchCV(estimator=model,\n",
    "                         param_grid={\n",
    "                             'n_estimators': [100, 500, 1000],\n",
    "                             'num_leaves': [n for n in range(20, 200, 40)]},\n",
    "                         scoring='neg_root_mean_squared_error',\n",
    "                         cv=3,\n",
    "                         verbose=3)\n",
    "\n",
    "light_model.fit(features_train, target_train)\n",
    "display(light_model.best_params_)\n",
    "display(light_model.best_score_*-1)"
   ]
  },
  {
   "cell_type": "code",
   "execution_count": 48,
   "metadata": {
    "ExecuteTime": {
     "end_time": "2023-09-07T20:45:57.674715Z",
     "start_time": "2023-09-07T20:45:48.521210Z"
    }
   },
   "outputs": [
    {
     "data": {
      "text/plain": [
       "1632.507375210857"
      ]
     },
     "execution_count": 48,
     "metadata": {},
     "output_type": "execute_result"
    }
   ],
   "source": [
    "best_light_model = lightgbm.LGBMRegressor(random_state=12345, n_estimators = 500, num_leaves = 100)\n",
    "best_light_model.fit(features_train, target_train)\n",
    "predictions_valid_lgbm = best_light_model.predict(features_valid)\n",
    "rmse_lgbm = mean_squared_error(target_valid, predictions_valid_lgbm)**0.5\n",
    "rmse_lgbm"
   ]
  },
  {
   "cell_type": "markdown",
   "metadata": {},
   "source": [
    "### Conclusion"
   ]
  },
  {
   "cell_type": "markdown",
   "metadata": {},
   "source": [
    "We trained different models, selected hyperparameters for them and found that\n",
    "\n",
    "with a linear regression model RMSE = 2760\n",
    "\n",
    "with model decision tree RMSE = 1972 with depth = 15\n",
    "\n",
    "with LightGBM model with hyperparameters 'n_estimators': 500, 'num_leaves': 100 gives rmse value: 1632."
   ]
  },
  {
   "cell_type": "markdown",
   "metadata": {},
   "source": [
    "## Analysis of models"
   ]
  },
  {
   "cell_type": "markdown",
   "metadata": {},
   "source": [
    "### Linear regression"
   ]
  },
  {
   "cell_type": "markdown",
   "metadata": {},
   "source": [
    "Find the training time for the linear regression model"
   ]
  },
  {
   "cell_type": "code",
   "execution_count": 49,
   "metadata": {
    "ExecuteTime": {
     "end_time": "2023-09-07T20:46:12.035685Z",
     "start_time": "2023-09-07T20:45:57.680596Z"
    }
   },
   "outputs": [
    {
     "name": "stdout",
     "output_type": "stream",
     "text": [
      "CPU times: user 12.4 s, sys: 4.39 s, total: 16.8 s\n",
      "Wall time: 14.3 s\n"
     ]
    },
    {
     "data": {
      "text/html": [
       "<style>#sk-container-id-2 {color: black;background-color: white;}#sk-container-id-2 pre{padding: 0;}#sk-container-id-2 div.sk-toggleable {background-color: white;}#sk-container-id-2 label.sk-toggleable__label {cursor: pointer;display: block;width: 100%;margin-bottom: 0;padding: 0.3em;box-sizing: border-box;text-align: center;}#sk-container-id-2 label.sk-toggleable__label-arrow:before {content: \"▸\";float: left;margin-right: 0.25em;color: #696969;}#sk-container-id-2 label.sk-toggleable__label-arrow:hover:before {color: black;}#sk-container-id-2 div.sk-estimator:hover label.sk-toggleable__label-arrow:before {color: black;}#sk-container-id-2 div.sk-toggleable__content {max-height: 0;max-width: 0;overflow: hidden;text-align: left;background-color: #f0f8ff;}#sk-container-id-2 div.sk-toggleable__content pre {margin: 0.2em;color: black;border-radius: 0.25em;background-color: #f0f8ff;}#sk-container-id-2 input.sk-toggleable__control:checked~div.sk-toggleable__content {max-height: 200px;max-width: 100%;overflow: auto;}#sk-container-id-2 input.sk-toggleable__control:checked~label.sk-toggleable__label-arrow:before {content: \"▾\";}#sk-container-id-2 div.sk-estimator input.sk-toggleable__control:checked~label.sk-toggleable__label {background-color: #d4ebff;}#sk-container-id-2 div.sk-label input.sk-toggleable__control:checked~label.sk-toggleable__label {background-color: #d4ebff;}#sk-container-id-2 input.sk-hidden--visually {border: 0;clip: rect(1px 1px 1px 1px);clip: rect(1px, 1px, 1px, 1px);height: 1px;margin: -1px;overflow: hidden;padding: 0;position: absolute;width: 1px;}#sk-container-id-2 div.sk-estimator {font-family: monospace;background-color: #f0f8ff;border: 1px dotted black;border-radius: 0.25em;box-sizing: border-box;margin-bottom: 0.5em;}#sk-container-id-2 div.sk-estimator:hover {background-color: #d4ebff;}#sk-container-id-2 div.sk-parallel-item::after {content: \"\";width: 100%;border-bottom: 1px solid gray;flex-grow: 1;}#sk-container-id-2 div.sk-label:hover label.sk-toggleable__label {background-color: #d4ebff;}#sk-container-id-2 div.sk-serial::before {content: \"\";position: absolute;border-left: 1px solid gray;box-sizing: border-box;top: 0;bottom: 0;left: 50%;z-index: 0;}#sk-container-id-2 div.sk-serial {display: flex;flex-direction: column;align-items: center;background-color: white;padding-right: 0.2em;padding-left: 0.2em;position: relative;}#sk-container-id-2 div.sk-item {position: relative;z-index: 1;}#sk-container-id-2 div.sk-parallel {display: flex;align-items: stretch;justify-content: center;background-color: white;position: relative;}#sk-container-id-2 div.sk-item::before, #sk-container-id-2 div.sk-parallel-item::before {content: \"\";position: absolute;border-left: 1px solid gray;box-sizing: border-box;top: 0;bottom: 0;left: 50%;z-index: -1;}#sk-container-id-2 div.sk-parallel-item {display: flex;flex-direction: column;z-index: 1;position: relative;background-color: white;}#sk-container-id-2 div.sk-parallel-item:first-child::after {align-self: flex-end;width: 50%;}#sk-container-id-2 div.sk-parallel-item:last-child::after {align-self: flex-start;width: 50%;}#sk-container-id-2 div.sk-parallel-item:only-child::after {width: 0;}#sk-container-id-2 div.sk-dashed-wrapped {border: 1px dashed gray;margin: 0 0.4em 0.5em 0.4em;box-sizing: border-box;padding-bottom: 0.4em;background-color: white;}#sk-container-id-2 div.sk-label label {font-family: monospace;font-weight: bold;display: inline-block;line-height: 1.2em;}#sk-container-id-2 div.sk-label-container {text-align: center;}#sk-container-id-2 div.sk-container {/* jupyter's `normalize.less` sets `[hidden] { display: none; }` but bootstrap.min.css set `[hidden] { display: none !important; }` so we also need the `!important` here to be able to override the default hidden behavior on the sphinx rendered scikit-learn.org. See: https://github.com/scikit-learn/scikit-learn/issues/21755 */display: inline-block !important;position: relative;}#sk-container-id-2 div.sk-text-repr-fallback {display: none;}</style><div id=\"sk-container-id-2\" class=\"sk-top-container\"><div class=\"sk-text-repr-fallback\"><pre>LinearRegression()</pre><b>In a Jupyter environment, please rerun this cell to show the HTML representation or trust the notebook. <br />On GitHub, the HTML representation is unable to render, please try loading this page with nbviewer.org.</b></div><div class=\"sk-container\" hidden><div class=\"sk-item\"><div class=\"sk-estimator sk-toggleable\"><input class=\"sk-toggleable__control sk-hidden--visually\" id=\"sk-estimator-id-2\" type=\"checkbox\" checked><label for=\"sk-estimator-id-2\" class=\"sk-toggleable__label sk-toggleable__label-arrow\">LinearRegression</label><div class=\"sk-toggleable__content\"><pre>LinearRegression()</pre></div></div></div></div></div>"
      ],
      "text/plain": [
       "LinearRegression()"
      ]
     },
     "execution_count": 49,
     "metadata": {},
     "output_type": "execute_result"
    }
   ],
   "source": [
    "%%time\n",
    "model = LinearRegression()\n",
    "model.fit(features_train_ohe, target_train)"
   ]
  },
  {
   "cell_type": "markdown",
   "metadata": {},
   "source": [
    "Let's build predictions on the validation set and find the cell execution time"
   ]
  },
  {
   "cell_type": "code",
   "execution_count": 50,
   "metadata": {
    "ExecuteTime": {
     "end_time": "2023-09-07T20:46:12.409587Z",
     "start_time": "2023-09-07T20:46:12.046067Z"
    }
   },
   "outputs": [
    {
     "name": "stdout",
     "output_type": "stream",
     "text": [
      "CPU times: user 215 ms, sys: 205 ms, total: 420 ms\n",
      "Wall time: 350 ms\n"
     ]
    }
   ],
   "source": [
    "%%time\n",
    "predictions_valid_ohe = model.predict(features_valid_ohe)"
   ]
  },
  {
   "cell_type": "markdown",
   "metadata": {},
   "source": [
    "### Find the training time for the decision tree model"
   ]
  },
  {
   "cell_type": "code",
   "execution_count": 51,
   "metadata": {
    "ExecuteTime": {
     "end_time": "2023-09-07T20:46:18.693942Z",
     "start_time": "2023-09-07T20:46:12.414331Z"
    },
    "scrolled": true
   },
   "outputs": [
    {
     "name": "stdout",
     "output_type": "stream",
     "text": [
      "CPU times: user 5.31 s, sys: 978 ms, total: 6.28 s\n",
      "Wall time: 6.26 s\n"
     ]
    },
    {
     "data": {
      "text/html": [
       "<style>#sk-container-id-3 {color: black;background-color: white;}#sk-container-id-3 pre{padding: 0;}#sk-container-id-3 div.sk-toggleable {background-color: white;}#sk-container-id-3 label.sk-toggleable__label {cursor: pointer;display: block;width: 100%;margin-bottom: 0;padding: 0.3em;box-sizing: border-box;text-align: center;}#sk-container-id-3 label.sk-toggleable__label-arrow:before {content: \"▸\";float: left;margin-right: 0.25em;color: #696969;}#sk-container-id-3 label.sk-toggleable__label-arrow:hover:before {color: black;}#sk-container-id-3 div.sk-estimator:hover label.sk-toggleable__label-arrow:before {color: black;}#sk-container-id-3 div.sk-toggleable__content {max-height: 0;max-width: 0;overflow: hidden;text-align: left;background-color: #f0f8ff;}#sk-container-id-3 div.sk-toggleable__content pre {margin: 0.2em;color: black;border-radius: 0.25em;background-color: #f0f8ff;}#sk-container-id-3 input.sk-toggleable__control:checked~div.sk-toggleable__content {max-height: 200px;max-width: 100%;overflow: auto;}#sk-container-id-3 input.sk-toggleable__control:checked~label.sk-toggleable__label-arrow:before {content: \"▾\";}#sk-container-id-3 div.sk-estimator input.sk-toggleable__control:checked~label.sk-toggleable__label {background-color: #d4ebff;}#sk-container-id-3 div.sk-label input.sk-toggleable__control:checked~label.sk-toggleable__label {background-color: #d4ebff;}#sk-container-id-3 input.sk-hidden--visually {border: 0;clip: rect(1px 1px 1px 1px);clip: rect(1px, 1px, 1px, 1px);height: 1px;margin: -1px;overflow: hidden;padding: 0;position: absolute;width: 1px;}#sk-container-id-3 div.sk-estimator {font-family: monospace;background-color: #f0f8ff;border: 1px dotted black;border-radius: 0.25em;box-sizing: border-box;margin-bottom: 0.5em;}#sk-container-id-3 div.sk-estimator:hover {background-color: #d4ebff;}#sk-container-id-3 div.sk-parallel-item::after {content: \"\";width: 100%;border-bottom: 1px solid gray;flex-grow: 1;}#sk-container-id-3 div.sk-label:hover label.sk-toggleable__label {background-color: #d4ebff;}#sk-container-id-3 div.sk-serial::before {content: \"\";position: absolute;border-left: 1px solid gray;box-sizing: border-box;top: 0;bottom: 0;left: 50%;z-index: 0;}#sk-container-id-3 div.sk-serial {display: flex;flex-direction: column;align-items: center;background-color: white;padding-right: 0.2em;padding-left: 0.2em;position: relative;}#sk-container-id-3 div.sk-item {position: relative;z-index: 1;}#sk-container-id-3 div.sk-parallel {display: flex;align-items: stretch;justify-content: center;background-color: white;position: relative;}#sk-container-id-3 div.sk-item::before, #sk-container-id-3 div.sk-parallel-item::before {content: \"\";position: absolute;border-left: 1px solid gray;box-sizing: border-box;top: 0;bottom: 0;left: 50%;z-index: -1;}#sk-container-id-3 div.sk-parallel-item {display: flex;flex-direction: column;z-index: 1;position: relative;background-color: white;}#sk-container-id-3 div.sk-parallel-item:first-child::after {align-self: flex-end;width: 50%;}#sk-container-id-3 div.sk-parallel-item:last-child::after {align-self: flex-start;width: 50%;}#sk-container-id-3 div.sk-parallel-item:only-child::after {width: 0;}#sk-container-id-3 div.sk-dashed-wrapped {border: 1px dashed gray;margin: 0 0.4em 0.5em 0.4em;box-sizing: border-box;padding-bottom: 0.4em;background-color: white;}#sk-container-id-3 div.sk-label label {font-family: monospace;font-weight: bold;display: inline-block;line-height: 1.2em;}#sk-container-id-3 div.sk-label-container {text-align: center;}#sk-container-id-3 div.sk-container {/* jupyter's `normalize.less` sets `[hidden] { display: none; }` but bootstrap.min.css set `[hidden] { display: none !important; }` so we also need the `!important` here to be able to override the default hidden behavior on the sphinx rendered scikit-learn.org. See: https://github.com/scikit-learn/scikit-learn/issues/21755 */display: inline-block !important;position: relative;}#sk-container-id-3 div.sk-text-repr-fallback {display: none;}</style><div id=\"sk-container-id-3\" class=\"sk-top-container\"><div class=\"sk-text-repr-fallback\"><pre>DecisionTreeRegressor(max_depth=15, random_state=12345)</pre><b>In a Jupyter environment, please rerun this cell to show the HTML representation or trust the notebook. <br />On GitHub, the HTML representation is unable to render, please try loading this page with nbviewer.org.</b></div><div class=\"sk-container\" hidden><div class=\"sk-item\"><div class=\"sk-estimator sk-toggleable\"><input class=\"sk-toggleable__control sk-hidden--visually\" id=\"sk-estimator-id-3\" type=\"checkbox\" checked><label for=\"sk-estimator-id-3\" class=\"sk-toggleable__label sk-toggleable__label-arrow\">DecisionTreeRegressor</label><div class=\"sk-toggleable__content\"><pre>DecisionTreeRegressor(max_depth=15, random_state=12345)</pre></div></div></div></div></div>"
      ],
      "text/plain": [
       "DecisionTreeRegressor(max_depth=15, random_state=12345)"
      ]
     },
     "execution_count": 51,
     "metadata": {},
     "output_type": "execute_result"
    }
   ],
   "source": [
    "%%time\n",
    "model = DecisionTreeRegressor(random_state=12345, max_depth=15)\n",
    "model.fit(features_train_ohe, target_train)"
   ]
  },
  {
   "cell_type": "markdown",
   "metadata": {},
   "source": [
    "Let's build predictions on the validation set and find the cell execution time"
   ]
  },
  {
   "cell_type": "code",
   "execution_count": 52,
   "metadata": {
    "ExecuteTime": {
     "end_time": "2023-09-07T20:46:18.969049Z",
     "start_time": "2023-09-07T20:46:18.706708Z"
    }
   },
   "outputs": [
    {
     "name": "stdout",
     "output_type": "stream",
     "text": [
      "CPU times: user 136 ms, sys: 123 ms, total: 258 ms\n",
      "Wall time: 255 ms\n"
     ]
    }
   ],
   "source": [
    "%%time\n",
    "predictions_valid_ohe = model.predict(features_valid_ohe)"
   ]
  },
  {
   "cell_type": "markdown",
   "metadata": {},
   "source": [
    "### Find the training time for the Lightgbm model"
   ]
  },
  {
   "cell_type": "code",
   "execution_count": 53,
   "metadata": {
    "ExecuteTime": {
     "end_time": "2023-09-07T20:46:25.233673Z",
     "start_time": "2023-09-07T20:46:18.972890Z"
    }
   },
   "outputs": [
    {
     "name": "stdout",
     "output_type": "stream",
     "text": [
      "CPU times: user 22.5 s, sys: 549 ms, total: 23 s\n",
      "Wall time: 6.24 s\n"
     ]
    },
    {
     "data": {
      "text/html": [
       "<style>#sk-container-id-4 {color: black;background-color: white;}#sk-container-id-4 pre{padding: 0;}#sk-container-id-4 div.sk-toggleable {background-color: white;}#sk-container-id-4 label.sk-toggleable__label {cursor: pointer;display: block;width: 100%;margin-bottom: 0;padding: 0.3em;box-sizing: border-box;text-align: center;}#sk-container-id-4 label.sk-toggleable__label-arrow:before {content: \"▸\";float: left;margin-right: 0.25em;color: #696969;}#sk-container-id-4 label.sk-toggleable__label-arrow:hover:before {color: black;}#sk-container-id-4 div.sk-estimator:hover label.sk-toggleable__label-arrow:before {color: black;}#sk-container-id-4 div.sk-toggleable__content {max-height: 0;max-width: 0;overflow: hidden;text-align: left;background-color: #f0f8ff;}#sk-container-id-4 div.sk-toggleable__content pre {margin: 0.2em;color: black;border-radius: 0.25em;background-color: #f0f8ff;}#sk-container-id-4 input.sk-toggleable__control:checked~div.sk-toggleable__content {max-height: 200px;max-width: 100%;overflow: auto;}#sk-container-id-4 input.sk-toggleable__control:checked~label.sk-toggleable__label-arrow:before {content: \"▾\";}#sk-container-id-4 div.sk-estimator input.sk-toggleable__control:checked~label.sk-toggleable__label {background-color: #d4ebff;}#sk-container-id-4 div.sk-label input.sk-toggleable__control:checked~label.sk-toggleable__label {background-color: #d4ebff;}#sk-container-id-4 input.sk-hidden--visually {border: 0;clip: rect(1px 1px 1px 1px);clip: rect(1px, 1px, 1px, 1px);height: 1px;margin: -1px;overflow: hidden;padding: 0;position: absolute;width: 1px;}#sk-container-id-4 div.sk-estimator {font-family: monospace;background-color: #f0f8ff;border: 1px dotted black;border-radius: 0.25em;box-sizing: border-box;margin-bottom: 0.5em;}#sk-container-id-4 div.sk-estimator:hover {background-color: #d4ebff;}#sk-container-id-4 div.sk-parallel-item::after {content: \"\";width: 100%;border-bottom: 1px solid gray;flex-grow: 1;}#sk-container-id-4 div.sk-label:hover label.sk-toggleable__label {background-color: #d4ebff;}#sk-container-id-4 div.sk-serial::before {content: \"\";position: absolute;border-left: 1px solid gray;box-sizing: border-box;top: 0;bottom: 0;left: 50%;z-index: 0;}#sk-container-id-4 div.sk-serial {display: flex;flex-direction: column;align-items: center;background-color: white;padding-right: 0.2em;padding-left: 0.2em;position: relative;}#sk-container-id-4 div.sk-item {position: relative;z-index: 1;}#sk-container-id-4 div.sk-parallel {display: flex;align-items: stretch;justify-content: center;background-color: white;position: relative;}#sk-container-id-4 div.sk-item::before, #sk-container-id-4 div.sk-parallel-item::before {content: \"\";position: absolute;border-left: 1px solid gray;box-sizing: border-box;top: 0;bottom: 0;left: 50%;z-index: -1;}#sk-container-id-4 div.sk-parallel-item {display: flex;flex-direction: column;z-index: 1;position: relative;background-color: white;}#sk-container-id-4 div.sk-parallel-item:first-child::after {align-self: flex-end;width: 50%;}#sk-container-id-4 div.sk-parallel-item:last-child::after {align-self: flex-start;width: 50%;}#sk-container-id-4 div.sk-parallel-item:only-child::after {width: 0;}#sk-container-id-4 div.sk-dashed-wrapped {border: 1px dashed gray;margin: 0 0.4em 0.5em 0.4em;box-sizing: border-box;padding-bottom: 0.4em;background-color: white;}#sk-container-id-4 div.sk-label label {font-family: monospace;font-weight: bold;display: inline-block;line-height: 1.2em;}#sk-container-id-4 div.sk-label-container {text-align: center;}#sk-container-id-4 div.sk-container {/* jupyter's `normalize.less` sets `[hidden] { display: none; }` but bootstrap.min.css set `[hidden] { display: none !important; }` so we also need the `!important` here to be able to override the default hidden behavior on the sphinx rendered scikit-learn.org. See: https://github.com/scikit-learn/scikit-learn/issues/21755 */display: inline-block !important;position: relative;}#sk-container-id-4 div.sk-text-repr-fallback {display: none;}</style><div id=\"sk-container-id-4\" class=\"sk-top-container\"><div class=\"sk-text-repr-fallback\"><pre>LGBMRegressor(n_estimators=500, num_leaves=100, random_state=12345)</pre><b>In a Jupyter environment, please rerun this cell to show the HTML representation or trust the notebook. <br />On GitHub, the HTML representation is unable to render, please try loading this page with nbviewer.org.</b></div><div class=\"sk-container\" hidden><div class=\"sk-item\"><div class=\"sk-estimator sk-toggleable\"><input class=\"sk-toggleable__control sk-hidden--visually\" id=\"sk-estimator-id-4\" type=\"checkbox\" checked><label for=\"sk-estimator-id-4\" class=\"sk-toggleable__label sk-toggleable__label-arrow\">LGBMRegressor</label><div class=\"sk-toggleable__content\"><pre>LGBMRegressor(n_estimators=500, num_leaves=100, random_state=12345)</pre></div></div></div></div></div>"
      ],
      "text/plain": [
       "LGBMRegressor(n_estimators=500, num_leaves=100, random_state=12345)"
      ]
     },
     "execution_count": 53,
     "metadata": {},
     "output_type": "execute_result"
    }
   ],
   "source": [
    "%%time\n",
    "model = lightgbm.LGBMRegressor(random_state=12345,\n",
    "                          n_estimators=500,\n",
    "                          num_leaves=100)\n",
    "model.fit(features_train, target_train)"
   ]
  },
  {
   "cell_type": "code",
   "execution_count": 54,
   "metadata": {
    "ExecuteTime": {
     "end_time": "2023-09-07T20:46:28.522462Z",
     "start_time": "2023-09-07T20:46:25.239751Z"
    }
   },
   "outputs": [
    {
     "name": "stdout",
     "output_type": "stream",
     "text": [
      "CPU times: user 6.67 s, sys: 81.5 ms, total: 6.75 s\n",
      "Wall time: 3.26 s\n"
     ]
    }
   ],
   "source": [
    "%%time\n",
    "predictions_valid = model.predict(features_valid)"
   ]
  },
  {
   "cell_type": "markdown",
   "metadata": {},
   "source": [
    "### Let's look at what signs affect the price the most"
   ]
  },
  {
   "cell_type": "code",
   "execution_count": 55,
   "metadata": {
    "ExecuteTime": {
     "end_time": "2023-09-07T20:46:29.533182Z",
     "start_time": "2023-09-07T20:46:28.535355Z"
    }
   },
   "outputs": [
    {
     "data": {
      "image/png": "[encoded data removed]",
      "text/plain": [
       "<Figure size 640x480 with 1 Axes>"
      ]
     },
     "metadata": {},
     "output_type": "display_data"
    }
   ],
   "source": [
    "lightgbm.plot_importance(model, height=.5);"
   ]
  },
  {
   "cell_type": "code",
   "execution_count": 57,
   "metadata": {
    "ExecuteTime": {
     "end_time": "2023-09-07T20:47:42.134296Z",
     "start_time": "2023-09-07T20:47:42.106982Z"
    },
    "scrolled": true
   },
   "outputs": [
    {
     "data": {
      "text/html": [
       "<div>\n",
       "<style scoped>\n",
       "    .dataframe tbody tr th:only-of-type {\n",
       "        vertical-align: middle;\n",
       "    }\n",
       "\n",
       "    .dataframe tbody tr th {\n",
       "        vertical-align: top;\n",
       "    }\n",
       "\n",
       "    .dataframe thead th {\n",
       "        text-align: right;\n",
       "    }\n",
       "</style>\n",
       "<table border=\"1\" class=\"dataframe\">\n",
       "  <thead>\n",
       "    <tr style=\"text-align: right;\">\n",
       "      <th></th>\n",
       "      <th>Runtime</th>\n",
       "      <th>CPU-times, ms</th>\n",
       "      <th>Wall time</th>\n",
       "    </tr>\n",
       "  </thead>\n",
       "  <tbody>\n",
       "    <tr>\n",
       "      <th>LightGBM</th>\n",
       "      <td>training</td>\n",
       "      <td>21700</td>\n",
       "      <td>6240</td>\n",
       "    </tr>\n",
       "    <tr>\n",
       "      <th>Linear regression</th>\n",
       "      <td>training</td>\n",
       "      <td>13100</td>\n",
       "      <td>10400</td>\n",
       "    </tr>\n",
       "    <tr>\n",
       "      <th>Decision tree</th>\n",
       "      <td>training</td>\n",
       "      <td>6440</td>\n",
       "      <td>6630</td>\n",
       "    </tr>\n",
       "    <tr>\n",
       "      <th>LightGBM</th>\n",
       "      <td>prediction</td>\n",
       "      <td>5330</td>\n",
       "      <td>1870</td>\n",
       "    </tr>\n",
       "    <tr>\n",
       "      <th>Decision tree</th>\n",
       "      <td>prediction</td>\n",
       "      <td>376</td>\n",
       "      <td>380</td>\n",
       "    </tr>\n",
       "    <tr>\n",
       "      <th>Linear regression</th>\n",
       "      <td>prediction</td>\n",
       "      <td>364</td>\n",
       "      <td>361</td>\n",
       "    </tr>\n",
       "  </tbody>\n",
       "</table>\n",
       "</div>"
      ],
      "text/plain": [
       "                      Runtime  CPU-times, ms  Wall time\n",
       "LightGBM             training          21700       6240\n",
       "Linear regression    training          13100      10400\n",
       "Decision tree        training           6440       6630\n",
       "LightGBM           prediction           5330       1870\n",
       "Decision tree      prediction            376        380\n",
       "Linear regression  prediction            364        361"
      ]
     },
     "execution_count": 57,
     "metadata": {},
     "output_type": "execute_result"
    }
   ],
   "source": [
    "tabledata = [[\"Linear regression\", \"training\", 13100, 10400],\n",
    "             [\"Linear regression\", \"prediction\", 364, 361],\n",
    "         [\"Decision tree\", \"training\", 6440, 6630],\n",
    "         [\"Decision tree\", \"prediction\", 376, 380],\n",
    "         [\"LightGBM\", \"training\", 21700, 6240],\n",
    "         [\"LightGBM\", \"prediction\", 5330, 1870]]\n",
    "df = pd.DataFrame(tabledata, columns=[\"Model\", \"Runtime\", \"CPU-times, ms\", \"Wall time\"])\n",
    "df = df.set_index('Model')\n",
    "df.index.names = [None]\n",
    "df.sort_values(by=['CPU-times, ms', 'Runtime'], ascending=False)"
   ]
  },
  {
   "cell_type": "markdown",
   "metadata": {},
   "source": [
    "The LightGBM model takes the longest to learn, linear regression is slightly faster, the decision tree is the fastest, and LightGBM also takes more time to predict"
   ]
  },
  {
   "cell_type": "markdown",
   "metadata": {},
   "source": [
    "### Let's carry out the final testing of the best model on a test set that has not yet been used"
   ]
  },
  {
   "cell_type": "code",
   "execution_count": 58,
   "metadata": {
    "ExecuteTime": {
     "end_time": "2023-09-07T20:48:04.168069Z",
     "start_time": "2023-09-07T20:47:48.377795Z"
    },
    "scrolled": true
   },
   "outputs": [
    {
     "data": {
      "text/plain": [
       "1630.1571714930126"
      ]
     },
     "execution_count": 58,
     "metadata": {},
     "output_type": "execute_result"
    }
   ],
   "source": [
    "model = lightgbm.LGBMRegressor(random_state=12345,\n",
    "                          n_estimators=500,\n",
    "                          num_leaves=100)\n",
    "model.fit(features_train_ohe, target_train)\n",
    "predictions_test_ohe = model.predict(features_test_ohe)\n",
    "rmse_tree = mean_squared_error(target_test, predictions_test_ohe)**0.5\n",
    "rmse_tree"
   ]
  },
  {
   "cell_type": "markdown",
   "metadata": {},
   "source": [
    "We got `rmse` = 1630.15, less than the given value of 2500, very good result"
   ]
  },
  {
   "cell_type": "markdown",
   "metadata": {},
   "source": [
    "### Conclusion"
   ]
  },
  {
   "cell_type": "markdown",
   "metadata": {},
   "source": [
    "At the input, we received a table with more than 350 thousand rows and 16 columns. We translated the column names into a more readable form, removed uninformative columns, filled in the gaps, and got rid of anomalies. Removed duplicates.\n",
    "\n",
    "For the linear regression model, the categorical values ​​of the columns were converted into quantitative ones. As a result, we have a table with 281 thousand rows and 309 columns. For the decision tree model, ordinal coding was used, as a result, the number of columns for them did not change, and the selection of hyperparameters became faster. We trained different models, fitted hyperparameters for them, and found that the LightGBM model with hyperparameters 'n_estimators': 500, 'num_leaves': 100 gives the lowest rmse value: 1630.\n",
    "\n",
    "We analyzed all the models and found that the decision tree model is the fastest to learn. The linear regression model, like the LightGBM model, takes a little longer to train, with the best performance being obtained from the LightGBM model.\n",
    "\n",
    "Based on the customer's requirements for learning rate, prediction and model quality, we recommend the LightGBM model because it has the most optimal performance."
   ]
  }
 ],
 "metadata": {
  "ExecuteTimeLog": [
   {
    "duration": 12672,
    "start_time": "2023-06-01T17:31:33.862Z"
   },
   {
    "duration": 1945,
    "start_time": "2023-06-01T17:31:46.536Z"
   },
   {
    "duration": 2183,
    "start_time": "2023-06-01T17:31:48.483Z"
   },
   {
    "duration": 1182,
    "start_time": "2023-06-01T17:31:50.668Z"
   },
   {
    "duration": 25806,
    "start_time": "2023-06-01T17:31:51.853Z"
   },
   {
    "duration": 28,
    "start_time": "2023-06-01T17:32:17.660Z"
   },
   {
    "duration": 116,
    "start_time": "2023-06-01T17:32:17.690Z"
   },
   {
    "duration": 20,
    "start_time": "2023-06-01T17:32:17.816Z"
   },
   {
    "duration": 265,
    "start_time": "2023-06-01T17:32:17.838Z"
   },
   {
    "duration": 31,
    "start_time": "2023-06-01T17:32:18.105Z"
   },
   {
    "duration": 46,
    "start_time": "2023-06-01T17:32:18.138Z"
   },
   {
    "duration": 425,
    "start_time": "2023-06-01T17:32:18.186Z"
   },
   {
    "duration": 64,
    "start_time": "2023-06-01T17:32:18.612Z"
   },
   {
    "duration": 511,
    "start_time": "2023-06-01T17:32:18.679Z"
   },
   {
    "duration": 389,
    "start_time": "2023-06-01T17:32:19.192Z"
   },
   {
    "duration": 8,
    "start_time": "2023-06-01T17:32:19.583Z"
   },
   {
    "duration": 45,
    "start_time": "2023-06-01T17:35:11.664Z"
   },
   {
    "duration": 2663,
    "start_time": "2023-06-01T17:35:20.572Z"
   },
   {
    "duration": 2106,
    "start_time": "2023-06-01T17:35:23.237Z"
   },
   {
    "duration": 2835,
    "start_time": "2023-06-01T17:35:25.346Z"
   },
   {
    "duration": 1040,
    "start_time": "2023-06-01T17:35:28.183Z"
   },
   {
    "duration": 26868,
    "start_time": "2023-06-01T17:35:29.225Z"
   },
   {
    "duration": 47,
    "start_time": "2023-06-01T17:35:56.095Z"
   },
   {
    "duration": 108,
    "start_time": "2023-06-01T17:35:56.143Z"
   },
   {
    "duration": 19,
    "start_time": "2023-06-01T17:35:56.253Z"
   },
   {
    "duration": 263,
    "start_time": "2023-06-01T17:35:56.274Z"
   },
   {
    "duration": 21,
    "start_time": "2023-06-01T17:35:56.539Z"
   },
   {
    "duration": 21,
    "start_time": "2023-06-01T17:35:56.562Z"
   },
   {
    "duration": 423,
    "start_time": "2023-06-01T17:35:56.584Z"
   },
   {
    "duration": 116,
    "start_time": "2023-06-01T17:35:57.009Z"
   },
   {
    "duration": 461,
    "start_time": "2023-06-01T17:35:57.128Z"
   },
   {
    "duration": 360,
    "start_time": "2023-06-01T17:35:57.591Z"
   },
   {
    "duration": 7,
    "start_time": "2023-06-01T17:35:57.952Z"
   },
   {
    "duration": 17642,
    "start_time": "2023-06-02T02:02:15.179Z"
   },
   {
    "duration": 3,
    "start_time": "2023-06-02T02:02:32.823Z"
   },
   {
    "duration": 2612,
    "start_time": "2023-06-02T02:03:38.010Z"
   },
   {
    "duration": 1233,
    "start_time": "2023-06-02T02:03:40.624Z"
   },
   {
    "duration": 31148,
    "start_time": "2023-06-02T02:03:54.458Z"
   },
   {
    "duration": 30,
    "start_time": "2023-06-02T02:05:00.778Z"
   },
   {
    "duration": 4,
    "start_time": "2023-06-02T02:05:08.172Z"
   },
   {
    "duration": 37,
    "start_time": "2023-06-02T02:05:28.536Z"
   },
   {
    "duration": 128,
    "start_time": "2023-06-02T02:09:02.981Z"
   },
   {
    "duration": 22,
    "start_time": "2023-06-02T02:09:19.169Z"
   },
   {
    "duration": 258,
    "start_time": "2023-06-02T02:09:36.671Z"
   },
   {
    "duration": 24,
    "start_time": "2023-06-02T02:09:53.606Z"
   },
   {
    "duration": 23,
    "start_time": "2023-06-02T02:10:41.457Z"
   },
   {
    "duration": 469,
    "start_time": "2023-06-02T02:11:01.135Z"
   },
   {
    "duration": 74,
    "start_time": "2023-06-02T02:11:52.700Z"
   },
   {
    "duration": 16,
    "start_time": "2023-06-02T02:12:28.426Z"
   },
   {
    "duration": 1025,
    "start_time": "2023-06-02T02:12:32.858Z"
   },
   {
    "duration": 88,
    "start_time": "2023-06-02T02:12:51.864Z"
   },
   {
    "duration": 539,
    "start_time": "2023-06-02T02:13:07.930Z"
   },
   {
    "duration": 10,
    "start_time": "2023-06-02T02:13:40.136Z"
   },
   {
    "duration": 16200,
    "start_time": "2023-06-05T17:28:24.031Z"
   },
   {
    "duration": 2166,
    "start_time": "2023-06-05T17:28:40.234Z"
   },
   {
    "duration": 70545,
    "start_time": "2023-06-05T17:28:42.403Z"
   },
   {
    "duration": 4402,
    "start_time": "2023-06-05T17:29:52.950Z"
   },
   {
    "duration": 2841,
    "start_time": "2023-06-05T17:29:57.353Z"
   },
   {
    "duration": 17,
    "start_time": "2023-06-05T17:30:00.196Z"
   },
   {
    "duration": 136,
    "start_time": "2023-06-05T17:30:00.215Z"
   },
   {
    "duration": 28692,
    "start_time": "2023-06-05T17:30:00.353Z"
   },
   {
    "duration": 34,
    "start_time": "2023-06-05T17:30:29.047Z"
   },
   {
    "duration": 128,
    "start_time": "2023-06-05T17:30:29.083Z"
   },
   {
    "duration": 43,
    "start_time": "2023-06-05T17:30:29.214Z"
   },
   {
    "duration": 22,
    "start_time": "2023-06-05T17:30:29.259Z"
   },
   {
    "duration": 277,
    "start_time": "2023-06-05T17:30:29.283Z"
   },
   {
    "duration": 25,
    "start_time": "2023-06-05T17:30:29.562Z"
   },
   {
    "duration": 23,
    "start_time": "2023-06-05T17:30:29.588Z"
   },
   {
    "duration": 73,
    "start_time": "2023-06-05T17:30:29.613Z"
   },
   {
    "duration": 18,
    "start_time": "2023-06-05T17:30:29.688Z"
   },
   {
    "duration": 819,
    "start_time": "2023-06-05T17:30:29.708Z"
   },
   {
    "duration": 0,
    "start_time": "2023-06-05T17:30:30.529Z"
   },
   {
    "duration": 0,
    "start_time": "2023-06-05T17:30:30.531Z"
   },
   {
    "duration": 0,
    "start_time": "2023-06-05T17:30:30.532Z"
   },
   {
    "duration": 0,
    "start_time": "2023-06-05T17:30:30.532Z"
   },
   {
    "duration": 0,
    "start_time": "2023-06-05T17:30:30.533Z"
   },
   {
    "duration": 0,
    "start_time": "2023-06-05T17:30:30.534Z"
   },
   {
    "duration": 0,
    "start_time": "2023-06-05T17:30:30.535Z"
   },
   {
    "duration": 0,
    "start_time": "2023-06-05T17:30:30.536Z"
   },
   {
    "duration": 0,
    "start_time": "2023-06-05T17:30:30.537Z"
   },
   {
    "duration": 0,
    "start_time": "2023-06-05T17:30:30.538Z"
   },
   {
    "duration": 0,
    "start_time": "2023-06-05T17:30:30.539Z"
   },
   {
    "duration": 0,
    "start_time": "2023-06-05T17:30:30.540Z"
   },
   {
    "duration": 0,
    "start_time": "2023-06-05T17:30:30.541Z"
   },
   {
    "duration": 0,
    "start_time": "2023-06-05T17:30:30.542Z"
   },
   {
    "duration": 0,
    "start_time": "2023-06-05T17:30:30.543Z"
   },
   {
    "duration": 0,
    "start_time": "2023-06-05T17:30:30.544Z"
   },
   {
    "duration": 0,
    "start_time": "2023-06-05T17:30:30.545Z"
   },
   {
    "duration": 0,
    "start_time": "2023-06-05T17:30:30.547Z"
   },
   {
    "duration": 0,
    "start_time": "2023-06-05T17:30:30.548Z"
   },
   {
    "duration": 21,
    "start_time": "2023-06-05T17:30:50.500Z"
   },
   {
    "duration": 18,
    "start_time": "2023-06-05T17:30:51.441Z"
   },
   {
    "duration": 63,
    "start_time": "2023-06-05T17:30:51.691Z"
   },
   {
    "duration": 21,
    "start_time": "2023-06-05T17:30:54.399Z"
   },
   {
    "duration": 56,
    "start_time": "2023-06-05T17:31:03.492Z"
   },
   {
    "duration": 143,
    "start_time": "2023-06-05T17:31:11.393Z"
   },
   {
    "duration": 10,
    "start_time": "2023-06-05T17:31:14.656Z"
   },
   {
    "duration": 32,
    "start_time": "2023-06-05T17:31:19.254Z"
   },
   {
    "duration": 70,
    "start_time": "2023-06-05T17:31:42.148Z"
   },
   {
    "duration": 25,
    "start_time": "2023-06-05T17:31:44.912Z"
   },
   {
    "duration": 45,
    "start_time": "2023-06-05T17:31:53.488Z"
   },
   {
    "duration": 813,
    "start_time": "2023-06-05T17:31:59.251Z"
   },
   {
    "duration": 60834,
    "start_time": "2023-06-05T17:32:10.698Z"
   },
   {
    "duration": 44,
    "start_time": "2023-06-05T17:37:49.488Z"
   },
   {
    "duration": 797,
    "start_time": "2023-06-05T17:37:49.742Z"
   },
   {
    "duration": 12271,
    "start_time": "2023-06-05T18:18:02.248Z"
   },
   {
    "duration": 1961,
    "start_time": "2023-06-05T18:18:14.521Z"
   },
   {
    "duration": 34175,
    "start_time": "2023-06-05T18:18:16.484Z"
   },
   {
    "duration": 1956,
    "start_time": "2023-06-05T18:18:50.662Z"
   },
   {
    "duration": 971,
    "start_time": "2023-06-05T18:18:52.620Z"
   },
   {
    "duration": 16,
    "start_time": "2023-06-05T18:18:53.593Z"
   },
   {
    "duration": 3,
    "start_time": "2023-06-05T18:18:53.610Z"
   },
   {
    "duration": 25549,
    "start_time": "2023-06-05T18:18:53.615Z"
   },
   {
    "duration": 30,
    "start_time": "2023-06-05T18:19:19.166Z"
   },
   {
    "duration": 111,
    "start_time": "2023-06-05T18:19:19.198Z"
   },
   {
    "duration": 21,
    "start_time": "2023-06-05T18:19:19.315Z"
   },
   {
    "duration": 18,
    "start_time": "2023-06-05T18:19:19.337Z"
   },
   {
    "duration": 259,
    "start_time": "2023-06-05T18:19:19.356Z"
   },
   {
    "duration": 25,
    "start_time": "2023-06-05T18:19:19.617Z"
   },
   {
    "duration": 19,
    "start_time": "2023-06-05T18:19:19.644Z"
   },
   {
    "duration": 71,
    "start_time": "2023-06-05T18:19:19.665Z"
   },
   {
    "duration": 15,
    "start_time": "2023-06-05T18:19:19.738Z"
   },
   {
    "duration": 579,
    "start_time": "2023-06-05T18:19:19.755Z"
   },
   {
    "duration": 0,
    "start_time": "2023-06-05T18:19:20.337Z"
   },
   {
    "duration": 0,
    "start_time": "2023-06-05T18:19:20.338Z"
   },
   {
    "duration": 0,
    "start_time": "2023-06-05T18:19:20.339Z"
   },
   {
    "duration": 0,
    "start_time": "2023-06-05T18:19:20.340Z"
   },
   {
    "duration": 0,
    "start_time": "2023-06-05T18:19:20.341Z"
   },
   {
    "duration": 0,
    "start_time": "2023-06-05T18:19:20.342Z"
   },
   {
    "duration": 0,
    "start_time": "2023-06-05T18:19:20.343Z"
   },
   {
    "duration": 0,
    "start_time": "2023-06-05T18:19:20.344Z"
   },
   {
    "duration": 0,
    "start_time": "2023-06-05T18:19:20.345Z"
   },
   {
    "duration": 0,
    "start_time": "2023-06-05T18:19:20.346Z"
   },
   {
    "duration": 0,
    "start_time": "2023-06-05T18:19:20.346Z"
   },
   {
    "duration": 0,
    "start_time": "2023-06-05T18:19:20.347Z"
   },
   {
    "duration": 0,
    "start_time": "2023-06-05T18:19:20.348Z"
   },
   {
    "duration": 0,
    "start_time": "2023-06-05T18:19:20.349Z"
   },
   {
    "duration": 0,
    "start_time": "2023-06-05T18:19:20.350Z"
   },
   {
    "duration": 0,
    "start_time": "2023-06-05T18:19:20.351Z"
   },
   {
    "duration": 0,
    "start_time": "2023-06-05T18:19:20.352Z"
   },
   {
    "duration": 0,
    "start_time": "2023-06-05T18:19:20.354Z"
   },
   {
    "duration": 0,
    "start_time": "2023-06-05T18:19:20.355Z"
   },
   {
    "duration": 0,
    "start_time": "2023-06-05T18:19:20.355Z"
   },
   {
    "duration": 0,
    "start_time": "2023-06-05T18:19:20.357Z"
   },
   {
    "duration": 0,
    "start_time": "2023-06-05T18:19:20.358Z"
   },
   {
    "duration": 0,
    "start_time": "2023-06-05T18:19:20.359Z"
   },
   {
    "duration": 0,
    "start_time": "2023-06-05T18:19:20.359Z"
   },
   {
    "duration": 0,
    "start_time": "2023-06-05T18:19:20.361Z"
   },
   {
    "duration": 0,
    "start_time": "2023-06-05T18:19:20.362Z"
   },
   {
    "duration": 0,
    "start_time": "2023-06-05T18:19:20.363Z"
   },
   {
    "duration": 0,
    "start_time": "2023-06-05T18:19:20.364Z"
   },
   {
    "duration": 0,
    "start_time": "2023-06-05T18:19:20.365Z"
   },
   {
    "duration": 0,
    "start_time": "2023-06-05T18:19:20.366Z"
   },
   {
    "duration": 0,
    "start_time": "2023-06-05T18:19:20.366Z"
   },
   {
    "duration": 0,
    "start_time": "2023-06-05T18:19:20.367Z"
   },
   {
    "duration": 0,
    "start_time": "2023-06-05T18:19:20.368Z"
   },
   {
    "duration": 0,
    "start_time": "2023-06-05T18:19:20.369Z"
   },
   {
    "duration": 11,
    "start_time": "2023-06-05T18:27:22.337Z"
   },
   {
    "duration": 4,
    "start_time": "2023-06-05T18:27:29.889Z"
   },
   {
    "duration": 12,
    "start_time": "2023-06-05T18:27:29.895Z"
   },
   {
    "duration": 6,
    "start_time": "2023-06-05T18:27:29.908Z"
   },
   {
    "duration": 1753,
    "start_time": "2023-06-05T18:27:29.916Z"
   },
   {
    "duration": 697,
    "start_time": "2023-06-05T18:27:31.671Z"
   },
   {
    "duration": 15,
    "start_time": "2023-06-05T18:27:32.369Z"
   },
   {
    "duration": 18,
    "start_time": "2023-06-05T18:27:32.385Z"
   },
   {
    "duration": 30,
    "start_time": "2023-06-05T18:27:32.404Z"
   },
   {
    "duration": 48,
    "start_time": "2023-06-05T18:27:32.435Z"
   },
   {
    "duration": 105,
    "start_time": "2023-06-05T18:27:32.485Z"
   },
   {
    "duration": 26,
    "start_time": "2023-06-05T18:27:32.592Z"
   },
   {
    "duration": 26,
    "start_time": "2023-06-05T18:27:32.619Z"
   },
   {
    "duration": 247,
    "start_time": "2023-06-05T18:27:32.647Z"
   },
   {
    "duration": 37,
    "start_time": "2023-06-05T18:27:32.895Z"
   },
   {
    "duration": 27,
    "start_time": "2023-06-05T18:27:32.933Z"
   },
   {
    "duration": 62,
    "start_time": "2023-06-05T18:27:32.962Z"
   },
   {
    "duration": 2,
    "start_time": "2023-06-05T18:27:33.025Z"
   },
   {
    "duration": 20,
    "start_time": "2023-06-05T18:27:33.028Z"
   },
   {
    "duration": 14,
    "start_time": "2023-06-05T18:27:33.050Z"
   },
   {
    "duration": 4,
    "start_time": "2023-06-05T18:27:33.066Z"
   },
   {
    "duration": 80,
    "start_time": "2023-06-05T18:27:33.072Z"
   },
   {
    "duration": 5675,
    "start_time": "2023-06-05T18:27:33.153Z"
   },
   {
    "duration": 143,
    "start_time": "2023-06-05T18:27:38.830Z"
   },
   {
    "duration": 10,
    "start_time": "2023-06-05T18:27:38.974Z"
   },
   {
    "duration": 6,
    "start_time": "2023-06-05T18:27:38.987Z"
   },
   {
    "duration": 40,
    "start_time": "2023-06-05T18:27:38.995Z"
   },
   {
    "duration": 9,
    "start_time": "2023-06-05T18:27:39.036Z"
   },
   {
    "duration": 34,
    "start_time": "2023-06-05T18:27:39.047Z"
   },
   {
    "duration": 28,
    "start_time": "2023-06-05T18:27:39.082Z"
   },
   {
    "duration": 81,
    "start_time": "2023-06-05T18:27:39.111Z"
   },
   {
    "duration": 17,
    "start_time": "2023-06-05T18:27:39.193Z"
   },
   {
    "duration": 21,
    "start_time": "2023-06-05T18:27:39.211Z"
   },
   {
    "duration": 116,
    "start_time": "2023-06-05T18:27:39.233Z"
   },
   {
    "duration": 10,
    "start_time": "2023-06-05T18:27:39.350Z"
   },
   {
    "duration": 46,
    "start_time": "2023-06-05T18:27:39.361Z"
   },
   {
    "duration": 176,
    "start_time": "2023-06-05T18:27:39.408Z"
   },
   {
    "duration": 0,
    "start_time": "2023-06-05T18:27:39.585Z"
   },
   {
    "duration": 0,
    "start_time": "2023-06-05T18:27:39.586Z"
   },
   {
    "duration": 0,
    "start_time": "2023-06-05T18:27:39.587Z"
   },
   {
    "duration": 0,
    "start_time": "2023-06-05T18:27:39.588Z"
   },
   {
    "duration": 0,
    "start_time": "2023-06-05T18:27:39.588Z"
   },
   {
    "duration": 0,
    "start_time": "2023-06-05T18:27:39.589Z"
   },
   {
    "duration": 0,
    "start_time": "2023-06-05T18:27:39.590Z"
   },
   {
    "duration": 0,
    "start_time": "2023-06-05T18:27:39.590Z"
   },
   {
    "duration": 0,
    "start_time": "2023-06-05T18:27:39.591Z"
   },
   {
    "duration": 0,
    "start_time": "2023-06-05T18:27:39.592Z"
   },
   {
    "duration": 0,
    "start_time": "2023-06-05T18:27:39.593Z"
   },
   {
    "duration": 0,
    "start_time": "2023-06-05T18:27:39.594Z"
   },
   {
    "duration": 0,
    "start_time": "2023-06-05T18:27:39.595Z"
   },
   {
    "duration": 0,
    "start_time": "2023-06-05T18:27:39.596Z"
   },
   {
    "duration": 0,
    "start_time": "2023-06-05T18:27:39.615Z"
   },
   {
    "duration": 0,
    "start_time": "2023-06-05T18:27:39.616Z"
   },
   {
    "duration": 34,
    "start_time": "2023-06-05T19:20:55.581Z"
   },
   {
    "duration": 4719,
    "start_time": "2023-06-05T19:23:30.186Z"
   },
   {
    "duration": 5,
    "start_time": "2023-06-05T19:23:41.186Z"
   },
   {
    "duration": 5477,
    "start_time": "2023-06-05T19:24:42.625Z"
   },
   {
    "duration": 5249,
    "start_time": "2023-06-05T19:25:26.182Z"
   },
   {
    "duration": 13,
    "start_time": "2023-06-05T19:25:32.188Z"
   },
   {
    "duration": 6,
    "start_time": "2023-06-05T19:25:34.500Z"
   },
   {
    "duration": 14,
    "start_time": "2023-06-05T19:26:02.486Z"
   },
   {
    "duration": 10,
    "start_time": "2023-06-05T19:26:11.625Z"
   },
   {
    "duration": 9,
    "start_time": "2023-06-05T19:26:17.494Z"
   },
   {
    "duration": 15,
    "start_time": "2023-06-05T19:26:25.721Z"
   },
   {
    "duration": 5,
    "start_time": "2023-06-05T19:26:34.381Z"
   },
   {
    "duration": 3,
    "start_time": "2023-06-05T19:26:44.999Z"
   },
   {
    "duration": 24,
    "start_time": "2023-06-05T19:26:45.007Z"
   },
   {
    "duration": 12,
    "start_time": "2023-06-05T19:26:45.033Z"
   },
   {
    "duration": 1777,
    "start_time": "2023-06-05T19:26:45.047Z"
   },
   {
    "duration": 743,
    "start_time": "2023-06-05T19:26:46.826Z"
   },
   {
    "duration": 15,
    "start_time": "2023-06-05T19:26:47.571Z"
   },
   {
    "duration": 6,
    "start_time": "2023-06-05T19:26:47.587Z"
   },
   {
    "duration": 5,
    "start_time": "2023-06-05T19:26:47.594Z"
   },
   {
    "duration": 45,
    "start_time": "2023-06-05T19:26:47.601Z"
   },
   {
    "duration": 114,
    "start_time": "2023-06-05T19:26:47.647Z"
   },
   {
    "duration": 21,
    "start_time": "2023-06-05T19:26:47.764Z"
   },
   {
    "duration": 42,
    "start_time": "2023-06-05T19:26:47.787Z"
   },
   {
    "duration": 286,
    "start_time": "2023-06-05T19:26:47.830Z"
   },
   {
    "duration": 30,
    "start_time": "2023-06-05T19:26:48.117Z"
   },
   {
    "duration": 31,
    "start_time": "2023-06-05T19:26:48.148Z"
   },
   {
    "duration": 72,
    "start_time": "2023-06-05T19:26:48.180Z"
   },
   {
    "duration": 9,
    "start_time": "2023-06-05T19:26:48.254Z"
   },
   {
    "duration": 17,
    "start_time": "2023-06-05T19:26:48.265Z"
   },
   {
    "duration": 26,
    "start_time": "2023-06-05T19:26:48.284Z"
   },
   {
    "duration": 12,
    "start_time": "2023-06-05T19:26:48.311Z"
   },
   {
    "duration": 5821,
    "start_time": "2023-06-05T19:26:48.324Z"
   },
   {
    "duration": 10,
    "start_time": "2023-06-05T19:26:54.146Z"
   },
   {
    "duration": 81,
    "start_time": "2023-06-05T19:26:54.157Z"
   },
   {
    "duration": 7,
    "start_time": "2023-06-05T19:26:54.240Z"
   },
   {
    "duration": 24,
    "start_time": "2023-06-05T19:26:54.249Z"
   },
   {
    "duration": 19,
    "start_time": "2023-06-05T19:26:54.274Z"
   },
   {
    "duration": 76,
    "start_time": "2023-06-05T19:26:54.294Z"
   },
   {
    "duration": 12,
    "start_time": "2023-06-05T19:26:54.371Z"
   },
   {
    "duration": 2,
    "start_time": "2023-06-05T19:26:54.386Z"
   },
   {
    "duration": 201,
    "start_time": "2023-06-05T19:26:54.389Z"
   },
   {
    "duration": 24,
    "start_time": "2023-06-05T19:26:54.591Z"
   },
   {
    "duration": 27,
    "start_time": "2023-06-05T19:26:54.617Z"
   },
   {
    "duration": 189,
    "start_time": "2023-06-05T19:26:54.645Z"
   },
   {
    "duration": 0,
    "start_time": "2023-06-05T19:26:54.836Z"
   },
   {
    "duration": 0,
    "start_time": "2023-06-05T19:26:54.837Z"
   },
   {
    "duration": 0,
    "start_time": "2023-06-05T19:26:54.838Z"
   },
   {
    "duration": 0,
    "start_time": "2023-06-05T19:26:54.839Z"
   },
   {
    "duration": 0,
    "start_time": "2023-06-05T19:26:54.840Z"
   },
   {
    "duration": 0,
    "start_time": "2023-06-05T19:26:54.841Z"
   },
   {
    "duration": 0,
    "start_time": "2023-06-05T19:26:54.841Z"
   },
   {
    "duration": 0,
    "start_time": "2023-06-05T19:26:54.842Z"
   },
   {
    "duration": 0,
    "start_time": "2023-06-05T19:26:54.843Z"
   },
   {
    "duration": 0,
    "start_time": "2023-06-05T19:26:54.844Z"
   },
   {
    "duration": 0,
    "start_time": "2023-06-05T19:26:54.845Z"
   },
   {
    "duration": 0,
    "start_time": "2023-06-05T19:26:54.846Z"
   },
   {
    "duration": 1,
    "start_time": "2023-06-05T19:26:54.846Z"
   },
   {
    "duration": 0,
    "start_time": "2023-06-05T19:26:54.848Z"
   },
   {
    "duration": 0,
    "start_time": "2023-06-05T19:26:54.848Z"
   },
   {
    "duration": 0,
    "start_time": "2023-06-05T19:26:54.849Z"
   },
   {
    "duration": 5303,
    "start_time": "2023-06-05T19:31:20.830Z"
   },
   {
    "duration": 6,
    "start_time": "2023-06-05T19:31:36.378Z"
   },
   {
    "duration": 97,
    "start_time": "2023-06-05T19:32:46.890Z"
   },
   {
    "duration": 443,
    "start_time": "2023-06-05T19:34:29.040Z"
   },
   {
    "duration": 3,
    "start_time": "2023-06-05T19:34:42.174Z"
   },
   {
    "duration": 20,
    "start_time": "2023-06-05T19:34:42.189Z"
   },
   {
    "duration": 23,
    "start_time": "2023-06-05T19:34:42.211Z"
   },
   {
    "duration": 1744,
    "start_time": "2023-06-05T19:34:42.236Z"
   },
   {
    "duration": 865,
    "start_time": "2023-06-05T19:34:43.981Z"
   },
   {
    "duration": 17,
    "start_time": "2023-06-05T19:34:44.848Z"
   },
   {
    "duration": 3,
    "start_time": "2023-06-05T19:34:44.867Z"
   },
   {
    "duration": 16,
    "start_time": "2023-06-05T19:34:44.871Z"
   },
   {
    "duration": 46,
    "start_time": "2023-06-05T19:34:44.888Z"
   },
   {
    "duration": 195,
    "start_time": "2023-06-05T19:34:44.936Z"
   },
   {
    "duration": 22,
    "start_time": "2023-06-05T19:34:45.133Z"
   },
   {
    "duration": 81,
    "start_time": "2023-06-05T19:34:45.157Z"
   },
   {
    "duration": 515,
    "start_time": "2023-06-05T19:34:45.239Z"
   },
   {
    "duration": 87,
    "start_time": "2023-06-05T19:34:45.756Z"
   },
   {
    "duration": 87,
    "start_time": "2023-06-05T19:34:45.846Z"
   },
   {
    "duration": 213,
    "start_time": "2023-06-05T19:34:45.936Z"
   },
   {
    "duration": 1110,
    "start_time": "2023-06-05T19:34:46.152Z"
   },
   {
    "duration": 0,
    "start_time": "2023-06-05T19:34:47.265Z"
   },
   {
    "duration": 0,
    "start_time": "2023-06-05T19:34:47.266Z"
   },
   {
    "duration": 0,
    "start_time": "2023-06-05T19:34:47.267Z"
   },
   {
    "duration": 0,
    "start_time": "2023-06-05T19:34:47.268Z"
   },
   {
    "duration": 0,
    "start_time": "2023-06-05T19:34:47.268Z"
   },
   {
    "duration": 0,
    "start_time": "2023-06-05T19:34:47.269Z"
   },
   {
    "duration": 0,
    "start_time": "2023-06-05T19:34:47.270Z"
   },
   {
    "duration": 0,
    "start_time": "2023-06-05T19:34:47.271Z"
   },
   {
    "duration": 0,
    "start_time": "2023-06-05T19:34:47.272Z"
   },
   {
    "duration": 0,
    "start_time": "2023-06-05T19:34:47.274Z"
   },
   {
    "duration": 0,
    "start_time": "2023-06-05T19:34:47.275Z"
   },
   {
    "duration": 0,
    "start_time": "2023-06-05T19:34:47.276Z"
   },
   {
    "duration": 0,
    "start_time": "2023-06-05T19:34:47.278Z"
   },
   {
    "duration": 0,
    "start_time": "2023-06-05T19:34:47.279Z"
   },
   {
    "duration": 0,
    "start_time": "2023-06-05T19:34:47.281Z"
   },
   {
    "duration": 0,
    "start_time": "2023-06-05T19:34:47.283Z"
   },
   {
    "duration": 1,
    "start_time": "2023-06-05T19:34:47.284Z"
   },
   {
    "duration": 0,
    "start_time": "2023-06-05T19:34:47.286Z"
   },
   {
    "duration": 0,
    "start_time": "2023-06-05T19:34:47.288Z"
   },
   {
    "duration": 0,
    "start_time": "2023-06-05T19:34:47.289Z"
   },
   {
    "duration": 0,
    "start_time": "2023-06-05T19:34:47.291Z"
   },
   {
    "duration": 0,
    "start_time": "2023-06-05T19:34:47.292Z"
   },
   {
    "duration": 0,
    "start_time": "2023-06-05T19:34:47.293Z"
   },
   {
    "duration": 0,
    "start_time": "2023-06-05T19:34:47.295Z"
   },
   {
    "duration": 0,
    "start_time": "2023-06-05T19:34:47.296Z"
   },
   {
    "duration": 0,
    "start_time": "2023-06-05T19:34:47.298Z"
   },
   {
    "duration": 0,
    "start_time": "2023-06-05T19:34:47.299Z"
   },
   {
    "duration": 0,
    "start_time": "2023-06-05T19:34:47.301Z"
   },
   {
    "duration": 0,
    "start_time": "2023-06-05T19:34:47.316Z"
   },
   {
    "duration": 0,
    "start_time": "2023-06-05T19:34:47.318Z"
   },
   {
    "duration": 0,
    "start_time": "2023-06-05T19:34:47.319Z"
   },
   {
    "duration": 0,
    "start_time": "2023-06-05T19:34:47.320Z"
   },
   {
    "duration": 701,
    "start_time": "2023-06-05T19:35:30.186Z"
   },
   {
    "duration": 2,
    "start_time": "2023-06-05T19:36:32.456Z"
   },
   {
    "duration": 5512,
    "start_time": "2023-06-05T19:37:09.324Z"
   },
   {
    "duration": 8,
    "start_time": "2023-06-05T19:37:18.097Z"
   },
   {
    "duration": 25,
    "start_time": "2023-06-05T19:38:11.510Z"
   },
   {
    "duration": 8,
    "start_time": "2023-06-05T19:38:12.089Z"
   },
   {
    "duration": 19,
    "start_time": "2023-06-05T19:38:12.846Z"
   },
   {
    "duration": 18,
    "start_time": "2023-06-05T19:38:13.034Z"
   },
   {
    "duration": 65,
    "start_time": "2023-06-05T19:38:13.439Z"
   },
   {
    "duration": 17,
    "start_time": "2023-06-05T19:38:15.795Z"
   },
   {
    "duration": 2,
    "start_time": "2023-06-05T19:38:15.882Z"
   },
   {
    "duration": 110,
    "start_time": "2023-06-05T19:38:16.215Z"
   },
   {
    "duration": 9,
    "start_time": "2023-06-05T19:38:16.551Z"
   },
   {
    "duration": 27,
    "start_time": "2023-06-05T19:38:16.642Z"
   },
   {
    "duration": 23,
    "start_time": "2023-06-05T19:38:16.906Z"
   },
   {
    "duration": 23,
    "start_time": "2023-06-05T19:38:16.979Z"
   },
   {
    "duration": 125,
    "start_time": "2023-06-05T19:38:17.139Z"
   },
   {
    "duration": 55,
    "start_time": "2023-06-05T19:38:17.640Z"
   },
   {
    "duration": 13,
    "start_time": "2023-06-05T19:38:18.155Z"
   },
   {
    "duration": 28,
    "start_time": "2023-06-05T19:38:18.742Z"
   },
   {
    "duration": 3,
    "start_time": "2023-06-05T19:43:35.352Z"
   },
   {
    "duration": 2,
    "start_time": "2023-06-05T19:43:35.378Z"
   },
   {
    "duration": 6,
    "start_time": "2023-06-05T19:43:35.382Z"
   },
   {
    "duration": 1785,
    "start_time": "2023-06-05T19:43:35.390Z"
   },
   {
    "duration": 821,
    "start_time": "2023-06-05T19:43:37.177Z"
   },
   {
    "duration": 20,
    "start_time": "2023-06-05T19:43:38.000Z"
   },
   {
    "duration": 24,
    "start_time": "2023-06-05T19:43:38.022Z"
   },
   {
    "duration": 4,
    "start_time": "2023-06-05T19:43:38.048Z"
   },
   {
    "duration": 45,
    "start_time": "2023-06-05T19:43:38.053Z"
   },
   {
    "duration": 152,
    "start_time": "2023-06-05T19:43:38.100Z"
   },
   {
    "duration": 44,
    "start_time": "2023-06-05T19:43:38.253Z"
   },
   {
    "duration": 68,
    "start_time": "2023-06-05T19:43:38.299Z"
   },
   {
    "duration": 312,
    "start_time": "2023-06-05T19:43:38.369Z"
   },
   {
    "duration": 34,
    "start_time": "2023-06-05T19:43:38.682Z"
   },
   {
    "duration": 37,
    "start_time": "2023-06-05T19:43:38.718Z"
   },
   {
    "duration": 74,
    "start_time": "2023-06-05T19:43:38.756Z"
   },
   {
    "duration": 24,
    "start_time": "2023-06-05T19:43:38.837Z"
   },
   {
    "duration": 333,
    "start_time": "2023-06-05T19:43:38.862Z"
   },
   {
    "duration": 0,
    "start_time": "2023-06-05T19:43:39.197Z"
   },
   {
    "duration": 0,
    "start_time": "2023-06-05T19:43:39.198Z"
   },
   {
    "duration": 0,
    "start_time": "2023-06-05T19:43:39.199Z"
   },
   {
    "duration": 0,
    "start_time": "2023-06-05T19:43:39.200Z"
   },
   {
    "duration": 0,
    "start_time": "2023-06-05T19:43:39.201Z"
   },
   {
    "duration": 0,
    "start_time": "2023-06-05T19:43:39.201Z"
   },
   {
    "duration": 0,
    "start_time": "2023-06-05T19:43:39.202Z"
   },
   {
    "duration": 0,
    "start_time": "2023-06-05T19:43:39.203Z"
   },
   {
    "duration": 0,
    "start_time": "2023-06-05T19:43:39.204Z"
   },
   {
    "duration": 0,
    "start_time": "2023-06-05T19:43:39.215Z"
   },
   {
    "duration": 0,
    "start_time": "2023-06-05T19:43:39.217Z"
   },
   {
    "duration": 0,
    "start_time": "2023-06-05T19:43:39.218Z"
   },
   {
    "duration": 0,
    "start_time": "2023-06-05T19:43:39.218Z"
   },
   {
    "duration": 0,
    "start_time": "2023-06-05T19:43:39.219Z"
   },
   {
    "duration": 0,
    "start_time": "2023-06-05T19:43:39.220Z"
   },
   {
    "duration": 0,
    "start_time": "2023-06-05T19:43:39.221Z"
   },
   {
    "duration": 0,
    "start_time": "2023-06-05T19:43:39.222Z"
   },
   {
    "duration": 0,
    "start_time": "2023-06-05T19:43:39.223Z"
   },
   {
    "duration": 0,
    "start_time": "2023-06-05T19:43:39.224Z"
   },
   {
    "duration": 0,
    "start_time": "2023-06-05T19:43:39.225Z"
   },
   {
    "duration": 0,
    "start_time": "2023-06-05T19:43:39.226Z"
   },
   {
    "duration": 0,
    "start_time": "2023-06-05T19:43:39.227Z"
   },
   {
    "duration": 0,
    "start_time": "2023-06-05T19:43:39.227Z"
   },
   {
    "duration": 0,
    "start_time": "2023-06-05T19:43:39.229Z"
   },
   {
    "duration": 0,
    "start_time": "2023-06-05T19:43:39.230Z"
   },
   {
    "duration": 0,
    "start_time": "2023-06-05T19:43:39.231Z"
   },
   {
    "duration": 0,
    "start_time": "2023-06-05T19:43:39.232Z"
   },
   {
    "duration": 0,
    "start_time": "2023-06-05T19:43:39.233Z"
   },
   {
    "duration": 0,
    "start_time": "2023-06-05T19:43:39.234Z"
   },
   {
    "duration": 0,
    "start_time": "2023-06-05T19:43:39.235Z"
   },
   {
    "duration": 0,
    "start_time": "2023-06-05T19:43:39.236Z"
   },
   {
    "duration": 65,
    "start_time": "2023-06-05T19:44:26.649Z"
   },
   {
    "duration": 78,
    "start_time": "2023-06-05T19:45:07.106Z"
   },
   {
    "duration": 3,
    "start_time": "2023-06-05T19:45:16.511Z"
   },
   {
    "duration": 5,
    "start_time": "2023-06-05T19:45:17.995Z"
   },
   {
    "duration": 14,
    "start_time": "2023-06-05T19:45:52.215Z"
   },
   {
    "duration": 5657,
    "start_time": "2023-06-05T19:45:53.350Z"
   },
   {
    "duration": 6,
    "start_time": "2023-06-05T19:45:59.533Z"
   },
   {
    "duration": 19,
    "start_time": "2023-06-05T19:46:03.215Z"
   },
   {
    "duration": 7,
    "start_time": "2023-06-05T19:46:05.199Z"
   },
   {
    "duration": 21,
    "start_time": "2023-06-05T19:46:06.199Z"
   },
   {
    "duration": 15,
    "start_time": "2023-06-05T19:46:07.147Z"
   },
   {
    "duration": 69,
    "start_time": "2023-06-05T19:46:07.391Z"
   },
   {
    "duration": 20,
    "start_time": "2023-06-05T19:46:13.246Z"
   },
   {
    "duration": 109,
    "start_time": "2023-06-05T19:46:19.534Z"
   },
   {
    "duration": 14,
    "start_time": "2023-06-05T19:46:25.765Z"
   },
   {
    "duration": 30,
    "start_time": "2023-06-05T19:46:25.966Z"
   },
   {
    "duration": 19,
    "start_time": "2023-06-05T19:46:33.020Z"
   },
   {
    "duration": 18,
    "start_time": "2023-06-05T19:47:16.386Z"
   },
   {
    "duration": 30,
    "start_time": "2023-06-05T19:47:19.599Z"
   },
   {
    "duration": 42,
    "start_time": "2023-06-05T19:47:32.836Z"
   },
   {
    "duration": 745,
    "start_time": "2023-06-05T19:47:35.133Z"
   },
   {
    "duration": 4,
    "start_time": "2023-06-05T19:48:48.972Z"
   },
   {
    "duration": 89,
    "start_time": "2023-06-05T19:48:54.599Z"
   },
   {
    "duration": 10,
    "start_time": "2023-06-05T19:48:56.545Z"
   },
   {
    "duration": 24,
    "start_time": "2023-06-05T19:48:56.845Z"
   },
   {
    "duration": 43,
    "start_time": "2023-06-05T19:48:58.637Z"
   },
   {
    "duration": 677,
    "start_time": "2023-06-05T19:48:59.736Z"
   },
   {
    "duration": 4,
    "start_time": "2023-06-07T04:25:42.686Z"
   },
   {
    "duration": 27,
    "start_time": "2023-06-07T04:25:42.694Z"
   },
   {
    "duration": 69,
    "start_time": "2023-06-07T04:25:42.724Z"
   },
   {
    "duration": 1862,
    "start_time": "2023-06-07T04:25:42.795Z"
   },
   {
    "duration": 0,
    "start_time": "2023-06-07T04:25:44.660Z"
   },
   {
    "duration": 0,
    "start_time": "2023-06-07T04:25:44.661Z"
   },
   {
    "duration": 0,
    "start_time": "2023-06-07T04:25:44.662Z"
   },
   {
    "duration": 0,
    "start_time": "2023-06-07T04:25:44.662Z"
   },
   {
    "duration": 0,
    "start_time": "2023-06-07T04:25:44.663Z"
   },
   {
    "duration": 0,
    "start_time": "2023-06-07T04:25:44.665Z"
   },
   {
    "duration": 0,
    "start_time": "2023-06-07T04:25:44.666Z"
   },
   {
    "duration": 0,
    "start_time": "2023-06-07T04:25:44.667Z"
   },
   {
    "duration": 0,
    "start_time": "2023-06-07T04:25:44.668Z"
   },
   {
    "duration": 0,
    "start_time": "2023-06-07T04:25:44.669Z"
   },
   {
    "duration": 0,
    "start_time": "2023-06-07T04:25:44.670Z"
   },
   {
    "duration": 0,
    "start_time": "2023-06-07T04:25:44.671Z"
   },
   {
    "duration": 0,
    "start_time": "2023-06-07T04:25:44.672Z"
   },
   {
    "duration": 0,
    "start_time": "2023-06-07T04:25:44.673Z"
   },
   {
    "duration": 0,
    "start_time": "2023-06-07T04:25:44.675Z"
   },
   {
    "duration": 0,
    "start_time": "2023-06-07T04:25:44.676Z"
   },
   {
    "duration": 17440,
    "start_time": "2023-06-07T04:26:22.258Z"
   },
   {
    "duration": 1668,
    "start_time": "2023-06-07T04:26:39.700Z"
   },
   {
    "duration": 3,
    "start_time": "2023-06-07T04:27:04.612Z"
   },
   {
    "duration": 11,
    "start_time": "2023-06-07T04:27:04.617Z"
   },
   {
    "duration": 10,
    "start_time": "2023-06-07T04:27:04.630Z"
   },
   {
    "duration": 2719,
    "start_time": "2023-06-07T04:27:04.642Z"
   },
   {
    "duration": 6,
    "start_time": "2023-06-07T04:27:07.364Z"
   },
   {
    "duration": 1216,
    "start_time": "2023-06-07T04:27:07.372Z"
   },
   {
    "duration": 20,
    "start_time": "2023-06-07T04:27:08.590Z"
   },
   {
    "duration": 21,
    "start_time": "2023-06-07T04:27:08.612Z"
   },
   {
    "duration": 42,
    "start_time": "2023-06-07T04:27:08.636Z"
   },
   {
    "duration": 78,
    "start_time": "2023-06-07T04:27:08.680Z"
   },
   {
    "duration": 159,
    "start_time": "2023-06-07T04:27:08.760Z"
   },
   {
    "duration": 71,
    "start_time": "2023-06-07T04:27:08.921Z"
   },
   {
    "duration": 46,
    "start_time": "2023-06-07T04:27:08.994Z"
   },
   {
    "duration": 341,
    "start_time": "2023-06-07T04:27:09.042Z"
   },
   {
    "duration": 25,
    "start_time": "2023-06-07T04:27:09.385Z"
   },
   {
    "duration": 46,
    "start_time": "2023-06-07T04:27:09.412Z"
   },
   {
    "duration": 70,
    "start_time": "2023-06-07T04:27:09.460Z"
   },
   {
    "duration": 21,
    "start_time": "2023-06-07T04:27:09.532Z"
   },
   {
    "duration": 87,
    "start_time": "2023-06-07T04:27:09.556Z"
   },
   {
    "duration": 37,
    "start_time": "2023-06-07T04:27:09.649Z"
   },
   {
    "duration": 30,
    "start_time": "2023-06-07T04:27:09.688Z"
   },
   {
    "duration": 7463,
    "start_time": "2023-06-07T04:27:09.720Z"
   },
   {
    "duration": 6485,
    "start_time": "2023-06-07T04:27:21.711Z"
   },
   {
    "duration": 18,
    "start_time": "2023-06-07T04:27:30.671Z"
   },
   {
    "duration": 24,
    "start_time": "2023-06-07T04:27:32.594Z"
   },
   {
    "duration": 94,
    "start_time": "2023-06-07T04:27:32.934Z"
   },
   {
    "duration": 81,
    "start_time": "2023-06-07T04:29:02.380Z"
   },
   {
    "duration": 2618,
    "start_time": "2023-06-07T04:30:50.782Z"
   },
   {
    "duration": 282,
    "start_time": "2023-06-07T04:31:42.202Z"
   },
   {
    "duration": 2562,
    "start_time": "2023-06-07T04:32:11.401Z"
   },
   {
    "duration": 19,
    "start_time": "2023-06-07T04:32:30.197Z"
   },
   {
    "duration": 44,
    "start_time": "2023-06-07T07:12:24.719Z"
   },
   {
    "duration": 10,
    "start_time": "2023-06-07T07:13:09.707Z"
   },
   {
    "duration": 5,
    "start_time": "2023-06-07T07:13:21.185Z"
   },
   {
    "duration": 9,
    "start_time": "2023-06-07T07:19:34.305Z"
   },
   {
    "duration": 72,
    "start_time": "2023-06-07T07:20:59.673Z"
   },
   {
    "duration": 7,
    "start_time": "2023-06-07T07:22:36.378Z"
   },
   {
    "duration": 5,
    "start_time": "2023-06-07T07:22:54.603Z"
   },
   {
    "duration": 3,
    "start_time": "2023-06-07T07:22:54.623Z"
   },
   {
    "duration": 12,
    "start_time": "2023-06-07T07:22:54.627Z"
   },
   {
    "duration": 14325,
    "start_time": "2023-06-07T07:22:54.641Z"
   },
   {
    "duration": 3857,
    "start_time": "2023-06-07T07:23:08.968Z"
   },
   {
    "duration": 2757,
    "start_time": "2023-06-07T07:23:12.827Z"
   },
   {
    "duration": 17,
    "start_time": "2023-06-07T07:23:15.585Z"
   },
   {
    "duration": 11,
    "start_time": "2023-06-07T07:23:15.604Z"
   },
   {
    "duration": 14,
    "start_time": "2023-06-07T07:23:15.617Z"
   },
   {
    "duration": 46,
    "start_time": "2023-06-07T07:23:15.633Z"
   },
   {
    "duration": 103,
    "start_time": "2023-06-07T07:23:15.680Z"
   },
   {
    "duration": 31,
    "start_time": "2023-06-07T07:23:15.785Z"
   },
   {
    "duration": 25,
    "start_time": "2023-06-07T07:23:15.818Z"
   },
   {
    "duration": 259,
    "start_time": "2023-06-07T07:23:15.845Z"
   },
   {
    "duration": 27,
    "start_time": "2023-06-07T07:23:16.106Z"
   },
   {
    "duration": 24,
    "start_time": "2023-06-07T07:23:16.135Z"
   },
   {
    "duration": 68,
    "start_time": "2023-06-07T07:23:16.161Z"
   },
   {
    "duration": 2323,
    "start_time": "2023-06-07T07:23:16.230Z"
   },
   {
    "duration": 3,
    "start_time": "2023-06-07T07:23:18.555Z"
   },
   {
    "duration": 51,
    "start_time": "2023-06-07T07:23:18.559Z"
   },
   {
    "duration": 6635,
    "start_time": "2023-06-07T07:23:18.612Z"
   },
   {
    "duration": 6,
    "start_time": "2023-06-07T07:23:25.249Z"
   },
   {
    "duration": 37,
    "start_time": "2023-06-07T07:23:25.257Z"
   },
   {
    "duration": 16,
    "start_time": "2023-06-07T07:23:25.297Z"
   },
   {
    "duration": 31,
    "start_time": "2023-06-07T07:23:25.317Z"
   },
   {
    "duration": 25,
    "start_time": "2023-06-07T07:23:25.350Z"
   },
   {
    "duration": 86,
    "start_time": "2023-06-07T07:23:25.377Z"
   },
   {
    "duration": 73,
    "start_time": "2023-06-07T07:23:25.465Z"
   },
   {
    "duration": 23,
    "start_time": "2023-06-07T07:23:25.542Z"
   },
   {
    "duration": 25,
    "start_time": "2023-06-07T07:23:25.567Z"
   },
   {
    "duration": 164,
    "start_time": "2023-06-07T07:23:25.594Z"
   },
   {
    "duration": 16,
    "start_time": "2023-06-07T07:23:25.761Z"
   },
   {
    "duration": 50,
    "start_time": "2023-06-07T07:23:25.780Z"
   },
   {
    "duration": 224,
    "start_time": "2023-06-07T07:23:25.832Z"
   },
   {
    "duration": 0,
    "start_time": "2023-06-07T07:23:26.058Z"
   },
   {
    "duration": 0,
    "start_time": "2023-06-07T07:23:26.060Z"
   },
   {
    "duration": 0,
    "start_time": "2023-06-07T07:23:26.061Z"
   },
   {
    "duration": 0,
    "start_time": "2023-06-07T07:23:26.063Z"
   },
   {
    "duration": 0,
    "start_time": "2023-06-07T07:23:26.064Z"
   },
   {
    "duration": 0,
    "start_time": "2023-06-07T07:23:26.066Z"
   },
   {
    "duration": 0,
    "start_time": "2023-06-07T07:23:26.067Z"
   },
   {
    "duration": 0,
    "start_time": "2023-06-07T07:23:26.069Z"
   },
   {
    "duration": 0,
    "start_time": "2023-06-07T07:23:26.070Z"
   },
   {
    "duration": 0,
    "start_time": "2023-06-07T07:23:26.072Z"
   },
   {
    "duration": 0,
    "start_time": "2023-06-07T07:23:26.074Z"
   },
   {
    "duration": 0,
    "start_time": "2023-06-07T07:23:26.077Z"
   },
   {
    "duration": 0,
    "start_time": "2023-06-07T07:23:26.078Z"
   },
   {
    "duration": 0,
    "start_time": "2023-06-07T07:23:26.080Z"
   },
   {
    "duration": 0,
    "start_time": "2023-06-07T07:23:26.106Z"
   },
   {
    "duration": 0,
    "start_time": "2023-06-07T07:23:26.108Z"
   },
   {
    "duration": 0,
    "start_time": "2023-06-07T07:23:26.110Z"
   },
   {
    "duration": 0,
    "start_time": "2023-06-07T07:23:26.111Z"
   },
   {
    "duration": 31,
    "start_time": "2023-06-07T07:24:31.923Z"
   },
   {
    "duration": 59,
    "start_time": "2023-06-07T07:25:37.240Z"
   },
   {
    "duration": 758,
    "start_time": "2023-06-07T07:25:38.919Z"
   },
   {
    "duration": 0,
    "start_time": "2023-06-07T07:25:39.679Z"
   },
   {
    "duration": 115,
    "start_time": "2023-06-07T07:25:40.095Z"
   },
   {
    "duration": 50,
    "start_time": "2023-06-07T07:25:40.692Z"
   },
   {
    "duration": 124,
    "start_time": "2023-06-07T07:25:41.364Z"
   },
   {
    "duration": 57,
    "start_time": "2023-06-07T07:25:41.490Z"
   },
   {
    "duration": 312136,
    "start_time": "2023-06-07T07:25:41.600Z"
   }
  ],
  "celltoolbar": "Отсутствует",
  "kernelspec": {
   "display_name": "Python 3 (ipykernel)",
   "language": "python",
   "name": "python3"
  },
  "language_info": {
   "codemirror_mode": {
    "name": "ipython",
    "version": 3
   },
   "file_extension": ".py",
   "mimetype": "text/x-python",
   "name": "python",
   "nbconvert_exporter": "python",
   "pygments_lexer": "ipython3",
   "version": "3.9.13"
  },
  "toc": {
   "base_numbering": 1,
   "nav_menu": {},
   "number_sections": true,
   "sideBar": true,
   "skip_h1_title": true,
   "title_cell": "Table of Contents",
   "title_sidebar": "Contents",
   "toc_cell": false,
   "toc_position": {
    "height": "calc(100% - 180px)",
    "left": "10px",
    "top": "150px",
    "width": "319px"
   },
   "toc_section_display": true,
   "toc_window_display": true
  }
 },
 "nbformat": 4,
 "nbformat_minor": 2
}
